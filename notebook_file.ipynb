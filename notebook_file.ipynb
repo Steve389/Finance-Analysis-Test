 1/1:
import pandas as pd
df = pd.read_csv('vgsales.csv')
df
 1/2:
import pandas as pd
df = pd.read_csv('vgsales.csv')
df
 1/3:
import pandas as pd
df = pd.read_csv('vgsales.csv')
print(df.head())
 1/4:
import pandas as pd
df = pd.read_csv('vgsales.csv')
df
 1/5:
import pandas as pd
df = pd.read_csv('vgsales.csv')
df.shape
 1/6: df.describe
 1/7: df.describe()
 1/8: df.describe
 1/9: df.describe()
1/10:
import pandas as pd
music_data = pd.read_csv('music.csv')
music_data
1/11:
import pandas as pd
music_data = pd.read_csv('music.csv')
music_data.drop(columns= ['genre'])
1/12:
import pandas as pd
from sklearn.tree import DecisionTreeClassfier


music_data = pd.read_csv('music.csv')
X = music_data.drop(columns= ['genre'])
y = music_data['genre']

model = DecisionTreeClassifier()
model.fit(X, y)
predicitions = model.predict ( [ [21, 1], [22,0]])
predictions
1/13:
import pandas as pd
from sklearn.tree import DecisionTreeClassfier


music_data = pd.read_csv('music.csv')
X = music_data.drop(columns= ['genre'])
y = music_data['genre']

model = DecisionTreeClassifier()
model.fit(X, y)
predicitions = model.predict ( [ [21, 1], [22,0]])

predictions
1/14:
import pandas as pd
from sklearn.tree import DecisionTreeClassifier


music_data = pd.read_csv('music.csv')
X = music_data.drop(columns= ['genre'])
y = music_data['genre']

model = DecisionTreeClassifier()
model.fit(X, y)
predicitions = model.predict ( [ [21, 1], [22,0]])

predictions
1/15:
import pandas as pd
from sklearn.tree import DecisionTreeClassifier


music_data = pd.read_csv('music.csv')
X = music_data.drop(columns= ['genre'])
y = music_data['genre']

model = DecisionTreeClassifier()
model.fit(X, y)
predictions = model.predict ( [ [21, 1], [22,0]])

predictions
1/16:
import pandas as pd
from sklearn.tree import DecisionTreeClassifier
from sklearn.module_selection import train_test_split
from sklearn.metrics import accuracy_score


music_data = pd.read_csv('music.csv')
X = music_data.drop(columns= ['genre'])
y = music_data['genre']

X_train, X_test, y_train, y_test = train_test_split(X, y, test_size = 0.2)

model = DecisionTreeClassifier()
model.fit(X_train, y_train)
predictions = model.predict (X_test)

score = accuracy_score(y_test, predictions)
score
1/17:
import pandas as pd
from sklearn.tree import DecisionTreeClassifier
from sklearn.model_selection import train_test_split
from sklearn.metrics import accuracy_score


music_data = pd.read_csv('music.csv')
X = music_data.drop(columns= ['genre'])
y = music_data['genre']

X_train, X_test, y_train, y_test = train_test_split(X, y, test_size = 0.2)

model = DecisionTreeClassifier()
model.fit(X_train, y_train)
predictions = model.predict (X_test)

score = accuracy_score(y_test, predictions)
score
1/18:
import pandas as pd
from sklearn.tree import DecisionTreeClassifier
from sklearn.model_selection import train_test_split
from sklearn.metrics import accuracy_score


music_data = pd.read_csv('music.csv')
X = music_data.drop(columns= ['genre'])
y = music_data['genre']

X_train, X_test, y_train, y_test = train_test_split(X, y, test_size = 0.2)

model = DecisionTreeClassifier()
model.fit(X_train, y_train)
predictions = model.predict (X_test)

score = accuracy_score(y_test, predictions)
score
1/19:
import pandas as pd
from sklearn.tree import DecisionTreeClassifier
from sklearn.model_selection import train_test_split
from sklearn.metrics import accuracy_score


music_data = pd.read_csv('music.csv')
X = music_data.drop(columns= ['genre'])
y = music_data['genre']

X_train, X_test, y_train, y_test = train_test_split(X, y, test_size = 0.2)

model = DecisionTreeClassifier()
model.fit(X_train, y_train)
predictions = model.predict (X_test)

score = accuracy_score(y_test, predictions)
score
1/20:
import pandas as pd
from sklearn.tree import DecisionTreeClassifier
from sklearn.model_selection import train_test_split
from sklearn.metrics import accuracy_score


music_data = pd.read_csv('music.csv')
X = music_data.drop(columns= ['genre'])
y = music_data['genre']

X_train, X_test, y_train, y_test = train_test_split(X, y, test_size = 0.2)

model = DecisionTreeClassifier()
model.fit(X_train, y_train)
predictions = model.predict (X_test)

score = accuracy_score(y_test, predictions)
score
1/21:
import pandas as pd
from sklearn.tree import DecisionTreeClassifier
from sklearn.model_selection import train_test_split
from sklearn.metrics import accuracy_score


music_data = pd.read_csv('music.csv')
X = music_data.drop(columns= ['genre'])
y = music_data['genre']

X_train, X_test, y_train, y_test = train_test_split(X, y, test_size = 0.2)

model = DecisionTreeClassifier()
model.fit(X_train, y_train)
predictions = model.predict (X_test)

score = accuracy_score(y_test, predictions)
score
1/22:
import pandas as pd
from sklearn.tree import DecisionTreeClassifier
from sklearn.model_selection import train_test_split
from sklearn.metrics import accuracy_score


music_data = pd.read_csv('music.csv')
X = music_data.drop(columns= ['genre'])
y = music_data['genre']

X_train, X_test, y_train, y_test = train_test_split(X, y, test_size = 0.2)

model = DecisionTreeClassifier()
model.fit(X_train, y_train)
predictions = model.predict (X_test)

score = accuracy_score(y_test, predictions)
score
1/23:
import pandas as pd
from sklearn.tree import DecisionTreeClassifier
from sklearn.model_selection import train_test_split
from sklearn.metrics import accuracy_score


music_data = pd.read_csv('music.csv')
X = music_data.drop(columns= ['genre'])
y = music_data['genre']

X_train, X_test, y_train, y_test = train_test_split(X, y, test_size = 0.2)

model = DecisionTreeClassifier()
model.fit(X_train, y_train)
predictions = model.predict (X_test)

score = accuracy_score(y_test, predictions)
score
1/24:
import pandas as pd
from sklearn.tree import DecisionTreeClassifier
from sklearn.model_selection import train_test_split
from sklearn.metrics import accuracy_score


music_data = pd.read_csv('music.csv')
X = music_data.drop(columns= ['genre'])
y = music_data['genre']

X_train, X_test, y_train, y_test = train_test_split(X, y, test_size = 0.2)

model = DecisionTreeClassifier()
model.fit(X_train, y_train)
predictions = model.predict (X_test)

score = accuracy_score(y_test, predictions)
score
1/25:
import pandas as pd
from sklearn.tree import DecisionTreeClassifier
from sklearn.model_selection import train_test_split
from sklearn.metrics import accuracy_score


music_data = pd.read_csv('music.csv')
X = music_data.drop(columns= ['genre'])
y = music_data['genre']

X_train, X_test, y_train, y_test = train_test_split(X, y, test_size = 0.2)

model = DecisionTreeClassifier()
model.fit(X_train, y_train)
predictions = model.predict (X_test)

score = accuracy_score(y_test, predictions)
score
1/26:
import pandas as pd
from sklearn.tree import DecisionTreeClassifier
from sklearn.model_selection import train_test_split
from sklearn.metrics import accuracy_score


music_data = pd.read_csv('music.csv')
X = music_data.drop(columns= ['genre'])
y = music_data['genre']

X_train, X_test, y_train, y_test = train_test_split(X, y, test_size = 0.2)

model = DecisionTreeClassifier()
model.fit(X_train, y_train)
predictions = model.predict (X_test)

score = accuracy_score(y_test, predictions)
score
1/27:
import pandas as pd
from sklearn.tree import DecisionTreeClassifier
from sklearn.model_selection import train_test_split
from sklearn.metrics import accuracy_score


music_data = pd.read_csv('music.csv')
X = music_data.drop(columns= ['genre'])
y = music_data['genre']

X_train, X_test, y_train, y_test = train_test_split(X, y, test_size = 0.2)

model = DecisionTreeClassifier()
model.fit(X_train, y_train)
predictions = model.predict (X_test)

score = accuracy_score(y_test, predictions)
score
1/28:
import pandas as pd
from sklearn.tree import DecisionTreeClassifier
from sklearn.model_selection import train_test_split
from sklearn.metrics import accuracy_score


music_data = pd.read_csv('music.csv')
X = music_data.drop(columns= ['genre'])
y = music_data['genre']

X_train, X_test, y_train, y_test = train_test_split(X, y, test_size = 0.2)

model = DecisionTreeClassifier()
model.fit(X_train, y_train)
predictions = model.predict (X_test)

score = accuracy_score(y_test, predictions)
score
1/29:
import pandas as pd
from sklearn.tree import DecisionTreeClassifier
from sklearn.model_selection import train_test_split
from sklearn.metrics import accuracy_score


music_data = pd.read_csv('music.csv')
X = music_data.drop(columns= ['genre'])
y = music_data['genre']

X_train, X_test, y_train, y_test = train_test_split(X, y, test_size = 0.2)

model = DecisionTreeClassifier()
model.fit(X_train, y_train)
predictions = model.predict (X_test)

score = accuracy_score(y_test, predictions)
score
1/30:
import pandas as pd
from sklearn.tree import DecisionTreeClassifier
from sklearn.model_selection import train_test_split
from sklearn.metrics import accuracy_score


music_data = pd.read_csv('music.csv')
X = music_data.drop(columns= ['genre'])
y = music_data['genre']

X_train, X_test, y_train, y_test = train_test_split(X, y, test_size = 0.2)

model = DecisionTreeClassifier()
model.fit(X_train, y_train)
predictions = model.predict (X_test)

score = accuracy_score(y_test, predictions)
score
1/31:
import pandas as pd
from sklearn.tree import DecisionTreeClassifier
from sklearn.model_selection import train_test_split
from sklearn.metrics import accuracy_score


music_data = pd.read_csv('music.csv')
X = music_data.drop(columns= ['genre'])
y = music_data['genre']

X_train, X_test, y_train, y_test = train_test_split(X, y, test_size = 0.2)

model = DecisionTreeClassifier()
model.fit(X_train, y_train)
predictions = model.predict (X_test)

score = accuracy_score(y_test, predictions)
score
1/32:
import pandas as pd
from sklearn.tree import DecisionTreeClassifier
from sklearn.model_selection import train_test_split
from sklearn.metrics import accuracy_score


music_data = pd.read_csv('music.csv')
X = music_data.drop(columns= ['genre'])
y = music_data['genre']

X_train, X_test, y_train, y_test = train_test_split(X, y, test_size = 0.2)

model = DecisionTreeClassifier()
model.fit(X_train, y_train)
predictions = model.predict (X_test)

score = accuracy_score(y_test, predictions)
score
1/33:
# SAVE THE MODEL TO A FILE USING JOBLIB

import pandas as pd
from sklearn.tree import DecisionTreeClassifier
from sklearn.model_selection import train_test_split
from sklearn.metrics import accuracy_score
from sklearn.externals import joblib

music_data = pd.read_csv('music.csv')

X = music_data.drop(columns= ['genre'])
y = music_data['genre']

model = DecisionTreeClassifier()
model.fit(X_train, y_train)

joblib.dump(model, 'music-recommender.joblib')

# predictions = model.predict (X_test)

# score = accuracy_score(y_test, predictions)
# score
1/34:
# SAVE THE MODEL TO A FILE USING JOBLIB

import pandas as pd
from sklearn.tree import DecisionTreeClassifier
from sklearn.model_selection import train_test_split
from sklearn.metrics import accuracy_score
from sklearn.externals import joblib

music_data = pd.read_csv('music.csv')

X = music_data.drop(columns= ['genre'])
y = music_data['genre']

model = DecisionTreeClassifier()
model.fit(X_train, y_train)

joblib.dump(model, 'music-recommender.joblib')

# predictions = model.predict (X_test)

# score = accuracy_score(y_test, predictions)
# score
1/35:
# SAVE THE MODEL TO A FILE USING JOBLIB

import pandas as pd
from sklearn.tree import DecisionTreeClassifier
from sklearn.externals import joblib


music_data = pd.read_csv('music.csv')

X = music_data.drop(columns = ['genre'])
y = music.data['genre']

model = DecisionTreeClassifier()
model.fit(X, y)

joblib.dump('music-recommender.joblib')
1/36:
# SAVE THE MODEL TO A FILE USING JOBLIB

import pandas as pd
from sklearn.tree import DecisionTreeClassifier
import joblib


music_data = pd.read_csv('music.csv')

X = music_data.drop(columns = ['genre'])
y = music.data['genre']

model = DecisionTreeClassifier()
model.fit(X, y)

joblib.dump('music-recommender.joblib')
1/37:
# SAVE THE MODEL TO A FILE USING JOBLIB

import pandas as pd
from sklearn.tree import DecisionTreeClassifier
import joblib


music_data = pd.read_csv('music.csv')

X = music_data.drop(columns = ['genre'])
y = music_data['genre']

model = DecisionTreeClassifier()
model.fit(X, y)

joblib.dump('music-recommender.joblib')
1/38:
# SAVE THE MODEL TO A FILE USING JOBLIB

import pandas as pd
from sklearn.tree import DecisionTreeClassifier
import joblib


music_data = pd.read_csv('music.csv')

X = music_data.drop(columns = ['genre'])
y = music_data['genre']

model = DecisionTreeClassifier()
model.fit(X, y)

joblib.dump(model, 'music-recommender.joblib')
1/39:
# SAVE THE MODEL TO A FILE USING JOBLIB

import pandas as pd
from sklearn.tree import DecisionTreeClassifier
import joblib


# music_data = pd.read_csv('music.csv')

# X = music_data.drop(columns = ['genre'])
# y = music_data['genre']

# model = DecisionTreeClassifier()
# model.fit(X, y)

# joblib.dump(model, 'music-recommender.joblib')

joblib.load('music-recommender.joblib')

predictions = model.predict([[21,1]])
1/40:
# SAVE THE MODEL TO A FILE USING JOBLIB

import pandas as pd
from sklearn.tree import DecisionTreeClassifier
import joblib


# music_data = pd.read_csv('music.csv')

# X = music_data.drop(columns = ['genre'])
# y = music_data['genre']

# model = DecisionTreeClassifier()
# model.fit(X, y)

# joblib.dump(model, 'music-recommender.joblib')

joblib.load('music-recommender.joblib')

predictions = model.predict([[21,1]])

predictions
1/41:
import pandas as pd
from sklearn.tree import DecisionTreeClassifier
from sklearn import tree

music_data = pd.read_csv('music.csv')
X = music_data.drop(columns= ['genre'])
y = music_data['genre']

model = DecisionTreeClassifier()
model.fit(X, y)

tree.export_graphviz(model, out_file = 'music-recommender.dot',
                     feature_names = ['age', 'gender'],
                     class_names = sorted(y.unique()),
                     label = 'all',
                     rounded = True,
                     filled = True)
 2/1: import pandas as pd
 2/2: df = pd.read_csv('results.csv')
 2/3: df
 2/4: df.head(10)
 2/5: df['home_team_won'] = df['home_score']> df['away_score']
 2/6: df
 2/7: df['away_team_won'] = df['home_score']< df['away_score']
 2/8: df
 2/9: df2 = df[df['home_team_won'] == True or df['away_team_won'] == True]
2/10: df2 = df[df['home_team_won'] == True || df['away_team_won'] == True]
2/11: df2 = df[df['home_team_won'] == True | df['away_team_won'] == True]
2/12: df2 = df[(df['home_team_won'] == True) | (df['away_team_won'] == True)]
2/13: df2
2/14:
team_wins = {}

for row in df2.iterrows():
    if row['home_team_won'] == True:
        if row['home_team'] in team_wins:
            team_wins[row['home_team']] += 1
        else:
            team_wins[row['home_team']] = 1 
    else:
        if row['away_team'] in team_wins:
            team_wins[row['away_team']] += 1
        else:
            team_wins[row['away_team']] = 1
2/15:
team_wins = {}

for row in df2.iterrows():
    print(row)
    if row['home_team_won'] == True:
        if row['home_team'] in team_wins:
            team_wins[row['home_team']] += 1
        else:
            team_wins[row['home_team']] = 1 
    else:
        if row['away_team'] in team_wins:
            team_wins[row['away_team']] += 1
        else:
            team_wins[row['away_team']] = 1
2/16:
team_wins = {}

for index,row in df2.iterrows():
    print(row)
    if row['home_team_won'] == True:
        if row['home_team'] in team_wins:
            team_wins[row['home_team']] += 1
        else:
            team_wins[row['home_team']] = 1 
    else:
        if row['away_team'] in team_wins:
            team_wins[row['away_team']] += 1
        else:
            team_wins[row['away_team']] = 1
2/17:
team_wins = {}

for index,row in df2.iterrows():
    
    if row['home_team_won'] == True:
        if row['home_team'] in team_wins:
            team_wins[row['home_team']] += 1
        else:
            team_wins[row['home_team']] = 1 
    else:
        if row['away_team'] in team_wins:
            team_wins[row['away_team']] += 1
        else:
            team_wins[row['away_team']] = 1
2/18: team_wins
2/19: team_wins['Estonia']
2/20: df3 = pd.DataFrame('team_wins')
2/21: df3 = pd.DataFrame(team_wins)
2/22: df3 = pd.DataFrame.from_dict(team_wins)
2/23: df3 = pd.DataFrame.from_dict(team_wins, orient= 'index', columns = ['wins'] )
2/24: df3
2/25: df3.value_counts
2/26: df3.value_counts()
2/27: df3.sort_values()
2/28: df3.sort_values(by = 'wins')
2/29: df3.sort_values(by = 'wins', ascending = False)
2/30:
team_wins = {}

def add_goals_to_team(team, goals):
    if team in team_wins:
        team_wins[team] += goals
    else:
        team_wins[team] = goals

for index,row in df2.iterrows():
    
    if row['home_team_won'] == True:
        add_goals_to_team(row['home_team'], int(row['home_score']))
        
    else:
        add_goals_to_team(row['away_team'], int(row['away_score']))
2/31:
team_wins = {}

def add_goals_to_team(team, goals):
    if team in team_wins:
        team_wins[team] += goals
    else:
        team_wins[team] = goals

for index,row in df2.iterrows():
    
    if row['home_team_won'] == True:
        add_goals_to_team(row['home_team'], int(row['home_score']))
        
    else:
        add_goals_to_team(row['away_team'], int(row['away_score']))
2/32: team_wins
2/33: team_wins['Estonia']
2/34: df3 = pd.DataFrame.from_dict(team_wins, orient= 'index', columns = ['wins'] )
2/35: df3
2/36: df3.sort_values(by = 'wins', ascending = False)
2/37: team_wins['Estonia']
 4/1: import pandas as pd
 4/2: df = pd.read_csv('data/survey_results_public.csv', index_col='Respondent')
 4/3: df = pd.read_csv('data/survey_results_public.csv', index_col='Respondent')
 4/4: import pandas as pd
 4/5: df = pd.read_csv('data/survey_results_public.csv', index_col='Respondent')
 5/1: import pandas as pd
 5/2: pd.read_csv('survey_results_public.csv')
 6/1: import pandas as pd
 6/2: pd.read_csv('survey_results_public.csv')
 6/3: pd.read_csv('survey_results_public.csv')
 6/4: pd.read_csv('survey_results_public.csv', index_col='Respondent')
 6/5: pd.read_csv('survey_results_public.csv')
 6/6: pd.read_csv('survey_results_public.csv', index_col='ResponseId')
 6/7: df= pd.read_csv('survey_results_public.csv', index_col='ResponseId')
 6/8:
df= pd.read_csv('survey_results_public.csv', index_col='ResponseId')

df.describe()
 6/9:
df= pd.read_csv('survey_results_public.csv', index_col='ResponseId')

df.head()
6/10: df.shape()
6/11: import pandas as pd
6/12:
df= pd.read_csv('survey_results_public.csv', index_col='ResponseId')

df.head()
6/13: df.shape()
6/14:
import pandas as pd

df= pd.read_csv('survey_results_public.csv', index_col='ResponseId')

df.head()
6/15: df.describe()
6/16: df['Employment'].value_counts()
6/17: df['Employment'].value_counts(normalize=True)
6/18: df['Age1stCode'].value_counts()
6/19: df['Age1stCode'].value_counts(normalize=True)
6/20: df['country'].value_counts()
6/21: df['Country'].value_counts()
6/22: df.head()
6/23: grpby_country= df.groupy('Country')
6/24: grpby_country= df.groupby('Country')
6/25: grpby_country
6/26: grpby_country['Age1stCode'].value_counts()
6/27: grpby_country['Age1stCode'].value_counts().head(20)
6/28: grpby_country['Age1stCode'].value_counts().head(80)
6/29: grpby_country['Age1stCode'].value_counts()
6/30:
# Most common starting age in China

grpby_country['Age1stCode'].value_counts().loc['China']
6/31: grpby_country['Age1stCode'].value_counts().loc[:]
6/32: grpby_country['Age1stCode'].value_counts().loc['Afghanistan':'China']
6/33: df2 = Age1stCode_country.toDataFrame
6/34: Age1stCode_country= grpby_country['Age1stCode'].value_counts()
6/35: Age1stCode_country= grpby_country['Age1stCode'].value_counts()
6/36:
import pandas as pd

df= pd.read_csv('survey_results_public.csv', index_col='ResponseId')

df.head()
6/37: df.describe()
6/38: df['Employment'].value_counts()
6/39: df['Employment'].value_counts(normalize=True)
6/40: df['Age1stCode'].value_counts()
6/41: df['Age1stCode'].value_counts(normalize=True)
6/42: grpby_country= df.groupby('Country')
6/43: Age1stCode_country= grpby_country['Age1stCode'].value_counts()
6/44: Age1stCode_country= grpby_country['Age1stCode'].value_counts()
6/45: Age1stCode_country= grpby_country['Age1stCode'].value_counts()
6/46: Age1stCode_country= grpby_country['Age1stCode'].value_counts()
6/47: Age1stCode_country= grpby_country['Age1stCode'].value_counts()
6/48: Age1stCode_country= grpby_country['Age1stCode'].value_counts()
6/49:
# Most common starting age in China

Age1stCode_China = Age1stCode_country.loc['China']
6/50:
# Most common starting age in China

Age1stCode_China = Age1stCode_country.loc['China']

Age1stCode_China
6/51:
# Most common starting age in each country

Age1stCode_country= grpby_country['Age1stCode'].value_counts()


Age1stCode_country
6/52: df2 = Age1stCode_country.to_frame(index = False)
6/53: df2 = Age1stCode_country.to_frame
6/54:
df2 = Age1stCode_country.to_frame

df2
6/55: df2 = Age1stCode_country.unstack()
6/56:
df2 = Age1stCode_country.unstack()

df2
6/57:
for i,row in df2.iterrows():
    return df2.max(axis=1)
6/58:
for i,row in df2.iterrows():
return df2.max(axis=1)
6/59:
for i,row in df2.iterrows():
 return df2.max(axis=1)
6/60:
for i,row in df2.iterrows():
 
 return df2.max(axis=1)
6/61:
for i,row in df2.iterrows():
 
return df2.max(axis=1)
6/62:
for i,row in df2.iterrows():
 
 return df2.max(axis=1)
6/63:
for i,row in df2.iterrows():
 
  return df2.max(axis=1)
6/64:
for i,row in df2.iterrows():
return df2.max(axis=1)
6/65:
 for i,row in df2.iterrows():
  return df2.max(axis=1)
6/66: grpby_country['Age1stCode'].max()
6/67: grpby_country['Age1stCode'].npmax()
6/68: grpby_country['Age1stCode'].agg(npmax())
6/69:
import numpy as np

grpby_country['Age1stCode'].agg(np.max())
6/70:
import numpy as np

grpby_country['Age1stCode'].agg(np.max)
6/71:
import numpy as np

grpby_country['Age1stCode'].agg(np.max)
6/72:
import numpy as np

grpby_country['Age1stCode'].agg(np.max)
6/73:
import pandas as pd

df= pd.read_csv('survey_results_public.csv', index_col='ResponseId')

df.head()
6/74: df.describe()
6/75: df['Employment'].value_counts()
6/76: df['Employment'].value_counts(normalize=True)
6/77: df['Age1stCode'].value_counts()
6/78: df['Age1stCode'].value_counts(normalize=True)
6/79: grpby_country= df.groupby('Country')
6/80:
# Most common starting age in each country

Age1stCode_country= grpby_country['Age1stCode'].value_counts()
6/81:
# Most common starting age in China

Age1stCode_China = Age1stCode_country.loc['China']

Age1stCode_China
6/82:
df2 = Age1stCode_country.unstack()

df2
6/83:
import numpy as np

grpby_country['YearsCode'].agg(np.max)
6/84: df2.max()
6/85: df2[df2['11-17 years'] == df2['11-17 years'].max()]
6/86: df2[df2['11 - 17 years'] == df2['11-17 years'].max()]
6/87: df2[df2['11 - 17 years'] == df2['11 - 17 years'].max()]
6/88: df2.idxmax()
6/89: idx = df2.idxmax()
6/90: idx = df2.idxmax()
6/91:
idx = df2.idxmax()

df2.loc(idx)
6/92:
idx = df2.idxmax()

df2.loc[idx]
6/93:
# Most common starting age in each country

Age1stCode_country= grpby_country['Age1stCode'].value_counts()


Age1stCode_country
6/94: Age1stCode_country.max()
6/95:
# Most common starting age in each country

Age1stCode_country= grpby_country['Age1stCode'].count()


Age1stCode_country
6/96:
# Most common starting age in each country

Age1stCode_country= grpby_country['Age1stCode'].value_counts()


Age1stCode_country
6/97:
# Most common starting age in each country

Age1stCode_country= grpby_country['Age1stCode'].value_counts()


Age1stCode_country.filter(lambda(x): len(x)== max(x))
6/98:
# Most common starting age in each country

Age1stCode_country= grpby_country['Age1stCode'].value_counts()


Age1stCode_country.filter(lambda x: len(x)== max(x))
6/99:
# Most common starting age in each country

Age1stCode_country= grpby_country['Age1stCode'].value_counts()
6/100:
# Most common starting age in each country

Age1stCode_country= grpby_country['Age1stCode'].value_counts()
6/101:
# Most common starting age in each country

Age1stCode_country= grpby_country['Age1stCode'].value_counts()

Age1stCode_country
6/102:
# Most common starting age in China

Age1stCode_China = Age1stCode_country.loc['China']

Age1stCode_China.nlargest()
6/103:
# Most common starting age in China

Age1stCode_China = Age1stCode_country.loc['China']

Age1stCode_China
6/104: Age1stCode_country.nlargest()
6/105:
for index,row in df.iterrows():
    df['most_common_age']= df.loc[row].apply(lambda x: x = max())
6/106:
for index,row in df.iterrows():
    df['most_common_age']= df.loc[row].apply(lambda x: x == max())
6/107: df['MainBranch'].unique()
6/108: df['MainBranch'].value_counts()
6/109:
# Most common starting age in each country

Age1stCode_country= grpby_country['Age1stCode'].value_counts()

Age1stCode_country

def get_most_common_agegroups(group):
    
    print(group)
6/110:
# Most common starting age in each country

Age1stCode_country= grpby_country['Age1stCode'].value_counts()

Age1stCode_country

def get_most_common_agegroups(group):
    
    print(group)
6/111:
def get_most_common_agegroups(group):
    
    print(group)
6/112:
def get_most_common_agegroups(group):
    
    print(group)
    
grpby_country.apply(get_most_common_agegroups)
6/113:
def get_most_common_agegroups(group):
    
    print(group)
    
grpby_country.apply(get_most_common_agegroups, axis=1)
6/114:
def get_most_common_agegroups(group):
    
    print(group['Country'])
    
grpby_country.apply(get_most_common_agegroups)
6/115:

grpby_country.agg(lambda x:x.value_counts().index(0))
6/116:
# Most common starting age in each country

Age1stCode_country= grpby_country['Age1stCode'].value_counts()

Age1stCode_country
6/117:
grpby_country= df.groupby('Country')
grpby_country
6/118:
grpby_country= df.groupby('Country')
print(grpby_country)
6/119:

grpby_country.agg(lambda x:x['Age1stgroup'].value_counts().index(0))
6/120:

grpby_country.agg(lambda x:x['Age1stCode'].value_counts().index(0))
6/121:

grpby_country['Age1stCode'].agg(lambda x:x.value_counts().index(0))
6/122:

grpby_country['Age1stCode'].agg(lambda x:x.value_counts())
6/123:

grpby_country['Age1stCode'].agg(lambda x:x.value_counts().[0])
6/124:

grpby_country['Age1stCode'].agg(lambda x:x.value_counts()[0])
6/125:

grpby_country['Age1stCode'].agg(lambda x:x.value_counts().index[0])
6/126:
def get_top_values(x):
    return x.value_counts().index[0]

grpby_country['Age1stCode'].agg(get_top_values)
6/127: df.describe()
6/128: df['MainBranch'].value_counts()
6/129: df['MainBranch'].value_counts(normalize=True)
6/130: # Let's plot the results
6/131:
# Let's plot the results

import seaborn as sns
import matplotlib.pyplot as plt

sns.countplot(y=MostCommonAge1stCode_country)
6/132:
import pandas as pd

df= pd.read_csv('survey_results_public.csv', index_col='ResponseId')

df.head()
6/133: df.describe()
6/134: df['MainBranch'].value_counts()
6/135: df['MainBranch'].value_counts(normalize=True)
6/136: df['Age1stCode'].value_counts()
6/137: df['Age1stCode'].value_counts(normalize=True)
6/138: grpby_country= df.groupby('Country')
6/139:
# Most common starting age in each country

Age1stCode_country= grpby_country['Age1stCode'].value_counts()

Age1stCode_country
6/140:
# Most common starting age in China

Age1stCode_China = Age1stCode_country.loc['China']

Age1stCode_China
6/141:
# Most common starting age per country

def get_top_values(x):
    return x.value_counts().index[0]

MostCommonAge1stCode_country= grpby_country['Age1stCode'].agg(get_top_values)
6/142:
# Let's plot the results

import seaborn as sns
import matplotlib.pyplot as plt

sns.countplot(y=MostCommonAge1stCode_country)
6/143:
# Most common starting age per country

def get_top_values(x):
    return x.value_counts().index[0]

MostCommonAge1stCode_country= grpby_country['Age1stCode'].agg(get_top_values)

MostCommonAge1stCode_country
6/144: sns.scatter(y=MostCommonAge1stCode_country)
6/145: sns.scatterplot(y=MostCommonAge1stCode_country)
6/146:
# Let's plot the results

import seaborn as sns
import matplotlib.pyplot as plt

sns.countplot(x=MostCommonAge1stCode_country)
6/147: sns.countplot(x=df['MainBranch'].value_counts())
6/148: sns.countplot(y=df['MainBranch'].value_counts())
6/149: sns.countplot(y=df['MainBranch'].value_counts(), data=df)
6/150: sns.scatterplot(x=df['MainBranch'],y=df['MainBranch'].value_counts()=,hue=df['Country'])
6/151: sns.scatterplot(x=df['MainBranch'],y=df['MainBranch'].value_counts(),hue=df['Country'])
6/152:
import matplotlib.pyplot as plt
import seaborn as sns

sns.scatterplot(x=df['MainBranch'],y=df['MainBranch'].value_counts(),hue=df['Country'])
6/153:
import matplotlib.pyplot as plt
import seaborn as sns


palette_colors = {'MainBranch': "green", 'MainBranch'.value_counts(): "blue"}



sns.scatterplot(x='MainBranch',y='MainBranch'.value_counts(), data=df, hue=df['Country'], palette=palette_colors)
6/154:
import matplotlib.pyplot as plt
import seaborn as sns


palette_colors = {'MainBranch': "green", df['MainBranch'].value_counts(): "blue"}



sns.scatterplot(x='MainBranch',y=df['MainBranch'].value_counts(), data=df, hue=df['Country'], palette=palette_colors)
6/155:
dev_status= df['MainBranch'].value_counts()

dev_status
6/156:
import matplotlib.pyplot as plt
import seaborn as sns


palette_colors = {'MainBranch': "green", dev_status : "blue"}



sns.countplot(x='MainBranch',y=dev_status, data=df, hue=df['Country'], palette=palette_colors)
6/157:
import matplotlib.pyplot as plt
import seaborn as sns


palette_colors = {'MainBranch': "green", 'dev_status' : "blue"}



sns.countplot(x='MainBranch',y=dev_status, data=df, hue=df['Country'], palette=palette_colors)
6/158:
import matplotlib.pyplot as plt
import seaborn as sns

dev_status= df['MainBranch'].value_counts()

palette_colors = {'MainBranch': "green", dev_status : "blue"}



sns.countplot(x='MainBranch',y=dev_status, data=df, hue=df['Country'], palette=palette_colors)
6/159:
import matplotlib.pyplot as plt
import seaborn as sns

dev_status= df['MainBranch'].value_counts()

palette_colors = {'MainBranch': "green", 'dev_status' : "blue"}



sns.countplot(x='MainBranch',
              y=dev_status, 
              data=df, 
              hue=df['Country'], 
              palette=palette_colors)
6/160:
import matplotlib.pyplot as plt
import seaborn as sns

dev_status= df['MainBranch'].value_counts()




sns.countplot(x='MainBranch',
              y=dev_status, 
              data=df, 
              hue=df['Country']
              )
6/161:
import matplotlib.pyplot as plt
import seaborn as sns

dev_status= df['MainBranch'].value_counts()




sns.countplot(x='MainBranch')
6/162:
import matplotlib.pyplot as plt
import seaborn as sns

dev_status= df['MainBranch'].value_counts()




sns.countplot(x='MainBranch')
6/163:
import matplotlib.pyplot as plt
import seaborn as sns

dev_status= df['MainBranch'].value_counts()




sns.countplot(x='MainBranch', data=df)
6/164:
import matplotlib.pyplot as plt
import seaborn as sns

dev_status= df['MainBranch'].value_counts()




sns.countplot(x='MainBranch', data=df)

plt.xticks(rotation=90)

plt.show()
6/165:
sns.countplot(x='Age1stCode', data=df)

plt.xticks(rotation=90)

plt.show()
6/166:
# We can find this out by plotting our previous results

import seaborn as sns
import matplotlib.pyplot as plt

sns.countplot(x=MostCommonAge1stCode_country, y='Country', data=df)
6/167:
# We can find this out by plotting our previous results

import seaborn as sns
import matplotlib.pyplot as plt

sns.countplot(x='Age1stCode', y='Country',hue=MostCommonAge1stCode_country, data=df)
6/168:
# We can find this out by plotting our previous results

import seaborn as sns
import matplotlib.pyplot as plt

sns.countplot(x='Age1stCode', y='Country',data=df)
6/169:
# We can find this out by plotting our previous results

import seaborn as sns
import matplotlib.pyplot as plt

sns.relplot(x="Country", y="Age1stCode", 
                data=df,kind='scatter')
6/170:
# We can find this out by plotting our previous results

import seaborn as sns
import matplotlib.pyplot as plt

sns.relplot(x="MostCommonAge1stCode_country", y="Age1stCode",hue = 'Country' 
                data=df,kind='scatter')
6/171:
# We can find this out by plotting our previous results

import seaborn as sns
import matplotlib.pyplot as plt

sns.relplot(x="MostCommonAge1stCode_country", 
            y="Age1stCode",
            hue = 'Country', 
            data=df,
            kind='scatter')
6/172:
# We can find this out by plotting our previous results

import seaborn as sns
import matplotlib.pyplot as plt

sns.relplot(x=MostCommonAge1stCode_country, 
            y="Age1stCode",
            hue = 'Country', 
            data=df,
            kind='scatter')
6/173:
# We can find this out by plotting our previous results

import seaborn as sns
import matplotlib.pyplot as plt

sns.relplot(x=MostCommonAge1stCode_country, 
            y="Country",
            hue = 'Age1stCode', 
            data=df,
            kind='scatter')
6/174:
# We can find this out by plotting our previous results

import seaborn as sns
import matplotlib.pyplot as plt

sns.catplot(x='Country',y='Age1stCode',data=df,kind='bar')
6/175:
# We can find this out by plotting our previous results

import seaborn as sns
import matplotlib.pyplot as plt

sns.countplot(x= MostCommonAge1stCode_country, data=df )
6/176: df.head()
6/177:
# palette_colors= {'': "green", 'Urban': "blue"}


sns.countplot(x='EdLevel',
              data=df,
              hue='Employment'
              )
6/178:
# palette_colors= {'': "green", 'Urban': "blue"}

plt.figure(figsize=(10,6))

sns.countplot(x='EdLevel',
              data=df,
              hue='Employment'
              )
6/179:
# palette_colors= {'': "green", 'Urban': "blue"}

plt.figure(figsize=(12,6))

sns.countplot(x='EdLevel',
              data=df,
              hue='Employment'
              )
6/180:
# palette_colors= {'': "green", 'Urban': "blue"}

plt.figure(figsize=(15,8))

sns.countplot(x='EdLevel',
              data=df,
              hue='Employment'
              )
6/181:
# palette_colors= {'': "green", 'Urban': "blue"}

plt.figure(figsize=(15,8))

sns.countplot(x='EdLevel',
              data=df,
              hue='Employment'
              )
plt.xticks(rotation=90)

plt.show()
6/182:
# palette_colors= {'': "green", 'Urban': "blue"}

plt.figure(figsize=(18,8))

sns.countplot(x='EdLevel',
              data=df,
              hue='Employment'
              )
plt.xticks(rotation=90)

plt.show()
6/183:
# palette_colors= {'': "green", 'Urban': "blue"}

plt.figure(figsize=(25,8))

sns.countplot(x='EdLevel',
              data=df,
              hue='Employment'
              )
plt.xticks(rotation=90)

plt.show()
6/184:
# palette_colors= {'': "green", 'Urban': "blue"}

plt.figure(figsize=(25,10))

sns.countplot(x='EdLevel',
              data=df,
              hue='Employment'
              )
plt.xticks(rotation=90)

plt.show()
6/185:
# palette_colors= {'': "green", 'Urban': "blue"}

plt.figure(figsize=(20,10))

sns.countplot(x='EdLevel',
              data=df,
              hue='Employment'
              )
plt.xticks(rotation=90)

plt.show()
6/186:
# palette_colors= {'': "green", 'Urban': "blue"}

plt.figure(figsize=(20,15))

sns.countplot(x='EdLevel',
              data=df,
              hue='Employment'
              )
plt.xticks(rotation=90)

plt.show()
6/187: df.head()
6/188:
sns.relplot(x='LearnCode',
            y='Employment',
            data=df,
            kind='scatter')
6/189:
sns.relplot(x='LearnCode',
            y='Employment',
            data=df,
            kind='scatter')

plt.xticks(rotation=90)
6/190:
sns.relplot(x='LearnCode',
            y='Employment',
            data=df,
            kind='scatter')

plt.xticks(rotation=90)

plt.show()
6/191: df["LearnCode"].unique()
6/192: df["LearnCode"]
6/193: df["LearnCode"].unique()
6/194: set (df["LearnCode"])
6/195: duplicates = df.duplicated('LearnCode', keep = False)
6/196:
duplicates = df.duplicated('LearnCode', keep = False)

duplicated_LearnCode = df[duplicates].sort_values('LearnCode')

print(duplicated_LearnCode)
6/197:
duplicates = df.duplicated('LearnCode', keep = False)

duplicated_LearnCode = df[duplicates].sort_values('LearnCode')

print(duplicated_LearnCode[('ResponseId','LearnCode')])
6/198:
duplicates = df.duplicated('LearnCode', keep = False)

duplicated_LearnCode = df[duplicates].sort_values('LearnCode')

print(duplicated_LearnCode[['ResponseId','LearnCode'])
6/199:
duplicates = df.duplicated('LearnCode', keep = False)

duplicated_LearnCode = df[duplicates].sort_values('LearnCode')

print(duplicated_LearnCode[['ResponseId','LearnCode']]
6/200:
duplicates = df.duplicated('LearnCode', keep = False)

duplicated_LearnCode = df[duplicates].sort_values('LearnCode')

print(duplicated_LearnCode[['ResponseId','LearnCode']])
6/201:
duplicates = df.duplicated('LearnCode', keep = False)

duplicated_LearnCode = df[duplicates].sort_values('LearnCode')

print(duplicated_LearnCode['LearnCode'])
6/202: df['LearnCode'].unique()
6/203:
filt = df['LearnCode'].str.contains('Other online resources')

df.loc[filt, 'LearnCode']
6/204:
filt = df['LearnCode'].str.contains('Other online resources', na=False)

df.loc[filt, 'LearnCode']
6/205:
filt = df['LearnCode'].str.contains('Other online resources', na=False)

df.loc[filt, 'LearnCode'] = 'Other online resources'
6/206:
filt = df['LearnCode'].str.contains('Other online resources', na=False)

df.loc[filt, 'LearnCode'] = 'Other online resources'

df.loc[filt, 'LearnCode']
6/207:
filt2 = df['LearnCode'].str.contains('School', na=False)

df.loc[filt2, 'LearnCode'] = 'School'

df.loc[filt2, 'LearnCode']
6/208: df['LearnCode'].unique()
6/209:
df['LearnCode'].str.lower()

df['LearnCode'].unique()
6/210:
df['LearnCode'].str.lower()

df['LearnCode'].unique()
6/211:
df['LearnCode'].str.lower()

df['LearnCode'].unique()
df
6/212:
df['LearnCode'].str.lower()

df['LearnCode'] = [x.lower() for x in df['LearnCode']]

df['LearnCode'].unique()
6/213:


df['LearnCode'] = [x.lower() for x in df['LearnCode']]

df['LearnCode'].unique()
6/214:


df['LearnCode'] = df['LearnCode'].str.lower()

df['LearnCode'].unique()
6/215:
filt = df['LearnCode'].str.contains('online', na=False)


df.loc[filt, 'LearnCode'] = 'online'

df.loc[filt, 'LearnCode']
6/216:
filt2 = df['LearnCode'].str.contains('school', na=False)

df.loc[filt2, 'LearnCode'] = 'school'

df.loc[filt2, 'LearnCode']
6/217: df['LearnCode'].unique()
6/218:
filt3 = df['LearnCode'].str.contains('coding bootcamp', na=False)

df.loc[filt3, 'LearnCode'] = 'coding bootcamp'

df.loc[filt3, 'LearnCode']
6/219: df['LearnCode'].unique()
6/220:
filt4 = df['LearnCode'].str.contains('friend or family member', na=False)

df.loc[filt4, 'LearnCode'] = 'friend or family member'

df.loc[filt4, 'LearnCode']
6/221: df['LearnCode'].unique()
6/222:
filt = df['LearnCode'].str.contains('online','school', na=False)


df.loc[filt, 'LearnCode'] = 'online and school'

df.loc[filt, 'LearnCode']
6/223:
filt = df['LearnCode'].str.contains('online','~school', na=False)


df.loc[filt, 'LearnCode'] = 'online'

df.loc[filt, 'LearnCode']
6/224:
filt = ~df['LearnCode'].str.contains('online', na=False) 




df.loc[filt, 'LearnCode']
6/225:
filt = df['LearnCode'].str.contains('online', na=False) 




df.loc[filt, 'LearnCode']
6/226:
filt = df['LearnCode'].str.contains('online','~school' na=False) 




df.loc[filt, 'LearnCode']
6/227:
filt = df['LearnCode'].str.contains('online',na=False) & ~df['LearnCode'].str.contains('school','cooding bootcamp','friend or family member','other' na=False) 




df.loc[filt, 'LearnCode']
6/228:
filt = df[(df.LearnCode.str.contains('online', na=False) & (~df.LearnCode.str.contains('school','coding bootcamp','friend or family member', 'other', na=False)
                                                            
df.loc[filt, 'LearnCode']
6/229:
filt = df[(df.LearnCode.str.contains('online', na=False) & (~df.LearnCode.str.contains('school','coding bootcamp','friend or family member', 'other', na=False)
                                                            
df.loc[filt, 'LearnCode']
6/230:
filt = df[(df.LearnCode.str.contains('online', na=False) & (~df.LearnCode.str.contains('school','coding bootcamp','friend or family member', 'other', na=False)
                                                            
df.loc[filt, df.LearnCode]
6/231:
filt = df[(df.LearnCode.str.contains('online', na=False) & (~df.LearnCode.str.contains('school','coding bootcamp','friend or family member', 'other', na=False)
                                                            
df.loc[filt, df.LearnCode]
6/232:
# filt = df[(df.LearnCode.str.contains('online', na=False) & (~df.LearnCode.str.contains('school','coding bootcamp','friend or family member', 'other', na=False)
                                                            
filt= df['LearnCode'].str.contains('online', na= False) & ~df['LearnCode'].str.contains('school','coding bootcamp','friend or family member', 'other', na=False)
                                                            
                                                            
df.loc[filt, df['LearnCode']
6/233:
# filt = df[(df.LearnCode.str.contains('online', na=False) & (~df.LearnCode.str.contains('school','coding bootcamp','friend or family member', 'other', na=False)
                                                            
filt= df['LearnCode'].str.contains('online', na= False) 
                                                            
                                                            
df.loc[filt, df['LearnCode']
6/234:
# filt = df[(df.LearnCode.str.contains('online', na=False) & (~df.LearnCode.str.contains('school','coding bootcamp','friend or family member', 'other', na=False)
                                                            
filt= df['LearnCode'].str.contains('online', na= False) 
                                                            
                                                            
df.loc[filt, 'LearnCode']
6/235:
# filt = df[(df.LearnCode.str.contains('online', na=False) & (~df.LearnCode.str.contains('school','coding bootcamp','friend or family member', 'other', na=False)
                                                            
filt= df['LearnCode'].str.contains('online', na= False) & ~df.LearnCode.str.contains('school','coding bootcamp','friend or family member', 'other', na=False)
                                                            
                                                            
df.loc[filt, 'LearnCode']
6/236:
# filt = df[(df.LearnCode.str.contains('online', na=False) & (~df.LearnCode.str.contains('school','coding bootcamp','friend or family member', 'other', na=False)
                                                            
filt= df['LearnCode'].str.contains('online') & ~df.LearnCode.str.contains('school','coding bootcamp','friend or family member', 'other', na=False)
                                                            
                                                            
df.loc[filt, 'LearnCode']
6/237:
# filt = df[(df.LearnCode.str.contains('online', na=False) & (~df.LearnCode.str.contains('school','coding bootcamp','friend or family member', 'other', na=False)
                                                            
filt= df['LearnCode'].str.contains('online') & ~df.LearnCode.str.contains('school','coding bootcamp','friend or family member', 'other', na=False)
                                                            
                                                            
df.loc[filt, 'LearnCode']
6/238:
# filt = df[(df.LearnCode.str.contains('online', na=False) & (~df.LearnCode.str.contains('school','coding bootcamp','friend or family member', 'other', na=False)
                                                            
filt= df['LearnCode'].str.contains('online') & ~df.LearnCode.str.contains('school','coding bootcamp','friend or family member', 'other')
                                                            
                                                            
df.loc[filt, 'LearnCode']
6/239:
# filt = df[(df.LearnCode.str.contains('online', na=False) & (~df.LearnCode.str.contains('school','coding bootcamp','friend or family member', 'other', na=False)
                                                            
filt= df['LearnCode'].str.contains('online') & ~df.LearnCode.str.contains('school','coding bootcamp','friend or family member', 'other')
                                                            
                                                            
df.loc[filt, 'LearnCode']
6/240:
# filt = df[(df.LearnCode.str.contains('online', na=False) & (~df.LearnCode.str.contains('school','coding bootcamp','friend or family member', 'other', na=False)
                                                            
# filt= df['LearnCode'].str.contains('online') & ~df.LearnCode.str.contains('school','coding bootcamp','friend or family member', 'other')
                                                            
                                                            
searchfor = ['school', 'coding bootcamp','friend or family member', 'other']

filt = df[df['LearnCode]'.str.contains('|'.join(searchfor))]

        
        
        
        
        
        
        
        
        
        
df.loc[filt, 'LearnCode']
6/241:
filt2 = df['LearnCode'].str.contains('school', na=False)

df.loc[filt2, 'LearnCode'] = 'school'

df.loc[filt2, 'LearnCode']
6/242:
# filt = df[(df.LearnCode.str.contains('online', na=False) & (~df.LearnCode.str.contains('school','coding bootcamp','friend or family member', 'other', na=False)
                                                            
# filt= df['LearnCode'].str.contains('online') & ~df.LearnCode.str.contains('school','coding bootcamp','friend or family member', 'other')
                                                            
                                                            
searchfor = ['school', 'coding bootcamp','friend or family member', 'other']

filt = df[df['LearnCode]'.str.contains('|'.join(searchfor))]

df.loc[filt, 'LearnCode']
6/243:
# filt = df[(df.LearnCode.str.contains('online', na=False) & (~df.LearnCode.str.contains('school','coding bootcamp','friend or family member', 'other', na=False)
                                                            
# filt= df['LearnCode'].str.contains('online') & ~df.LearnCode.str.contains('school','coding bootcamp','friend or family member', 'other')
                                                            
                                                            
searchfor = ['school', 'coding bootcamp','friend or family member', 'other']

filt = df['LearnCode]'.str.contains('|'.join(searchfor))

df.loc[filt, 'LearnCode']
6/244:
# filt = df[(df.LearnCode.str.contains('online', na=False) & (~df.LearnCode.str.contains('school','coding bootcamp','friend or family member', 'other', na=False)
                                                            
# filt= df['LearnCode'].str.contains('online') & ~df.LearnCode.str.contains('school','coding bootcamp','friend or family member', 'other')
                                                            
                                                            
searchfor = ['school', 'coding bootcamp','friend or family member', 'other']

filt = df['LearnCode]'.str.contains('|'.join(searchfor))

df.loc[filt, 'LearnCode']
6/245:
# filt = df[(df.LearnCode.str.contains('online', na=False) & (~df.LearnCode.str.contains('school','coding bootcamp','friend or family member', 'other', na=False)
                                                            
# filt= df['LearnCode'].str.contains('online') & ~df.LearnCode.str.contains('school','coding bootcamp','friend or family member', 'other')
                                                            
                                                            
searchfor = ['school', 'coding bootcamp','friend or family member', 'other']

filt = df['LearnCode]'.str.contains('|'.join(searchfor))

df[filt]
6/246:
# filt = df[(df.LearnCode.str.contains('online', na=False) & (~df.LearnCode.str.contains('school','coding bootcamp','friend or family member', 'other', na=False)
                                                            
# filt= df['LearnCode'].str.contains('online') & ~df.LearnCode.str.contains('school','coding bootcamp','friend or family member', 'other')
                                                            
                                                            
searchfor = ['school', 'coding bootcamp','friend or family member', 'other']

filt = df['LearnCode]'.str.contains('|'.join(searchfor))
6/247:
# filt = df[(df.LearnCode.str.contains('online', na=False) & (~df.LearnCode.str.contains('school','coding bootcamp','friend or family member', 'other', na=False)
                                                            
# filt= df['LearnCode'].str.contains('online') & ~df.LearnCode.str.contains('school','coding bootcamp','friend or family member', 'other')
                                                            
                                                            
searchfor = ['school', 'coding bootcamp','friend or family member', 'other']

filt = df['LearnCode'].str.contains('|'.join(searchfor))

df.loc[filt, 'LearnCode']
6/248:
# filt = df[(df.LearnCode.str.contains('online', na=False) & (~df.LearnCode.str.contains('school','coding bootcamp','friend or family member', 'other', na=False)
                                                            
# filt= df['LearnCode'].str.contains('online') & ~df.LearnCode.str.contains('school','coding bootcamp','friend or family member', 'other')
                                                            
                                                            
searchfor = ['school', 'coding bootcamp','friend or family member', 'other']

filt = df['LearnCode'].str.contains('|'.join(searchfor), na=False)

df.loc[filt, 'LearnCode']
6/249:
# filt = df[(df.LearnCode.str.contains('online', na=False) & (~df.LearnCode.str.contains('school','coding bootcamp','friend or family member', 'other', na=False)
                                                            
# filt= df['LearnCode'].str.contains('online') & ~df.LearnCode.str.contains('school','coding bootcamp','friend or family member', 'other')
                                                            
                                                            
searchfor = ['school', 'coding bootcamp','friend or family member', 'other']

filt = ~df['LearnCode'].str.contains('|'.join(searchfor), na=False)

df.loc[filt, 'LearnCode']
6/250:
# filt = df[(df.LearnCode.str.contains('online', na=False) & (~df.LearnCode.str.contains('school','coding bootcamp','friend or family member', 'other', na=False)
                                                            
# filt= df['LearnCode'].str.contains('online') & ~df.LearnCode.str.contains('school','coding bootcamp','friend or family member', 'other')
                                                            
                                                            
searchfor = ['school', 'coding bootcamp','friend or family member', 'other']

filt = df['LearnCode'].str.contains('|'.join(searchfor), na=False)

df.loc[filt, 'LearnCode']
6/251:
df['LearnCode'] = df['LearnCode'].str.lower()

df['LearnCode'].unique()
6/252: df.head()
6/253:
filt = df['LearnCode'].str.contains('online', na=False)

df.loc[filt, 'LearnCode'] = 'online'

df.loc[filt, 'LearnCode']
                                                            
                                                            
# searchfor = ['school', 'coding bootcamp','friend or family member', 'other']

# filt = df['LearnCode'].str.contains('|'.join(searchfor), na=False)

# df.loc[filt, 'LearnCode']
6/254:
plt.figure(figsize=(20,15))

sns.countplot(x='LearnCode',
              data=df,
              hue='Employment'
              )
plt.xticks(rotation=90)

plt.show()
6/255:
plt.figure(figsize=(20,15))

sns.set_style("whitegrid")

sns.countplot(x='LearnCode',
              data=df,
              hue='Employment'
              )
plt.xticks(rotation=90)

plt.show()
6/256:
plt.figure(figsize=(20,15))

sns.set_style("whitegrid")
sns.set_palette("Purples")

sns.countplot(x='LearnCode',
              data=df,
              hue='Employment'
              )
plt.xticks(rotation=90)

plt.show()
6/257:
plt.figure(figsize=(20,15))

sns.set_style("whitegrid")
sns.set_palette("deep")

sns.countplot(x='LearnCode',
              data=df,
              hue='Employment'
              )
plt.xticks(rotation=90)

plt.show()
6/258:
plt.figure(figsize=(20,15))

sns.set_style("whitegrid")
sns.set_palette("pastel")

sns.countplot(x='LearnCode',
              data=df,
              hue='Employment'
              )
plt.xticks(rotation=90)

plt.show()
6/259:
plt.figure(figsize=(20,15))

sns.set_style("whitegrid")
sns.set_palette("dark")

sns.countplot(x='LearnCode',
              data=df,
              hue='Employment'
              )
plt.xticks(rotation=90)

plt.show()
6/260:
plt.figure(figsize=(20,15))

sns.set_style("whitegrid")


sns.countplot(x='LearnCode',
              data=df,
              hue='Employment'
              )
plt.xticks(rotation=90)

plt.show()
6/261:
plt.figure(figsize=(20,15))

sns.set_style("whitegrid")
sns.set_palette(["#39A7D0","#36ADA4"])


sns.countplot(x='LearnCode',
              data=df,
              hue='Employment'
              )
plt.xticks(rotation=90)

plt.show()
6/262:
plt.figure(figsize=(20,15))


fig.suptitle("LearnCode vs Employment")
sns.set_style("whitegrid")



sns.countplot(x='LearnCode',
              data=df,
              hue='Employment'
              )
plt.xticks(rotation=90)

plt.show()
6/263:
plt.figure(figsize=(20,15))



sns.set_style("whitegrid")



plot = sns.countplot(x='LearnCode',
              data=df,
              hue='Employment'
              )

plot.fig.suptitle("LearnCode vs Employment")

plt.xticks(rotation=90)

plt.show()
6/264:
plt.figure(figsize=(20,15))



sns.set_style("whitegrid")
sns.set_context('paper')


plot = sns.countplot(x='LearnCode',
              data=df,
              hue='Employment'
              )


plt.xticks(rotation=90)

plt.show()
6/265:
plt.figure(figsize=(20,15))



sns.set_style("whitegrid")
sns.set_context('talk')


plot = sns.countplot(x='LearnCode',
              data=df,
              hue='Employment'
              )


plt.xticks(rotation=90)

plt.show()
6/266:
plt.figure(figsize=(20,15))



sns.set_style("whitegrid")
sns.color_palette("hls", 8)
sns.set_context('talk')


plot = sns.countplot(x='LearnCode',
              data=df,
              hue='Employment'
              )


plt.xticks(rotation=90)

plt.show()
6/267:
plt.figure(figsize=(20,15))



sns.set_style("whitegrid")
sns.set_palette("Reds")
sns.set_context('talk')


plot = sns.countplot(x='LearnCode',
              data=df,
              hue='Employment'
              )


plt.xticks(rotation=90)

plt.show()
6/268:
plt.figure(figsize=(20,15))



sns.set_style("whitegrid")
sns.set_palette("Purples")
sns.set_context('talk')


plot = sns.countplot(x='LearnCode',
              data=df,
              hue='Employment'
              )


plt.xticks(rotation=90)

plt.show()
6/269:
plt.figure(figsize=(20,15))



sns.set_style("whitegrid")
sns.set_palette("Blues")
sns.set_context('talk')


plot = sns.countplot(x='LearnCode',
              data=df,
              hue='Employment'
              )


plt.xticks(rotation=90)

plt.show()
6/270:
plt.figure(figsize=(20,15))

sns.countplot(x='EdLevel',
              data=df,
              hue='Employment'
              )
plt.xticks(rotation=90)

plt.show()
6/271:
plt.figure(figsize=(20,15))


sns.set_palette('Blues')
sns.countplot(x='EdLevel',
              data=df,
              hue='Employment'
              )
plt.xticks(rotation=90)

plt.show()
6/272:
plt.figure(figsize=(20,15))



g = sns.countplot(x='Learncode',
              data=df,
              hue='Employment'
              )
g.fig.suptitle('LearnCode vs Employment')
plt.xticks(rotation=90)

plt.show()
6/273:
plt.figure(figsize=(20,15))



g = sns.countplot(x='LearnCode',
              data=df,
              hue='Employment'
              )
g.fig.suptitle('LearnCode vs Employment')
plt.xticks(rotation=90)

plt.show()
6/274:
plt.figure(figsize=(20,15))



g = sns.countplot(x='LearnCode',
              data=df,
              hue='Employment'
              )

g.set_title('LearnCode vs Employment')
plt.xticks(rotation=90)

plt.show()
6/275:
plt.figure(figsize=(20,15))



g = sns.countplot(x='LearnCode',
              data=df,
              hue='Employment'
              )

g.set_title('LearnCode vs Employment', y=1.05)
plt.xticks(rotation=90)

plt.show()
6/276:
plt.figure(figsize=(20,15))



g = sns.countplot(x='LearnCode',
              data=df,
              hue='Employment'
              )

g.set_title('LearnCode vs Employment', y=1.05)
plt.xticks(rotation=90)
plt.legend(loc='upper right')

plt.show()
6/277:
plt.figure(figsize=(20,15))



g = sns.countplot(x='LearnCode',
              data=df,
              hue='Employment',
              palette= 'terrain'
              )

g.set_title('LearnCode vs Employment', y=1.05)
plt.xticks(rotation=90)
plt.legend(loc='upper right')

plt.show()
6/278:
plt.figure(figsize=(20,15))



g = sns.countplot(x='LearnCode',
              data=df,
              hue='Employment',
              palette= 'Spectral'
              )

g.set_title('LearnCode vs Employment', y=1.05)
plt.xticks(rotation=90)
plt.legend(loc='upper right')

plt.show()
6/279:
plt.figure(figsize=(20,15))



g = sns.countplot(x='LearnCode',
              data=df,
              hue='Employment',
              palette= 'jet'
              )

g.set_title('LearnCode vs Employment', y=1.05)
plt.xticks(rotation=90)
plt.legend(loc='upper right')

plt.show()
6/280:
plt.figure(figsize=(20,15))



g = sns.countplot(x='LearnCode',
              data=df,
              hue='Employment',
              palette= 'magma'
              )

g.set_title('LearnCode vs Employment', y=1.05)
plt.xticks(rotation=90)
plt.legend(loc='upper right')

plt.show()
6/281:

plt.figure(figsize=(20,15))

sns.countplot(x='EdLevel',
              data=df,
              hue='Employment',
              palette= 'magma'
              )
plt.xticks(rotation=90)

plt.show()
6/282:

plt.figure(figsize=(20,15))

sns.countplot(x='EdLevel',
              data=df,
              hue='Employment'
              )
plt.xticks(rotation=90)

plt.show()
6/283:
plt.figure(figsize=(20,15))



g = sns.countplot(x='LearnCode',
              data=df,
              hue='Employment',
              palette= 'summer'
              )

g.set_title('LearnCode vs Employment', y=1.05)
plt.xticks(rotation=90)
plt.legend(loc='upper right')

plt.show()
6/284:
plt.figure(figsize=(20,15))



g = sns.countplot(x='LearnCode',
              data=df,
              hue='Employment',
              palette= 'winter'
              )

g.set_title('LearnCode vs Employment', y=1.05)
plt.xticks(rotation=90)
plt.legend(loc='upper right')

plt.show()
6/285:
plt.figure(figsize=(20,15))



g = sns.countplot(x='LearnCode',
              data=df,
              hue='Employment'
              )

g.set_title('LearnCode vs Employment', y=1.05)
plt.xticks(rotation=90)
plt.legend(loc='upper right')

plt.show()
6/286:
plt.figure(figsize=(20,15))



g = sns.countplot(x='LearnCode',
              data=df,
              hue='Employment'
              )

sns.set_palette('k')
g.set_title('LearnCode vs Employment', y=1.05)
plt.xticks(rotation=90)
plt.legend(loc='upper right')

plt.show()
6/287:
plt.figure(figsize=(20,15))



g = sns.countplot(x='LearnCode',
              data=df,
              hue='Employment'
              )

sns.set_palette('Pastel1')
g.set_title('LearnCode vs Employment', y=1.05)
plt.xticks(rotation=90)
plt.legend(loc='upper right')

plt.show()
6/288:
plt.figure(figsize=(20,15))


sns.set_palette('Pastel1')
g = sns.countplot(x='LearnCode',
              data=df,
              hue='Employment'
              )


g.set_title('LearnCode vs Employment', y=1.05)
plt.xticks(rotation=90)
plt.legend(loc='upper right')

plt.show()
6/289:
plt.figure(figsize=(20,15))


sns.set_palette('Blues')
g = sns.countplot(x='LearnCode',
              data=df,
              hue='Employment'
              )


g.set_title('LearnCode vs Employment', y=1.05)
plt.xticks(rotation=90)
plt.legend(loc='upper right')

plt.show()
6/290:
plt.figure(figsize=(20,15))


sns.set_palette('Purples')
g = sns.countplot(x='LearnCode',
              data=df,
              hue='Employment'
              )


g.set_title('LearnCode vs Employment', y=1.05)
plt.xticks(rotation=90)
plt.legend(loc='upper right')

plt.show()
6/291:
plt.figure(figsize=(20,15))



g = sns.countplot(x='LearnCode',
              data=df,
              hue='Employment',
              palette= 'Blues'
              )


g.set_title('LearnCode vs Employment', y=1.05)
plt.xticks(rotation=90)
plt.legend(loc='upper right')

plt.show()
6/292:
sns.set_palette("RdBu")

plt.figure(figsize=(20,15))



g = sns.countplot(x='LearnCode',
              data=df,
              hue='Employment',
              palette= 'Blues'
              )


g.set_title('LearnCode vs Employment', y=1.05)
plt.xticks(rotation=90)
plt.legend(loc='upper right')

plt.show()
6/293:
sns.set_palette("RdBu")

plt.figure(figsize=(20,15))



g = sns.countplot(x='LearnCode',
              data=df,
              hue='Employment' 
              )


g.set_title('LearnCode vs Employment', y=1.05)
plt.xticks(rotation=90)
plt.legend(loc='upper right')

plt.show()
6/294:


plt.figure(figsize=(20,15))



g = sns.countplot(x='LearnCode',
              data=df,
              hue='Employment' 
              )


g.set_title('LearnCode vs Employment', y=1.05)
plt.xticks(rotation=90)
plt.legend(loc='upper right')

plt.show()
6/295: sns.color_palette
6/296: sns.color_palette()
6/297:


plt.figure(figsize=(20,15))



g = sns.countplot(x='LearnCode',
              data=df,
              hue='Employment' 
              )

sns.color_palette(g)
g.set_title('LearnCode vs Employment', y=1.05)
plt.xticks(rotation=90)
plt.legend(loc='upper right')

plt.show()
6/298:


plt.figure(figsize=(20,15))



g = sns.countplot(x='LearnCode',
              data=df,
              hue='Employment' 
              )


g.set_title('LearnCode vs Employment', y=1.05)
plt.xticks(rotation=90)
plt.legend(loc='upper right')

plt.show()
6/299:
sns.reselt_deafaults()

plt.figure(figsize=(20,15))



g = sns.countplot(x='LearnCode',
              data=df,
              hue='Employment' 
              )


g.set_title('LearnCode vs Employment', y=1.05)
plt.xticks(rotation=90)
plt.legend(loc='upper right')

plt.show()
6/300:
sns.reselt_defaults()

plt.figure(figsize=(20,15))



g = sns.countplot(x='LearnCode',
              data=df,
              hue='Employment' 
              )


g.set_title('LearnCode vs Employment', y=1.05)
plt.xticks(rotation=90)
plt.legend(loc='upper right')

plt.show()
6/301:
sns.reset_defaults()

plt.figure(figsize=(20,15))



g = sns.countplot(x='LearnCode',
              data=df,
              hue='Employment' 
              )


g.set_title('LearnCode vs Employment', y=1.05)
plt.xticks(rotation=90)
plt.legend(loc='upper right')

plt.show()
6/302:

plt.figure(figsize=(20,15))

sns.countplot(x='EdLevel',
              data=df,
              hue='Employment'
              )
plt.xticks(rotation=90)

plt.show()
6/303:


plt.figure(figsize=(20,15))



g = sns.countplot(x='LearnCode',
              data=df,
              hue='Employment' 
              )


g.set_title('LearnCode vs Employment', y=1.05)
plt.xticks(rotation=90)
plt.legend(loc='upper right')

plt.show()
 8/1:
import pandas as pd

df = pd.read_csv('WDIData.csv')

df.head()
 8/2: df.shape()
 8/3: df.describe()
 8/4: df.shape
 8/5: df['CountryCode'].unique()
 8/6: df['Country_Code'].unique()
 8/7: df['Indicator Code'].unique()
 8/8: df['Country Code'].unique()
 8/9: df['Country Name'].unique()
8/10: df['Indicator Name'].unique()
8/11:
df2= pd.read_csv('6d8c0664-148d-462e-8948-cb84708d0604_Data.csv')
df2
8/12:
df2= pd.read_csv('6d8c0664-148d-462e-8948-cb84708d0604_Data.csv')
df2
8/13: df['Series Name'].unique()
8/14: df2['Series Name'].unique()
8/15: df2(type)
8/16: df2.shape
8/17:
df2= pd.read_csv('6d8c0664-148d-462e-8948-cb84708d0604_Data.csv')
df2
8/18: jupyter notebook --notebook-dir=/Users/Steven/desktop/WDI_csv/Data_Extract_From_World_Development_Indicators
8/19: jupyter notebook --notebook-dir=/Users/Steven/Desktop/WDI_csv/Data_Extract_From_World_Development_Indicators
8/20: jupyter notebook --notebook-dir=/Users/Steven/Desktop/WDI_csv/Data_Extract_From_World_Development_Indicators/
8/21: jupyter notebook --notebook-dir=/Users/Steven/Desktop/WDI_csv/Data_Extract_From_World_Development_Indicators
8/22:
import os
os.getcwd()
8/23: os.chdir('/Users/steven/Desktop/WDI_csv/Data_Extract_From_World_Development_Indicators')
8/24:
df2= pd.read_csv('6d8c0664-148d-462e-8948-cb84708d0604_Data.csv')
df2
8/25: df3 = pd.read_csv('6d8c0664-148d-462e-8948-cb84708d0604_Series - Metadata.csv')
8/26:
df3 = pd.read_csv('6d8c0664-148d-462e-8948-cb84708d0604_Series - Metadata.csv')
df3
8/27: os.getcwd()
8/28: os.chdir('/Users/steven/Desktop/WDI_csv/hnp_stats_csv')
8/29:
df3 = pd.read_csv('HNP_StatsCountry-Series.csv')
df3
8/30:
df3 = pd.read_csv('HNP_StatsCountry.csv')
df3
8/31:
df3 = pd.read_csv('HNP_StatsData.csv')
df3
8/32: df3.shape
8/33: df3.columns
8/34:
df3 = pd.read_csv('HNP_StatsSeries.csv')
df3
8/35: os.chdir('/Users/steven/Desktop/WDI_csv/Population-Estimates_CSV')
8/36: df4 = pd.read_csv('Population-EstimatesCountry.csv')
8/37: df4
8/38: df4
8/39:
from pandas_datareader import wb

electricity_access_urban = 'EG.ELC.ACCS.UR.ZS'
electricity_access_rural = 'EG.ELC.ACCS.RU.ZS'


df_1 = wb.download(indicator = electricity_access_urban, country = all, start= 1990, end= 2019)
df_1
8/40:
import pandas as pd
from pandas_datareader import wb

electricity_access_urban = 'EG.ELC.ACCS.UR.ZS'
electricity_access_rural = 'EG.ELC.ACCS.RU.ZS'


df_1 = wb.download(indicator = electricity_access_urban, country = all, start= 1990, end= 2019)
df_1
8/41:
import pandas as pd
from pandas_datareader import wb

electricity_access_urban = 'EG.ELC.ACCS.UR.ZS'
electricity_access_rural = 'EG.ELC.ACCS.RU.ZS'


df_1 = wb.download(indicator = electricity_access_urban, country = all, start= 1990, end= 2019)
df_1
 9/1:
import pandas as pd
from pandas_datareader import wb

electricity_access_urban = 'EG.ELC.ACCS.UR.ZS'
electricity_access_rural = 'EG.ELC.ACCS.RU.ZS'


df_1 = wb.download(indicator = electricity_access_urban, country = all, start= 1990, end= 2019)
df_1
 9/2:
import pandas as pd
from pandas_datareader import wb

electricity_access_urban = 'EG.ELC.ACCS.UR.ZS'
electricity_access_rural = 'EG.ELC.ACCS.RU.ZS'


df_1 = wb.download(indicator = electricity_access_urban, country = 'all', start= 1990, end= 2019)
df_1
10/1:
import pandas as pd
from pandas_datareader import wb

inflation_consumer_prices = 'FP.CPI.TOTL.ZG'


df_1 = wb.download(indicator = inflation_consumer_prices, country = 'all', start= 2019, end= 2019)
df_1
10/2:
import pandas as pd
from pandas_datareader import wb

inflation_consumer_prices = 'FP.CPI.TOTL.ZG'


df_1 = wb.download(indicator = inflation_consumer_prices, country = 'all', start= 2019, end= 2019)
df_1
10/3:
df_1 = df_1.reset_index(1)
df_1.columns = ['year','country','inflation']
10/4:
df_1 = df_1.reset_index(1)
df_1.columns = ['country','inflation']
10/5:
df_1 = df_1.reset_index(0)
df_1.columns = ['country','inflation']
10/6: df_1 = df_1.reset_index(0)
10/7:
df_1 = df_1.reset_index(0)
df_1
10/8:
df_1 = df_1.reset_index(1)
df_1
10/9:
df_1 = df_1.reset_index(1)
df_1
10/10:

df_1
10/11:

df_1.reset_index(3)
df_1
10/12: df_1
10/13: df_1.reset_index(1)
10/14: df_1.reset_index()
10/15:
import pandas as pd
from pandas_datareader import wb

inflation_consumer_prices = 'FP.CPI.TOTL.ZG'


df_1 = wb.download(indicator = inflation_consumer_prices, country = 'all', start= 2019, end= 2019)
df_1
10/16:
import pandas as pd
from pandas_datareader import wb

inflation_consumer_prices = 'FP.CPI.TOTL.ZG'


df_1 = wb.download(indicator = inflation_consumer_prices, country = 'all', start= 2019, end= 2019)
df_1
10/17:
df_1 = df_1.reset.index(1)
df_1.columns = ['country','inflation']
10/18:
df_1 = df_1.reset_index(1)
df_1.columns = ['country','inflation']
10/19:
df_1 = df_1.reset_index(1)
df_1.columns = ['country','inflation']
df_1
10/20:
df_1 = df_1.reset_index(1)
df_1.columns = ['year','inflation']
df_1
10/21:
df_1 = df_1.reset_index(1)
df_1.columns = ['year','inflation']
df_1
10/22:
import pandas as pd
from pandas_datareader import wb

inflation_consumer_prices = 'FP.CPI.TOTL.ZG'


df_1 = wb.download(indicator = inflation_consumer_prices, country = 'all', start= 2019, end= 2019)
df_1
10/23:
df_1 = df_1.reset_index(1)
df_1.columns = ['year','inflation']
10/24:
df_1 = df_1.reset_index(1)
df_1.columns = ['year','inflation']
df_1
10/25:
df_1 = df_1.reset_index(1)

df_1
10/26:


df_1
10/27:
import pandas as pd
from pandas_datareader import wb

inflation_consumer_prices = 'FP.CPI.TOTL.ZG'


df_1 = wb.download(indicator = inflation_consumer_prices, country = 'all', start= 2019, end= 2019)
df_1
10/28:
df_1 = df_1.reset_index(1)
df_1.columns = ['year','inflation']
df_1
10/29:
import geopandas

map = geopandas.read_file(geopandas.datasets.get_path('naturalearth_lowres'))
map = map[map['name'] != 'Antarctica']
map
11/1:
import geopandas

map = geopandas.read_file(geopandas.datasets.get_path('naturalearth_lowres'))
map = map[map['name'] != 'Antarctica']
map
11/2:
import geopandas

map = geopandas.read_file(geopandas.datasets.get_path('naturalearth_lowres'))
map = map[map['name'] != 'Antarctica']
map
11/3:
import geopandas

map = geopandas.read_file(geopandas.datasets.get_path('naturalearth_lowres'))
map = map[map['name'] != 'Antarctica']
map
11/4:
import geopandas

map = geopandas.read_file(geopandas.datasets.get_path('naturalearth_lowres'))
map = map[map['name'] != 'Antarctica']
map
11/5:
import geopandas

map = geopandas.read_file(geopandas.datasets.get_path('naturalearth_lowres'))
map = map[map['name'] != 'Antarctica']
map
12/1:
import geopandas

map = geopandas.read_file(geopandas.datasets.get_path('naturalearth_lowres'))
map = map[map['name'] != 'Antarctica']
map
12/2:
import geopandas

map = geopandas.read_file(geopandas.datasets.get_path('naturalearth_lowres'))
map = map[map['name'] != 'Antarctica']
map
13/1:
import geopandas

map = geopandas.read_file(geopandas.datasets.get_path('naturalearth_lowres'))
map = map[map['name'] != 'Antarctica']
map
13/2: map.plot()
13/3: map.plot(figzise=(14,5))
13/4:
plt.figsize(14,5)
map.plot()
13/5:

map.plot(figsize=(14,5))
13/6:
import geopandas

map = geopandas.read_file(geopandas.datasets.get_path('naturalearth_lowres'))
map
13/7: map.plot(figsize=(14,5))
13/8:
# Excluding Antarctica for visual purposes

Antarctica = map[map['name']=='Antarctica']
Antarctica
13/9:
map = map[map['name']!= 'Antarctica']
map
13/10: map.plot(figsize=(14,5))
13/11:
map = map.set_index('name')
map
13/12:
map = map.set_index('name')
map_inflation = map.join(df_1, how='outer')
13/13:
map = map.set_index('name')
map_inflation = map.join(df_1, how='outer')
13/14:
map = map.set_index('name')
map_inflation = map.join(df_1,how='outer')
13/15:

map_inflation = map.join(df_1,how='outer')
13/16:
import pandas as pd
from pandas_datareader import wb

inflation_consumer_prices = 'FP.CPI.TOTL.ZG'


df_1 = wb.download(indicator = inflation_consumer_prices, country = 'all', start= 2019, end= 2019)
df_1
13/17:
import pandas as pd
from pandas_datareader import wb

inflation_consumer_prices = 'FP.CPI.TOTL.ZG'


df_1 = wb.download(indicator = inflation_consumer_prices, country = 'all', start= 2019, end= 2019)
df_1
13/18:
df_1 = df_1.reset_index(1)
df_1.columns = ['year','inflation']
df_1
13/19:
import geopandas

map = geopandas.read_file(geopandas.datasets.get_path('naturalearth_lowres'))
map
13/20: map.plot(figsize=(14,5))
13/21:
map = map[map['name']!= 'Antarctica']
map
13/22: map.plot(figsize=(14,5))
13/23:
map = map.set_index('name')
map_inflation = map.join(df_1,how='outer')
13/24:
map = map.set_index('name')
map_inflation = map.join(df_1,how='outer')
map_inflation
13/25:
map = map.set_index('name')
map_inflation = pd.merge(map,df_1,how='outer')
map_inflation
13/26:

map_inflation = pd.merge(map,df_1,how='outer')
map_inflation
13/27:

map_inflation = map.join(df_1,how='outer')
map_inflation
13/28: map_inflation[0].unique()
13/29:

map_inflation = map.join(df_1,how='outer')
map_inflation.head(50)
13/30: map_inflation.Index.unique()
13/31: map_inflation.index.unique()
13/32: map_inflation.index.unique(300)
13/33: map_inflation.index.unique().head(300)
13/34:
pd.set_option('display.max_rows', 500)
map_inflation.index.unique()
13/35: map.join(df_1, how='outer')
13/36:
map = map[map['name']!= 'Antarctica']
map
13/37: map.join(df_1, how='outer')
13/38:
import geopandas

map = geopandas.read_file(geopandas.datasets.get_path('naturalearth_lowres'))
map
13/39:
Antarctica = map[map['name']=='Antarctica']
Antarctica
13/40:
df_1 = df_1.reset_index(1)
df_1 = df_1.reset_index(0)
13/41:
df_1 = df_1.reset_index(1)
df_1
13/42: df_1
13/43: df_1 = df_1.reset_index(level=0, inplace=True)
13/44:
df_1 = df_1.reset_index(level=0, inplace=True)
df_1
13/45: df_1
13/46: df_1
13/47: df_1
13/48:
import pandas as pd
from pandas_datareader import wb

inflation_consumer_prices = 'FP.CPI.TOTL.ZG'


df_1 = wb.download(indicator = inflation_consumer_prices, country = 'all', start= 2019, end= 2019)
df_1
13/49:
df_1 = df_1.reset_index(level=['country', 'year'])
df_1
13/50:
map = map[map['name']!= 'Antarctica']
map
13/51:
map['name']= map['country']
map
13/52:
map = map.rename(columns={'name': 'country'})
map
13/53:
map = map.rename(columns={'name': 'country'})
map_inflation = map.join(inflation,on='country',how='outer')
map_inflation
13/54:
import pandas as pd
from pandas_datareader import wb

inflation_consumer_prices = 'FP.CPI.TOTL.ZG'


inflation = wb.download(indicator = inflation_consumer_prices, country = 'all', start= 2019, end= 2019)
inflation
13/55:
inflation = inflation.reset_index(level=['country', 'year'])
inflation
13/56:
import geopandas

map = geopandas.read_file(geopandas.datasets.get_path('naturalearth_lowres'))
map
13/57: map.plot(figsize=(14,5))
13/58:
Antarctica = map[map['name']=='Antarctica']
Antarctica
13/59:
map = map[map['name']!= 'Antarctica']
map
13/60: map.plot(figsize=(14,5))
13/61:
map = map.rename(columns={'name': 'country'})
map_inflation = map.join(inflation,on='country',how='outer')
map_inflation
13/62: map = map.rename(columns={'name': 'country'})
13/63:
map = map.rename(columns={'name': 'country'})
map
13/64:
map = map.rename(columns={'name': 'country'})
map_inflation = map.join(inflation,how='outer')
13/65:
map = map.rename(columns={'name': 'country'})
map_inflation = map.join(inflation,how='outer')
map_inflation
13/66:
map = map.rename(columns={'name': 'country'})
map_inflation = map.join(inflation)
map_inflation
13/67:
map = map.rename(columns={'name': 'country'})
map_inflation = map.join(inflation)
map_inflation
13/68:
map = map.rename(columns={'name': 'country'})
map_inflation = map.join(inflation,on='country')
map_inflation
13/69:
map = map.rename(columns={'name': 'country'})
map_inflation = pd.concat([map,inflation])
map_inflation
13/70:
map = map.rename(columns={'name': 'country'})
map
13/71:
map = map.rename(columns={'name': 'country'})
map(type)
13/72:
world_map = world_map.rename(columns={'name': 'country'})

world_map_inflation = world_map.join(inflation, on='country')
world_map_inflation
13/73:
import pandas as pd
from pandas_datareader import wb

inflation_consumer_prices = 'FP.CPI.TOTL.ZG'


inflation = wb.download(indicator = inflation_consumer_prices, country = 'all', start= 2019, end= 2019)
inflation
13/74:
inflation = inflation.reset_index(level=['country', 'year'])
inflation
13/75:
import geopandas

world_map = geopandas.read_file(geopandas.datasets.get_path('naturalearth_lowres'))
world_map
13/76: world_map.plot(figsize=(14,5))
13/77:
Antarctica = world_map[world_map['name']=='Antarctica']
Antarctica
13/78:
world_map = world_map[world_map['name']!= 'Antarctica']
world_map
13/79: world_map.plot(figsize=(14,5))
13/80:
world_map = world_map.rename(columns={'name': 'country'})

world_map_inflation = world_map.join(inflation, on='country')
world_map_inflation
13/81:
world_map = world_map.rename(columns={'name': 'country'})

world_map_inflation = world_map.join(inflation,how='outer')
world_map_inflation
13/82:
world_map = world_map.rename(columns={'name': 'country'})

world_map_inflation = world_map.merge(inflation, on='country')
world_map_inflation
13/83:
world_map = world_map.rename(columns={'name': 'country'})

world_map_inflation = world_map.merge(inflation, on='country',how='outer')
world_map_inflation
13/84: world_map_inflation[world_map_inflation['country']=='United States of America']
13/85: world_map_inflation[world_map_inflation['country']=='United States']
13/86:
# After joining the two dataframes, a problem occurs: there are several duplicate values in the country column (United States and United States of America, Russia and Russian Federation).
# This issue will be solved through recordlinkage.

import recordlinkage

indexer= recordlinkage.Index()
indexer.block('country')
pairs= indexer.index(world_map,inflation)
compare_cl= recordlinkage.Compare()
compare_cl.string('country','country',threshold=0.70,label='country')
potential_matches= compare_cl.compute(pairs,world_map,inflation)

potential_matches
13/87:
# After joining the two dataframes, a problem occurs: there are several duplicate values in the country column (United States and United States of America, Russia and Russian Federation).
# This issue will be solved through recordlinkage.

import recordlinkage

indexer= recordlinkage.Index()
indexer.block('country')
pairs= indexer.index(world_map,inflation)
compare_cl= recordlinkage.Compare()
compare_cl.string('country','country',threshold=0.70,label='country')
potential_matches= compare_cl.compute(pairs,world_map,inflation)

potential_matches
13/88:
# After joining the two dataframes, a problem occurs: there are several duplicate values in the country column (United States and United States of America, Russia and Russian Federation).
# This issue will be solved through recordlinkage.

import recordlinkage

indexer= recordlinkage.Index()
indexer.block('country')
pairs= indexer.index(world_map,inflation)
compare_cl= recordlinkage.Compare()
compare_cl.string('country','country',threshold=0.70,label='country')
potential_matches= compare_cl.compute(pairs,world_map,inflation)

potential_matches
13/89: potential_matches.index
13/90:
matches_indices= potential_matches.index.get_level_values(1)
non_dup = inflation[~inflation.index.isin(matching_indices)]
world_map_non_dup= world_map.append(non_dup)
world_map_non_dup
13/91:
matches_indices= potential_matches.index.get_level_values(1)
non_dup = inflation[~inflation.index.isin(matches_indices)]
world_map_non_dup= world_map.append(non_dup)
world_map_non_dup
13/92:
matches_indices= potential_matches.index.get_level_values(1)
non_dup = inflation[~inflation.index.isin(matches_indices)]
world_map_non_dup= world_map.join(non_dup,on='country')
world_map_non_dup
13/93:
matches_indices= potential_matches.index.get_level_values(1)
non_dup = inflation[~inflation.index.isin(matches_indices)]
world_map_non_dup= world_map.merge(non_dup, on='country')
world_map_non_dup
13/94:
matches_indices= potential_matches.index.get_level_values(1)
non_dup = inflation[~inflation.index.isin(matches_indices)]
world_map_non_dup= world_map.merge(non_dup, on='country')
world_map_non_dup
13/95:
# After joining the two dataframes, a problem occurs: there are several duplicate values in the country column (United States and United States of America, Russia and Russian Federation).
# This issue will be solved through recordlinkage.

import recordlinkage

indexer= recordlinkage.Index()
indexer.block('country')
pairs= indexer.index(world_map,inflation)
compare_cl= recordlinkage.Compare()
compare_cl.string('country','country',threshold=0.50,label='country')
potential_matches= compare_cl.compute(pairs,world_map,inflation)

potential_matches
13/96:
# After joining the two dataframes, a problem occurs: there are several duplicate values in the country column (United States and United States of America, Russia and Russian Federation).
# This issue will be solved through recordlinkage.

import recordlinkage

indexer= recordlinkage.Index()
indexer.block('country')
pairs= indexer.index(world_map,inflation)
compare_cl= recordlinkage.Compare()
compare_cl.string('country','country',threshold=0.40,label='country')
potential_matches= compare_cl.compute(pairs,world_map,inflation)

potential_matches
13/97:
matches_indices= potential_matches.index.get_level_values(1)
non_dup = inflation[~inflation.index.isin(matches_indices)]
world_map_non_dup= world_map.append(non_dup)
world_map_non_dup
13/98:
# After joining the two dataframes, a problem occurs: there are several duplicate values in the country column (United States and United States of America, Russia and Russian Federation).
# This issue will be solved through recordlinkage.

import recordlinkage

indexer= recordlinkage.Index()
indexer.block('country')
pairs= indexer.index(world_map,inflation)
compare_cl= recordlinkage.Compare()
compare_cl.string('country','country',threshold=0.65,label='country')
potential_matches= compare_cl.compute(pairs,world_map,inflation)

potential_matches
13/99:
matches_indices= potential_matches.index.get_level_values(1)
non_dup = inflation[~inflation.index.isin(matches_indices)]
non_dup
13/100:
# After joining the two dataframes, a problem occurs: there are several duplicate values in the country column (United States and United States of America, Russia and Russian Federation).
# This issue will be solved through recordlinkage.

import recordlinkage

indexer= recordlinkage.Index()
indexer.block('country')
pairs= indexer.index(world_map,inflation)
compare_cl= recordlinkage.Compare()
compare_cl.string('country','country',threshold=0.75,label='country')
potential_matches= compare_cl.compute(pairs,world_map,inflation)

potential_matches
13/101:
# After joining the two dataframes, a problem occurs: there are several duplicate values in the country column (United States and United States of America, Russia and Russian Federation).
# This issue will be solved through recordlinkage.

import recordlinkage

indexer= recordlinkage.Index()
indexer.block('country')
pairs= indexer.index(world_map,inflation)
compare_cl= recordlinkage.Compare()
compare_cl.string('country','country',threshold=0.45,label='country')
potential_matches= compare_cl.compute(pairs,world_map,inflation)

potential_matches
13/102:
# After joining the two dataframes, a problem occurs: there are several duplicate values in the country column (United States and United States of America, Russia and Russian Federation).
# This issue will be solved through recordlinkage.

import recordlinkage

indexer= recordlinkage.Index()
indexer.block('country')
pairs= indexer.index(world_map,inflation)
compare_cl= recordlinkage.Compare()
compare_cl.string('country','country',threshold=0.40,label='country')
potential_matches= compare_cl.compute(pairs,world_map,inflation)

potential_matches
13/103:
# After joining the two dataframes, a problem occurs: there are several duplicate values in the country column (United States and United States of America, Russia and Russian Federation).
# This issue will be solved through recordlinkage.

import recordlinkage

indexer= recordlinkage.Index()
indexer.block('country')
pairs= indexer.index(world_map,inflation)
compare_cl= recordlinkage.Compare()
compare_cl.string('country','country',threshold=0.35,label='country')
potential_matches= compare_cl.compute(pairs,world_map,inflation)

potential_matches
13/104:
# After joining the two dataframes, a problem occurs: there are several duplicate values in the country column (United States and United States of America, Russia and Russian Federation).
# This issue will be solved through recordlinkage.

import recordlinkage

indexer= recordlinkage.Index()
indexer.block('country')
pairs= indexer.index(world_map,inflation)
compare_cl= recordlinkage.Compare()
compare_cl.string('country','country',threshold=0.30,label='country')
potential_matches= compare_cl.compute(pairs,world_map,inflation)

potential_matches
13/105:
# After joining the two dataframes, a problem occurs: there are several duplicate values in the country column (United States and United States of America, Russia and Russian Federation).
# This issue will be solved through recordlinkage.

import recordlinkage

indexer= recordlinkage.Index()
indexer.block('country')
pairs= indexer.index(world_map,inflation)
compare_cl= recordlinkage.Compare()
compare_cl.string('country','country',threshold=0.30,label='country')
potential_matches= compare_cl.compute(pairs,world_map,inflation)

potential_matches
13/106:
# After joining the two dataframes, a problem occurs: there are several duplicate values in the country column (United States and United States of America, Russia and Russian Federation).
# This issue will be solved through recordlinkage.

import recordlinkage

indexer= recordlinkage.Index()
indexer.block('country')
pairs= indexer.index(world_map,inflation)
compare_cl= recordlinkage.Compare()
compare_cl.string('country','country',threshold=0.20,label='country')
potential_matches= compare_cl.compute(pairs,world_map,inflation)

potential_matches
13/107:
# After joining the two dataframes, a problem occurs: there are several duplicate values in the country column (United States and United States of America, Russia and Russian Federation).
# This issue will be solved through recordlinkage.

import recordlinkage

indexer= recordlinkage.Index()
indexer.block('country')
pairs= indexer.index(world_map,inflation)
compare_cl= recordlinkage.Compare()
compare_cl.string('country','country',threshold=0.14,label='country')
potential_matches= compare_cl.compute(pairs,world_map,inflation)

potential_matches
13/108:
import pandas as pd
from pandas_datareader import wb

inflation_consumer_prices = 'FP.CPI.TOTL.ZG'


inflation = wb.download(indicator = inflation_consumer_prices, country = 'all', start= 2019, end= 2019)
inflation
13/109:
inflation = inflation.reset_index(level=['country', 'year'])
inflation
13/110:
import geopandas

world_map = geopandas.read_file(geopandas.datasets.get_path('naturalearth_lowres'))
world_map
13/111: world_map.plot(figsize=(14,5))
13/112:
Antarctica = world_map[world_map['name']=='Antarctica']
Antarctica
13/113:
world_map = world_map[world_map['name']!= 'Antarctica']
world_map
13/114: world_map.plot(figsize=(14,5))
13/115:
world_map = world_map.rename(columns={'name': 'country'})

world_map_inflation = world_map.merge(inflation, on='country',how='outer')
world_map_inflation
13/116: world_map_inflation[world_map_inflation['country']=='United States']
13/117:
# After joining the two dataframes, a problem occurs: there are several duplicate values in the country column (United States and United States of America, Russia and Russian Federation).
# This issue will be solved through recordlinkage.

import recordlinkage

indexer= recordlinkage.Index()
indexer.block('country')
pairs= indexer.index(world_map,inflation)
compare_cl= recordlinkage.Compare()
compare_cl.string('country','country',threshold=0.2,label='country')
potential_matches= compare_cl.compute(pairs,world_map,inflation)

potential_matches
13/118:
# After joining the two dataframes, a problem occurs: there are several duplicate values in the country column (United States and United States of America, Russia and Russian Federation).
# This issue will be solved through recordlinkage.

import recordlinkage

indexer= recordlinkage.Index()
indexer.block('country')
pairs= indexer.index(world_map,inflation)
compare_cl= recordlinkage.Compare()
compare_cl.string('country','country',threshold=0.1,label='country')
potential_matches= compare_cl.compute(pairs,world_map,inflation)

potential_matches
13/119: world_map_inflation
13/120:
from fuzzywuzzy import process

for country in world_map['country']:
    matches= process.extract(country,inflation['country'],limit=inflation.shape[0])
    for potential_match in matches:
        if potential_match[1] >= 80:
            inflation.loc[inflation['country']== potential_match[0], 'country']= country
13/121: inflation
13/122: inflation[inflation['country']== 'United States of America']
13/123: world_map_inflation
15/1:
from fuzzywuzzy import fuzz

fuzz.WRatio('United States','United States of America')
15/2:
from fuzzywuzzy import fuzz

fuzz.WRatio('Russia','Russian Federation')
15/3:
from fuzzywuzzy import fuzz

fuzz.WRatio('Yemen','Yemen, Rep.')
15/4:
from fuzzywuzzy import fuzz

fuzz.WRatio('Yemen','Yemen')
15/5: world_map['country']
15/6:
import pandas as pd
from pandas_datareader import wb

inflation_consumer_prices = 'FP.CPI.TOTL.ZG'


inflation = wb.download(indicator = inflation_consumer_prices, country = 'all', start= 2019, end= 2019)
inflation
15/7:
inflation = inflation.reset_index(level=['country', 'year'])
inflation
15/8:
import geopandas

world_map = geopandas.read_file(geopandas.datasets.get_path('naturalearth_lowres'))
world_map
15/9: world_map.plot(figsize=(14,5))
15/10:
Antarctica = world_map[world_map['name']=='Antarctica']
Antarctica
15/11:
world_map = world_map[world_map['name']!= 'Antarctica']
world_map
15/12: world_map.plot(figsize=(14,5))
15/13:
world_map = world_map.rename(columns={'name': 'country'})

world_map_inflation = world_map.merge(inflation, on='country',how='outer')
world_map_inflation
15/14:
from fuzzywuzzy import fuzz

fuzz.WRatio('Yemen','Yemen')
15/15: world_map['country']
15/16: world_map_countries= world_map[world_map['country']]
15/17: world_map_countries= world_map.country
15/18:
world_map_countries= world_map.country
world_map_country
15/19:
world_map_countries= world_map.country
world_map_countries
15/20:
inflation_countries = inflation.country
inflation_countries
15/21: inflation.shape[0]
15/22: inflation.shape
15/23: inflation_countries.shape
15/24: inflation_countries.shape[0]
15/25:
from fuzzywuzzy import process

for country in world_map_countries:
    matches = process.extract(country,inflation_countries, limit= inflation_countries.shape[0])
    
    for potential_match in matches:
        if potential_match[1] >= 80:
            inflation_countries.loc[inflation_countries['country']== potential_match[0], 'country']= country
15/26:
from fuzzywuzzy import process

for country in world_map['country']:
    matches = process.extract(country,inflation['country'], limit= inflation.shape[0])
    
    for potential_match in matches:
        if potential_match[1] >= 80:
            inflation.loc[inflation['country']== potential_match[0], 'country']= country
15/27: inflation
15/28: inflation['country'].unique()
15/29: inflation[inflation['country']=='United States of America']
15/30: inflation[inflation['country']=='United States']
15/31:
world_map_inflation = world_map.merge(inflation, on='country',how='outer')
world_map_inflation
15/32: world_map[world_map_inflation['country']== 'United States']
15/33: world_map_inflation[world_map_inflation['country']== 'United States']
15/34: world_map_inflation[world_map_inflation['country']== 'United States of America']
15/35: world_map_inflation[world_map_inflation['country']== 'United States']
15/36: world_map_inflation[world_map_inflation['country']== 'Russian Federation']
15/37: world_map_inflation[world_map_inflation['country']== 'Russia']
15/38: world_map_inflation[world_map_inflation['country']== 'Gambia']
15/39: world_map_inflation[world_map_inflation['country']== 'United States of America']
15/40: world_map = world_map.rename(columns={'name': 'country'})
15/41:
world_map_countries= world_map.country
world_map_countries.unique()
15/42: inflation_countries.unique()
15/43: inflation[inflation['country']== 'United States of America']
15/44:
from fuzzywuzzy import process

for country in world_map['country']:
    matches = process.extract(country,inflation['country'], limit= inflation.shape[0])
    
    for potential_match in matches:
        if potential_match[1] >= 80:
            inflation.loc[inflation['country']== potential_match[0], 'country']= country
15/45:
from fuzzywuzzy import process

for country in world_map['country']:
    matches = process.extract(country,inflation['country'], limit= inflation.shape[0])
    
    for potential_match in matches:
        if potential_match[1] >= 80:
            inflation.loc[inflation['country']== potential_match[0], 'country']= country
return country
15/46:
from fuzzywuzzy import process

for country in world_map['country']:
    matches = process.extract(country,inflation['country'], limit= inflation.shape[0])
    
    for potential_match in matches:
        if potential_match[1] >= 80:
            inflation.loc[inflation['country']== potential_match[0], 'country']= country
    return country
15/47:
from fuzzywuzzy import process

for country in world_map['country']:
    matches = process.extract(country,inflation['country'], limit= inflation.shape[0])
    
    for potential_match in matches:
        if potential_match[1] >= 80:
            inflation.loc[inflation['country']== potential_match[0], 'country']= country
        return country
15/48:
from fuzzywuzzy import process

for country in world_map['country']:
    matches = process.extract(country,inflation['country'], limit= inflation.shape[0])
    
    for potential_match in matches:
        if potential_match[1] >= 80:
            inflation.loc[inflation['country']== potential_match[0], 'country']= country
            return country
15/49:
from fuzzywuzzy import process

for country in world_map['country']:
    matches = process.extract(country,inflation['country'], limit= inflation.shape[0])
    
    for potential_match in matches:
        if potential_match[1] >= 80:
            inflation.loc[inflation['country']== potential_match[0], 'country']= country
            return country
15/50:
from fuzzywuzzy import process

for country in world_map['country']:
    matches = process.extract(country,inflation['country'], limit= inflation.shape[0])
    
    for potential_match in matches:
        if potential_match[1] >= 80:
            inflation.loc[inflation['country']== potential_match[0], 'country']= country
            
            return country
15/51:
from fuzzywuzzy import process

for country in world_map['country']:
    matches = process.extract(country,inflation['country'], limit= inflation.shape[0])
    
    for potential_match in matches:
        if potential_match[1] >= 80:
            inflation.loc[inflation['country']== potential_match[0], 'country']= country
            
             return country
15/52:
from fuzzywuzzy import process

for country in world_map['country']:
    matches = process.extract(country,inflation['country'], limit= inflation.shape[0])
    
    for potential_match in matches:
        if potential_match[1] >= 80:
            inflation.loc[inflation['country']== potential_match[0], 'country']= country
            
return country
15/53:
from fuzzywuzzy import process

for country in world_map['country']:
    matches = process.extract(country,inflation['country'], limit= inflation.shape[0])
    
    for potential_match in matches:
        if potential_match[1] >= 80:
            inflation.loc[inflation['country']== potential_match[0], 'country']= country
15/54: inflation[inflation['country']=='United States of America']
15/55: inflation[inflation['country']=='United States']
15/56:
from fuzzywuzzy import process
from fuzzywuzz import fuzz


def match_term(term,list_names, min_score=0):
    max_score = -1
    max_name= ''
    
    for term2 in list_names:
        score = fuzz.ratio(term, term2)
        if (score > max_score)& (score > min_score):
            max_name = term2
            max_score = score
        return (max_name, max_score)    


    
  for i in inflation['country']:
    print(i, match_term(i, world_map['country'],min_score=80))
15/58:
from fuzzywuzzy import process
from fuzzywuzz import fuzz


def match_term(term,list_names, min_score=0):
    max_score = -1
    max_name= ''
    
    for term2 in list_names:
        score = fuzz.ratio(term, term2)
        if (score > max_score)& (score > min_score):
            max_name = term2
            max_score = score
        return (max_name, max_score)    


    
for i in inflation['country']:
    print(i, match_term(i, world_map['country'],min_score=80))
15/59:
from fuzzywuzzy import process
from fuzzywuzzy import fuzz


def match_term(term,list_names, min_score=0):
    max_score = -1
    max_name= ''
    
    for term2 in list_names:
        score = fuzz.ratio(term, term2)
        if (score > max_score)& (score > min_score):
            max_name = term2
            max_score = score
        return (max_name, max_score)    


    
for i in inflation['country']:
    print(i, match_term(i, world_map['country'],min_score=80))
15/60:
world_map = world_map[world_map['name']!= 'Antarctica']
world_map
15/61:
world_map = world_map[world_map['name']!= 'Antarctica']
world_map
15/62:
import pandas as pd
from pandas_datareader import wb

inflation_consumer_prices = 'FP.CPI.TOTL.ZG'


inflation = wb.download(indicator = inflation_consumer_prices, country = 'all', start= 2019, end= 2019)
inflation
15/63:
inflation = inflation.reset_index(level=['country', 'year'])
inflation
15/64:
inflation = inflation.reset_index(level=['country', 'year'])
inflation.rename(columns={'FP.CPI.TOTL.ZG': 'inflation'})
inflation
15/65:
inflation = inflation.reset_index(level=['country', 'year'])
inflation.rename(columns={'FP.CPI.TOTL.ZG': 'inflation'})
inflation
15/66:
inflation = inflation.reset_index(level=['country', 'year'])

inflation
15/67:

inflation
15/68: inflation
15/69:
import pandas as pd
from pandas_datareader import wb

inflation_consumer_prices = 'FP.CPI.TOTL.ZG'


inflation = wb.download(indicator = inflation_consumer_prices, country = 'all', start= 2019, end= 2019)
inflation
15/70: inflation = inflation.reset_index()
15/71:
inflation = inflation.reset_index()
inflation
15/72:
import pandas as pd
from pandas_datareader import wb

inflation_consumer_prices = 'FP.CPI.TOTL.ZG'


inflation = wb.download(indicator = inflation_consumer_prices, country = 'all', start= 2019, end= 2019)
inflation
15/73:
inflation = inflation.reset_index(level='country','year')
inflation
15/74:
inflation = inflation.reset_index(level=('country','year'))
inflation
15/75:
inflation= inflation.rename(colummns={'FP.CPI.TOTL.ZG': 'inflation'})
inflation
15/76:
inflation= inflation.rename(colummns={'FP.CPI.TOTL.ZG': 'inflation'})
inflation
15/77:
inflation= inflation.rename(colummns={'FP.CPI.TOTL.ZG': 'inflation'})
inflation
15/78:
inflation= inflation.rename(colummns= {'FP.CPI.TOTL.ZG': 'inflation'})
inflation
15/79:
inflation= inflation.rename(colummns={'FP.CPI.TOTL.ZG': 'inflation'})
inflation
15/80:
inflation= inflation.rename(colummn={'FP.CPI.TOTL.ZG': 'inflation'})
inflation
15/81:
inflation = inflation.rename(columns={'FP.CPI.TOTL.ZG': 'inflation'})
inflation
15/82:
import geopandas

world_map = geopandas.read_file(geopandas.datasets.get_path('naturalearth_lowres'))
world_map
15/83: world_map.plot(figsize=(14,5))
15/84:
Antarctica = world_map[world_map['name']=='Antarctica']
Antarctica
15/85:
world_map = world_map[world_map['name']!= 'Antarctica']
world_map
15/86: world_map.plot(figsize=(14,5))
15/87:
from fuzzywuzzy import process
from fuzzywuzzy import fuzz


def match_term(term,list_names, min_score=0):
    max_score = -1
    max_name= ''
    
    for term2 in list_names:
        score = fuzz.ratio(term, term2)
        if (score > max_score)& (score > min_score):
            max_name = term2
            max_score = score
        return (max_name, max_score)    


    
for i in inflation['country']:
    print(i, match_term(i, world_map['name'],min_score=85))
15/88:
from fuzzywuzzy import process
from fuzzywuzzy import fuzz


def match_term(term,list_names, min_score=0):
    max_score = -1
    max_name= ''
    
    for term2 in list_names:
        score = fuzz.ratio(term, term2)
        if (score > max_score)& (score > min_score):
            max_name = term2
            max_score = score
        return (max_name, max_score)    


    
for i in inflation['country']:
    print(i, match_term(i, world_map['name'],min_score=85))
15/89: inflation['country']
15/90: inflation[inflation['country']=='United States']
15/91: fuzz.ratio('United States','United States of America')
15/92: fuzz.Wratio('United States','United States of America')
15/93: fuzz.WRatio('United States','United States of America')
15/94:
from fuzzywuzzy import process
from fuzzywuzzy import fuzz


def match_term(term,list_names, min_score=0):
    max_score = -1
    max_name= ''
    
    for term2 in list_names:
        score = fuzz.WRatio(term, term2)
        if (score > max_score)& (score > min_score):
            max_name = term2
            max_score = score
        return (max_name, max_score)    


    
for i in inflation['country']:
    print(i, match_term(i, world_map['name'],min_score=80))
15/95:
from fuzzywuzzy import process
from fuzzywuzzy import fuzz


def match_term(term,list_names, min_score=0):
    max_score = -1
    max_name= ''
    
    for term2 in list_names:
        score = fuzz.WRatio(term, term2)
        if (score > max_score)& (score > min_score):
            max_name = term2
            max_score = score
        return (max_name, max_score)    


    
for i in inflation['country']:
    print(i, match_term(i, world_map['name'],min_score=60))
15/96:
from fuzzywuzzy import process
from fuzzywuzzy import fuzz

list_1 = inflation['country'].tolist()
list_2= world_map['name'].tolist()


def match_term(term,list_names, min_score=0):
    max_score = -1
    max_name= ''
    
    for term2 in list_names:
        score = fuzz.WRatio(term, term2)
        if (score > max_score)& (score > min_score):
            max_name = term2
            max_score = score
        return (max_name, max_score)    


    
for country in list_1:
    print(country, match_term(country,list_2,80))
15/97:
from fuzzywuzzy import process
from fuzzywuzzy import fuzz

list_1 = inflation['country'].tolist()
list_2= world_map['name'].tolist()


def match_term(term,list_names, min_score=0):
    max_score = -1
    max_name= ''
    
    for term2 in list_names:
        score = fuzz.WRatio(term, term2)
        if (score > max_score)& (score > min_score):
            max_name = term2
            max_score = score
        return (max_name, max_score)    


    
for country in list_1:
    print(country, match_term(country,list_2,80))
15/98:
import pandas as pd
from pandas_datareader import wb

inflation_consumer_prices = 'FP.CPI.TOTL.ZG'


inflation = wb.download(indicator = inflation_consumer_prices, country = 'all', start= 2019, end= 2019)
inflation
15/99:
inflation = inflation.reset_index(level=('country','year'))
inflation
15/100:
inflation = inflation.rename(columns={'FP.CPI.TOTL.ZG': 'inflation'})
inflation
15/101:
import geopandas

world_map = geopandas.read_file(geopandas.datasets.get_path('naturalearth_lowres'))
world_map
15/102: world_map.plot(figsize=(14,5))
15/103:
Antarctica = world_map[world_map['name']=='Antarctica']
Antarctica
15/104:
world_map = world_map[world_map['name']!= 'Antarctica']
world_map
15/105: world_map.plot(figsize=(14,5))
15/106: # world_map = world_map.rename(columns={'name': 'country'})
15/107:
from fuzzywuzzy import process
from fuzzywuzzy import fuzz

list_1 = inflation['country'].tolist()
list_2= world_map['name'].tolist()


# def match_term(term,list_names, min_score=0):
#     max_score = -1
#     max_name= ''
    
#     for term2 in list_names:
#         score = fuzz.WRatio(term, term2)
#         if (score > max_score)& (score > min_score):
#             max_name = term2
#             max_score = score
#         return (max_name, max_score)    


    
# for country in list_1:
#     print(country, match_term(country,list_2,80))
    
    
    
def get_matches(query, choices, limit= 3) 
    results = process.extract(query, choices, limit=limit)
    return results

get_matches('United States', list_2)
15/108:
from fuzzywuzzy import process
from fuzzywuzzy import fuzz

list_1 = inflation['country'].tolist()
list_2= world_map['name'].tolist()


# def match_term(term,list_names, min_score=0):
#     max_score = -1
#     max_name= ''
    
#     for term2 in list_names:
#         score = fuzz.WRatio(term, term2)
#         if (score > max_score)& (score > min_score):
#             max_name = term2
#             max_score = score
#         return (max_name, max_score)    


    
# for country in list_1:
#     print(country, match_term(country,list_2,80))
    
    
    
def get_matches(query,choices, limit= 3) 
    results = process.extract(query, choices, limit=limit)
    return results

get_matches('United States', list_2)
15/109:
from fuzzywuzzy import process
from fuzzywuzzy import fuzz

list_1 = inflation['country'].tolist()
list_2= world_map['name'].tolist()


# def match_term(term,list_names, min_score=0):
#     max_score = -1
#     max_name= ''
    
#     for term2 in list_names:
#         score = fuzz.WRatio(term, term2)
#         if (score > max_score)& (score > min_score):
#             max_name = term2
#             max_score = score
#         return (max_name, max_score)    


    
# for country in list_1:
#     print(country, match_term(country,list_2,80))
    
    
    
def get_matches(query,choices, limit= 3): 
    results = process.extract(query, choices, limit=limit)
    return results

get_matches('United States', list_2)
15/110: inflation[inflation['country']=='United States']
15/111: fuzz.WRatio('United States','United States of America')
15/112:
from fuzzywuzzy import process
from fuzzywuzzy import fuzz


    
 def get_matches(df,df2,column,column2,limit=3)   

    
    for country in df[column]:
    
        matches = process.extract(country, df2[column2], limit=limit)
    
        for potential_match in matches:
        
           if potential_match[1] >= 80:
             
             df2.loc[df2[column2]== potential_match[0], column2] = country                                       
            
             return country
             
get_matches(world_map,inflation,'name','country')
15/113:
from fuzzywuzzy import process
from fuzzywuzzy import fuzz


    
def get_matches(df,df2,column,column2,limit=3)   

    for country in df[column]:
    
        matches = process.extract(country, df2[column2], limit=limit)
    
        for potential_match in matches:
        
           if potential_match[1] >= 80:
             
             df2.loc[df2[column2]== potential_match[0], column2] = country                                       
            
             return country
             

                

get_matches(world_map,inflation,'name','country')
15/114:
from fuzzywuzzy import process
from fuzzywuzzy import fuzz


    
def get_matches(df,df2,column,column2,limit=3):   

    for country in df[column]:
    
        matches = process.extract(country, df2[column2], limit=limit)
    
        for potential_match in matches:
        
           if potential_match[1] >= 80:
             
             df2.loc[df2[column2]== potential_match[0], column2] = country                                       
            
             return country
             

                

get_matches(world_map,inflation,'name','country')
15/115:
from fuzzywuzzy import process
from fuzzywuzzy import fuzz


    
def get_matches(df,df2,column,column2,limit=3):   

    for country in df[column]:
    
        matches = process.extract(country, df2[column2], limit=limit)
    
        for potential_match in matches:
        
           if potential_match[1] >= 70:
             
             df2.loc[df2[column2]== potential_match[0], column2] = country                                       
            
             return country
             

                

get_matches(world_map,inflation,'name','country')
15/116:
from fuzzywuzzy import process
from fuzzywuzzy import fuzz


    
def get_matches(df,df2,column,column2,limit=3):   

    for country in df[column]:
    
        matches = process.extract(country, df2[column2], limit=limit)
    
        for potential_match in matches:
        
           if potential_match[1] >= 70:
             
             df2.loc[df2[column2]== potential_match[0], column2] = country                                       
            
             return country
             

                

get_matches(world_map,inflation,'name','country')
15/117:
from fuzzywuzzy import process
from fuzzywuzzy import fuzz


    
def get_matches(df,df2,column,column2,limit=3):   

    for country in df[column]:
    
        matches = process.extract(country, df2[column2], limit=limit)
    
        for potential_match in matches:
        
           if potential_match[1] >= 60:
             
             df2.loc[df2[column2]== potential_match[0], column2] = country                                       
            
             return country
             

                

get_matches(world_map,inflation,'name','country')
15/118:
from fuzzywuzzy import process
from fuzzywuzzy import fuzz


    
def get_matches(df,df2,column,column2,limit=3):   

    for country in df[column]:
    
        matches = process.extract(country, df2[column2], limit=limit)
    
        for potential_match in matches:
        
           if potential_match[1] >= 20:
             
             df2.loc[df2[column2]== potential_match[0], column2] = country                                       
            
             return country
             

                

get_matches(world_map,inflation,'name','country')
15/119:
from fuzzywuzzy import process
from fuzzywuzzy import fuzz


    


    for country in world_map['name']:
    
        matches = process.extract(country,inflation['country'], limit=3)
    
        for potential_match in matches:
        
           if potential_match[1] >= 80:
             
             inflation.loc[inflation['country']== potential_match[0], 'country'] = country
15/120:
from fuzzywuzzy import process
from fuzzywuzzy import fuzz


    


for country in world_map['name']:
    
    matches = process.extract(country,inflation['country'], limit=3)
    
    for potential_match in matches:
        
        if potential_match[1] >= 80:
             
            inflation.loc[inflation['country']== potential_match[0], 'country'] = country
15/121: inflation[inflation['United States of America']]
15/122: inflation[inflation['country']=='United States of America']
15/123: inflation[inflation['country']=='United States']
15/124: inflation[inflation['country']=='United States']
15/125: inflation
15/126: inflation.country.unique()
15/127: inflation[inflation['country']== 'Russia']
15/128: world_map[world_map['name']== 'Russia']
15/129: world_map[world_map['name']== 'United States of America']
15/130: inflation[inflation['country']== 'United States of America']
15/131: inflation[inflation['country']=='United States of America']
15/132:
import pandas as pd
from pandas_datareader import wb

inflation_consumer_prices = 'FP.CPI.TOTL.ZG'


inflation = wb.download(indicator = inflation_consumer_prices, country = 'all', start= 2019, end= 2019)
inflation
15/133:
inflation = inflation.reset_index(level=('country','year'))
inflation
15/134:
inflation = inflation.rename(columns={'FP.CPI.TOTL.ZG': 'inflation'})
inflation
15/135:
import geopandas

world_map = geopandas.read_file(geopandas.datasets.get_path('naturalearth_lowres'))
world_map
15/136: world_map.plot(figsize=(14,5))
15/137:
Antarctica = world_map[world_map['name']=='Antarctica']
Antarctica
15/138:
world_map = world_map[world_map['name']!= 'Antarctica']
world_map
15/139: world_map.plot(figsize=(14,5))
15/140: # world_map = world_map.rename(columns={'name': 'country'})
15/141:
from fuzzywuzzy import process
from fuzzywuzzy import fuzz


    


# for country in world_map['name']:
    
#     matches = process.extract(country,inflation['country'], limit=3)
    
#     for potential_match in matches:
        
#         if potential_match[1] >= 80:
             
#             inflation.loc[inflation['country']== potential_match[0],'country'] = country                                       
            

    
    
    
def fuzzy_merge(df_1, df_2, key1, key2, threshold=90, limit=2):
    
    s = df_2[key2].tolist()
    m = df_1[key1].apply(lambda x: process.extract(x, s, limit=limit))    
    df_1['matches'] = m
    m2 = df_1['matches'].apply(lambda x: ', '.join([i[0] for i in x if i[1] >= threshold]))
    df_1['matches'] = m2
    return df_1
             
fuzzy_merge(world_map,inflation,'name','country',threshold=80)
15/142:
from fuzzywuzzy import process
from fuzzywuzzy import fuzz


    


# for country in world_map['name']:
    
#     matches = process.extract(country,inflation['country'], limit=3)
    
#     for potential_match in matches:
        
#         if potential_match[1] >= 80:
             
#             inflation.loc[inflation['country']== potential_match[0],'country'] = country                                       
            

    
    
    
def fuzzy_merge(df_1, df_2, key1, key2, threshold=90, limit=2):
    
    s = df_2[key2].tolist()
    m = df_1[key1].apply(lambda x: process.extract(x, s, limit=limit))    
    df_1['matches'] = m
    m2 = df_1['matches'].apply(lambda x: ', '.join([i[0] for i in x if i[1] >= threshold]))
    df_1['matches'] = m2
    return df_1
             
fuzzy_merge(world_map,inflation,'name','country',threshold=90)
15/143:





for country in fuzzy_merged['name']:
    if fuzzy_merged.loc[fuzzy_merged['name']==country,'matches']= Nan:
        fuzzy_merged.loc[fuzzy_merged['name']== country,'name']= country
    else:
        fuzzy_merged.loc[fuzzy_merged['name']== country,'name']= fuzzy_merged.loc[fuzzy_merged['name']==country,'matches']
        

        
fuzzy_merged
15/144:





for country in fuzzy_merged['name']:
    if fuzzy_merged.loc[fuzzy_merged['name']==country,'matches']== Nan:
        fuzzy_merged.loc[fuzzy_merged['name']== country,'name']= country
    else:
        fuzzy_merged.loc[fuzzy_merged['name']== country,'name']= fuzzy_merged.loc[fuzzy_merged['name']==country,'matches']
        

        
fuzzy_merged
15/145:
from fuzzywuzzy import process
from fuzzywuzzy import fuzz


    


# for country in world_map['name']:
    
#     matches = process.extract(country,inflation['country'], limit=3)
    
#     for potential_match in matches:
        
#         if potential_match[1] >= 80:
             
#             inflation.loc[inflation['country']== potential_match[0],'country'] = country                                       
            

    
    
    
def fuzzy_merge(df_1, df_2, key1, key2, threshold=90, limit=2):
    
    s = df_2[key2].tolist()
    m = df_1[key1].apply(lambda x: process.extract(x, s, limit=limit))    
    df_1['matches'] = m
    m2 = df_1['matches'].apply(lambda x: ', '.join([i[0] for i in x if i[1] >= threshold]))
    df_1['matches'] = m2
    df_1.loc[]
    return df_1
             
fuzzy_merged= fuzzy_merge(world_map,inflation,'name','country',threshold=90)
15/146:
from fuzzywuzzy import process
from fuzzywuzzy import fuzz


    


# for country in world_map['name']:
    
#     matches = process.extract(country,inflation['country'], limit=3)
    
#     for potential_match in matches:
        
#         if potential_match[1] >= 80:
             
#             inflation.loc[inflation['country']== potential_match[0],'country'] = country                                       
            

    
    
    
def fuzzy_merge(df_1, df_2, key1, key2, threshold=90, limit=2):
    
    s = df_2[key2].tolist()
    m = df_1[key1].apply(lambda x: process.extract(x, s, limit=limit))    
    df_1['matches'] = m
    m2 = df_1['matches'].apply(lambda x: ', '.join([i[0] for i in x if i[1] >= threshold]))
    df_1['matches'] = m2
    
    return df_1
             
fuzzy_merged= fuzzy_merge(world_map,inflation,'name','country',threshold=90)
15/147:
from fuzzywuzzy import process
from fuzzywuzzy import fuzz


    


# for country in world_map['name']:
    
#     matches = process.extract(country,inflation['country'], limit=3)
    
#     for potential_match in matches:
        
#         if potential_match[1] >= 80:
             
#             inflation.loc[inflation['country']== potential_match[0],'country'] = country                                       
            

    
    
    
def fuzzy_merge(df_1, df_2, key1, key2, threshold=90, limit=2):
    
    s = df_2[key2].tolist()
    m = df_1[key1].apply(lambda x: process.extract(x, s, limit=limit))    
    df_1['matches'] = m
    m2 = df_1['matches'].apply(lambda x: ', '.join([i[0] for i in x if i[1] >= threshold]))
    df_1['matches'] = m2
    
    return df_1
             
fuzzy_merged = fuzzy_merge(world_map,inflation,'name','country',threshold=90)
15/148:
from fuzzywuzzy import process
from fuzzywuzzy import fuzz


    


# for country in world_map['name']:
    
#     matches = process.extract(country,inflation['country'], limit=3)
    
#     for potential_match in matches:
        
#         if potential_match[1] >= 80:
             
#             inflation.loc[inflation['country']== potential_match[0],'country'] = country                                       
            

    
    
    
def fuzzy_merge(df_1, df_2, key1, key2, threshold=90, limit=2):
    
    s = df_2[key2].tolist()
    m = df_1[key1].apply(lambda x: process.extract(x, s, limit=limit))    
    df_1['matches'] = m
    m2 = df_1['matches'].apply(lambda x: ', '.join([i[0] for i in x if i[1] >= threshold]))
    df_1['matches'] = m2
    
    return df_1
             
fuzzy_merged = fuzzy_merge(world_map,inflation,'name','country',threshold=90)
15/149:





for country in fuzzy_merged['name']:
    if fuzzy_merged.loc[fuzzy_merged['name']==country,'matches']== Nan:
        fuzzy_merged.loc[fuzzy_merged['name']== country,'name']= country
    else:
        fuzzy_merged.loc[fuzzy_merged['name']== country,'name']= fuzzy_merged.loc[fuzzy_merged['name']==country,'matches']
        

        
fuzzy_merged
15/150:
from fuzzywuzzy import process
from fuzzywuzzy import fuzz


    


# for country in world_map['name']:
    
#     matches = process.extract(country,inflation['country'], limit=3)
    
#     for potential_match in matches:
        
#         if potential_match[1] >= 80:
             
#             inflation.loc[inflation['country']== potential_match[0],'country'] = country                                       
            

    
    
    
def fuzzy_merge(df_1, df_2, key1, key2, threshold=90, limit=2):
    
    s = df_2[key2].tolist()
    m = df_1[key1].apply(lambda x: process.extract(x, s, limit=limit))    
    df_1['matches'] = m
    m2 = df_1['matches'].apply(lambda x: ', '.join([i[0] for i in x if i[1] >= threshold]))
    df_1['matches'] = m2
    
    return df_1
             
fuzzy_merged = fuzzy_merge(world_map,inflation,'name','country',threshold=90)
15/151:
from fuzzywuzzy import process
from fuzzywuzzy import fuzz


    


# for country in world_map['name']:
    
#     matches = process.extract(country,inflation['country'], limit=3)
    
#     for potential_match in matches:
        
#         if potential_match[1] >= 80:
             
#             inflation.loc[inflation['country']== potential_match[0],'country'] = country                                       
            

    
    
    
def fuzzy_merge(df_1, df_2, key1, key2, threshold=90, limit=2):
    
    s = df_2[key2].tolist()
    m = df_1[key1].apply(lambda x: process.extract(x, s, limit=limit))    
    df_1['matches'] = m
    m2 = df_1['matches'].apply(lambda x: ', '.join([i[0] for i in x if i[1] >= threshold]))
    df_1['matches'] = m2
    
    return df_1
             
fuzzy_merged = fuzzy_merge(world_map,inflation,'name','country',threshold=90)
15/152:
from fuzzywuzzy import process
from fuzzywuzzy import fuzz


    


# for country in world_map['name']:
    
#     matches = process.extract(country,inflation['country'], limit=3)
    
#     for potential_match in matches:
        
#         if potential_match[1] >= 80:
             
#             inflation.loc[inflation['country']== potential_match[0],'country'] = country                                       
            

    
    
    
def fuzzy_merge(df_1, df_2, key1, key2, threshold=90, limit=2):
    
    s = df_2[key2].tolist()
    m = df_1[key1].apply(lambda x: process.extract(x, s, limit=limit))    
    df_1['matches'] = m
    m2 = df_1['matches'].apply(lambda x: ', '.join([i[0] for i in x if i[1] >= threshold]))
    df_1['matches'] = m2
    
    return df_1
             
fuzzy_merged = fuzzy_merge(world_map,inflation,'name','country',threshold=90)
15/153:
from fuzzywuzzy import process
from fuzzywuzzy import fuzz


    


# for country in world_map['name']:
    
#     matches = process.extract(country,inflation['country'], limit=3)
    
#     for potential_match in matches:
        
#         if potential_match[1] >= 80:
             
#             inflation.loc[inflation['country']== potential_match[0],'country'] = country                                       
            

    
    
    
def fuzzy_merge(df_1, df_2, key1, key2, threshold=90, limit=2):
    
    for country in df_1[key1]:
        matches = process.extract(country,df_2[key2], limit=limit)
        
        for potential_matches in matches:
            if threshold >= threshold:
                df_2.loc[df_2[key2]==potential_match,key2]= country
                
    
    
    
    
             
fuzzy_merged = fuzzy_merge(world_map,inflation,'name','country',threshold=90)
15/154:
from fuzzywuzzy import process
from fuzzywuzzy import fuzz


    


# for country in world_map['name']:
    
#     matches = process.extract(country,inflation['country'], limit=3)
    
#     for potential_match in matches:
        
#         if potential_match[1] >= 80:
             
#             inflation.loc[inflation['country']== potential_match[0],'country'] = country                                       
            

    
    
    
def fuzzy_merge(df_1, df_2, key1, key2, threshold=90, limit=2):
    
    for country in df_1[key1]:
        matches = process.extract(country,df_2[key2], limit=limit)
        
        for potential_matches in matches:
            if threshold >= threshold:
                df_2.loc[df_2[key2]==potential_match,key2]= country
                
    
    
    
    
             
fuzzy_merged = fuzzy_merge(world_map,inflation,'name','country',threshold=90)

                
fuzzy_merged
15/155:
from fuzzywuzzy import process
from fuzzywuzzy import fuzz


    


# for country in world_map['name']:
    
#     matches = process.extract(country,inflation['country'], limit=3)
    
#     for potential_match in matches:
        
#         if potential_match[1] >= 80:
             
#             inflation.loc[inflation['country']== potential_match[0],'country'] = country                                       
            

    
    
    
def fuzzy_merge(df_1, df_2, key1, key2, threshold=90, limit=2):
    
    for country in df_1[key1]:
        matches = process.extract(country,df_2[key2], limit=limit)
        
        for potential_matches in matches:
            if threshold >= threshold:
                df_2.loc[df_2[key2]==potential_match,key2]= country
                
    
    
    
    
             
fuzzy_merged = fuzzy_merge(world_map,inflation,'name','country',threshold=90)

                
fuzzy_merged
15/156:
from fuzzywuzzy import process
from fuzzywuzzy import fuzz


    


# for country in world_map['name']:
    
#     matches = process.extract(country,inflation['country'], limit=3)
    
#     for potential_match in matches:
        
#         if potential_match[1] >= 80:
             
#             inflation.loc[inflation['country']== potential_match[0],'country'] = country                                       
            

    
    
    
def fuzzy_merge(df_1, df_2, key1, key2, threshold=90, limit=2):
    
    for country in df_1[key1]:
        matches = process.extract(country,df_2[key2], limit=limit)
        
        for potential_matches in matches:
            if threshold >= threshold:
                df_2.loc[df_2[key2]==potential_match,key2]= country
                
    
    
    
    
             
fuzzy_merged = fuzzy_merge(world_map,inflation,'name','country',threshold=90)

                
fuzzy_merged
15/157:
from fuzzywuzzy import process
from fuzzywuzzy import fuzz


    


# for country in world_map['name']:
    
#     matches = process.extract(country,inflation['country'], limit=3)
    
#     for potential_match in matches:
        
#         if potential_match[1] >= 80:
             
#             inflation.loc[inflation['country']== potential_match[0],'country'] = country                                       
            

    
    
    
def fuzzy_merge(df_1, df_2, key1, key2, threshold=90, limit=2):
    
    for country in df_1[key1]:
        matches = process.extract(country,df_2[key2], limit=limit)
        
        for potential_matches in matches:
            if threshold >= threshold:
                df_2.loc[df_2[key2]==potential_match,key2]= country
                
    
    
    
    
             
fuzzy_merged = fuzzy_merge(world_map,inflation,'name','country',threshold=90)

                
fuzzy_merged
15/158:
from fuzzywuzzy import process
from fuzzywuzzy import fuzz


    


# for country in world_map['name']:
    
#     matches = process.extract(country,inflation['country'], limit=3)
    
#     for potential_match in matches:
        
#         if potential_match[1] >= 80:
             
#             inflation.loc[inflation['country']== potential_match[0],'country'] = country                                       
            

    
    
    
def fuzzy_merge(df_1, df_2, key1, key2, threshold=90, limit=2):
    
    for country in df_1[key1]:
        matches = process.extract(country,df_2[key2], limit=limit)
        
        for potential_matches in matches:
            if threshold >= threshold:
                df_2.loc[df_2[key2]==potential_match,key2]= country
                
    
    
    
    
             
fuzzy_merged = fuzzy_merge(world_map,inflation,'name','country',threshold=90)

                
fuzzy_merged
15/159:
from fuzzywuzzy import process
from fuzzywuzzy import fuzz


    


# for country in world_map['name']:
    
#     matches = process.extract(country,inflation['country'], limit=3)
    
#     for potential_match in matches:
        
#         if potential_match[1] >= 80:
             
#             inflation.loc[inflation['country']== potential_match[0],'country'] = country                                       
            

    
    
    
def fuzzy_merge(df_1, df_2, key1, key2, threshold=90, limit=2):
    
    for country in df_1[key1]:
        matches = process.extract(country,df_2[key2], limit=limit)
        
        for potential_matches in matches:
            if threshold >= threshold:
                df_2.loc[df_2[key2]==potential_match,key2]= country
                
    
    
    
    
             
fuzzy_merged = fuzzy_merge(world_map,inflation,'name','country',threshold=90)

                
fuzzy_merged
15/160:
import pandas as pd
from pandas_datareader import wb

inflation_consumer_prices = 'FP.CPI.TOTL.ZG'


inflation = wb.download(indicator = inflation_consumer_prices, country = 'all', start= 2019, end= 2019)
inflation
15/161:
inflation = inflation.reset_index(level=('country','year'))
inflation
15/162:
inflation = inflation.rename(columns={'FP.CPI.TOTL.ZG': 'inflation'})
inflation
15/163:
import geopandas

world_map = geopandas.read_file(geopandas.datasets.get_path('naturalearth_lowres'))
world_map
15/164: world_map.plot(figsize=(14,5))
15/165:
Antarctica = world_map[world_map['name']=='Antarctica']
Antarctica
15/166:
world_map = world_map[world_map['name']!= 'Antarctica']
world_map
15/167: world_map.plot(figsize=(14,5))
15/168: # world_map = world_map.rename(columns={'name': 'country'})
15/169:
from fuzzywuzzy import process
from fuzzywuzzy import fuzz


    


# for country in world_map['name']:
    
#     matches = process.extract(country,inflation['country'], limit=3)
    
#     for potential_match in matches:
        
#         if potential_match[1] >= 80:
             
#             inflation.loc[inflation['country']== potential_match[0],'country'] = country                                       
            

    
    
    
def fuzzy_merge(df_1, df_2, key1, key2, threshold=90, limit=2):
    
    for country in df_1[key1]:
        matches = process.extract(country,df_2[key2], limit=limit)
        
        for potential_matches in matches:
            if threshold >= threshold:
                df_2.loc[df_2[key2]==potential_match,key2]= country
                
    
    
    
    
             
fuzzy_merged = fuzzy_merge(world_map,inflation,'name','country',threshold=90)

                
fuzzy_merged
15/170:
from fuzzywuzzy import process
from fuzzywuzzy import fuzz


    


# for country in world_map['name']:
    
#     matches = process.extract(country,inflation['country'], limit=3)
    
#     for potential_match in matches:
        
#         if potential_match[1] >= 80:
             
#             inflation.loc[inflation['country']== potential_match[0],'country'] = country                                       
            

    
    
    
def fuzzy_merge(df_1, df_2, key1, key2, threshold=90, limit=2):
    
    for country in df_1[key1]:
        matches = process.extract(country,df_2[key2], limit=limit)
        
        for potential_matches in matches:
            if threshold >= threshold:
                df_2.loc[df_2[key2]==potential_match,key2]= country
                
    
    
    
    
             
fuzzy_merged = fuzzy_merge(world_map,inflation,'name','country',threshold=90)

                
fuzzy_merged
15/171:
from fuzzywuzzy import process
from fuzzywuzzy import fuzz


    


# for country in world_map['name']:
    
#     matches = process.extract(country,inflation['country'], limit=3)
    
#     for potential_match in matches:
        
#         if potential_match[1] >= 80:
             
#             inflation.loc[inflation['country']== potential_match[0],'country'] = country                                       
            

    
    
    
def fuzzy_merge(df_1, df_2, key1, key2, threshold=90, limit=2):
    
    for country in df_1[key1]:
        matches = process.extract(country,df_2[key2], limit=limit)
        
        for potential_matches in matches:
            if threshold >= threshold:
                df_2.loc[df_2[key2]==potential_match,key2]= country
                
    
    
    
    
             
fuzzy_merged = fuzzy_merge(world_map,inflation,'name','country',threshold=90)

                
fuzzy_merged
15/172:
from fuzzywuzzy import process
from fuzzywuzzy import fuzz


    



    
    
    
def fuzzy_merge(df_1, df_2, key1, key2, threshold=90, limit=2):
    
    for country in df_1[key1]:
        matches = process.extract(country,df_2[key2], limit=limit)
        
        for potential_matches in matches:
            if threshold >= threshold:
                df_2.loc[df_2[key2]==potential_match,key2]= country
                
    
    
    
fuzzy_merged = fuzzy_merge(world_map, inflation, 'name','country')    
             
fuzzy_merged
15/173:
from fuzzywuzzy import process
from fuzzywuzzy import fuzz


    



    
    
    
def fuzzy_merge(df_1, df_2, key1, key2, threshold=90, limit=2):
    
    for country in df_1[key1]:
        matches = process.extract(country,df_2[key2], limit=limit)
        
        for potential_matches in matches:
            if threshold >= threshold:
                df_2.loc[df_2[key2]==potential_match,key2]= country
                
    
    
    
fuzzy_merged = fuzzy_merge(world_map, inflation, 'name','country')    
             
fuzzy_merged
15/174:
from fuzzywuzzy import process
from fuzzywuzzy import fuzz


    



    
    
    
def fuzzy_merge(df_1, df_2, key1, key2, threshold=90, limit=2):
    
    for country in df_1[key1]:
        matches = process.extract(country,df_2[key2], limit=limit)
        
        for potential_matches in matches:
            if threshold >= threshold:
                df_2.loc[df_2[key2]==potential_match,key2]= country
                
    
    
    
fuzzy_merged = fuzzy_merge(world_map, inflation, 'name','country')    
             
fuzzy_merged
15/175:
from fuzzywuzzy import process
from fuzzywuzzy import fuzz


    



    
    
    
def fuzzy_merge(df_1, df_2, key1, key2, threshold=90, limit=2):
    
    for country in df_1[key1]:
        matches = process.extract(country,df_2[key2], limit=limit)
        
        for potential_matches in matches:
            if threshold >= threshold:
                df_2.loc[df_2[key2]==potential_match,key2]= country
                
    
    
    
fuzzy_merged = fuzzy_merge(world_map, inflation, 'name','country')    
             
fuzzy_merged
15/176: world_map
15/177:
from fuzzywuzzy import process
from fuzzywuzzy import fuzz


    



    
    
    
def fuzzy_merge(df_1, df_2, key1, key2, threshold=90, limit=2):
    
    for country in df_1[key1]:
        matches = process.extract(country,df_2[key2], limit=limit)
        
        for potential_matches in matches:
            if threshold >= threshold:
                df_2.loc[df_2[key2]==potential_match,key2]= country
                 
    
    
    
fuzzy_merged = fuzzy_merge(world_map, inflation, 'name','country')    
             
inflation
15/178:
from fuzzywuzzy import process
from fuzzywuzzy import fuzz


    



    
    
    
def fuzzy_merge(df_1, df_2, key1, key2, threshold=90, limit=2):
    
    for country in df_1[key1]:
        matches = process.extract(country,df_2[key2], limit=limit)
        
        for potential_matches in matches:
            if threshold >= threshold:
                df_2.loc[df_2[key2]==potential_match,key2]= country
                 
    
    
    
fuzzy_merged = fuzzy_merge(world_map, inflation, 'name','country')    
             
inflation[inflation['country']== 'United States of America']
15/179:
from fuzzywuzzy import process
from fuzzywuzzy import fuzz


    



    
    
    
def fuzzy_merge(df_1, df_2, key1, key2, threshold=90, limit=2):
    
    for country in df_1[key1]:
        matches = process.extract(country,df_2[key2], limit=limit)
        
        for potential_matches in matches:
            if threshold >= threshold:
                df_2.loc[df_2[key2]==potential_match,key2]= country
                 
    
    
    
fuzzy_merged = fuzzy_merge(world_map, inflation, 'name','country')    
             
inflation[inflation['country']== 'United States of America']
15/180:
from fuzzywuzzy import process
from fuzzywuzzy import fuzz


    



    
    
    
def fuzzy_merge(df_1, df_2, key1, key2, threshold=90, limit=2):
    
    for country in df_1[key1]:
        matches = process.extract(country,df_2[key2], limit=limit)
        
        for potential_matches in matches:
            if threshold >= threshold:
                df_2.loc[df_2[key2]==potential_match,key2]= country
                 
    
    
    
fuzzy_merged = fuzzy_merge(world_map, inflation, 'name','country')    
             
inflation[inflation['country']== 'United States']
15/181:
from fuzzywuzzy import process
from fuzzywuzzy import fuzz


    



    
    
    
def fuzzy_merge(df_1, df_2, key1, key2, threshold=90, limit=2):
    
    for country in df_1[key1]:
        matches = process.extract(country,df_2[key2], limit=limit)
        
        for potential_matches in matches:
            if threshold >= threshold:
                df_2.loc[df_2[key2]==potential_match,key2]= country
                 
    
    
    
fuzzy_merged = fuzzy_merge(world_map, inflation, 'name','country')    
             
[inflation['country'].unique()
15/182:
from fuzzywuzzy import process
from fuzzywuzzy import fuzz


    



    
    
    
def fuzzy_merge(df_1, df_2, key1, key2, threshold=90, limit=2):
    
    for country in df_1[key1]:
        matches = process.extract(country,df_2[key2], limit=limit)
        
        for potential_matches in matches:
            if threshold >= threshold:
                df_2.loc[df_2[key2]==potential_match,key2]= country
                 
    
    
    
fuzzy_merged = fuzzy_merge(world_map, inflation, 'name','country')    
             
inflation['country'].unique()
15/183:
from fuzzywuzzy import process
from fuzzywuzzy import fuzz


    



    
    
    
def fuzzy_merge(df_1, df_2, key1, key2, threshold=90, limit=2):
    
    for country in df_1[key1]:
        matches = process.extract(country,df_2[key2], limit=limit)
        
        for potential_matches in matches:
            if threshold >= threshold:
                df_2.loc[df_2[key2]==potential_match,key2]= country
                 
    
    
    
fuzzy_merged = fuzzy_merge(world_map, inflation, 'name','country')
15/184: inflation[inflation['country']== 'United States of America']
15/185:
from fuzzywuzzy import process
from fuzzywuzzy import fuzz


    



    
    
    
def fuzzy_merge(df_1, df_2, key1, key2, threshold=90, limit=2):
    
    for country in df_1[key1]:
        matches = process.extract(country,df_2[key2], limit=limit)
        
        for potential_matches in matches:
            if threshold >= threshold:
                df_2.loc[df_2[key2]==potential_match,key2]= country
                 
        return df_1.join(df_2, how='outer')
    
    
fuzzy_merged = fuzzy_merge(world_map, inflation, 'name','country')
15/186:
from fuzzywuzzy import process
from fuzzywuzzy import fuzz


    



    
    
    
def fuzzy_merge(df_1, df_2, key1, key2, threshold=90, limit=2):
    
    for country in df_1[key1]:
        matches = process.extract(country,df_2[key2], limit=limit)
        
        for potential_matches in matches:
            if threshold >= threshold:
                df_2.loc[df_2[key2]==potential_match,key2]= country
                 
        return df_1.join(df_2, how='outer')
    
    
fuzzy_merged = fuzzy_merge(world_map, inflation, 'name','country')
15/187:
from fuzzywuzzy import process
from fuzzywuzzy import fuzz


    



    
    
    
def fuzzy_merge(df_1, df_2, key1, key2, threshold=90, limit=2):
    
    for country in df_1[key1]:
        matches = process.extract(country,df_2[key2], limit=limit)
        
        for potential_matches in matches:
            if threshold >= threshold:
                df_2.loc[df_2[key2]==potential_match,key2]= country
                 
        return df_1.join(df_2, how='outer')
    
    
fuzzy_merged = fuzzy_merge(world_map, inflation, 'name','country')
15/188:
from fuzzywuzzy import process
from fuzzywuzzy import fuzz


    



    
    
    
def fuzzy_merge(df_1, df_2, key1, key2, threshold=90, limit=2):
    
    for country in df_1[key1]:
        matches = process.extract(country,df_2[key2], limit=limit)
        
        for potential_matches in matches:
            if threshold >= threshold:
                df_2.loc[df_2[key2]==potential_match,key2]= country
                 
        return df_1.join(df_2, how='outer')
    
    
fuzzy_merged = fuzzy_merge(world_map, inflation, 'name','country')    
             
fuzzy_merged
15/189:
from fuzzywuzzy import process
from fuzzywuzzy import fuzz


    



    
    
    
def fuzzy_merge(df_1, df_2, key1, key2, threshold=90, limit=2):
    
    for country in df_1[key1]:
        matches = process.extract(country,df_2[key2], limit=limit)
        
        for potential_matches in matches:
            if threshold >= threshold:
                df_2.loc[df_2[key2]==potential_match,key2]= country
                 
        return df_2
    
    
fuzzy_merged = fuzzy_merge(world_map, inflation, 'name','country')    
             
fuzzy_merged
15/190: inflation[inflation['country']== 'Russia']
15/191: inflation[inflation['country']== 'United States of America']
15/192:
from fuzzywuzzy import process
from fuzzywuzzy import fuzz


    



    
    
    
def fuzzy_merge(df_1, df_2, key1, key2, threshold=90, limit=2):
    
    for country in df_1[key1]:
        matches = process.extract(country,df_2[key2], limit=limit)
        
        for potential_matches in matches:
            if threshold >= threshold:
                df_2.loc[df_2[key2]==potential_match[1],key2]= country
                 
        return df_2
    
    
fuzzy_merged = fuzzy_merge(world_map, inflation, 'name','country')    
             
fuzzy_merged
15/193: inflation[inflation['country']=='United States of America']
15/194:
from fuzzywuzzy import process
from fuzzywuzzy import fuzz


    



    
# def fuzzy_remap(df_1, df_2, key1, key2, threshold=90, limit=2):    
    
#     s = df_2[key2].tolist()
    
#     m = df_1[key1].apply(lambda x: process.extract(x, s, limit=limit))    
#     df_1['matches'] = m
    
#     m2 = df_1['matches'].apply(lambda x: ', '.join([i[0] for i in x if i[1] >= threshold]))
#     df_1['matches'] = m2
    
#     return df_1
   
 


 def fuzzy_remap(df_1, df_2, key1, key2, threshold=90, limit=2):
    
    for country in df_1[key1]:
        matches = process.extract(country,df_2[key2], limit=limit)
        
        for potential_matches in matches:
            if threshold >= threshold:
                df_2.loc[df_2[key2]==potential_match[1],key2]= country
                 
    return df_2


fuzz_remap(world_map,inflation,'name','country')
15/195:
from fuzzywuzzy import process
from fuzzywuzzy import fuzz


    



    
# def fuzzy_remap(df_1, df_2, key1, key2, threshold=90, limit=2):    
    
#     s = df_2[key2].tolist()
    
#     m = df_1[key1].apply(lambda x: process.extract(x, s, limit=limit))    
#     df_1['matches'] = m
    
#     m2 = df_1['matches'].apply(lambda x: ', '.join([i[0] for i in x if i[1] >= threshold]))
#     df_1['matches'] = m2
    
#     return df_1
   
 


def fuzzy_remap(df_1, df_2, key1, key2, threshold=90, limit=2):
    
    for country in df_1[key1]:
        matches = process.extract(country,df_2[key2], limit=limit)
        
        for potential_matches in matches:
            if threshold >= threshold:
                df_2.loc[df_2[key2]==potential_match[1],key2]= country
                 
    return df_2


fuzz_remap(world_map,inflation,'name','country')
15/196:
from fuzzywuzzy import process
from fuzzywuzzy import fuzz


    



    
# def fuzzy_remap(df_1, df_2, key1, key2, threshold=90, limit=2):    
    
#     s = df_2[key2].tolist()
    
#     m = df_1[key1].apply(lambda x: process.extract(x, s, limit=limit))    
#     df_1['matches'] = m
    
#     m2 = df_1['matches'].apply(lambda x: ', '.join([i[0] for i in x if i[1] >= threshold]))
#     df_1['matches'] = m2
    
#     return df_1
   
 

 def fuzzy_remap(df_1, df_2, key1, key2, threshold=90, limit=2):
    
    for country in df_1[key1]:
        matches = process.extract(country,df_2[key2], limit=limit)
        
        for potential_matches in matches:
            if threshold >= threshold:
                df_2.loc[df_2[key2]==potential_match[1],key2]= country
                 
    return df_2


fuzz_remap(world_map,inflation,'name','country')
15/197:
from fuzzywuzzy import process
from fuzzywuzzy import fuzz


    



    
# def fuzzy_remap(df_1, df_2, key1, key2, threshold=90, limit=2):    
    
#     s = df_2[key2].tolist()
    
#     m = df_1[key1].apply(lambda x: process.extract(x, s, limit=limit))    
#     df_1['matches'] = m
    
#     m2 = df_1['matches'].apply(lambda x: ', '.join([i[0] for i in x if i[1] >= threshold]))
#     df_1['matches'] = m2
    
#     return df_1
   
 

 def fuzzy_remap(df_1, df_2, key1, key2, threshold=90, limit=2):
    
    for country in df_1[key1]:
        matches = process.extract(country,df_2[key2], limit=limit)
        
        for potential_matches in matches:
            if threshold >= threshold:
                df_2.loc[df_2[key2]==potential_match[1],key2]= country
                 
    return df_2


fuzz_remap(world_map,inflation,'name','country')
15/198:
from fuzzywuzzy import process
from fuzzywuzzy import fuzz


    



    

   
 

def fuzzy_remap(df_1, df_2, key1, key2, threshold=90, limit=2):
    
    for country in df_1[key1]:
        matches = process.extract(country,df_2[key2], limit=limit)
        
        for potential_matches in matches:
            if threshold >= threshold:
                df_2.loc[df_2[key2]==potential_match[1],key2]= country
                 
    return df_2


fuzz_remap(world_map,inflation,'name','country')
15/199:
from fuzzywuzzy import process
from fuzzywuzzy import fuzz


    



    

   
 

def fuzzy_remap(df_1, df_2, key1, key2, threshold=90, limit=2):
    
    for country in df_1[key1]:
        matches = process.extract(country,df_2[key2], limit=limit)
        
        for potential_matches in matches:
            if threshold >= threshold:
                df_2.loc[df_2[key2]==potential_match[1],key2]= country
                 
    return df_2


fuzzy_remap(world_map,inflation,'name','country')
15/200:
from fuzzywuzzy import process
from fuzzywuzzy import fuzz


    



    

   
 

def fuzzy_remap(df_1, df_2, key1, key2, threshold=90, limit=2):
    
    for country in df_1[key1]:
        matches = process.extract(country,df_2[key2], limit=limit)
        
        for potential_matches in matches:
            if threshold >= threshold:
                df_2.loc[df_2[key2]==potential_match[1],key2]= country
                 
    return df_2


fuzzy_remap(world_map,inflation,'name','country')

inflation[inflation['country']== 'United States of America']
15/201:
from fuzzywuzzy import process
from fuzzywuzzy import fuzz


    



    

   
 

def fuzzy_remap(df_1, df_2, key1, key2, threshold=90, limit=2):
    
    for country in df_1[key1]:
        matches = process.extract(country,df_2[key2], limit=limit)
        
        for potential_matches in matches:
            if threshold >= threshold:
                df_2.loc[df_2[key2]==potential_match[1],key2]= country
                 
    return df_2


fuzzy_remap(world_map,inflation,'name','country')

inflation[inflation['country']== 'United States']
15/202:
from fuzzywuzzy import process
from fuzzywuzzy import fuzz


    



    

   
 

def fuzzy_remap(df_1, df_2, key1, key2, threshold=80, limit=2):
    
    for country in df_1[key1]:
        matches = process.extract(country,df_2[key2], limit=limit)
        print(matches)
        
        for potential_matches in matches:
            if threshold >= threshold:
                df_2.loc[df_2[key2]==potential_match[1],key2]= country
                 
    return df_2


fuzzy_remap(world_map, inflation, 'name', 'country')
15/203:
from fuzzywuzzy import process
from fuzzywuzzy import fuzz


    



    

   
 

def fuzzy_remap(df_1, df_2, key1, key2, threshold=80, limit=2):
    
    for country in df_1[key1]:
        matches = process.extract(country,df_2[key2], limit=limit)
        print(country,matches)
        
        for potential_matches in matches:
            if threshold >= threshold:
                df_2.loc[df_2[key2]==potential_match[1],key2]= country
                 
    return df_2


fuzzy_remap(world_map, inflation, 'name', 'country')
15/204:
from fuzzywuzzy import process
from fuzzywuzzy import fuzz


    



    

   
 

def fuzzy_remap(df_1, df_2, key1, key2, threshold=90, limit=2):
    
    for country in df_1[key1]:
        matches = process.extract(country,df_2[key2], limit=limit)
        print(country,matches)
        
        for potential_matches in matches:
            if potential_matches[1] >= threshold:
                
                df_2.loc[df_2[key2]==potential_match[0],key2]= country
                 
    return df_2


fuzzy_remap(world_map, inflation, 'name', 'country')
15/205:
from fuzzywuzzy import process
from fuzzywuzzy import fuzz


    



    

   
 

def fuzzy_remap(df_1, df_2, key1, key2, threshold=90, limit=2):
    
    for country in df_1[key1]:
        matches = process.extract(country,df_2[key2], limit=limit)
        
        
        for potential_matches in matches:
            if potential_matches[1] >= threshold:
                
                df_2.loc[df_2[key2]==potential_match[0],key2]= country
                 
    return df_2


fuzzy_remap(world_map, inflation, 'name', 'country')
15/206:
from fuzzywuzzy import process
from fuzzywuzzy import fuzz


    



    

   
 

def fuzzy_remap(df_1, df_2, key1, key2, threshold=90, limit=2):
    
    for country in df_1[key1]:
        matches = process.extract(country,df_2[key2], limit=limit)
        
        
        for potential_matches in matches:
            if potential_matches[1] >= threshold:
                
                df_2.loc[df_2[key2]==potential_match[0],key2]= country
                 
    return df_2


fuzzy_remap(world_map, inflation, 'name', 'country')


inflation[inflation['country']== 'United States of America']
15/207:
from fuzzywuzzy import process
from fuzzywuzzy import fuzz


    



    

   
 

def fuzzy_remap(df_1, df_2, key1, key2, threshold=90, limit=2):
    
    for country in df_1[key1]:
        matches = process.extract(country,df_2[key2], limit=limit)
        
        
        for potential_matches in matches:
            if potential_matches[1] >= threshold:
                
                print(potential_matches,country)
                df_2.loc[df_2[key2]==potential_match[0],key2]= country
                 
    return df_2


fuzzy_remap(world_map, inflation, 'name', 'country')
15/208:
from fuzzywuzzy import process
from fuzzywuzzy import fuzz


    



    

   
 

def fuzzy_remap(df_1, df_2, key1, key2, threshold=90, limit=2):
    
    for country in df_1[key1]:
        matches = process.extract(country,df_2[key2], limit=limit)
        
        
        for potential_matches in matches:
            if potential_matches[1] >= threshold:
                
                print(potential_matches,country)
                df_2.loc[df_2[key2]==potential_match[0],key2]= country
                 
    return df_2


fuzzy_remap(world_map, inflation, 'name', 'country')


inflation[inflation['country']== 'United States of America']
15/209:
from fuzzywuzzy import process
from fuzzywuzzy import fuzz


    



    

   
 

def fuzzy_remap(df_1, df_2, key1, key2, threshold=90, limit=2):
    
    for country in df_1[key1]:
        matches = process.extract(country,df_2[key2], limit=limit)
        
        
        for potential_matches in matches:
            if potential_matches[1] >= threshold:
                
                print(potential_matches,country)
                df_2.loc[df_2[key2]==potential_match[0],key2]= country
                 
    return df_2


inflation = fuzzy_remap(world_map, inflation, 'name', 'country')
15/210:
from fuzzywuzzy import process
from fuzzywuzzy import fuzz


    



    

   
 

def fuzzy_remap(df_1, df_2, key1, key2, threshold=90, limit=2):
    
    for country in df_1[key1]:
        matches = process.extract(country,df_2[key2], limit=limit)
        
        
        for potential_matches in matches:
            if potential_matches[1] >= threshold:
                
                print(potential_matches,country)
                df_2.loc[df_2[key2]==potential_match[0],key2]= country
                 
    return df_2


inflation = fuzzy_remap(world_map, inflation, 'name', 'country')


inflation[inflation['country']== 'United States of America']
15/211:
from fuzzywuzzy import process
from fuzzywuzzy import fuzz


    



    

   
 

def fuzzy_remap(df_1, df_2, key1, key2, threshold=90, limit=2):
    
    for country in df_1[key1]:
        matches = process.extract(country,df_2[key2], limit=limit)
        
        
        for potential_matches in matches:
            if potential_matches[1] >= threshold:
                df_2.loc[df_2[key2]==potential_match[0],key2]= country
                 
    return df_2


inflation = fuzzy_remap(world_map, inflation, 'name', 'country')


inflation[inflation['country']== 'United States of America']
15/212:
from fuzzywuzzy import process
from fuzzywuzzy import fuzz


    



    

   
 

def fuzzy_remap(df_1, df_2, key1, key2, threshold=90, limit=2):
    
    for country in df_1[key1]:
        matches = process.extract(country,df_2[key2], limit=limit)
        
        
        for potential_matches in matches:
            if potential_matches[1] >= threshold:
                print(df_2[key2]==potential_match[0],key2,potential_match[0])
                df_2.loc[df_2[key2]==potential_match[0],key2]= country
                 
    return df_2


inflation = fuzzy_remap(world_map, inflation, 'name', 'country')


# inflation[inflation['country']== 'United States of America']
15/213:
from fuzzywuzzy import process
from fuzzywuzzy import fuzz


    



    

   
 

def fuzzy_remap(df_1, df_2, key1, key2, threshold=90, limit=1):
    
    for country in df_1[key1]:
        matches = process.extract(country,df_2[key2], limit=limit)
        
        
        for potential_matches in matches:
            if potential_matches[1] >= threshold:
                print(df_2[key2]==potential_match[0],key2,potential_match[0])
                df_2.loc[df_2[key2]==potential_match[0],key2]= country
                 
    return df_2


inflation = fuzzy_remap(world_map, inflation, 'name', 'country')


# inflation[inflation['country']== 'United States of America']
15/214:
from fuzzywuzzy import process
from fuzzywuzzy import fuzz


    



    

   
 

def fuzzy_remap(df_1, df_2, key1, key2, threshold=90, limit=1):
    
    for country in df_1[key1]:
        matches = process.extract(country,df_2[key2], limit=limit)
        print(matches)
        
        for potential_matches in matches:
            if potential_matches[1] >= threshold:
                
                df_2.loc[df_2[key2]==potential_match[0],key2]= country
                 
    return df_2


inflation = fuzzy_remap(world_map, inflation, 'name', 'country')
15/215:
from fuzzywuzzy import process
from fuzzywuzzy import fuzz


    



    

   
 

def fuzzy_remap(df_1, df_2, key1, key2, threshold=90, limit=1):
    
    for country in df_1[key1]:
        matches = process.extract(country,df_2[key2], limit=limit)
        
        
        for potential_matches in matches:
            if potential_matches[1] >= threshold:
                
                df_2.loc[df_2[key2]==potential_matches[0],key2]= country
                 
    return df_2


inflation = fuzzy_remap(world_map, inflation, 'name', 'country')
15/216:
from fuzzywuzzy import process
from fuzzywuzzy import fuzz


    



    

   
 

def fuzzy_remap(df_1, df_2, key1, key2, threshold=90, limit=1):
    
    for country in df_1[key1]:
        matches = process.extract(country,df_2[key2], limit=limit)
        
        
        for potential_matches in matches:
            if potential_matches[1] >= threshold:
                
                df_2.loc[df_2[key2]==potential_matches[0],key2]= country
                 
    return df_2


inflation = fuzzy_remap(world_map, inflation, 'name', 'country')

inflation[inflation['country']== 'United States of America']
15/217:
from fuzzywuzzy import process
from fuzzywuzzy import fuzz


    



    

   
 

def fuzzy_remap(df_1, df_2, key1, key2, threshold=90, limit=1):
    
    for country in df_1[key1]:
        matches = process.extract(country,df_2[key2], limit=limit)
        
        
        for potential_matches in matches:
            if potential_matches[1] >= threshold:
                
                df_2.loc[df_2[key2]==potential_matches[0],key2]= country
                 
    return df_2


inflation = fuzzy_remap(world_map, inflation, 'name', 'country')

inflation
15/218:
import pandas as pd
from pandas_datareader import wb

inflation_consumer_prices = 'FP.CPI.TOTL.ZG'


inflation = wb.download(indicator = inflation_consumer_prices, country = 'all', start= 2019, end= 2019)
inflation
15/219:
inflation = inflation.reset_index(level=('country','year'))
inflation
15/220:
inflation = inflation.rename(columns={'FP.CPI.TOTL.ZG': 'inflation'})
inflation
15/221:
import geopandas

world_map = geopandas.read_file(geopandas.datasets.get_path('naturalearth_lowres'))
world_map
15/222: world_map.plot(figsize=(14,5))
15/223:
Antarctica = world_map[world_map['name']=='Antarctica']
Antarctica
15/224:
world_map = world_map[world_map['name']!= 'Antarctica']
world_map
15/225: world_map.plot(figsize=(14,5))
15/226:
import pandas as pd
from pandas_datareader import wb

inflation_consumer_prices = 'FP.CPI.TOTL.ZG'


inflation = wb.download(indicator = inflation_consumer_prices, country = 'all', start= 2019, end= 2019)
inflation
15/227:
inflation = inflation.reset_index(level=('country','year'))
inflation
15/228:
inflation = inflation.rename(columns={'FP.CPI.TOTL.ZG': 'inflation'})
inflation
15/229:
import geopandas

world_map = geopandas.read_file(geopandas.datasets.get_path('naturalearth_lowres'))
world_map
15/230: world_map.plot(figsize=(14,5))
15/231:
Antarctica = world_map[world_map['name']=='Antarctica']
Antarctica
15/232:
world_map = world_map[world_map['name']!= 'Antarctica']
world_map
15/233: world_map.plot(figsize=(14,5))
15/234:
world_map_inflation = world_map.join(inflation,left_on='name',right_on='country' how='outer')
world_map_inflation
15/235:
world_map_inflation = world_map.join(inflation,left_on='name',right_on='country', how='outer')
world_map_inflation
15/236:
world_map_inflation = world_map.join(inflation, how='outer')
world_map_inflation
15/237:
world_map_inflation = world_map.merge(inflation,left_on='name', right_on='country' how='outer')
world_map_inflation
15/238:
world_map_inflation = world_map.merge(inflation,left_on='name', right_on='country', how='outer')
world_map_inflation
15/239:
from fuzzywuzzy import process
from fuzzywuzzy import fuzz


def fuzzy_remap(df_1, df_2, key1, key2, threshold=90, limit=1):
    
    for country in df_1[key1]:
        matches = process.extract(country,df_2[key2], limit=limit)
        
        for potential_matches in matches:
            if potential_matches[1] >= threshold:
                
                df_2.loc[df_2[key2]==potential_matches[0],key2]= country
                 
    return df_2


inflation = fuzzy_remap(world_map, inflation, 'name', 'country')

inflation
15/240: inflation[inflation['country']=='United States of America']
15/241:
world_map_inflation= world_map.merge(inflation,left_on='name', right_on='country', how='outer')
world_map_inflation
15/242:
world_map.rename(columns={'name':'country'})
world_map
15/243:
world_map= world_map.rename(columns={'name':'country'})
world_map
15/244:
world_map_inflation= world_map.merge(inflation,left_on='name', right_on='country', how='outer')
world_map_inflation
15/245:
world_map_inflation= world_map.merge(inflation,on='country', how='outer')
world_map_inflation
15/246:
world_map_inflation.plot('inflation')
plt.title("Inflation 2019")
plt.show()
15/247:
import matplotlib as plt

world_map_inflation.plot('inflation')
plt.title("Inflation 2019")
plt.show()
15/248:
import matplotlib.pyplot as plt

world_map_inflation.plot('inflation')
plt.title("Inflation 2019")
plt.show()
15/249:
import matplotlib.pyplot as plt

world_map_inflation.plot('inflation')
plt.title("Inflation 2019")
plt.figsize(14,5)
plt.show()
15/250:
import matplotlib.pyplot as plt

world_map_inflation.plot('inflation',figsize=(14,5))
plt.title("Inflation 2019")
plt.show()
15/251:
world_map_inflation.plot('inflation', figsize=(14,5),cmap='OrRd', scheme='quantiles')
plt.title("Inflation 2019")
plt.show()
15/252:
world_map.plot('inflation', cmap='OrRd', scheme='quantiles', missing_kwds={"color": "lightgrey"}, legend=True, figsize=(14,5))
plt.title("Inflation 2019")
plt.show()
15/253:
world_map_inflation.plot('inflation', cmap='OrRd', scheme='quantiles', missing_kwds={"color": "lightgrey"}, legend=True, figsize=(14,5))
plt.title("Inflation 2019")
plt.show()
15/254: world_map[world_map['name']== 'united States of America']
15/255:
import pandas as pd
from pandas_datareader import wb

inflation_consumer_prices = 'FP.CPI.TOTL.ZG'


inflation = wb.download(indicator = inflation_consumer_prices, country = 'all', start= 2019, end= 2019)
inflation
15/256:
inflation = inflation.reset_index(level=('country','year'))
inflation
15/257:
inflation = inflation.rename(columns={'FP.CPI.TOTL.ZG': 'inflation'})
inflation
15/258:
import geopandas

world_map = geopandas.read_file(geopandas.datasets.get_path('naturalearth_lowres'))
world_map
15/259: world_map.plot(figsize=(14,5))
15/260:
Antarctica = world_map[world_map['name']=='Antarctica']
Antarctica
15/261:
world_map = world_map[world_map['name']!= 'Antarctica']
world_map
15/262:
world_map_inflation = world_map.merge(inflation,left_on='name', right_on='country', how='outer')
world_map_inflation
15/263:
from fuzzywuzzy import process
from fuzzywuzzy import fuzz


def fuzzy_remap(df_1, df_2, key1, key2, threshold=90, limit=1):
    
    for country in df_1[key1]:
        matches = process.extract(country,df_2[key2], limit=limit)
        
        for potential_matches in matches:
            if potential_matches[1] >= threshold:
                
                df_2.loc[df_2[key2]==potential_matches[0],key2]= country
                 
    return df_2


inflation = fuzzy_remap(world_map, inflation, 'name', 'country')

inflation
15/264: inflation[inflation['country']=='United States of America']
15/265: world_map[world_map['name']== 'united States of America']
15/266: world_map[world_map['name']== 'United States of America']
15/267:
world_map_inflation= world_map.merge(inflation,left_on='name', right_on='country', how='outer')
world_map_inflation
17/1:
import pandas as pd

data = pd.read_csv('database.csv')

data
17/2:
import pandas as pd

data = pd.read_csv('database.csv')

data
17/3:
import pandas as pd

data = pd.read_csv('database.csv')

data
17/4:
cols_of_interest = ['Accident Year', 'Accident Date/Time', 'Operator Name', 'Liquid Type', 'Lost Commodity Costs', 'All Costs' ]
data = data[cols_of_interest]
data
17/5: data[data['All Costs']= 20333]
17/6: data[data['All Costs']== 20333]
17/7:
import pandas as pd

data = pd.read_csv('database.csv')

data
data[data['All Costs'] == 20333]
17/8:
import pandas as pd

data = pd.read_csv('database.csv')

data
data[data['All Costs'] == 165593]
17/9:
import pandas as pd

data = pd.read_csv('database.csv')

data
17/10:
cols_of_interest = ['Accident Year', 'Accident Date/Time', 'Operator Name', 'Liquid Type', 'Property Damage Costs', 'All Costs' ]
data = data[cols_of_interest]
data
17/11: data['Property Damage Costs', 'All Costs'].describe()
17/12: data_summary = data[['Property Damage Costs', 'All Costs']].describe()
17/13: data_summary = data[['Property Damage Costs','All Costs']].describe()
17/14: data_summary = data .describe()
17/15: data_summary = data .describe()
17/16: data_summary = data .describe()
17/17: data_summary = data.describe()
17/18:
data_summary = data[['Property Damage Costs','All Costs']].describe()
data_summary
17/19:
import numpy as np

data['Accident Date/Time'] = pd.to_datetime(data['Accident Date/Time'])

timespan = np.max(data['Accident Date/Time']) - np.min(data['Accident Date/Time'])

timespan_s = timespan.total_seconds()
timespan_s
17/20:
timespan_h = timespan.total_seconds/ 60**2
timespan_h
17/21:
timespan_h = timespan.total_seconds() / 60**2
timespan_h
17/22:
lmda_h = len(data) / timespan_h
lmda_h
17/23:
timespan_m = timespan.total_seconds() / 2.628e+6
timespan_m
17/24:
lmda_m = len(data) / timespan_m
lmda_m
17/25:
import numpy as np

data['Accident Date/Time'] = pd.to_datetime(data['Accident Date/Time'])

timespan = np.max(data['Accident Date/Time']) - np.min(data['Accident Date/Time'])

timespan_s = timespan.total_seconds()

timespan_h = timespan.total_seconds() / 60**2

timespan_m = timespan.total_seconds() / 2.628e+6

lmda_h = len(data) / timespan_h

lmda_m = len(data) / timespan_m

lmda_h
lmda_m
17/26:
import numpy as np

data['Accident Date/Time'] = pd.to_datetime(data['Accident Date/Time'])

timespan = np.max(data['Accident Date/Time']) - np.min(data['Accident Date/Time'])

timespan_s = timespan.total_seconds()

timespan_h = timespan.total_seconds() / 60**2

timespan_m = timespan.total_seconds() / 2.628e+6

lmda_h = len(data) / timespan_h

lmda_m = len(data) / timespan_m

print('Estimated number of accident per hour :', lmda_h)
print('Estimated number of accidents per month:', lmda_m)
17/27:
np.random.seed(42)

poisson_samples = np.random.poisson(33, 1000)

plt.style.use('seaborn')

fig = plt.subplots(figsize = (15,10))
_ = plt.plot(poisson_samples , marker='.', color = 'purple', linestyle='solid')
plt.xlabel('Number of Accidents Per Month (n)')
plt.ylabel('P(X <= n)')
plt.title('Probability Mass Function')
plt.show()
17/28:
import matplotlib.pyplot as plt

np.random.seed(42)

poisson_samples = np.random.poisson(33, 1000)

plt.style.use('seaborn')

fig = plt.subplots(figsize = (15,10))
_ = plt.plot(poisson_samples , marker='.', color = 'purple', linestyle='solid')
plt.xlabel('Number of Accidents Per Month (n)')
plt.ylabel('P(X <= n)')
plt.title('Probability Mass Function')
plt.show()
17/29:
import matplotlib.pyplot as plt

np.random.seed(42)

poisson_samples = np.random.poisson(33, 1000)

plt.style.use('seaborn')

fig = plt.subplots(figsize = (15,10))
_ = plt.plot(poisson_samples , marker='.', color = 'purple', linestyle='none')
plt.xlabel('Number of Accidents Per Month (n)')
plt.ylabel('P(X <= n)')
plt.title('Probability Mass Function')
plt.show()
17/30:
import matplotlib.pyplot as plt

np.random.seed(42)

poisson_samples = np.random.poisson(33, 1000)

plt.style.use('seaborn')

fig = plt.subplots(figsize = (15,10))
_ = plt.hist(poisson_samples , bins = 100, color = 'purple', linestyle='none')
plt.xlabel('Number of Accidents Per Month (n)')
plt.ylabel('P(X <= n)')
plt.title('Probability Mass Function')
plt.show()
17/31:
p_33_avg_acc_m = poisson.pmf(k=33, mu=33)
p_33_avg_acc_m
17/32:
import matplotlib.pyplot as plt
from scipy.stats import poisson

np.random.seed(42)

poisson_samples = np.random.poisson(33, 10000)

plt.style.use('seaborn')

fig = plt.subplots(figsize = (15,10))
_ = plt.hist(poisson_samples , bins = 100, color = 'purple', linestyle='none')
plt.xlabel('Number of Accidents Per Month (n)')
plt.ylabel('P(X <= n)')
plt.title('Probability Mass Function')
plt.show()
17/33:
import matplotlib.pyplot as plt
from scipy.stats import poisson

np.random.seed(42)

poisson_samples = np.random.poisson(33, 10000)

plt.style.use('seaborn')

fig = plt.subplots(figsize = (15,10))
_ = plt.hist(poisson_samples , bins = 100, color = 'purple', linestyle='none')
plt.xlabel('Number of Accidents Per Month (n)')
plt.ylabel('P(X <= n)')
plt.title('Probability Mass Function')
plt.show()
17/34:
p_33_avg_acc_m = poisson.pmf(k=33, mu=33)
p_33_avg_acc_m
17/35:
import matplotlib.pyplot as plt
from scipy.stats import poisson

np.random.seed(42)

poisson_samples = np.random.poisson(33, 10000)

plt.style.use('seaborn')

bins = np.arange(0, max(n_defaults) + 1.5) - 0.5

fig = plt.subplots(figsize = (15,10))
_ = plt.hist(poisson_samples , bins = bins, color = 'purple', linestyle='none', normed= True)
plt.xlabel('Number of Accidents Per Month (n)')
plt.ylabel('PMF')
plt.title('Probability Mass Function')
plt.show()
17/36:
import matplotlib.pyplot as plt
from scipy.stats import poisson

np.random.seed(42)

poisson_samples = np.random.poisson(33, 10000)

plt.style.use('seaborn')

bins = np.arange(0, max(poisson_samples) + 1.5) - 0.5

fig = plt.subplots(figsize = (15,10))
_ = plt.hist(poisson_samples , bins = bins, color = 'purple', linestyle='none', normed= True)
plt.xlabel('Number of Accidents Per Month (n)')
plt.ylabel('PMF')
plt.title('Probability Mass Function')
plt.show()
17/37:
import matplotlib.pyplot as plt
from scipy.stats import poisson

np.random.seed(42)

poisson_samples = np.random.poisson(33, 10000)



bins = np.arange(0, max(poisson_samples) + 1.5) - 0.5


_ = plt.hist(poisson_samples , bins = bins, color = 'purple', linestyle='none', normed= True)
plt.xlabel('Number of Accidents Per Month (n)')
plt.ylabel('PMF')
plt.title('Probability Mass Function')
plt.show()
17/38:
import matplotlib.pyplot as plt
from scipy.stats import poisson

np.random.seed(42)

poisson_samples = np.random.poisson(33, 10000)

bins = np.arange(0, max(poisson_samples) + 1.5) - 0.5


_ = plt.hist(poisson_samples , bins = bins, normed= True)
plt.xlabel('Number of Accidents Per Month (n)')
plt.ylabel('PMF')
plt.title('Probability Mass Function')
plt.show()
17/39:
import matplotlib.pyplot as plt
from scipy.stats import poisson

np.random.seed(42)

poisson_samples = np.random.poisson(33, 10000)

bins = np.arange(0, max(poisson_samples) + 1.5) - 0.5


plt.hist(poisson_samples , bins = bins, normed= True)
plt.xlabel('Number of Accidents Per Month (n)')
plt.ylabel('PMF')
plt.title('Probability Mass Function')
plt.show()
17/40:
import matplotlib.pyplot as plt
from scipy.stats import poisson

np.random.seed(42)

poisson_samples = np.random.poisson(33, 10000)

bins = np.arange(0, max(poisson_samples) + 1.5) - 0.5


plt.hist(poisson_samples , bins = bins, normed = True)
plt.xlabel('Number of Accidents Per Month (n)')
plt.ylabel('PMF')
plt.title('Probability Mass Function')
plt.show()
17/41:
import matplotlib.pyplot as plt
from scipy.stats import poisson

np.random.seed(42)

poisson_samples = np.random.poisson(33, 10000)

bins = np.arange(0, max(poisson_samples) + 1.5) - 0.5

plt.hist(poisson_samples, bins = bins, normed = True)

plt.show()
17/42:
import pandas as pd

data = pd.read_csv('database.csv')

data
17/43:
cols_of_interest = ['Accident Year', 'Accident Date/Time', 'Operator Name', 'Liquid Type', 'Property Damage Costs', 'All Costs' ]
data = data[cols_of_interest]
data
17/44:
data_summary = data[['Property Damage Costs','All Costs']].describe()
data_summary
17/45:
import numpy as np

data['Accident Date/Time'] = pd.to_datetime(data['Accident Date/Time'])

timespan = np.max(data['Accident Date/Time']) - np.min(data['Accident Date/Time'])

timespan_s = timespan.total_seconds()

timespan_h = timespan.total_seconds() / 60**2

timespan_m = timespan.total_seconds() / 2.628e+6

lmda_h = len(data) / timespan_h

lmda_m = len(data) / timespan_m

print('Estimated number of accident per hour :', lmda_h)
print('Estimated number of accidents per month:', lmda_m)
17/46:
import matplotlib.pyplot as plt
from scipy.stats import poisson

np.random.seed(42)

poisson_samples = np.random.poisson(33, 10000)

bins = np.arange(0, max(poisson_samples) + 1.5) - 0.5

plt.hist(poisson_samples, bins = bins, density = True)

plt.show()
17/47:
import matplotlib.pyplot as plt
from scipy.stats import poisson

np.random.seed(42)

poisson_samples = np.random.poisson(33, 100000)

bins = np.arange(0, max(poisson_samples) + 1.5) - 0.5

plt.hist(poisson_samples, bins = bins, density = True)

plt.show()
17/48:
import matplotlib.pyplot as plt
from scipy.stats import poisson

np.random.seed(42)

poisson_samples = np.random.poisson(33, 1000000)

bins = np.arange(0, max(poisson_samples) + 1.5) - 0.5

plt.hist(poisson_samples, bins = bins, density = True)

plt.show()
17/49:
import matplotlib.pyplot as plt
from scipy.stats import poisson

np.random.seed(42)

poisson_samples = np.random.poisson(33, 10000)

bins = np.arange(0, max(poisson_samples) + 1.5) - 0.5

plt.hist(poisson_samples, bins = bins, density = True)

plt.show()
17/50:
import matplotlib.pyplot as plt
from scipy.stats import poisson

np.random.seed(42)

poisson_samples = np.random.poisson(33, 10000)

bins = np.arange(0, max(poisson_samples) + 1.5) - 0.5

plt.hist(poisson_samples, bins = bins, density = True)

plt.xlabel('Estimated number of accidents per month')
plt.ylabel('PMF')

plt.show()
17/51:
import seaborn as sns

ecdf = sns.ecdfplot(data= poisson_samples)

ecdf
17/52:
import matplotlib.pyplot as plt
from scipy.stats import poisson

np.random.seed(42)

poisson_samples = np.random.poisson(33, 10000)

bins = np.arange(0, max(poisson_samples) + 1.5) - 0.5

fig = plt.subplots(figsize = (15,10))

plt.hist(poisson_samples, bins = bins, density = True)

plt.xlabel('Estimated number of accidents per month')
plt.ylabel('PMF')

plt.show()
17/53:
import seaborn as sns

ecdf = sns.ecdfplot(data= poisson_samples)

ecdf
17/54:
import seaborn as sns

fig = plt.subplots(figsize = (15,10))

ecdf = sns.ecdfplot(data= poisson_samples)

ecdf
17/55:
_ = sns.boxplot(data= 'Property Damage Costs')
sns.title('Property Damage Costs')
plt.show()
17/56:
_ = sns.boxplot(data['Property Damage Costs'], data= data)
sns.title('Property Damage Costs')
plt.show()
17/57:
_ = sns.boxplot(data['Property Damage Costs'], data= data)

sns.set_title('Property Damage Costs')
plt.show()
17/58:
_ = sns.boxplot(data['Property Damage Costs'], data= data)

_ = plt.title('Property Damage Costs')

plt.show()
17/59:
_ = sns.boxplot(x= data['Property Damage Costs'], data= data)

_ = plt.title('Property Damage Costs')

plt.show()
17/60:
fig = plt.subplots(figsize = (15,10))

_ = sns.boxplot(x= data['Property Damage Costs'], data= data)

_ = plt.title('Property Damage Costs')

plt.show()
17/61:
fig = plt.subplots(figsize = (15,10))

_ = sns.boxplot(x='All Costs', data = data)

_ = plt.title('All Costs')

plt.show()
17/62:
data.sort_values(by=['Accident Date/Time'], ascending = True, inplace = True)

data['timetoAccident'] = data['Accident Date/Time'].diff() #compute time between each accident

data['timetoAccident_h'] = data['timetoAccident'].total_seconds / 60**2

data= data[data.timetoAccident.notnull()]

mean = np.mean(data['timetoAccident_h'])

print('The average time between accidents is', mean)
17/63:
data.sort_values(by=['Accident Date/Time'], ascending = True, inplace = True)

data['timetoAccident'] = data['Accident Date/Time'].diff() #compute time between each accident

data['timetoAccident'] = pd.to_datetime(data['timetoAccident'])

data['timetoAccident_h'] = data['timetoAccident'].total_seconds / 60**2

data= data[data.timetoAccident.notnull()]

mean = np.mean(data['timetoAccident_h'])

print('The average time between accidents is', mean)
17/64:
data.sort_values(by=['Accident Date/Time'], ascending = True, inplace = True)

data['timetoAccident'] = data['Accident Date/Time'].diff().total_seconds #compute time between each accident

data['timetoAccident_h'] = data['timetoAccident'] / 60**2





mean = np.mean(data['timetoAccident_h'])

print('The average time between accidents is', mean)
17/65:
data.sort_values(by=['Accident Date/Time'], ascending = True, inplace = True)

data['timetoAccident'] = data['Accident Date/Time'].diff() #compute time between each accident

print(data['timetoAccident']).type())
17/66:
data.sort_values(by=['Accident Date/Time'], ascending = True, inplace = True)

data['timetoAccident'] = data['Accident Date/Time'].diff() #compute time between each accident

print(data['timetoAccident'].type())
17/67:
data.sort_values(by=['Accident Date/Time'], ascending = True, inplace = True)

data['timetoAccident'] = data['Accident Date/Time'].diff() #compute time between each accident

print(type(data['timetoAccident'])
17/68:
data.sort_values(by=['Accident Date/Time'], ascending = True, inplace = True)

data['timetoAccident'] = data['Accident Date/Time'].diff() #compute time between each accident

print(type(data['timetoAccident']))
17/69:
data.sort_values(by=['Accident Date/Time'], ascending = True, inplace = True)

data['timetoAccident'] = data['Accident Date/Time'].diff() #compute time between each accident

data['timetoAccident'] = pd.to_datetime(data['timetoAccident'])

data['timetoAccident_s'] = data['timetoAccident'].total_seconds

data['timetoAccident_h']= data['timetoAccident_s'] / 60**2

mean = np.mean(data['timetoAccident_h'])

print('The estimate time between accidents is', mean)
17/70:
# data.sort_values(by=['Accident Date/Time'], ascending = True, inplace = True)

# data['timetoAccident'] = data['Accident Date/Time'].diff() #compute time between each accident

# data['timetoAccident'] = pd.to_datetime(data['timetoAccident'])

# data['timetoAccident_h']= 





# mean = np.mean(data['timetoAccident_h'])

# print('The estimate time between accidents is', mean)



df = pd.DataFrame([[4, 9]] * 3, columns=['A', 'B'])


df['sum'] = df.apply(lambda x['B'] : x['B'] + 2)


df
17/71:
# data.sort_values(by=['Accident Date/Time'], ascending = True, inplace = True)

# data['timetoAccident'] = data['Accident Date/Time'].diff() #compute time between each accident

# data['timetoAccident'] = pd.to_datetime(data['timetoAccident'])

# data['timetoAccident_h']= 





# mean = np.mean(data['timetoAccident_h'])

# print('The estimate time between accidents is', mean)



df = pd.DataFrame([[4, 9]] * 3, columns=['A', 'B'])


df['sum'] = df.apply(lambda x : x['B'] + 2)


df
17/72:
# data.sort_values(by=['Accident Date/Time'], ascending = True, inplace = True)

# data['timetoAccident'] = data['Accident Date/Time'].diff() #compute time between each accident

# data['timetoAccident'] = pd.to_datetime(data['timetoAccident'])

# data['timetoAccident_h']= 





# mean = np.mean(data['timetoAccident_h'])

# print('The estimate time between accidents is', mean)



df = pd.DataFrame([[4, 9]] * 3, columns=['A', 'B'])


df
17/73:
df['sum'] = df.apply(lambda x: x['B'] + 100) 
df
17/74:
df['sum'] = df.apply(lambda x: x['B'] + 100, axis = 1) 
df
17/75:
df['sum'] = df.apply(lambda x: x['B'] + 100, axis = 0) 
df
17/76:
data.sort_values(by=['Accident Date/Time'], ascending = True, inplace = True)

data['timetoAccident'] = data['Accident Date/Time'].diff() #compute time between each accident

data['timetoAccident'] = pd.to_datetime(data['timetoAccident'])




# data['timetoAccident_h']= 





# mean = np.mean(data['timetoAccident_h'])

# print('The estimate time between accidents is', mean)


data['timetoAccident']
17/77:
data.sort_values(by=['Accident Date/Time'], ascending = True, inplace = True)

data['timetoAccident'] = data['Accident Date/Time'].diff() #compute time between each accident






# data['timetoAccident_h']= 





# mean = np.mean(data['timetoAccident_h'])

# print('The estimate time between accidents is', mean)


data['timetoAccident']
17/78:
data.sort_values(by=['Accident Date/Time'], ascending = True, inplace = True)

data['timetoAccident'] = data['Accident Date/Time'].diff() #compute time between each accident

data['timetoAccident_h']= data.apply(lambda x : x['timetoAccident'].total_seconds / 60**2, axis = 1)

data['timetoAccident_h']



# mean = np.mean(data['timetoAccident_h'])

# print('The estimate time between accidents is', mean)
17/79:
data.sort_values(by=['Accident Date/Time'], ascending = True, inplace = True)

data['timetoAccident'] = data['Accident Date/Time'].diff() #compute time between each accident

# data['timetoAccident_h']= data.apply(lambda x : x['timetoAccident'].total_seconds /60**2, axis = 1)






timespan
17/80:
data.sort_values(by=['Accident Date/Time'], ascending = True, inplace = True)

data['timetoAccident'] = data['Accident Date/Time'].diff() #compute time between each accident

# data['timetoAccident_h']= data.apply(lambda x : x['timetoAccident'].total_seconds /60**2, axis = 1)






timespan_h
17/81:
data.sort_values(by=['Accident Date/Time'], ascending = True, inplace = True)

data['timetoAccident'] = data['Accident Date/Time'].diff() #compute time between each accident

# data['timetoAccident_h']= data.apply(lambda x : x['timetoAccident'].total_seconds /60**2, axis = 1)






data['timetoAccident']
17/82:
data.sort_values(by=['Accident Date/Time'], ascending = True, inplace = True)

data['timetoAccident'] = data['Accident Date/Time'].diff() #compute time between each accident

# data['timetoAccident_h']= data.apply(lambda x : x['timetoAccident'].total_seconds /60**2, axis = 1)






data['timetoAccident'].total_seconds
17/83:
data.sort_values(by=['Accident Date/Time'], ascending = True, inplace = True)

data['timetoAccident'] = data['Accident Date/Time'].diff() #compute time between each accident

# data['timetoAccident_h']= data.apply(lambda x : x['timetoAccident'].total_seconds /60**2, axis = 1)






data['timetoAccident']
17/84:
data.sort_values(by=['Accident Date/Time'], ascending = True, inplace = True)

data['timetoAccident'] = data['Accident Date/Time'].diff() #compute time between each accident

# data['timetoAccident_h']= data.apply(lambda x : x['timetoAccident'].total_seconds /60**2, axis = 1)






mean = np.mean(data['timetoAccident'])
17/85:
data.sort_values(by=['Accident Date/Time'], ascending = True, inplace = True)

data['timetoAccident'] = data['Accident Date/Time'].diff() #compute time between each accident

# data['timetoAccident_h']= data.apply(lambda x : x['timetoAccident'].total_seconds /60**2, axis = 1)






mean = np.mean(data['timetoAccident'])

mean
17/86:
data.sort_values(by=['Accident Date/Time'], ascending = True, inplace = True)

data['timetoAccident'] = data['Accident Date/Time'].diff() #compute time between each accident

# data['timetoAccident_h']= data.apply(lambda x : x['timetoAccident'].total_seconds /60**2, axis = 1)


data['timetoAccident']
17/87:
data.sort_values(by=['Accident Date/Time'], ascending = True, inplace = True)

data['timetoAccident'] = data['Accident Date/Time'].diff() #compute time between each accident

data['timetoAccident_h']= data.apply(lambda x : x['timetoAccident'].dt.total_seconds /60**2, axis = 1)


data['timetoAccident_h']
17/88:
data.sort_values(by=['Accident Date/Time'], ascending = True, inplace = True)

data['timetoAccident'] = data['Accident Date/Time'].diff() #compute time between each accident

data['timetoAccident_h']= data.apply(lambda x : x['timetoAccident'].dt.total_seconds() /60**2, axis = 1)


data['timetoAccident_h']
17/89:
data.sort_values(by=['Accident Date/Time'], ascending = True, inplace = True)

data['timetoAccident'] = data['Accident Date/Time'].diff() #compute time between each accident

# data['timetoAccident_h']= data.apply(lambda x : x['timetoAccident'].dt.total_seconds() /60**2, axis = 1)


print(type(data['timetoAccident']))
17/90:
data.sort_values(by=['Accident Date/Time'], ascending = True, inplace = True)

data['timetoAccident'] = data['Accident Date/Time'].diff() #compute time between each accident

# data['timetoAccident_h']= data.apply(lambda x : x['timetoAccident'].dt.total_seconds() /60**2, axis = 1)


data['timetoAccident']
17/91:
data.sort_values(by=['Accident Date/Time'], ascending = True, inplace = True)

data['timetoAccident'] = data['Accident Date/Time'].diff() #compute time between each accident

# data['timetoAccident_h']= data.apply(lambda x : x['timetoAccident'].dt.total_seconds() /60**2, axis = 1)


print(type(data['timetoAccident']))
17/92:
data.sort_values(by=['Accident Date/Time'], ascending = True, inplace = True)

data['timetoAccident'] = data['Accident Date/Time'].diff() #compute time between each accident

# data['timetoAccident_h']= data.apply(lambda x : x['timetoAccident'].dt.total_seconds() /60**2, axis = 1)


data['timetoAccident'].dt.seconds
17/93:
data.sort_values(by=['Accident Date/Time'], ascending = True, inplace = True)

data['timetoAccident'] = data['Accident Date/Time'].diff() #compute time between each accident

# data['timetoAccident_h']= data.apply(lambda x : x['timetoAccident'].dt.total_seconds() /60**2, axis = 1)


data['timetoAccident'].dt.total_seconds()
17/94:
data.sort_values(by=['Accident Date/Time'], ascending = True, inplace = True)

data['timetoAccident'] = data['Accident Date/Time'].diff() #compute time between each accident

# data['timetoAccident_h']= data.apply(lambda x : x['timetoAccident'].dt.total_seconds() /60**2, axis = 1)


data['timetoAccident'].dt.seconds
17/95:
data.sort_values(by=['Accident Date/Time'], ascending = True, inplace = True)

data['timetoAccident'] = data['Accident Date/Time'].diff() #compute time between each accident

data['timetoAccident_h']= data.apply(lambda x : x['timetoAccident'].dt.total_seconds() /60**2, axis = 1)


data['timetoAccident_h']
17/96:
data.sort_values(by=['Accident Date/Time'], ascending = True, inplace = True)

data['timetoAccident'] = data['Accident Date/Time'].diff() #compute time between each accident

data['timetoAccident_h']= data.apply(lambda x : x['timetoAccident'].dt.total_seconds() /60**2, axis = 1)

data= data[data.timetoAccident.notnull()]

data['timetoAccident_h']
17/97:
data.sort_values(by=['Accident Date/Time'], ascending = True, inplace = True)

data['timetoAccident'] = data['Accident Date/Time'].diff() #compute time between each accident

# data['timetoAccident_h']= data.apply(lambda x : x['timetoAccident'].dt.total_seconds() /60**2, axis = 1)

# data= data[data.timetoAccident.notnull()]

data['timetoAccident']
17/98:
data.sort_values(by=['Accident Date/Time'], ascending = True, inplace = True)

data['timetoAccident'] = data['Accident Date/Time'].diff() #compute time between each accident

# data['timetoAccident_h']= data.apply(lambda x : x['timetoAccident'].dt.total_seconds() /60**2, axis = 1)

# data= data[data.timetoAccident.notnull()]

data['timetoAccident'].dt.seconds
17/99:
data.sort_values(by=['Accident Date/Time'], ascending = True, inplace = True)

data['timetoAccident'] = data['Accident Date/Time'].diff() #compute time between each accident

# data['timetoAccident_h']= data.apply(lambda x : x['timetoAccident'].dt.total_seconds() /60**2, axis = 1)

# data= data[data.timetoAccident.notnull()]

data['timetoAccident'].dt.total_seconds
17/100:
data.sort_values(by=['Accident Date/Time'], ascending = True, inplace = True)

data['timetoAccident'] = data['Accident Date/Time'].diff() #compute time between each accident

# data['timetoAccident_h']= data.apply(lambda x : x['timetoAccident'].dt.total_seconds() /60**2, axis = 1)

# data= data[data.timetoAccident.notnull()]

data['timetoAccident'].dt.total_seconds()
17/101:
data.sort_values(by=['Accident Date/Time'], ascending = True, inplace = True)

data['timetoAccident'] = data['Accident Date/Time'].diff() #compute time between each accident

data= data[data.timetoAccident.notnull()]

data['timetoAccident_h']= data.apply(lambda x : x['timetoAccident'].dt.total_seconds() /60**2, axis = 1)



data['timetoAccident_h']
17/102:
data.sort_values(by=['Accident Date/Time'], ascending = True, inplace = True)

data['timetoAccident'] = data['Accident Date/Time'].diff() #compute time between each accident

data= data[data.timetoAccident.notnull()]

# data['timetoAccident_h']= data.apply(lambda x : x['timetoAccident'].dt.total_seconds() /60**2, axis = 1)



data['timetoAccident_h'].total_seconds()
17/103:
data.sort_values(by=['Accident Date/Time'], ascending = True, inplace = True)

data['timetoAccident'] = data['Accident Date/Time'].diff() #compute time between each accident

data= data[data.timetoAccident.notnull()]

# data['timetoAccident_h']= data.apply(lambda x : x['timetoAccident'].dt.total_seconds() /60**2, axis = 1)



data['timetoAccident'].total_seconds()
17/104:
data.sort_values(by=['Accident Date/Time'], ascending = True, inplace = True)

data['timetoAccident'] = data['Accident Date/Time'].diff() #compute time between each accident

data= data[data.timetoAccident.notnull()]

# data['timetoAccident_h']= data.apply(lambda x : x['timetoAccident'].dt.total_seconds() /60**2, axis = 1)



data['timetoAccident'].dt.total_seconds()
17/105:
data.sort_values(by=['Accident Date/Time'], ascending = True, inplace = True)

data['timetoAccident'] = data['Accident Date/Time'].diff() #compute time between each accident

data= data[data.timetoAccident.notnull()]

data['timetoAccident_h']= data.apply(lambda x : x['timetoAccident'].dt.total_seconds() /60**2, axis = 1)

data['timetoAccident']
17/106:
data.sort_values(by=['Accident Date/Time'], ascending = True, inplace = True)

data['timetoAccident'] = data['Accident Date/Time'].diff() #compute time between each accident

data= data[data.timetoAccident.notnull()]

data['timetoAccident_h']= data.apply(lambda x : x['timetoAccident'].total_seconds() /60**2, axis = 1)

data['timetoAccident']
17/107:
data.sort_values(by=['Accident Date/Time'], ascending = True, inplace = True)

data['timetoAccident'] = data['Accident Date/Time'].diff() #compute time between each accident

data= data[data.timetoAccident.notnull()]

data['timetoAccident_h']= data.apply(lambda x : x['timetoAccident'].total_seconds() /60**2, axis = 1)

data['timetoAccident_h']
17/108:
data.sort_values(by=['Accident Date/Time'], ascending = True, inplace = True)

data['timetoAccident'] = data['Accident Date/Time'].diff() #compute time between each accident

data= data[data.timetoAccident.notnull()]

data['timetoAccident_h']= data.apply(lambda x : x['timetoAccident'].total_seconds() /60**2, axis = 1)

data['timetoAccident_h']

mean = np.mean(data['timetoAccident_h'])

print('The estimated average hourse between accidents is', mean)
17/109:
fig = plt.subplots(figsize = (15,10))

ecdf = sns.ecdfplot(data= data['timetoAccident_h'])

ecdf
17/110:

exponential_samples = np.random.exponential(mean, size= 10000)


fig = plt.subplots(figsize = (15,10))
ecdf_data = sns.ecdfplot(data= data['timetoAccident_h'])
ecdf_theor = sns.ecdfplot(data= exponential_samples)
plt.xlabel('Estimated time between accidents in hours')
plt.ylabel('ecdf')
plt.legend(fontsize = 'large')
plt.title('Ecdf comparison of actual data and theoretical samples')

plt.show()
17/111:

exponential_samples = np.random.exponential(mean, size= 10000)


fig = plt.subplots(figsize = (15,10))
ecdf_data = sns.ecdfplot(data= data['timetoAccident_h'], label= 'Actual data')
ecdf_theor = sns.ecdfplot(data= exponential_samples, label= 'Theoretical samples')
plt.xlabel('Estimated time between accidents in hours')
plt.ylabel('ecdf')
plt.legend(labelsfontsize = 'large')
plt.title('Ecdf comparison of actual data and theoretical samples', fontsize= 20)

plt.show()
17/112:

exponential_samples = np.random.exponential(mean, size= 10000)


fig = plt.subplots(figsize = (15,10))
ecdf_data = sns.ecdfplot(data= data['timetoAccident_h'], label= 'Actual data')
ecdf_theor = sns.ecdfplot(data= exponential_samples, label= 'Theoretical samples')
plt.xlabel('Estimated time between accidents in hours')
plt.ylabel('ecdf')
plt.legend(fontsize = 'large')
plt.title('Ecdf comparison of actual data and theoretical samples', fontsize= 20)

plt.show()
17/113:

exponential_samples = np.random.exponential(mean, size= 10000)


fig = plt.subplots(figsize = (15,10))
ecdf_data = sns.ecdfplot(data= data['timetoAccident_h'], label= 'Actual data')
ecdf_theor = sns.ecdfplot(data= exponential_samples, label= 'Theoretical samples')
plt.xlabel('Estimated time between accidents in hours', fontsize = 15)
plt.ylabel('ecdf', fontsize = 15)
plt.legend(fontsize = 'large')
plt.title('Ecdf comparison of actual data and theoretical samples', fontsize= 20)

plt.show()
17/114:
import matplotlib.pyplot as plt
from scipy.stats import poisson

np.random.seed(42)

poisson_samples = np.random.poisson(33, 10000)

bins = np.arange(0, max(poisson_samples) + 1.5) - 0.5

fig = plt.subplots(figsize = (15,10))

plt.hist(poisson_samples, bins = bins, density = True)

plt.xlabel('Estimated number of accidents per month', fontsize= 15)
plt.ylabel('PMF', fontsize = 15)
plt.title('PMF of estimated number of accidents per month', fontsize=20)

plt.show()
17/115:
import seaborn as sns

fig = plt.subplots(figsize = (15,10))

ecdf = sns.ecdfplot(data= poisson_samples)
plt.xlabel('Estimated number of accidents per month', fontsize=15)
plt.ylabel('ecdf',fontsize=15)
plt.title('CDF of estimated number of accident per month',fontsize=20)

ecdf
17/116:
import seaborn as sns

fig = plt.subplots(figsize = (15,10))

ecdf = sns.ecdfplot(data= poisson_samples)
plt.xlabel('Estimated number of accidents per month', fontsize=15)
plt.ylabel('ecdf',fontsize=15)
plt.title('CDF of estimated number of accident per month',fontsize=20)

plt.show()
17/117:
fig = plt.subplots(figsize = (15,10))

ecdf = sns.ecdfplot(data= data['timetoAccident_h'])
plt.xlabel('Estimated time between accidents in hours', fontsize=15)
plt.ylabel('ecdf',fontsize=15)
plt.title('CDF of estimated number of hours between accidents',fontsize=20)
plt.show()
17/118:

exponential_samples = np.random.exponential(mean, size= 10000)


fig = plt.subplots(figsize = (15,10))
ecdf_data = sns.ecdfplot(data= data['timetoAccident_h'], label= 'Actual data')
ecdf_theor = sns.ecdfplot(data= exponential_samples, label= 'Theoretical samples')
plt.xlabel('Estimated time between accidents in hours', fontsize = 15)
plt.ylabel('ecdf', fontsize = 15)
plt.legend(fontsize = 'large')
plt.title('CDF comparison of actual data and theoretical samples', fontsize= 20)

plt.show()
17/119:

for i in range(100):
    
    bs_sample = np.random.choice(data['timetoAccident_h'], size = len(data['timetoAccident'])

    bs_ecdf = ecdf(bs_sample, label= 'bs_samples') 



                                 
ecdf_data = sns.ecdfplot(data= data['timetoAccident_h'], label= 'Actual data')

plt.xlabel('Estimated average time between accidents in hours', fontsize = 15)
plt.ylabel('ecdf', fontsize = 15)
plt.title('CDF comparison of actual data and bootstrap samples', fontsize= 20)

plt.show()
17/120:

for i in range(100):
    
    bs_sample = np.random.choice(data['timetoAccident_h'], size = len(data['timetoAccident'])

    ecdf = ecdf(bs_sample, label= 'bs_samples') 



                                 
ecdf_data = sns.ecdfplot(data= data['timetoAccident_h'], label= 'Actual data')

plt.xlabel('Estimated average time between accidents in hours', fontsize = 15)
plt.ylabel('ecdf', fontsize = 15)
plt.title('CDF comparison of actual data and bootstrap samples', fontsize= 20)

plt.show()
17/121:

for i in range(100):
    
    bs_sample = np.random.choice(data['timetoAccident_h'], size = len(data['timetoAccident'])
    ecdf = ecdf(bs_sample, label= 'bs_samples') 



                                 
ecdf_data = sns.ecdfplot(data= data['timetoAccident_h'], label= 'Actual data')

plt.xlabel('Estimated average time between accidents in hours', fontsize = 15)
plt.ylabel('ecdf', fontsize = 15)
plt.title('CDF comparison of actual data and bootstrap samples', fontsize= 20)

plt.show()
17/122:

for i in range(100):
    
    bs_sample = np.random.choice(data['timetoAccident_h'], size = len(data['timetoAccident'])
    ecdf(bs_sample, label= 'bs_samples') 



                                 
ecdf_data = sns.ecdfplot(data= data['timetoAccident_h'], label= 'Actual data')

plt.xlabel('Estimated average time between accidents in hours', fontsize = 15)
plt.ylabel('ecdf', fontsize = 15)
plt.title('CDF comparison of actual data and bootstrap samples', fontsize= 20)

plt.show()
17/123:

for i in range(100):
    
    bs_sample = np.random.choice(data['timetoAccident_h'], size = len(data['timetoAccident'])
    bs_ecdf = sns.ecdfplot(bs_sample, label= 'bs_samples') 



                                 
ecdf_data = sns.ecdfplot(data= data['timetoAccident_h'], label= 'Actual data')

plt.xlabel('Estimated average time between accidents in hours', fontsize = 15)
plt.ylabel('ecdf', fontsize = 15)
plt.title('CDF comparison of actual data and bootstrap samples', fontsize= 20)

plt.show()
17/124:

for i in range(100):
    
    bs_sample = np.random.choice(data['timetoAccident_h'], size = len(data['timetoAccident'])
    ecdf_bs = sns.ecdfplot(bs_sample, label= 'bs_samples') 



                                 
ecdf_data = sns.ecdfplot(data= data['timetoAccident_h'], label= 'Actual data')

plt.xlabel('Estimated average time between accidents in hours', fontsize = 15)
plt.ylabel('ecdf', fontsize = 15)
plt.title('CDF comparison of actual data and bootstrap samples', fontsize= 20)

plt.show()
17/125:

for i in range(100):
    
    bs_sample = np.random.choice(data['timetoAccident_h'], size = len(data['timetoAccident'])
    
                                 ecdf_bs = sns.ecdfplot(bs_sample, label= 'bs_samples') 



                                 
ecdf_data = sns.ecdfplot(data= data['timetoAccident_h'], label= 'Actual data')

plt.xlabel('Estimated average time between accidents in hours', fontsize = 15)
plt.ylabel('ecdf', fontsize = 15)
plt.title('CDF comparison of actual data and bootstrap samples', fontsize= 20)

plt.show()
17/126:
fig = plt.subplots(figsize = (15,10))


for i in range(100):
    
    bs_sample = np.random.choice(data['timetoAccident_h'], size = len(data['timetoAccident'])
    
    ecdf_bs = sns.ecdfplot(bs_sample, label= 'bs_samples') 



ecdf_data = sns.ecdfplot(data= data['timetoAccident_h'], label= 'Actual data')

plt.xlabel('Estimated average time between accidents in hours', fontsize = 15)
plt.ylabel('ecdf', fontsize = 15)
plt.title('CDF comparison of actual data and bootstrap samples', fontsize= 20)

plt.show()
17/127:
fig = plt.subplots(figsize = (15,10))


 for i in range(100):
    
    bs_sample = np.random.choice(data['timetoAccident_h'], size = len(data['timetoAccident'])
    
    ecdf_bs = sns.ecdfplot(bs_sample, label= 'bs_samples') 



ecdf_data = sns.ecdfplot(data= data['timetoAccident_h'], label= 'Actual data')

plt.xlabel('Estimated average time between accidents in hours', fontsize = 15)
plt.ylabel('ecdf', fontsize = 15)
plt.title('CDF comparison of actual data and bootstrap samples', fontsize= 20)

plt.show()
17/128:
fig = plt.subplots(figsize = (15,10))


for i in range(100):
    bs_sample = np.random.choice(data['timetoAccident_h'], size = len(data['timetoAccident'])
    
    ecdf_bs = sns.ecdfplot(bs_sample, label= 'bs_samples') 



ecdf_data = sns.ecdfplot(data= data['timetoAccident_h'], label= 'Actual data')

plt.xlabel('Estimated average time between accidents in hours', fontsize = 15)
plt.ylabel('ecdf', fontsize = 15)
plt.title('CDF comparison of actual data and bootstrap samples', fontsize= 20)

plt.show()
17/129:
fig = plt.subplots(figsize = (15,10))


for i in range(100):
    bs_sample = np.random.choice(data['timetoAccident_h'], size = len(data['timetoAccident'])
    
    _ = sns.ecdfplot(bs_sample, label= 'bs_samples') 



ecdf_data = sns.ecdfplot(data= data['timetoAccident_h'], label= 'Actual data')

plt.xlabel('Estimated average time between accidents in hours', fontsize = 15)
plt.ylabel('ecdf', fontsize = 15)
plt.title('CDF comparison of actual data and bootstrap samples', fontsize= 20)

plt.show()
17/130:
fig = plt.subplots(figsize = (15,10))


for i in range(100):
    
    bs_sample = np.random.choice(data['timetoAccident_h'], size = len(data['timetoAccident'])
    
    ecdf_bs = sns.ecdfplot(bs_sample, label= 'bs_samples') 



ecdf_data = sns.ecdfplot(data= data['timetoAccident_h'], label= 'Actual data')

plt.xlabel('Estimated average time between accidents in hours', fontsize = 15)
plt.ylabel('ecdf', fontsize = 15)
plt.title('CDF comparison of actual data and bootstrap samples', fontsize= 20)

plt.show()
17/131:
fig = plt.subplots(figsize = (15,10))


for i in range(100):
    
    bs_sample = np.random.choice(data['timetoAccident_h'], size = len(data['timetoAccident'])
    
    ecdf_bs = sns.ecdfplot(bs_sample, label= 'bs_samples') 



ecdf_data = sns.ecdfplot(data= data['timetoAccident_h'], label= 'Actual data')

plt.xlabel('Estimated average time between accidents in hours', fontsize = 15)
plt.ylabel('ecdf', fontsize = 15)
plt.title('CDF comparison of actual data and bootstrap samples', fontsize= 20)

plt.show()
17/132:
import pandas as pd

data = pd.read_csv('database.csv')

data
17/133:
cols_of_interest = ['Accident Year', 'Accident Date/Time', 'Operator Name', 'Liquid Type', 'Property Damage Costs', 'All Costs' ]

data = data[cols_of_interest]

data
17/134:
data_summary = data[['Property Damage Costs','All Costs']].describe()

data_summary
17/135:
fig = plt.subplots(figsize = (15,10))

_ = sns.boxplot(x= data['Property Damage Costs'], data= data)

_ = plt.title('Property Damage Costs')

plt.show()
17/136:
fig = plt.subplots(figsize = (15,10))

_ = sns.boxplot(x='All Costs', data = data)

_ = plt.title('All Costs')

plt.show()
17/137:
import numpy as np

data['Accident Date/Time'] = pd.to_datetime(data['Accident Date/Time'])

timespan = np.max(data['Accident Date/Time']) - np.min(data['Accident Date/Time'])

timespan_s = timespan.total_seconds()

timespan_h = timespan.total_seconds() / 60**2

timespan_m = timespan.total_seconds() / 2.628e+6

lmda_h = len(data) / timespan_h

lmda_m = len(data) / timespan_m

print('Estimated number of accident per hour :', lmda_h)
print('Estimated number of accidents per month:', lmda_m)
17/138:
import matplotlib.pyplot as plt
from scipy.stats import poisson

np.random.seed(42)

poisson_samples = np.random.poisson(33, 10000)

bins = np.arange(0, max(poisson_samples) + 1.5) - 0.5

fig = plt.subplots(figsize = (15,10))

plt.hist(poisson_samples, bins = bins, density = True)

plt.xlabel('Estimated number of accidents per month', fontsize= 15)
plt.ylabel('PMF', fontsize = 15)
plt.title('PMF of estimated number of accidents per month', fontsize=20)

plt.show()
17/139:
p_33_avg_acc_m = poisson.pmf(k=33, mu=33)
p_33_avg_acc_m
17/140:
import seaborn as sns

fig = plt.subplots(figsize = (15,10))

ecdf = sns.ecdfplot(data= poisson_samples)

plt.xlabel('Estimated number of accidents per month', fontsize=15)
plt.ylabel('ecdf',fontsize=15)
plt.title('CDF of estimated number of accident per month',fontsize=20)

plt.show()
17/141:
data.sort_values(by=['Accident Date/Time'], ascending = True, inplace = True)

data['timetoAccident'] = data['Accident Date/Time'].diff() #compute time between each accident

data= data[data.timetoAccident.notnull()]

data['timetoAccident_h']= data.apply(lambda x : x['timetoAccident'].total_seconds() /60**2, axis = 1)

data['timetoAccident_h']

mean = np.mean(data['timetoAccident_h'])

print('The estimated average hourse between accidents is', mean)
17/142:
fig = plt.subplots(figsize = (15,10))

ecdf = sns.ecdfplot(data= data['timetoAccident_h'])

plt.xlabel('Estimated time between accidents in hours', fontsize=15)
plt.ylabel('ecdf',fontsize=15)
plt.title('CDF of estimated number of hours between accidents',fontsize=20)
plt.show()
17/143:

exponential_samples = np.random.exponential(mean, size= 10000)


fig = plt.subplots(figsize = (15,10))

ecdf_data = sns.ecdfplot(data= data['timetoAccident_h'], label= 'Actual data')

ecdf_theor = sns.ecdfplot(data= exponential_samples, label= 'Theoretical samples')

plt.xlabel('Estimated time between accidents in hours', fontsize = 15)
plt.ylabel('ecdf', fontsize = 15)
plt.legend(fontsize = 'large')
plt.title('CDF comparison of actual data and theoretical samples', fontsize= 20)

plt.show()
17/144:
fig = plt.subplots(figsize = (15,10))


for i in range(100):
    
    bs_sample = np.random.choice(data['timetoAccident_h'], size = len(data['timetoAccident'])
    
    ecdf_bs = sns.ecdfplot(bs_sample, label= 'bs_samples') 



ecdf_data = sns.ecdfplot(data= data['timetoAccident_h'], label= 'Actual data')

plt.xlabel('Estimated average time between accidents in hours', fontsize = 15)
plt.ylabel('ecdf', fontsize = 15)
plt.title('CDF comparison of actual data and bootstrap samples', fontsize= 20)

plt.show()
17/145:
fig = plt.subplots(figsize = (15,10))


for i in range(100):
    
    bs_sample = np.random.choice(data['timetoAccident_h'], size = len(data['timetoAccident'])
    
    ecdf_bs = sns.ecdfplot(bs_sample, label= 'bs_samples') 



ecdf_data = sns.ecdfplot(data= data['timetoAccident_h'], label= 'Actual data')

plt.xlabel('Estimated average time between accidents in hours', fontsize = 15)
plt.ylabel('ecdf', fontsize = 15)
plt.title('CDF comparison of actual data and bootstrap samples', fontsize= 20)

plt.show()
17/146:
fig = plt.subplots(figsize = (15,10))


for i in range(100):
    
    bs_sample = np.random.choice(data['timetoAccident_h'], size = len(data['timetoAccident'])
    
     ecdf_bs = sns.ecdfplot(bs_sample, label= 'bs_samples') 



ecdf_data = sns.ecdfplot(data= data['timetoAccident_h'], label= 'Actual data')

plt.xlabel('Estimated average time between accidents in hours', fontsize = 15)
plt.ylabel('ecdf', fontsize = 15)
plt.title('CDF comparison of actual data and bootstrap samples', fontsize= 20)

plt.show()
17/147:
fig = plt.subplots(figsize = (15,10))


for i in range(100):
    
    bs_sample = np.random.choice(data['timetoAccident_h'], size = len(data['timetoAccident'])
    
      ecdf_bs = sns.ecdfplot(bs_sample, label= 'bs_samples') 



ecdf_data = sns.ecdfplot(data= data['timetoAccident_h'], label= 'Actual data')

plt.xlabel('Estimated average time between accidents in hours', fontsize = 15)
plt.ylabel('ecdf', fontsize = 15)
plt.title('CDF comparison of actual data and bootstrap samples', fontsize= 20)

plt.show()
17/148:
fig = plt.subplots(figsize = (15,10))


for i in range(100):
    
    bs_sample = np.random.choice(data['timetoAccident_h'], size = len(data['timetoAccident'])
    
    ecdf_bs = sns.ecdfplot(bs_sample, label= 'bs_samples') 



ecdf_data = sns.ecdfplot(data= data['timetoAccident_h'], label= 'Actual data')

plt.xlabel('Estimated average time between accidents in hours', fontsize = 15)
plt.ylabel('ecdf', fontsize = 15)
plt.title('CDF comparison of actual data and bootstrap samples', fontsize= 20)

plt.show()
17/149:
fig = plt.subplots(figsize = (15,10))


for i in range(100):
    
    bs_sample = np.random.choice(data['timetoAccident_h'], size = len(data['timetoAccident'])
    
    sns.ecdfplot(bs_sample, label= 'bs_samples') 



ecdf_data = sns.ecdfplot(data= data['timetoAccident_h'], label= 'Actual data')

plt.xlabel('Estimated average time between accidents in hours', fontsize = 15)
plt.ylabel('ecdf', fontsize = 15)
plt.title('CDF comparison of actual data and bootstrap samples', fontsize= 20)

plt.show()
17/150:
fig = plt.subplots(figsize = (15,10))


for i in range(100):
    
    bs_sample = np.random.choice(data['timetoAccident_h'], size = len(data['timetoAccident'])
    
    ecdf_bs = sns.ecdfplot(data = bs_sample, label= 'bs_samples') 



ecdf_data = sns.ecdfplot(data= data['timetoAccident_h'], label= 'Actual data')

plt.xlabel('Estimated average time between accidents in hours', fontsize = 15)
plt.ylabel('ecdf', fontsize = 15)
plt.title('CDF comparison of actual data and bootstrap samples', fontsize= 20)

plt.show()
17/151:
fig = plt.subplots(figsize = (15,10))


for i in range(100):
    
    bs_sample = np.random.choice(data['timetoAccident_h'], size = len(data['timetoAccident'])
    ecdf_bs = sns.ecdfplot(data = bs_sample, label= 'bs_samples') 



ecdf_data = sns.ecdfplot(data= data['timetoAccident_h'], label= 'Actual data')

plt.xlabel('Estimated average time between accidents in hours', fontsize = 15)
plt.ylabel('ecdf', fontsize = 15)
plt.title('CDF comparison of actual data and bootstrap samples', fontsize= 20)

plt.show()
17/152:
fig = plt.subplots(figsize = (15,10))


for i in range(100):
    
    bs_sample = np.random.choice(data['timetoAccident_h'], size = len(data['timetoAccident'])
    
                                 ecdf_bs = sns.ecdfplot(data = bs_sample, label= 'bs_samples') 



ecdf_data = sns.ecdfplot(data= data['timetoAccident_h'], label= 'Actual data')

plt.xlabel('Estimated average time between accidents in hours', fontsize = 15)
plt.ylabel('ecdf', fontsize = 15)
plt.title('CDF comparison of actual data and bootstrap samples', fontsize= 20)

plt.show()
17/153:
fig = plt.subplots(figsize = (15,10))


for i in range(100):
    
    bs_sample = np.random.choice(data['timetoAccident_h'], size = len(data['timetoAccident'])
    
ecdf_bs = sns.ecdfplot(data = bs_sample, label= 'bs_samples') 



ecdf_data = sns.ecdfplot(data= data['timetoAccident_h'], label= 'Actual data')

plt.xlabel('Estimated average time between accidents in hours', fontsize = 15)
plt.ylabel('ecdf', fontsize = 15)
plt.title('CDF comparison of actual data and bootstrap samples', fontsize= 20)

plt.show()
17/154:
fig = plt.subplots(figsize = (15,10))


for i in range(100):
    
    bs_sample = np.random.choice(data['timetoAccident_h'], size = len(data['timetoAccident'])
    
    ecdf_bs = sns.ecdfplot(data = bs_sample, label= 'bs_samples') 



ecdf_data = sns.ecdfplot(data= data['timetoAccident_h'], label= 'Actual data')

plt.xlabel('Estimated average time between accidents in hours', fontsize = 15)
plt.ylabel('ecdf', fontsize = 15)
plt.title('CDF comparison of actual data and bootstrap samples', fontsize= 20)

plt.show()
17/155:
fig = plt.subplots(figsize = (15,10))


for i in range(100):
    
    bs_sample = np.random.choice(data['timetoAccident_h'], size = len(data['timetoAccident'])
    
    ecdf_bs = sns.ecdfplot(data = bs_sample, label= 'bs_samples') 



ecdf_data = sns.ecdfplot(data= data['timetoAccident_h'], label= 'Actual data')

plt.xlabel('Estimated average time between accidents in hours', fontsize = 15)
plt.ylabel('ecdf', fontsize = 15)
plt.title('CDF comparison of actual data and bootstrap samples', fontsize= 20)

plt.show()
17/156:
fig = plt.subplots(figsize = (15,10))


for i in range(100):
    
    bs_sample = np.random.choice(data['timetoAccident_h'], size = len(data['timetoAccident'])
    
    ecdf = sns.ecdfplot(data = bs_sample, label= 'bs_samples') 



ecdf_data = sns.ecdfplot(data= data['timetoAccident_h'], label= 'Actual data')

plt.xlabel('Estimated average time between accidents in hours', fontsize = 15)
plt.ylabel('ecdf', fontsize = 15)
plt.title('CDF comparison of actual data and bootstrap samples', fontsize= 20)

plt.show()
17/157:
fig = plt.subplots(figsize = (15,10))


for i in range(100):
    
    bs_sample = np.random.choice(data['timetoAccident_h'], size = len(data['timetoAccident'])
    
    ecdf = sns.ecdfplot(data = bs_sample, label= 'bs_samples') 


                                 
ecdf_data = sns.ecdfplot(data= data['timetoAccident_h'], label= 'Actual data')

plt.xlabel('Estimated average time between accidents in hours', fontsize = 15)
plt.ylabel('ecdf', fontsize = 15)
plt.title('CDF comparison of actual data and bootstrap samples', fontsize= 20)

plt.show()
17/158:
fig = plt.subplots(figsize = (15,10))


for i in range(100):
    
    bs_sample = np.random.choice(data['timetoAccident_h'], size = len(data['timetoAccident'])
    
    ecdf_bs = sns.ecdfplot(data = bs_sample, label= 'bs_samples') 
                                 
ecdf_data = sns.ecdfplot(data = data['timetoAccident_h'], label = 'Actual data')                                  
                                 
plt.xlabel('Estimated average time between accidents in hours', fontsize = 15)
plt.ylabel('ecdf', fontsize = 15)
plt.title('CDF comparison of actual data and bootstrap samples', fontsize= 20)

plt.show()
17/159:
fig = plt.subplots(figsize = (15,10))


for i in range(100):
    
    bs_sample = np.random.choice(data['timetoAccident_h'], size = len(data['timetoAccident'])
    
    ecdf_bs = sns.ecdfplot(data = bs_sample, label= 'bs_samples') 
                                 

ecdf_data = sns.ecdfplot(data = data['timetoAccident_h'], label = 'Actual data')                                  
                                 
plt.xlabel('Estimated average time between accidents in hours', fontsize = 15)
plt.ylabel('ecdf', fontsize = 15)
plt.title('CDF comparison of actual data and bootstrap samples', fontsize= 20)

plt.show()
17/160:
fig = plt.subplots(figsize = (15,10))


for i in range(100):
    
    bs_sample = np.random.choice(data['timetoAccident_h'], size = len(data['timetoAccident'])
    
    ecdf_bs = sns.ecdfplot(data = bs_sample, label= 'bs_samples') 
                                 

ecdf_data = sns.ecdfplot(data = data['timetoAccident_h'], label = 'Actual data')                                  
                                 
plt.xlabel('Estimated average time between accidents in hours', fontsize = 15)
plt.ylabel('ecdf', fontsize = 15)
plt.title('CDF comparison of actual data and bootstrap samples', fontsize= 20)

plt.show()
17/161:
for i in range(10):
    sns.ecdfplot(data = data['timetoAccident_h'])

plt.show()
17/162:
for i in range(10):
    ecdf = sns.ecdfplot(data = data['timetoAccident_h'])

plt.show()
17/163:
fig = plt.subplots(figsize = (15,10))


for i in range(100):
    
    bs_sample = np.random.choice(data['timetoAccident_h'], size = len(data['timetoAccident'])
    
    ecdf_bs = sns.ecdfplot(data = bs_sample, label= 'bs_samples') 
                                 

ecdf_data = sns.ecdfplot(data = data['timetoAccident_h'], label = 'Actual data')                                  
                                 
plt.xlabel('Estimated average time between accidents in hours', fontsize = 15)
plt.ylabel('ecdf', fontsize = 15)
plt.title('CDF comparison of actual data and bootstrap samples', fontsize= 20)

plt.show()
17/164:
fig = plt.subplots(figsize = (15,10))
___ =plt.gca()

for i in range(100):
    
    bs_sample = np.random.choice(data['timetoAccident_h'], size = len(data['timetoAccident'])
    
    ecdf_bs = sns.ecdfplot(data = bs_sample, label= 'bs_samples') 
                                 

ecdf_data = sns.ecdfplot(data = data['timetoAccident_h'], label = 'Actual data')                                  
                                 
plt.xlabel('Estimated average time between accidents in hours', fontsize = 15)
plt.ylabel('ecdf', fontsize = 15)
plt.title('CDF comparison of actual data and bootstrap samples', fontsize= 20)

plt.show()
17/165:
fig = plt.subplots(figsize = (15,10))
___ =plt.gca()

for i in range(100):
    
    bs_sample = np.random.choice(data['timetoAccident_h'], size = len(data['timetoAccident'])
    
     ecdf_bs = sns.ecdfplot(data = bs_sample, label= 'bs_samples') 
                                 

ecdf_data = sns.ecdfplot(data = data['timetoAccident_h'], label = 'Actual data')                                  
                                 
plt.xlabel('Estimated average time between accidents in hours', fontsize = 15)
plt.ylabel('ecdf', fontsize = 15)
plt.title('CDF comparison of actual data and bootstrap samples', fontsize= 20)

plt.show()
17/166:
fig = plt.subplots(figsize = (15,10))
___ =plt.gca()

for i in range(100):
    
    bs_sample = np.random.choice(data['timetoAccident_h'], size = len(data['timetoAccident'])
    
    ecdf_bs = sns.ecdfplot(data = bs_sample, label= 'bs_samples') 
                                 

ecdf_data = sns.ecdfplot(data = data['timetoAccident_h'], label = 'Actual data')                                  
                                 
plt.xlabel('Estimated average time between accidents in hours', fontsize = 15)
plt.ylabel('ecdf', fontsize = 15)
plt.title('CDF comparison of actual data and bootstrap samples', fontsize= 20)

plt.show()
17/167:
fig = plt.subplots(figsize = (15,10))
___ =plt.gca()

for i in range(100):
    
    bs_sample = np.random.choice(data['timetoAccident_h'], size = len(data['timetoAccident'])
    
    ecdf_bs = sns.ecdfplot(data = bs_sample, label= 'bs_samples',marker='.', linestyle='none',
                 color='red', alpha=0.1) 
                                 

ecdf_data = sns.ecdfplot(data = data['timetoAccident_h'], label = 'Actual data')                                  
                                 
plt.xlabel('Estimated average time between accidents in hours', fontsize = 15)
plt.ylabel('ecdf', fontsize = 15)
plt.title('CDF comparison of actual data and bootstrap samples', fontsize= 20)

plt.show()
17/168:
fig = plt.subplots(figsize = (15,10))
___ =plt.gca()

for i in range(100):
    
    bs_sample = np.random.choice(data['timetoAccident_h'], size = len(data['timetoAccident'])
    
    ecdf_bs = sns.ecdfplot(data = bs_sample, label= 'bs_samples',marker='.',
                 color='red', alpha=0.1) 
                                 

ecdf_data = sns.ecdfplot(data = data['timetoAccident_h'], label = 'Actual data')                                  
                                 
plt.xlabel('Estimated average time between accidents in hours', fontsize = 15)
plt.ylabel('ecdf', fontsize = 15)
plt.title('CDF comparison of actual data and bootstrap samples', fontsize= 20)

plt.show()
17/169:
fig = plt.subplots(figsize = (15,10))
___ =plt.gca()

for i in range(100):
    
    bs_sample = np.random.choice(data['timetoAccident_h'], size = len(data['timetoAccident'])
    
    ___ = sns.ecdfplot(data = bs_sample, label= 'bs_samples',marker='.',
                 color='red', alpha=0.1) 
                                 

___ = sns.ecdfplot(data = data['timetoAccident_h'], label = 'Actual data')                                  
                                 
plt.xlabel('Estimated average time between accidents in hours', fontsize = 15)
plt.ylabel('ecdf', fontsize = 15)
plt.title('CDF comparison of actual data and bootstrap samples', fontsize= 20)

plt.show()
17/170:
fig = plt.subplots(figsize = (15,10))
___ =plt.gca()

for i in range(100):
    
    bs_sample = np.random.choice(data['timetoAccident_h'], size = len(data['timetoAccident'])
    
    ecdf_bs = sns.ecdfplot(data = bs_sample, label= 'bs_samples',marker='.',
                 color='red', alpha=0.1) 
                                 

ecdf_data = sns.ecdfplot(data = data['timetoAccident_h'], label = 'Actual data')                                  
                                 
plt.xlabel('Estimated average time between accidents in hours', fontsize = 15)
plt.ylabel('ecdf', fontsize = 15)
plt.title('CDF comparison of actual data and bootstrap samples', fontsize= 20)

plt.show()
17/171:
fig = plt.subplots(figsize = (15,10))


for i in range(100):
    
    bs_sample = np.random.choice(data['timetoAccident_h'], size = len(data['timetoAccident'])
    ecdf_bs = sns.ecdfplot(data = bs_sample, label= 'bs_samples',marker='.',
                 color='red', alpha=0.1) 
                                 

ecdf_data = sns.ecdfplot(data = data['timetoAccident_h'], label = 'Actual data')                                  
                                 
plt.xlabel('Estimated average time between accidents in hours', fontsize = 15)
plt.ylabel('ecdf', fontsize = 15)
plt.title('CDF comparison of actual data and bootstrap samples', fontsize= 20)

plt.show()
17/172:
fig = plt.subplots(figsize = (15,10))


for i in range(100):
    
    bs_sample = np.random.choice(data['timetoAccident_h'], size = len(data['timetoAccident'])
                                 
                                 
                                 
ecdf_bs = sns.ecdfplot(data = bs_sample, label= 'bs_samples',marker='.',
                 color='red', alpha=0.1) 
                                 

ecdf_data = sns.ecdfplot(data = data['timetoAccident_h'], label = 'Actual data')                                  
                                 
plt.xlabel('Estimated average time between accidents in hours', fontsize = 15)
plt.ylabel('ecdf', fontsize = 15)
plt.title('CDF comparison of actual data and bootstrap samples', fontsize= 20)

plt.show()
17/173:
fig = plt.subplots(figsize = (15,10))

for i in range(100):
    bs_samples = np.random.choice(data['timetoAccident'], size = len(data['timetoAccident'])
    ecdf_bs = sns.ecdfplot(data = bs_samples,marker = '.', linestyle = 'none', color = 'red', aplha = 0.1)
                                 
                                 

                                 

ecdf_data = sns.ecdfplot(data = data['timetoAccident_h'], label = 'Actual data')                                  
                                 
plt.xlabel('Estimated average time between accidents in hours', fontsize = 15)
plt.ylabel('ecdf', fontsize = 15)
plt.title('CDF comparison of actual data and bootstrap samples', fontsize= 20)

plt.show()
17/174:
fig = plt.subplots(figsize = (15,10))

for i in range(100):
    
    bs_samples = np.random.choice(data['timetoAccident'], size = len(data['timetoAccident'])
    
    ecdf_bs = sns.ecdfplot(data = bs_samples,marker = '.', linestyle = 'none', color = 'red', aplha = 0.1)
                                 
 end                                

                                 

ecdf_data = sns.ecdfplot(data = data['timetoAccident_h'], label = 'Actual data')                                  
                                 
plt.xlabel('Estimated average time between accidents in hours', fontsize = 15)
plt.ylabel('ecdf', fontsize = 15)
plt.title('CDF comparison of actual data and bootstrap samples', fontsize= 20)

plt.show()
17/175:
fig = plt.subplots(figsize = (15,10))

for i in range(100):
    
    bs_samples = np.random.choice(data['timetoAccident'], size = len(data['timetoAccident'])
    
    ecdf_bs = sns.ecdfplot(data = bs_samples,marker = '.', linestyle = 'none', color = 'red', alpha = 0.1)
                                 
 end                                

                                 

ecdf_data = sns.ecdfplot(data = data['timetoAccident_h'], label = 'Actual data')                                  
                                 
plt.xlabel('Estimated average time between accidents in hours', fontsize = 15)
plt.ylabel('ecdf', fontsize = 15)
plt.title('CDF comparison of actual data and bootstrap samples', fontsize= 20)

plt.show()
17/176:
fig = plt.subplots(figsize = (15,10))

for i in range(100):
    
    bs_samples = np.random.choice(data['timetoAccident'], size = len(data['timetoAccident'])
    
    ecdf_bs = sns.ecdfplot(data = bs_samples,marker = '.', linestyle = 'none', color = 'red', alpha =                               

                                 

ecdf_data = sns.ecdfplot(data = data['timetoAccident_h'], label = 'Actual data')                                  
                                 
plt.xlabel('Estimated average time between accidents in hours', fontsize = 15)
plt.ylabel('ecdf', fontsize = 15)
plt.title('CDF comparison of actual data and bootstrap samples', fontsize= 20)

plt.show()
17/177:
fig = plt.subplots(figsize = (15,10))

for i in range(100):
    
    bs_samples = np.random.choice(data['timetoAccident'], size = len(data['timetoAccident'])
    
    ecdf_bs = sns.ecdfplot(data = bs_samples,marker = '.', linestyle = 'none', color = 'red', alpha =                               

                                 

ecdf_data = sns.ecdfplot(data = data['timetoAccident_h'], label = 'Actual data')                                  
                                 
plt.xlabel('Estimated average time between accidents in hours', fontsize = 15)
plt.ylabel('ecdf', fontsize = 15)
plt.title('CDF comparison of actual data and bootstrap samples', fontsize= 20)

plt.show()
17/178:
fig = plt.subplots(figsize = (15,10))

for i in range(100):
    
    bs_samples = np.random.choice(data['timetoAccident'], size = len(data['timetoAccident'])
    
    ecdf_bs = sns.ecdfplot(data = bs_samples,marker = '.', linestyle = 'none', color = 'red', 
                           alpha = 0.1)                             

                                 

ecdf_data = sns.ecdfplot(data = data['timetoAccident_h'], label = 'Actual data')                                  
                                 
plt.xlabel('Estimated average time between accidents in hours', fontsize = 15)
plt.ylabel('ecdf', fontsize = 15)
plt.title('CDF comparison of actual data and bootstrap samples', fontsize= 20)

plt.show()
17/179:
fig = plt.subplots(figsize = (15,10))

for i in range(100):
    
    bs_samples = np.random.choice(data['timetoAccident'], size = len(data['timetoAccident'])
    
    ecdf_bs = sns.ecdfplot(data = bs_samples)                   

                                 

ecdf_data = sns.ecdfplot(data = data['timetoAccident_h'], label = 'Actual data')                                  
                                 
plt.xlabel('Estimated average time between accidents in hours', fontsize = 15)
plt.ylabel('ecdf', fontsize = 15)
plt.title('CDF comparison of actual data and bootstrap samples', fontsize= 20)

plt.show()
17/180:
fig = plt.subplots(figsize = (15,10))

for i in range(100):
    bs_samples = np.random.choice(data['timetoAccident'], size = len(data['timetoAccident'])
    ecdf_bs = sns.ecdfplot(data = bs_samples)                   

                                 

ecdf_data = sns.ecdfplot(data = data['timetoAccident_h'], label = 'Actual data')                                  
                                 
plt.xlabel('Estimated average time between accidents in hours', fontsize = 15)
plt.ylabel('ecdf', fontsize = 15)
plt.title('CDF comparison of actual data and bootstrap samples', fontsize= 20)

plt.show()
17/181:
fig = plt.subplots(figsize = (15,10))

for i in range(100):
    bs_samples = np.random.choice(data['timetoAccident'], size = len(data['timetoAccident'])
                      

                                 

ecdf_data = sns.ecdfplot(data = data['timetoAccident_h'], label = 'Actual data')                                  
                                 
plt.xlabel('Estimated average time between accidents in hours', fontsize = 15)
plt.ylabel('ecdf', fontsize = 15)
plt.title('CDF comparison of actual data and bootstrap samples', fontsize= 20)

plt.show()
17/182:
fig = plt.subplots(figsize = (15,10))

for i in range(100):
    bs_samples = np.random.choice(data['timetoAccident'], size = len(data['timetoAccident'])
                      

                                 


                                  
                                  
                                  
ecdf_data = sns.ecdfplot(data = data['timetoAccident_h'], label = 'Actual data')                                  
                                 
plt.xlabel('Estimated average time between accidents in hours', fontsize = 15)
plt.ylabel('ecdf', fontsize = 15)
plt.title('CDF comparison of actual data and bootstrap samples', fontsize= 20)

plt.show()
17/183:
fig = plt.subplots(figsize = (15,10))

for i in range(100):
    bs_samples= np.random.choice(data['timetoAccident_h'], size = len(data['timetoAccident_h'])
    ecdf_bs = sns.ecdfplot(data = bs_samples, label = 'Bootstrap samples')
                            
ecdf_data = sns.ecdfplot(data= data['timetoAccident_h'], label= 'Actual data')

plt.xlabel('Estimated time between accidents in hours', fontsize = 15)
plt.ylabel('ecdf')
plt.title('CDF comparison of actual data and bootstrap samples', fontsize= 20)

plt.show()
17/184:
fig = plt.subplots(figsize = (15,10))

for i in range(100):
    bs_samples= np.random.choice(data['timetoAccident_h'], size = len(data['timetoAccident_h'])
    ecdf_bs = sns.ecdfplot(data = bs_samples, 
                           label = 'Bootstrap samples')
                            
ecdf_data = sns.ecdfplot(data= data['timetoAccident_h'], label= 'Actual data')

plt.xlabel('Estimated time between accidents in hours', fontsize = 15)
plt.ylabel('ecdf')
plt.title('CDF comparison of actual data and bootstrap samples', fontsize= 20)

plt.show()
17/185:
fig = plt.subplots(figsize = (15,10))

for i in range(100):
    bs_samples= np.random.choice(data['timetoAccident_h'], size = len(data['timetoAccident_h'])
    ecdf_bs = sns.ecdfplot(data = bs_samples, 
                           label = 'Bootstrap samples')
                            
ecdf_data = sns.ecdfplot(data= data['timetoAccident_h'], label= 'Actual data')

plt.xlabel('Estimated time between accidents in hours', fontsize = 15)
plt.ylabel('ecdf')
plt.title('CDF comparison of actual data and bootstrap samples', fontsize= 20)

plt.show()
17/186:
fig = plt.subplots(figsize = (15,10))

for i in range(100):
    bs_samples= np.random.choice(data['timetoAccident_h'], size = len(data['timetoAccident_h'])
     ecdf_bs = sns.ecdfplot(data = bs_samples, 
                           label = 'Bootstrap samples')
                            
ecdf_data = sns.ecdfplot(data= data['timetoAccident_h'], label= 'Actual data')

plt.xlabel('Estimated time between accidents in hours', fontsize = 15)
plt.ylabel('ecdf')
plt.title('CDF comparison of actual data and bootstrap samples', fontsize= 20)

plt.show()
17/187:
fig = plt.subplots(figsize = (15,10))

for i in range(100):
    bs_samples= np.random.choice(data['timetoAccident_h'], size = len(data['timetoAccident_h'])
    ecdf_bs = sns.ecdfplot(data = bs_samples, 
                           label = 'Bootstrap samples')
                            
 ecdf_data = sns.ecdfplot(data= data['timetoAccident_h'], label= 'Actual data')

plt.xlabel('Estimated time between accidents in hours', fontsize = 15)
plt.ylabel('ecdf')
plt.title('CDF comparison of actual data and bootstrap samples', fontsize= 20)

plt.show()
17/188:
fig = plt.subplots(figsize = (15,10))

for i in range(100):
    bs_samples= np.random.choice(data['timetoAccident_h'], size = len(data['timetoAccident_h'])
    
                                 ecdf_bs = sns.ecdfplot(data = bs_samples, 
                           label = 'Bootstrap samples')
                            
 ecdf_data = sns.ecdfplot(data= data['timetoAccident_h'], label= 'Actual data')

plt.xlabel('Estimated time between accidents in hours', fontsize = 15)
plt.ylabel('ecdf')
plt.title('CDF comparison of actual data and bootstrap samples', fontsize= 20)

plt.show()
17/189:
fig = plt.subplots(figsize = (15,10))

for i in range(100):
    bs_samples= np.random.choice(data['timetoAccident_h'], size = len(data['timetoAccident_h'])
    
    ecdf_bs = sns.ecdfplot(data = bs_samples, 
                           label = 'Bootstrap samples')
17/190:
fig = plt.subplots(figsize = (15,10))

for i in range(100):
     bs_samples= np.random.choice(data['timetoAccident_h'], size = len(data['timetoAccident_h']),
    
     ecdf_bs = sns.ecdfplot(data = bs_samples, label = 'Bootstrap samples')
17/191:
fig = plt.subplots(figsize = (15,10))

for i in range(100):
     bs_samples= np.random.choice(data['timetoAccident_h'], size = len(data['timetoAccident_h'])
    
     ecdf_bs = sns.ecdfplot(data = bs_samples, label = 'Bootstrap samples')
17/192:
fig = plt.subplots(figsize = (15,10))

for i in range(100):
     
        bs_samples= np.random.choice(data['timetoAccident_h'], size = len(data['timetoAccident_h'])
    
     
ecdf_bs = sns.ecdfplot(data = bs_samples, label = 'Bootstrap samples')
17/193:
fig = plt.subplots(figsize = (15,10))

for i in range(100):
     
        bs_samples= np.random.choice(data['timetoAccident_h'], size = len(data['timetoAccident_h'])
        
        ecdf_bs = sns.ecdfplot(data = bs_samples, label = 'Bootstrap samples')
     

plt.show()
17/194:
fig = plt.subplots(figsize = (15,10))

for i in range(100): 
    bs_samples = np.random.choice(data['timetoAccident_h'], size = len(data['timetoAccident'])) 
    ecdf_bs = sns.ecdfplot(data = bs_samples, label='bootstrap samples')
17/195:
fig = plt.subplots(figsize = (15,10))

for i in range(100): 
    bs_samples = np.random.choice(data['timetoAccident_h'], size = len(data['timetoAccident'])) 
    ecdf_bs = sns.ecdfplot(data = bs_samples, label='bootstrap samples', color='red', marker='.', linestyle = 'none', alpha=0.1)

ecdf_data = sns.ecdfplot(data= data['timetoAccident_h'], label= 'Actual data')

plt.xlabel('Estimated time between accidents in hours', fontsize = 15)
plt.ylabel('ecdf', fontsize = 15)
plt.title('CDF comparison of actual data and bootstrap samples', fontsize= 20)

plt.show()
17/196:
fig = plt.subplots(figsize = (15,10))

for i in range(100): 
    bs_samples = np.random.choice(data['timetoAccident_h'], size = len(data['timetoAccident'])) 
    ecdf_bs = sns.ecdfplot(data = bs_samples, label='bootstrap samples', color='red', marker='.', linestyle = 'none', alpha=0.2)

ecdf_data = sns.ecdfplot(data= data['timetoAccident_h'], label= 'Actual data')

plt.xlabel('Estimated time between accidents in hours', fontsize = 15)
plt.ylabel('ecdf', fontsize = 15)
plt.title('CDF comparison of actual data and bootstrap samples', fontsize= 20)

plt.show()
17/197:
fig = plt.subplots(figsize = (15,10))

for i in range(100): 
    bs_samples = np.random.choice(data['timetoAccident_h'], size = len(data['timetoAccident'])) 
    ecdf_bs = sns.ecdfplot(data = bs_samples, label='bootstrap samples', color='red', marker='.', linestyle = 'none', alpha=0.5)

ecdf_data = sns.ecdfplot(data= data['timetoAccident_h'], label= 'Actual data')

plt.xlabel('Estimated time between accidents in hours', fontsize = 15)
plt.ylabel('ecdf', fontsize = 15)
plt.title('CDF comparison of actual data and bootstrap samples', fontsize= 20)

plt.show()
17/198:
fig = plt.subplots(figsize = (15,10))

for i in range(100): 
    bs_samples = np.random.choice(data['timetoAccident_h'], size = len(data['timetoAccident'])) 
    ecdf_bs = sns.ecdfplot(data = bs_samples, label='bootstrap samples', color='red', marker='.', linestyle = 'none', alpha=0.9)

ecdf_data = sns.ecdfplot(data= data['timetoAccident_h'], label= 'Actual data')

plt.xlabel('Estimated time between accidents in hours', fontsize = 15)
plt.ylabel('ecdf', fontsize = 15)
plt.title('CDF comparison of actual data and bootstrap samples', fontsize= 20)

plt.show()
17/199:
fig = plt.subplots(figsize = (15,10))

for i in range(100): 
    bs_samples = np.random.choice(data['timetoAccident_h'], size = len(data['timetoAccident'])) 
    ecdf_bs = sns.ecdfplot(data = bs_samples, label='bootstrap samples', color='red', marker='.', linestyle = 'none', alpha=0.9)

ecdf_data = sns.ecdfplot(data= data['timetoAccident_h'], label= 'Actual data')

plt.xlabel('Estimated time between accidents in hours', fontsize = 15)
plt.ylabel('ecdf', fontsize = 15)
plt.legend(fontsize='large')
plt.title('CDF comparison of actual data and bootstrap samples', fontsize= 20)

plt.show()
17/200:
fig = plt.subplots(figsize = (15,10))

for i in range(100): 
    bs_samples = np.random.choice(data['timetoAccident_h'], size = len(data['timetoAccident'])) 
    ecdf_bs = sns.ecdfplot(data = bs_samples, color='red', marker='.', linestyle = 'none', alpha=0.9)

ecdf_data = sns.ecdfplot(data= data['timetoAccident_h'], label= 'Actual data')

plt.xlabel('Estimated time between accidents in hours', fontsize = 15)
plt.ylabel('ecdf', fontsize = 15)
plt.legend(fontsize='large')
plt.title('CDF comparison of actual data and bootstrap samples', fontsize= 20)

plt.show()
17/201:
def bootstrap_replicate_1d(data, func):
    #Generate bootstrap replicate of 
    
    bs_sample = np.random.choice(data, len(data))
    
    return func(bs_sample)

def draw_bs_reps(data, func, size=1):
    #Draw bootstrap replicates

    bs_replicates = np.empty(size)
    
    for i in range(size):
        bs_replicates[i] = bootstrap_replicate_1d(data,func)

    return bs_replicates



bs_replicates = draw_bs_reps(data['timetoAccident_h'], np.mean, size = 10000)

conf_int = np.percentile(bs_replicates, [2.5,97.5])

plt.hist(bs_replicates, bins=50, density = True)
plt.axvline(conf_int)
plt.title('PDF of bootstrap replicates', fontsize=20)
plt.xlabel('Estimated time between accidents in hours', fontsize=15)
plt.ylabel('PDF', fontsize = 15)

plt.show()
17/202:
def bootstrap_replicate_1d(data, func):
    #Generate bootstrap replicate of 
    
    bs_sample = np.random.choice(data, len(data))
    
    return func(bs_sample)

def draw_bs_reps(data, func, size=1):
    #Draw bootstrap replicates

    bs_replicates = np.empty(size)
    
    for i in range(size):
        bs_replicates[i] = bootstrap_replicate_1d(data,func)

    return bs_replicates



bs_replicates = draw_bs_reps(data['timetoAccident_h'], np.mean, size = 10000)

conf_int = np.percentile(bs_replicates, [2.5,97.5])

plt.hist(bs_replicates, bins=50, density = True)
plt.axvline(conf_int, 0, 1)
plt.title('PDF of bootstrap replicates', fontsize=20)
plt.xlabel('Estimated time between accidents in hours', fontsize=15)
plt.ylabel('PDF', fontsize = 15)

plt.show()
17/203:
def bootstrap_replicate_1d(data, func):
    #Generate bootstrap replicate of 
    
    bs_sample = np.random.choice(data, len(data))
    
    return func(bs_sample)

def draw_bs_reps(data, func, size=1):
    #Draw bootstrap replicates

    bs_replicates = np.empty(size)
    
    for i in range(size):
        bs_replicates[i] = bootstrap_replicate_1d(data,func)

    return bs_replicates



bs_replicates = draw_bs_reps(data['timetoAccident_h'], np.mean, size = 10000)

conf_int = np.percentile(bs_replicates, [2.5, 97.5])

plt.hist(bs_replicates, bins=50, density = True)
plt.axvline(x= conf_int, 0, 1)
plt.title('PDF of bootstrap replicates', fontsize=20)
plt.xlabel('Estimated time between accidents in hours', fontsize=15)
plt.ylabel('PDF', fontsize = 15)

plt.show()
17/204:
def bootstrap_replicate_1d(data, func):
    #Generate bootstrap replicate of 
    
    bs_sample = np.random.choice(data, len(data))
    
    return func(bs_sample)

def draw_bs_reps(data, func, size=1):
    #Draw bootstrap replicates

    bs_replicates = np.empty(size)
    
    for i in range(size):
        bs_replicates[i] = bootstrap_replicate_1d(data,func)

    return bs_replicates



bs_replicates = draw_bs_reps(data['timetoAccident_h'], np.mean, size = 10000)

conf_int = np.percentile(bs_replicates, [2.5, 97.5])

plt.hist(bs_replicates, bins=50, density = True)
plt.axvline(x= conf_int, y_min= 0, y_max= 1)
plt.title('PDF of bootstrap replicates', fontsize=20)
plt.xlabel('Estimated time between accidents in hours', fontsize=15)
plt.ylabel('PDF', fontsize = 15)

plt.show()
17/205:
def bootstrap_replicate_1d(data, func):
    #Generate bootstrap replicate of 
    
    bs_sample = np.random.choice(data, len(data))
    
    return func(bs_sample)

def draw_bs_reps(data, func, size=1):
    #Draw bootstrap replicates

    bs_replicates = np.empty(size)
    
    for i in range(size):
        bs_replicates[i] = bootstrap_replicate_1d(data,func)

    return bs_replicates



bs_replicates = draw_bs_reps(data['timetoAccident_h'], np.mean, size = 10000)

conf_int = np.percentile(bs_replicates, [2.5, 97.5])

plt.hist(bs_replicates, bins=50, density = True)
plt.axvline(x= conf_int.all(), y_min= 0, y_max= 1)
plt.title('PDF of bootstrap replicates', fontsize=20)
plt.xlabel('Estimated time between accidents in hours', fontsize=15)
plt.ylabel('PDF', fontsize = 15)

plt.show()
17/206:
def bootstrap_replicate_1d(data, func):
    #Generate bootstrap replicate of 
    
    bs_sample = np.random.choice(data, len(data))
    
    return func(bs_sample)

def draw_bs_reps(data, func, size=1):
    #Draw bootstrap replicates

    bs_replicates = np.empty(size)
    
    for i in range(size):
        bs_replicates[i] = bootstrap_replicate_1d(data,func)

    return bs_replicates



bs_replicates = draw_bs_reps(data['timetoAccident_h'], np.mean, size = 10000)

conf_int = np.percentile(bs_replicates, [2.5, 97.5])

plt.hist(bs_replicates, bins=50, density = True)
plt.axvline(x= conf_int.all(), ymin= 0, ymax= 1)
plt.title('PDF of bootstrap replicates', fontsize=20)
plt.xlabel('Estimated time between accidents in hours', fontsize=15)
plt.ylabel('PDF', fontsize = 15)

plt.show()
17/207:
def bootstrap_replicate_1d(data, func):
    #Generate bootstrap replicate of 
    
    bs_sample = np.random.choice(data, len(data))
    
    return func(bs_sample)

def draw_bs_reps(data, func, size=1):
    #Draw bootstrap replicates

    bs_replicates = np.empty(size)
    
    for i in range(size):
        bs_replicates[i] = bootstrap_replicate_1d(data,func)

    return bs_replicates


fig = plt.subplots(figsize = (15,10))

bs_replicates = draw_bs_reps(data['timetoAccident_h'], np.mean, size = 10000)

conf_int = np.percentile(bs_replicates, [2.5, 97.5])



plt.hist(bs_replicates, bins=50, density = True)

plt.title('PDF of bootstrap replicates', fontsize=20)
plt.xlabel('Estimated time between accidents in hours', fontsize=15)
plt.ylabel('PDF', fontsize = 15)

plt.show()
17/208:
conf_int = np.percentile(bs_replicates, [2.5, 97.5])

conf_int
17/209: conf_int[0]
17/210:
def bootstrap_replicate_1d(data, func):
    #Generate bootstrap replicate of 
    
    bs_sample = np.random.choice(data, len(data))
    
    return func(bs_sample)

def draw_bs_reps(data, func, size=1):
    #Draw bootstrap replicates

    bs_replicates = np.empty(size)
    
    for i in range(size):
        bs_replicates[i] = bootstrap_replicate_1d(data,func)

    return bs_replicates


fig = plt.subplots(figsize = (15,10))

bs_replicates = draw_bs_reps(data['timetoAccident_h'], np.mean, size = 10000)

conf_int = np.percentile(bs_replicates, [2.5, 97.5])



plt.hist(bs_replicates, bins=50, density = True)

plt.title('PDF of bootstrap replicates', fontsize=20)
plt.xlabel('The 95% CI of bootstrap replicates is between', conf_int[0],'and', conf_int[1])
plt.ylabel('PDF', fontsize = 15)

plt.show()
17/211: print('The CI is between', conf_int[0],'and', conf_int[1])
17/212:
def bootstrap_replicate_1d(data, func):
    #Generate bootstrap replicate of 
    
    bs_sample = np.random.choice(data, len(data))
    
    return func(bs_sample)

def draw_bs_reps(data, func, size=1):
    #Draw bootstrap replicates

    bs_replicates = np.empty(size)
    
    for i in range(size):
        bs_replicates[i] = bootstrap_replicate_1d(data,func)

    return bs_replicates


fig = plt.subplots(figsize = (15,10))

bs_replicates = draw_bs_reps(data['timetoAccident_h'], np.mean, size = 10000)

conf_int = np.percentile(bs_replicates, [2.5, 97.5])



plt.hist(bs_replicates, bins=50, density = True)

plt.title('PDF of bootstrap replicates', fontsize=20)
plt.xlabel('The 95% CI of bootstrap replicates is between {} and {}'.format(conf_int[0], conf_int[1]))
plt.ylabel('PDF', fontsize = 15)

plt.show()
17/213:
def bootstrap_replicate_1d(data, func):
    #Generate bootstrap replicate of 
    
    bs_sample = np.random.choice(data, len(data))
    
    return func(bs_sample)

def draw_bs_reps(data, func, size=1):
    #Draw bootstrap replicates

    bs_replicates = np.empty(size)
    
    for i in range(size):
        bs_replicates[i] = bootstrap_replicate_1d(data,func)

    return bs_replicates


fig = plt.subplots(figsize = (15,10))

bs_replicates = draw_bs_reps(data['timetoAccident_h'], np.mean, size = 10000)

conf_int = np.percentile(bs_replicates, [2.5, 97.5])



plt.hist(bs_replicates, bins=50, density = True)

plt.title('PDF of bootstrap replicates', fontsize=20)
plt.xlabel('The 95% CI of bootstrap replicates is between {} and {}'.format(conf_int[0], conf_int[1]), fontsize= 12)
plt.ylabel('PDF', fontsize = 15)

plt.show()
17/214:
def bootstrap_replicate_1d(data, func):
    #Generate bootstrap replicate of 
    
    bs_sample = np.random.choice(data, len(data))
    
    return func(bs_sample)

def draw_bs_reps(data, func, size=1):
    #Draw bootstrap replicates

    bs_replicates = np.empty(size)
    
    for i in range(size):
        bs_replicates[i] = bootstrap_replicate_1d(data,func)

    return bs_replicates


fig = plt.subplots(figsize = (15,10))

bs_replicates = draw_bs_reps(data['timetoAccident_h'], np.mean, size = 10000)

conf_int = np.percentile(bs_replicates, [2.5, 97.5])



plt.hist(bs_replicates, bins=50, density = True)

plt.title('PDF of bootstrap replicates', fontsize=20)
plt.xlabel('The 95% CI of bootstrap replicates is between {} and {}'.format(conf_int[0], conf_int[1]), fontsize= 15)
plt.ylabel('PDF', fontsize = 15)

plt.show()
17/215:
def bootstrap_replicate_1d(data, func):
    #Generate bootstrap replicate of 
    
    bs_sample = np.random.choice(data, len(data))
    
    return func(bs_sample)

def draw_bs_reps(data, func, size=1):
    #Draw bootstrap replicates

    bs_replicates = np.empty(size)
    
    for i in range(size):
        bs_replicates[i] = bootstrap_replicate_1d(data,func)

    return bs_replicates


fig = plt.subplots(figsize = (15,10))

bs_replicates = draw_bs_reps(data['timetoAccident_h'], np.mean, size = 10000)

conf_int = np.percentile(bs_replicates, [2.5, 97.5])



plt.hist(bs_replicates, bins=50, density = True)

plt.axvline(x=conf_int[0], ymin=0, ymax=1)
plt.axvline(x=conf_int[1], ymin=0, ymax=1)
plt.title('PDF of bootstrap replicates', fontsize=20)
plt.xlabel('The 95% CI of bootstrap replicates is between {} and {}'.format(conf_int[0], conf_int[1]), fontsize= 15)
plt.ylabel('PDF', fontsize = 15)

plt.show()
17/216:
def bootstrap_replicate_1d(data, func):
    #Generate bootstrap replicate of 
    
    bs_sample = np.random.choice(data, len(data))
    
    return func(bs_sample)

def draw_bs_reps(data, func, size=1):
    #Draw bootstrap replicates

    bs_replicates = np.empty(size)
    
    for i in range(size):
        bs_replicates[i] = bootstrap_replicate_1d(data,func)

    return bs_replicates


fig = plt.subplots(figsize = (15,10))

bs_replicates = draw_bs_reps(data['timetoAccident_h'], np.mean, size = 10000)

conf_int = np.percentile(bs_replicates, [2.5, 97.5])



plt.hist(bs_replicates, bins=50, density = True)

plt.axvline(x=conf_int[0], ymin=0, ymax=1, color ='red)
plt.axvline(x=conf_int[1], ymin=0, ymax=1, color = 'red')
plt.title('PDF of bootstrap replicates', fontsize=20)
plt.xlabel('The 95% CI of bootstrap replicates is between {} and {}'.format(conf_int[0], conf_int[1]), fontsize= 15)
plt.ylabel('PDF', fontsize = 15)

plt.show()
17/217:
def bootstrap_replicate_1d(data, func):
    #Generate bootstrap replicate of 
    
    bs_sample = np.random.choice(data, len(data))
    
    return func(bs_sample)

def draw_bs_reps(data, func, size=1):
    #Draw bootstrap replicates

    bs_replicates = np.empty(size)
    
    for i in range(size):
        bs_replicates[i] = bootstrap_replicate_1d(data,func)

    return bs_replicates


fig = plt.subplots(figsize = (15,10))

bs_replicates = draw_bs_reps(data['timetoAccident_h'], np.mean, size = 10000)

conf_int = np.percentile(bs_replicates, [2.5, 97.5])



plt.hist(bs_replicates, bins=50, density = True)

plt.axvline(x=conf_int[0], ymin=0, ymax=1, color ='red')
plt.axvline(x=conf_int[1], ymin=0, ymax=1, color = 'red')
plt.title('PDF of bootstrap replicates', fontsize=20)
plt.xlabel('The 95% CI of bootstrap replicates is between {} and {}'.format(conf_int[0], conf_int[1]), fontsize= 15)
plt.ylabel('PDF', fontsize = 15)

plt.show()
17/218:
avg_accident_h_lq = 1 / conf_int[0]
avg_accident_h_hq = 1/ conf_int[1]

avg_accident_h_lq
avg_accident_h_hq
17/219:
avg_acc_h_lq = 1 / conf_int[0]
avg_acc_h_hq = 1/ conf_int[1]

print('The 95% CI of average accidents per hour is between {} and {}'.format(avg_acc_h_lq,avg_acc_h_hq))
17/220:
avg_acc_h_hq = 1 / conf_int[0]
avg_acc_h_lq = 1/ conf_int[1]

print('The 95% CI of average accidents per hour is between {} and {}'.format(avg_acc_h_lq,avg_acc_h_hq))
17/221:
avg_acc_h_hq = 1 / conf_int[0]
avg_acc_h_lq = 1/ conf_int[1]


avg_acc_y_hq = avg_acc_h_hq * 8760
avg_acc_y_lq = avg_acc_h_lq * 8760






print('The 95% CI of average accidents per year is between {} and {}'.format(avg_acc_y_lq,avg_acc_y_hq))
17/222:
avg_cost_y_hq = avg_acc_y_hq * 2.312900e+04
avg_cost_y_lq = avg_acc_y_lq * 2.312900e+04

print('The 95% CI of average costs per year due to oil pipeline accidents is between {} and {}'.format(avg_cost_y_lq, avg_cost_y_hq))
17/223: data
17/224:
year_sorted = data.sort_values(by = 'Accident Year', ascending = False)
 print(year_sorted.head())
17/225:
year_sorted = data.sort_values(by = 'Accident Year', ascending = False)
 
print(year_sorted.head())
17/226:
year_sorted = data.sort_values(by = 'Accident Year', ascending = False)
 
print(year_sorted.head(20))
17/227:
Both plots show that the maximum values are much larger than the interquartile range. 
This means that the distribution of the data is not very reliable in order to draw 
significant conclusions from it. We need to understand if the
17/228: data
17/229: data.Liquid Type.unique()
17/230: data.LiquidType.unique()
17/231: data['LiquidType'].unique()
17/232: data['Liquid Type'].unique()
17/233: data['Liquid Type'].count()
17/234: data.groupby(['Liquid Type']).count()
17/235: data.groupby(['Liquid Type'])['All Costs'].count()
17/236:
grpby_liquid_type = data.groupby('Liquid Type')

x = grpby_liquid_type['All Costs'].value_counts()

x
17/237:
data_of_interest = data[['Liquid Type'],['All Costs']]
data_of_interest
17/238:
data_of_interest = data[['Liquid Type','All Costs']]
data_of_interest
17/239:
avg_cost_per_liquid_type = data_of_interest.groupby('Liquid Type')['All Costs'].agg(np.mean)
avg_cost_per_liquid
17/240:
avg_cost_per_liquid_type = data_of_interest.groupby('Liquid Type')['All Costs'].agg(np.mean)
avg_cost_per_liquid_type
17/241:
avg_cost_per_liquid = data_of_interest.groupby('Liquid Type')['All Costs'].agg(np.mean)
avg_cost_per_liquid
17/242:
plt.scatter('Liquid Type', 'All Costs')

plt.show()
17/243:
sns.ecdfplot('Liquid Type', 'All Costs')

plt.show()
17/244:
sns.ecdfplot('Liquid Type', hue ='All Costs')

plt.show()
17/245:
sns.ecdfplot('All Costs', hue ='Liquid Type')

plt.show()
17/246:
sns.ecdfplot('All Costs', hue ='Liquid Type', data=avg_cost_per_liquid)

plt.show()
17/247:
sns.ecdfplot(data = 'All Costs', hue ='Liquid Type')

plt.show()
17/248:
sns.ecdfplot(data = data_of_interest['All Costs'], hue ='Liquid Type')

plt.show()
17/249:
sns.ecdfplot(data = data_of_interest['All Costs'], hue =data_of_interest['Liquid Type'])

plt.show()
17/250:
sns.ecdfplot(data = data_of_interest['All Costs'])

plt.show()
17/251: sns.swarmplot(x='Liquid Type', y= 'All Costs', data = data_of_interest)
17/252:
sns.swarmplot(x='Liquid Type', y= 'All Costs', data = data_of_interest)
plt.show()
17/253:
sns.swarmplot(x='Liquid Type', y= 'All Costs', data = data_of_interest)
plt.show()
17/254:
sns.swarmplot(x='Liquid Type', y= 'All Costs', data = data_of_interest)
plt.show()
17/255:
import pandas as pd

data = pd.read_csv('database.csv')

data
17/256:
cols_of_interest = ['Accident Year', 'Accident Date/Time', 'Operator Name', 'Liquid Type', 'Property Damage Costs', 'All Costs' ]

data = data[cols_of_interest]

data
17/257:
data_summary = data[['Property Damage Costs','All Costs']].describe()

data_summary
17/258:
fig = plt.subplots(figsize = (15,10))

_ = sns.boxplot(x= data['Property Damage Costs'], data= data)

_ = plt.title('Property Damage Costs')

plt.show()
17/259:
fig = plt.subplots(figsize = (15,10))

_ = sns.boxplot(x='All Costs', data = data)

_ = plt.title('All Costs')

plt.show()
17/260:
import numpy as np

data['Accident Date/Time'] = pd.to_datetime(data['Accident Date/Time'])

timespan = np.max(data['Accident Date/Time']) - np.min(data['Accident Date/Time'])

timespan_s = timespan.total_seconds()

timespan_h = timespan.total_seconds() / 60**2

timespan_m = timespan.total_seconds() / 2.628e+6

lmda_h = len(data) / timespan_h

lmda_m = len(data) / timespan_m

print('Estimated number of accident per hour :', lmda_h)
print('Estimated number of accidents per month:', lmda_m)
17/261:
import matplotlib.pyplot as plt


np.random.seed(42)

poisson_samples = np.random.poisson(33, 10000)

bins = np.arange(0, max(poisson_samples) + 1.5) - 0.5

fig = plt.subplots(figsize = (15,10))

plt.hist(poisson_samples, bins = bins, density = True)

plt.xlabel('Estimated number of accidents per month', fontsize= 15)
plt.ylabel('PMF', fontsize = 15)
plt.title('PMF of estimated number of accidents per month', fontsize=20)

plt.show()
17/262:
import seaborn as sns

fig = plt.subplots(figsize = (15,10))

ecdf = sns.ecdfplot(data= poisson_samples)

plt.xlabel('Estimated number of accidents per month', fontsize=15)
plt.ylabel('ecdf',fontsize=15)
plt.title('CDF of estimated number of accident per month',fontsize=20)

plt.show()
17/263:
data.sort_values(by=['Accident Date/Time'], ascending = True, inplace = True)

data['timetoAccident'] = data['Accident Date/Time'].diff() #compute time between each accident

data= data[data.timetoAccident.notnull()]

data['timetoAccident_h']= data.apply(lambda x : x['timetoAccident'].total_seconds() /60**2, axis = 1)

data['timetoAccident_h']

mean = np.mean(data['timetoAccident_h'])

print('The estimated average hours between accidents is', mean)
17/264:
fig = plt.subplots(figsize = (15,10))

ecdf = sns.ecdfplot(data= data['timetoAccident_h'])

plt.xlabel('Estimated time between accidents in hours', fontsize=15)
plt.ylabel('ecdf',fontsize=15)
plt.title('CDF of estimated number of hours between accidents',fontsize=20)
plt.show()
17/265:

exponential_samples = np.random.exponential(mean, size= 10000)


fig = plt.subplots(figsize = (15,10))

ecdf_data = sns.ecdfplot(data= data['timetoAccident_h'], label= 'Actual data')

ecdf_theor = sns.ecdfplot(data= exponential_samples, label= 'Theoretical samples')

plt.xlabel('Estimated time between accidents in hours', fontsize = 15)
plt.ylabel('ecdf', fontsize = 15)
plt.legend(fontsize = 'large')
plt.title('CDF comparison of actual data and theoretical samples', fontsize= 20)

plt.show()
17/266:
fig = plt.subplots(figsize = (15,10))

for i in range(100): 
    bs_samples = np.random.choice(data['timetoAccident_h'], size = len(data['timetoAccident'])) 
    ecdf_bs = sns.ecdfplot(data = bs_samples, color='red', marker='.', linestyle = 'none', alpha=0.9)

ecdf_data = sns.ecdfplot(data= data['timetoAccident_h'], label= 'Actual data')

plt.xlabel('Estimated time between accidents in hours', fontsize = 15)
plt.ylabel('ecdf', fontsize = 15)
plt.legend(fontsize='large')
plt.title('CDF comparison of actual data and bootstrap samples', fontsize= 20)

plt.show()
17/267:
def bootstrap_replicate_1d(data, func):
    #Generate bootstrap replicate of 
    
    bs_sample = np.random.choice(data, len(data))
    
    return func(bs_sample)

def draw_bs_reps(data, func, size=1):
    #Draw bootstrap replicates

    bs_replicates = np.empty(size)
    
    for i in range(size):
        bs_replicates[i] = bootstrap_replicate_1d(data,func)

    return bs_replicates


fig = plt.subplots(figsize = (15,10))

bs_replicates = draw_bs_reps(data['timetoAccident_h'], np.mean, size = 10000)

conf_int = np.percentile(bs_replicates, [2.5, 97.5])



plt.hist(bs_replicates, bins=50, density = True)

plt.axvline(x=conf_int[0], ymin=0, ymax=1, color ='red')
plt.axvline(x=conf_int[1], ymin=0, ymax=1, color = 'red')
plt.title('PDF of bootstrap replicates', fontsize=20)
plt.xlabel('The 95% CI of bootstrap replicates is between {} and {}'.format(conf_int[0], conf_int[1]), fontsize= 15)
plt.ylabel('PDF', fontsize = 15)

plt.show()
17/268:
avg_acc_h_hq = 1 / conf_int[0]
avg_acc_h_lq = 1/ conf_int[1]


avg_acc_y_hq = avg_acc_h_hq * 8760
avg_acc_y_lq = avg_acc_h_lq * 8760



print('The 95% CI of average accidents per year is between {} and {}'.format(avg_acc_y_lq,avg_acc_y_hq))
17/269:
avg_cost_y_hq = avg_acc_y_hq * 2.312900e+04
avg_cost_y_lq = avg_acc_y_lq * 2.312900e+04

print('The 95% CI of average costs per year due to oil pipeline accidents is between {} and {}'.format(avg_cost_y_lq, avg_cost_y_hq))
17/270: data
17/271: data.groupby(['Liquid Type'])['All Costs'].count()
17/272:
data_of_interest = data[['Liquid Type','All Costs']]
data_of_interest
17/273:
avg_cost_per_liquid = data_of_interest.groupby('Liquid Type')['All Costs'].agg(np.mean)
avg_cost_per_liquid
17/274:
sns.swarmplot(x='Liquid Type', y= 'All Costs', data = data_of_interest)
plt.show()
17/275:
sns.swarmplot(x='Liquid Type', y= 'All Costs', data = data_of_interest)
plt.show()
18/1:
from selenium import webdriver
from selenium.webdriver.common.keys import Keys
from selenium.webdriver.support import expected_conditions as EC
from selenium.webdriver.common.by import By
from selenium.webdriver.support.wait import WebDriverWait
import time
18/2:
from selenium import webdriver
from selenium.webdriver.common.keys import Keys
from selenium.webdriver.support import expected_conditions as EC
from selenium.webdriver.common.by import By
from selenium.webdriver.support.wait import WebDriverWait
import time
18/3:
browser = webdriver.Safari()
browser.get('https://www.instagram.com')
18/4:
username = WebDriverWait(browser, 10).until(EC.element_to_be_clickable((By.CSS_SELECTOR, "input[name='username']")))
password = WebDriverWait(browser, 10).until(EC.element_to_be_clickable((By.CSS_SELECTOR, "input[name='password']")))

username.clear()
password.clear()

username.send_keys('stevespositomusic')
password.send_keys('MBDTFTLOP')
18/5:
username = WebDriverWait(browser, 10).until(EC.element_to_be_clickable((By.CSS_SELECTOR, "input[name='username']")))
password = WebDriverWait(browser, 10).until(EC.element_to_be_clickable((By.CSS_SELECTOR, "input[name='password']")))

username.clear()
password.clear()

username.send_keys('stevespositomusic')
password.send_keys('MBDTFTLOP')
18/6:
username = WebDriverWait(browser, 10).until(EC.element_to_be_clickable((By.CSS_SELECTOR, "input[name='username']")))
password = WebDriverWait(browser, 10).until(EC.element_to_be_clickable((By.CSS_SELECTOR, "input[name='password']")))

username.clear()
password.clear()

username.send_keys('stevespositomusic')
password.send_keys('MBDTFTLOP')
18/7:
from selenium import webdriver
from selenium.webdriver.common.keys import Keys
from selenium.webdriver.support import expected_conditions as EC
from selenium.webdriver.common.by import By
from selenium.webdriver.support.wait import WebDriverWait
import time
18/8:
browser = webdriver.Safari()
browser.get('https://www.instagram.com')
18/9:
username = WebDriverWait(browser, 10).until(EC.element_to_be_clickable((By.CSS_SELECTOR, "input[name='username']")))
password = WebDriverWait(browser, 10).until(EC.element_to_be_clickable((By.CSS_SELECTOR, "input[name='password']")))

username.clear()
password.clear()

username.send_keys('stevespositomusic')
password.send_keys('MBDTFTLOP')
18/10: log_in = WebDriverWait(browser, 10).until(EC.element_to_be_clickable((By.CSS_SELECTOR, "button[type='submit']"))).click()
18/11:
from selenium import webdriver
from selenium.webdriver.common.keys import Keys
from selenium.webdriver.support import expected_conditions as EC
from selenium.webdriver.common.by import By
from selenium.webdriver.support.wait import WebDriverWait
import time
18/12:
browser = webdriver.Safari()
browser.get('https://www.instagram.com')
18/13:
username = WebDriverWait(browser, 10).until(EC.element_to_be_clickable((By.CSS_SELECTOR, "input[name='username']")))
password = WebDriverWait(browser, 10).until(EC.element_to_be_clickable((By.CSS_SELECTOR, "input[name='password']")))

username.clear()
password.clear()

username.send_keys('stevespositomusic')
password.send_keys('MBDTFTLOP')
18/14: log_in = WebDriverWait(browser, 10).until(EC.element_to_be_clickable((By.CSS_SELECTOR, "button[type='submit']"))).click()
18/15:
from selenium import webdriver
from selenium.webdriver.common.keys import Keys
from selenium.webdriver.support import expected_conditions as EC
from selenium.webdriver.common.by import By
from selenium.webdriver.support.wait import WebDriverWait
import time
18/16:
browser = webdriver.Safari()
browser.get('https://www.instagram.com')
18/17:
username = WebDriverWait(browser, 10).until(EC.element_to_be_clickable((By.CSS_SELECTOR, "input[name='username']")))
password = WebDriverWait(browser, 10).until(EC.element_to_be_clickable((By.CSS_SELECTOR, "input[name='password']")))

username.clear()
password.clear()

username.send_keys('stevespositomusic')
password.send_keys('MBDTFTLOP93')
18/18: log_in = WebDriverWait(browser, 10).until(EC.element_to_be_clickable((By.CSS_SELECTOR, "button[type='submit']"))).click()
18/19:
username = WebDriverWait(browser, 10).until(EC.element_to_be_clickable((By.CSS_SELECTOR, "input[name='username']")))
password = WebDriverWait(browser, 10).until(EC.element_to_be_clickable((By.CSS_SELECTOR, "input[name='password']")))

username.clear()
password.clear()

username.send_keys('stevespositomusic')
password.send_keys('MBDTFTLOP93')
18/20:
username = WebDriverWait(browser, 10).until(EC.element_to_be_clickable((By.CSS_SELECTOR, "input[name='username']")))
password = WebDriverWait(browser, 10).until(EC.element_to_be_clickable((By.CSS_SELECTOR, "input[name='password']")))

username.clear()
password.clear()

username.send_keys('stevespositomusic')
password.send_keys('MBDTFTLOP93')
18/21:
username = WebDriverWait(browser, 10).until(EC.element_to_be_clickable((By.CSS_SELECTOR, "input[name='username']")))
password = WebDriverWait(browser, 10).until(EC.element_to_be_clickable((By.CSS_SELECTOR, "input[name='password']")))

username.clear()
password.clear()

username.send_keys('stevespositomusic')
password.send_keys('MBDTFTLOP93')
18/22:
browser = webdriver.Safari()
browser.get('https://www.instagram.com')
18/23:
username = WebDriverWait(browser, 10).until(EC.element_to_be_clickable((By.CSS_SELECTOR, "input[name='username']")))
password = WebDriverWait(browser, 10).until(EC.element_to_be_clickable((By.CSS_SELECTOR, "input[name='password']")))

username.clear()
password.clear()

username.send_keys('stevespositomusic')
password.send_keys('MBDTFTLOP93')
18/24: log_in = WebDriverWait(browser, 10).until(EC.element_to_be_clickable((By.CSS_SELECTOR, "button[type='submit']"))).click()
18/25:
from selenium import webdriver
from selenium.webdriver.common.keys import Keys
from selenium.webdriver.support import expected_conditions as EC
from selenium.webdriver.common.by import By
from selenium.webdriver.support.wait import WebDriverWait
import time
18/26:
browser = webdriver.Safari()
browser.get('https://www.instagram.com')
18/27:
from selenium import webdriver
from selenium.webdriver.common.keys import Keys
from selenium.webdriver.support import expected_conditions as EC
from selenium.webdriver.common.by import By
from selenium.webdriver.support.wait import WebDriverWait
import time
18/28:
browser = webdriver.Safari()
browser.get('https://www.instagram.com')
18/29: log_in = WebDriverWait(browser, 10).until(EC.element_to_be_clickable((By.CSS_SELECTOR, "button[type='submit']"))).click()
18/30:
from selenium import webdriver
from selenium.webdriver.common.keys import Keys
from selenium.webdriver.support import expected_conditions as EC
from selenium.webdriver.common.by import By
from selenium.webdriver.support.wait import WebDriverWait
import time
18/31:
browser = webdriver.Safari()
browser.get('https://www.instagram.com')
18/32:
username = WebDriverWait(browser, 10).until(EC.element_to_be_clickable((By.CSS_SELECTOR, "input[name='username']")))
password = WebDriverWait(browser, 10).until(EC.element_to_be_clickable((By.CSS_SELECTOR, "input[name='password']")))

username.clear()
password.clear()

username.send_keys('stevespositomusic')
password.send_keys('MBDTFTLOP93')
18/33: log_in = WebDriverWait(browser, 10).until(EC.element_to_be_clickable((By.CSS_SELECTOR, "button[type='submit']"))).click()
18/34: log_in = WebDriverWait(browser, 10).until(EC.element_to_be_clickable((By.CSS_SELECTOR, "button[type='submit']"))).click()
18/35:
from selenium import webdriver
from selenium.webdriver.common.keys import Keys
from selenium.webdriver.support import expected_conditions as EC
from selenium.webdriver.common.by import By
from selenium.webdriver.support.wait import WebDriverWait
import time
18/36:
browser = webdriver.Safari()
browser.get('https://www.instagram.com')
18/37:
username = WebDriverWait(browser, 10).until(EC.element_to_be_clickable((By.CSS_SELECTOR, "input[name='username']")))
password = WebDriverWait(browser, 10).until(EC.element_to_be_clickable((By.CSS_SELECTOR, "input[name='password']")))

username.clear()
password.clear()

username.send_keys('stevespositomusic')
password.send_keys('MBDTFTLOP93')
18/38: log_in = WebDriverWait(browser, 10).until(EC.element_to_be_clickable((By.CSS_SELECTOR, "button[type='submit']"))).click()
18/39:
from selenium import webdriver
from selenium.webdriver.common.keys import Keys
from selenium.webdriver.support import expected_conditions as EC
from selenium.webdriver.common.by import By
from selenium.webdriver.support.wait import WebDriverWait
import time
18/40:
browser = webdriver.Safari()
browser.get('https://www.instagram.com')
18/41:
username = WebDriverWait(browser, 10).until(EC.element_to_be_clickable((By.CSS_SELECTOR, "input[name='username']")))
password = WebDriverWait(browser, 10).until(EC.element_to_be_clickable((By.CSS_SELECTOR, "input[name='password']")))

username.clear()
password.clear()

username.send_keys('stevespositomusic')
password.send_keys('MBDTFTLOP93')
18/42: # log_in = WebDriverWait(browser, 10).until(EC.element_to_be_clickable((By.CSS_SELECTOR, "button[type='submit']"))).click()
18/43: log_in = WebDriverWait(browser, 10).until(EC.element_to_be_clickable((By.CSS_SELECTOR, "button[type='submit']"))).click()
18/44:
from selenium import webdriver
from selenium.webdriver.common.keys import Keys
from selenium.webdriver.support import expected_conditions as EC
from selenium.webdriver.common.by import By
from selenium.webdriver.support.wait import WebDriverWait
import time
18/45:
browser = webdriver.Safari()
browser.get('https://www.instagram.com')
18/46:
from selenium import webdriver
from selenium.webdriver.common.keys import Keys
from selenium.webdriver.support import expected_conditions as EC
from selenium.webdriver.common.by import By
from selenium.webdriver.support.wait import WebDriverWait
import time
18/47:
browser = webdriver.Safari()
browser.get('https://www.instagram.com')
18/48:
username = WebDriverWait(browser, 10).until(EC.element_to_be_clickable((By.CSS_SELECTOR, "input[name='username']")))
password = WebDriverWait(browser, 10).until(EC.element_to_be_clickable((By.CSS_SELECTOR, "input[name='password']")))

username.clear()
password.clear()

username.send_keys('stevespositomusic')
password.send_keys('MBDTFTLOP93')
18/49: log_in = WebDriverWait(browser, 10).until(EC.element_to_be_clickable((By.CSS_SELECTOR, "button[type='submit']"))).click()
18/50:
from selenium import webdriver
from selenium.webdriver.common.keys import Keys
from selenium.webdriver.support import expected_conditions as EC
from selenium.webdriver.common.by import By
from selenium.webdriver.support.wait import WebDriverWait
import time
18/51:
browser = webdriver.Safari()
browser.get('https://www.instagram.com')
18/52:
username = WebDriverWait(browser, 10).until(EC.element_to_be_clickable((By.CSS_SELECTOR, "input[name='username']")))
password = WebDriverWait(browser, 10).until(EC.element_to_be_clickable((By.CSS_SELECTOR, "input[name='password']")))

username.clear()
password.clear()

username.send_keys('stevespositomusic')
password.send_keys('MBDTFTLOP93')

log_in = WebDriverWait(browser, 10).until(EC.element_to_be_clickable((By.CSS_SELECTOR, "button[type='submit']"))).click()
18/53:
from selenium import webdriver
from selenium.webdriver.common.keys import Keys
from selenium.webdriver.support import expected_conditions as EC
from selenium.webdriver.common.by import By
from selenium.webdriver.support.wait import WebDriverWait
import time
18/54:
browser = webdriver.Safari()
browser.get('https://www.instagram.com')
18/55:
# username = WebDriverWait(browser, 10).until(EC.element_to_be_clickable((By.CSS_SELECTOR, "input[name='username']")))
# password = WebDriverWait(browser, 10).until(EC.element_to_be_clickable((By.CSS_SELECTOR, "input[name='password']")))

# username.clear()
# password.clear()

# username.send_keys('stevespositomusic')
# password.send_keys('MBDTFTLOP93')

# log_in = WebDriverWait(browser, 10).until(EC.element_to_be_clickable((By.CSS_SELECTOR, "button[type='submit']"))).click()
18/56:
browser = webdriver.Safari()
browser.get('https://www.instagram.com')
18/57:
from selenium import webdriver
from selenium.webdriver.common.keys import Keys
from selenium.webdriver.support import expected_conditions as EC
from selenium.webdriver.common.by import By
from selenium.webdriver.support.wait import WebDriverWait
import time
18/58:
browser = webdriver.Safari()
browser.get('https://www.instagram.com')
18/59: cookies = WebDriverWait(browser, 10).until(EC.element_to_be_clickable((By.CSS_SELECTOR, "button[class='a00lW Holwm']"))).click()
18/60:
from selenium import webdriver
from selenium.webdriver.common.keys import Keys
from selenium.webdriver.support import expected_conditions as EC
from selenium.webdriver.common.by import By
from selenium.webdriver.support.wait import WebDriverWait
import time
18/61:
browser = webdriver.Safari()
browser.get('https://www.instagram.com')
18/62: cookies = WebDriverWait(driver, 15).until(EC.element_to_be_clickable((By.XPATH, '//button[contains(text(), "Only allow essential cookies")]'))).click()
18/63:
from selenium import webdriver
from selenium.webdriver.common.keys import Keys
from selenium.webdriver.support import expected_conditions as EC
from selenium.webdriver.common.by import By
from selenium.webdriver.support.wait import WebDriverWait
import time
18/64:
browser = webdriver.Safari()
browser.get('https://www.instagram.com')
18/65:
from selenium import webdriver
from selenium.webdriver.common.keys import Keys
from selenium.webdriver.support import expected_conditions as EC
from selenium.webdriver.common.by import By
from selenium.webdriver.support.wait import WebDriverWait
import time
18/66:
browser = webdriver.Safari()
browser.get('https://www.instagram.com')
18/67: cookies = WebDriverWait(browser, 15).until(EC.element_to_be_clickable((By.XPATH, '//button[contains(text(), "Only allow essential cookies")]'))).click()
18/68:
# username = WebDriverWait(browser, 10).until(EC.element_to_be_clickable((By.CSS_SELECTOR, "input[name='username']")))
# password = WebDriverWait(browser, 10).until(EC.element_to_be_clickable((By.CSS_SELECTOR, "input[name='password']")))

# username.clear()
# password.clear()

# username.send_keys('stevespositomusic')
# password.send_keys('MBDTFTLOP93')
18/69: # log_in = WebDriverWait(browser, 10).until(EC.element_to_be_clickable((By.CSS_SELECTOR, "button[type='submit']"))).click()
18/70:
from selenium import webdriver
from selenium.webdriver.common.keys import Keys
from selenium.webdriver.support import expected_conditions as EC
from selenium.webdriver.common.by import By
from selenium.webdriver.support.wait import WebDriverWait
import time
18/71:
browser = webdriver.Safari()
browser.get('https://www.instagram.com')
18/72:
from selenium import webdriver
from selenium.webdriver.common.keys import Keys
from selenium.webdriver.support import expected_conditions as EC
from selenium.webdriver.common.by import By
from selenium.webdriver.support.wait import WebDriverWait
import time
18/73:
browser = webdriver.Safari()
browser.get('https://www.instagram.com')
18/74: cookies = WebDriverWait(browser, 15).until(EC.element_to_be_clickable((By.XPATH, '//button[contains(text(), "Only allow essential cookies")]'))).click()
18/75:
username = WebDriverWait(browser, 10).until(EC.element_to_be_clickable((By.CSS_SELECTOR, "input[name='username']")))
password = WebDriverWait(browser, 10).until(EC.element_to_be_clickable((By.CSS_SELECTOR, "input[name='password']")))

username.clear()
password.clear()

username.send_keys('stevespositomusic')
password.send_keys('MBDTFTLOP93')
18/76: log_in = WebDriverWait(browser, 10).until(EC.element_to_be_clickable((By.CSS_SELECTOR, "button[type='submit']"))).click()
18/77:
from selenium import webdriver
from selenium.webdriver.common.keys import Keys
from selenium.webdriver.support import expected_conditions as EC
from selenium.webdriver.common.by import By
from selenium.webdriver.support.wait import WebDriverWait
import time
18/78:
browser = webdriver.Safari()
browser.get('https://www.instagram.com')
18/79:
from selenium import webdriver
from selenium.webdriver.common.keys import Keys
from selenium.webdriver.support import expected_conditions as EC
from selenium.webdriver.common.by import By
from selenium.webdriver.support.wait import WebDriverWait
import time
18/80:
browser = webdriver.Safari()
browser.get('https://www.instagram.com')
18/81: cookies = WebDriverWait(browser, 15).until(EC.element_to_be_clickable((By.XPATH, '//button[contains(text(), "Only allow essential cookies")]'))).click()
18/82:
username = WebDriverWait(browser, 10).until(EC.element_to_be_clickable((By.CSS_SELECTOR, "input[name='username']")))
password = WebDriverWait(browser, 10).until(EC.element_to_be_clickable((By.CSS_SELECTOR, "input[name='password']")))

username.clear()
password.clear()

username.send_keys('stevespositomusic')
password.send_keys('MBDTFTLOP93')
18/83:
from selenium import webdriver
from selenium.webdriver.common.keys import Keys
from selenium.webdriver.support import expected_conditions as EC
from selenium.webdriver.common.by import By
from selenium.webdriver.support.wait import WebDriverWait
import time
18/84:
browser = webdriver.Safari()
browser.get('https://www.instagram.com')
18/85: cookies = WebDriverWait(browser, 15).until(EC.element_to_be_clickable((By.XPATH, '//button[contains(text(), "Only allow essential cookies")]'))).click()
18/86:
username = WebDriverWait(browser, 10).until(EC.element_to_be_clickable((By.CSS_SELECTOR, "input[name='username']")))
password = WebDriverWait(browser, 10).until(EC.element_to_be_clickable((By.CSS_SELECTOR, "input[name='password']")))

username.clear()
password.clear()

username.send_keys('stevespositomusic')
password.send_keys('MBDTFTLOP93')
18/87: log_in = WebDriverWait(browser, 10).until(EC.element_to_be_clickable((By.XPATH, '//button[contains(text(), "Log In")]'))).click()
18/88:
from selenium import webdriver
from selenium.webdriver.common.keys import Keys
from selenium.webdriver.support import expected_conditions as EC
from selenium.webdriver.common.by import By
from selenium.webdriver.support.wait import WebDriverWait
import time
18/89:
browser = webdriver.Safari()
browser.get('https://www.instagram.com')
18/90:
from selenium import webdriver
from selenium.webdriver.common.keys import Keys
from selenium.webdriver.support import expected_conditions as EC
from selenium.webdriver.common.by import By
from selenium.webdriver.support.wait import WebDriverWait
import time
18/91:
browser = webdriver.Safari()
browser.get('https://www.instagram.com')
18/92: cookies = WebDriverWait(browser, 15).until(EC.element_to_be_clickable((By.XPATH, '//button[contains(text(), "Only allow essential cookies")]'))).click()
18/93:
username = WebDriverWait(browser, 10).until(EC.element_to_be_clickable((By.CSS_SELECTOR, "input[name='username']")))
password = WebDriverWait(browser, 10).until(EC.element_to_be_clickable((By.CSS_SELECTOR, "input[name='password']")))

username.clear()
password.clear()

username.send_keys('stevespositomusic')
password.send_keys('MBDTFTLOP93')
18/94: log_in = WebDriverWait(browser, 15).until(EC.element_to_be_clickable((By.XPATH, '//button[contains(text(), "Log In")]'))).click()
18/95:
from selenium import webdriver
from selenium.webdriver.common.keys import Keys
from selenium.webdriver.support import expected_conditions as EC
from selenium.webdriver.common.by import By
from selenium.webdriver.support.wait import WebDriverWait
import time
18/96:
browser = webdriver.Safari()
browser.get('https://www.instagram.com')
18/97:
from selenium import webdriver
from selenium.webdriver.common.keys import Keys
from selenium.webdriver.support import expected_conditions as EC
from selenium.webdriver.common.by import By
from selenium.webdriver.support.wait import WebDriverWait
import time
18/98:
browser = webdriver.Safari()
browser.get('https://www.instagram.com')
18/99: cookies = WebDriverWait(browser, 15).until(EC.element_to_be_clickable((By.XPATH, '//button[contains(text(), "Only allow essential cookies")]'))).click()
18/100:
username = WebDriverWait(browser, 10).until(EC.element_to_be_clickable((By.CSS_SELECTOR, "input[name='username']")))
password = WebDriverWait(browser, 10).until(EC.element_to_be_clickable((By.CSS_SELECTOR, "input[name='password']")))

username.clear()
password.clear()

username.send_keys('stevespositomusic')
password.send_keys('MBDTFTLOP93')

log_in = WebDriverWait(browser, 15).until(EC.element_to_be_clickable((By.XPATH, '//button[contains(text(), "Log In")]'))).click()
18/101:
from selenium import webdriver
from selenium.webdriver.common.keys import Keys
from selenium.webdriver.support import expected_conditions as EC
from selenium.webdriver.common.by import By
from selenium.webdriver.support.wait import WebDriverWait
import time
18/102:
browser = webdriver.Safari()
browser.get('https://www.instagram.com')
18/103: cookies = WebDriverWait(browser, 15).until(EC.element_to_be_clickable((By.XPATH, '//button[contains(text(), "Only allow essential cookies")]'))).click()
18/104:
username = WebDriverWait(browser, 10).until(EC.element_to_be_clickable((By.CSS_SELECTOR, "input[name='username']")))
password = WebDriverWait(browser, 10).until(EC.element_to_be_clickable((By.CSS_SELECTOR, "input[name='password']")))

username.clear()
password.clear()

username.send_keys('stevespositomusic')
password.send_keys('MBDTFTLOP93')

log_in = WebDriverWait(driver, 2).until(EC.element_to_be_clickable((By.CSS_SELECTOR, "button[type='submit']"))).click()
18/105:
from selenium import webdriver
from selenium.webdriver.common.keys import Keys
from selenium.webdriver.support import expected_conditions as EC
from selenium.webdriver.common.by import By
from selenium.webdriver.support.wait import WebDriverWait
import time
18/106:
browser = webdriver.Safari()
browser.get('https://www.instagram.com')
18/107:
from selenium import webdriver
from selenium.webdriver.common.keys import Keys
from selenium.webdriver.support import expected_conditions as EC
from selenium.webdriver.common.by import By
from selenium.webdriver.support.wait import WebDriverWait
import time
18/108:
browser = webdriver.Safari()
browser.get('https://www.instagram.com')
18/109: cookies = WebDriverWait(browser, 10).until(EC.element_to_be_clickable((By.XPATH, '//button[contains(text(), "Only allow essential cookies")]'))).click()
18/110:
username = WebDriverWait(browser, 10).until(EC.element_to_be_clickable((By.CSS_SELECTOR, "input[name='username']")))
password = WebDriverWait(browser, 10).until(EC.element_to_be_clickable((By.CSS_SELECTOR, "input[name='password']")))

username.clear()
password.clear()

username.send_keys('stevespositomusic')
password.send_keys('MBDTFTLOP93')

log_in = WebDriverWait(driver, 2).until(EC.element_to_be_clickable((By.CSS_SELECTOR, "button[type='submit']"))).click()
18/111:
from selenium import webdriver
from selenium.webdriver.common.keys import Keys
from selenium.webdriver.support import expected_conditions as EC
from selenium.webdriver.common.by import By
from selenium.webdriver.support.wait import WebDriverWait
import time
18/112:
browser = webdriver.Safari()
browser.get('https://www.instagram.com')
18/113: cookies = WebDriverWait(browser, 10).until(EC.element_to_be_clickable((By.XPATH, '//button[contains(text(), "Only allow essential cookies")]'))).click()
18/114:
username = WebDriverWait(browser, 10).until(EC.element_to_be_clickable((By.CSS_SELECTOR, "input[name='username']")))
password = WebDriverWait(browser, 10).until(EC.element_to_be_clickable((By.CSS_SELECTOR, "input[name='password']")))

username.clear()
password.clear()

username.send_keys('stevespositomusic')
password.send_keys('MBDTFTLOP93')
18/115:
time.sleep(5)
log_in = WebDriverWait(driver, 2).until(EC.element_to_be_clickable((By.CSS_SELECTOR, "button[type='submit']"))).click()
18/116:
from selenium import webdriver
from selenium.webdriver.common.keys import Keys
from selenium.webdriver.support import expected_conditions as EC
from selenium.webdriver.common.by import By
from selenium.webdriver.support.wait import WebDriverWait
import time
18/117:
browser = webdriver.Safari()
browser.get('https://www.instagram.com')
18/118: cookies = WebDriverWait(browser, 10).until(EC.element_to_be_clickable((By.XPATH, '//button[contains(text(), "Only allow essential cookies")]'))).click()
18/119:
username = WebDriverWait(browser, 10).until(EC.element_to_be_clickable((By.CSS_SELECTOR, "input[name='username']")))
password = WebDriverWait(browser, 10).until(EC.element_to_be_clickable((By.CSS_SELECTOR, "input[name='password']")))

username.clear()
password.clear()

username.send_keys('stevespositomusic')
password.send_keys('MBDTFTLOP93')
18/120:
time.sleep(5)
log_in = WebDriverWait(browser, 2).until(EC.element_to_be_clickable((By.CSS_SELECTOR, "button[type='submit']"))).click()
18/121:
from selenium import webdriver
from selenium.webdriver.common.keys import Keys
from selenium.webdriver.support import expected_conditions as EC
from selenium.webdriver.common.by import By
from selenium.webdriver.support.wait import WebDriverWait
import time
18/122:
browser = webdriver.Safari()
browser.get('https://www.instagram.com')
18/123: cookies = WebDriverWait(browser, 10).until(EC.element_to_be_clickable((By.XPATH, '//button[contains(text(), "Only allow essential cookies")]'))).click()
18/124:
username = WebDriverWait(browser, 10).until(EC.element_to_be_clickable((By.CSS_SELECTOR, "input[name='username']")))
password = WebDriverWait(browser, 10).until(EC.element_to_be_clickable((By.CSS_SELECTOR, "input[name='password']")))

username.clear()
password.clear()

username.send_keys('stevespositomusic')
password.send_keys('MBDTFTLOP93')
18/125:
time.sleep(5)
log_in = WebDriverWait(browser, 2).until(EC.element_to_be_clickable((By.CSS_SELECTOR, "button[type='submit']"))).click()
18/126:
from selenium import webdriver
from selenium.webdriver.common.keys import Keys
from selenium.webdriver.support import expected_conditions as EC
from selenium.webdriver.common.by import By
from selenium.webdriver.support.wait import WebDriverWait
import time
18/127:
browser = webdriver.Safari()
browser.get('https://www.instagram.com')
18/128: cookies = WebDriverWait(browser, 10).until(EC.element_to_be_clickable((By.XPATH, '//button[contains(text(), "Only allow essential cookies")]'))).click()
18/129:
username = WebDriverWait(browser, 10).until(EC.element_to_be_clickable((By.CSS_SELECTOR, "input[name='username']")))
password = WebDriverWait(browser, 10).until(EC.element_to_be_clickable((By.CSS_SELECTOR, "input[name='password']")))

username.clear()
password.clear()

username.send_keys('stevespositomusic')
password.send_keys('MBDTFTLOP93')
18/130:

log_in = WebDriverWait(browser, 2).until(EC.element_to_be_clickable((By.CSS_SELECTOR, "button[type='submit']"))).click()
20/1:
import urllib.request as r
from bs4 import BeautifulSoup as bs
import json

url = r.urlopen("https://github.com/KeithGalli/sklearn/blob/master/data/sentiment/Books_small.json")
content = url.read()
soup = bs(content)
newDictionary=json.loads(str(soup))
20/2:
import urllib.request as r
from bs4 import BeautifulSoup as bs
import json

url = r.urlopen("https://raw.githubusercontent.com/KeithGalli/sklearn/master/data/sentiment/Books_small.json")
content = url.read()
soup = bs(content)
newDictionary=json.loads(str(soup))
20/3:
import json

file_name = './sklearn-master/data/sentiment/Books_small.json'

with open(file_name) as f:
    for line in f:
        print(line)
        
        break
20/4:
import json

file_name = './sklearn-master/data/sentiment/Books_small.json'


with open(file_name) as f:
    for line in f:
        reviews = json.loads
        print(reviews['reviewText'])
        
        break
20/5:
import json

file_name = './sklearn-master/data/sentiment/Books_small.json'


with open(file_name) as f:
    for line in f:
        reviews = json.loads(line)
        print(reviews['reviewText'])
        
        break
20/6:
import json

file_name = './sklearn-master/data/sentiment/Books_small.json'


with open(file_name) as f:
    for line in f:
        reviews = json.loads(line)
        print(reviews)
        
        break
20/7:
import json

file_name = './sklearn-master/data/sentiment/Books_small.json'


with open(file_name) as f:
    for line in f:
        reviews = json.loads(line)
        print(reviews['reviewText'], reviews['overall'])
        
        break
20/8:
import json

file_name = './sklearn-master/data/sentiment/Books_small.json'


with open(file_name) as f:
    for line in f:
        reviews = json.loads(line)
        print(reviews['reviewText'])
        print(reviews['overall'])
        
        break
20/9:
import json

file_name = './sklearn-master/data/sentiment/Books_small.json'


with open(file_name) as f:
    
    reviews = []
    for line in f:
        review = json.loads(line)
        reviews.append(review['reviewText'], review['overall'])
20/10:
import json

file_name = './sklearn-master/data/sentiment/Books_small.json'


with open(file_name) as f:
    
    reviews = []
    for line in f:
        review = json.loads(line)
        
        reviews.append((review['reviewText'], review['overall']))
20/11: reviews
20/12: reviews[10]
20/13: reviews[4].text
20/14:
class Review:
    
    def __init__(self, text, score)
    self.text = text
    self.score = score
20/15: reviews[4].text
20/16:
class Review:
    
    def __init__(self, text, score):
    self.text = text
    self.score = score
20/17: reviews[4].text
20/18: reviews[4].text
20/19:
class Review:
    
    def __init__(self,text,score):
        self.text = text
        self.score = score
20/20:
import json

file_name = './sklearn-master/data/sentiment/Books_small.json'


with open(file_name) as f:
    
    reviews = []
    for line in f:
        review = json.loads(line)
        reviews.append(Review(review['reviewText'], review['overall']))
20/21: reviews[4].text
20/22: reviews[45].text
20/23: reviews[43].text
20/24: reviews[23].text
20/25: reviews[23].score
20/26: reviews[2].score
20/27: reviews[2].sentiment
20/28:
class Review:
    
    def __init__(self,text,score):
        self.text = text
        self.score = score
        self.sentiment = self.get_sentiment()
    
    def get_sentiment():
        if self.score <= 2:
            return 'NEGATIVE'
        elif self.score ==3:
            return 'NEUTRAL'
        else:
            return 'POSITIVE'
20/29: reviews[2].sentiment
20/30: reviews[2].sentiment
20/31: reviews[2].sentiment
20/32:
class Review:
    
    def __init__(self,text,score):
        self.text = text
        self.score = score
        self.sentiment = self.get_sentiment()
    
    def get_sentiment(self):
        if self.score <= 2:
            return 'NEGATIVE'
        elif self.score ==3:
            return 'NEUTRAL'
        else:
            return 'POSITIVE'
20/33:
import json

file_name = './sklearn-master/data/sentiment/Books_small.json'


with open(file_name) as f:
    
    reviews = []
    for line in f:
        review = json.loads(line)
        reviews.append(Review(review['reviewText'], review['overall']))
20/34: reviews[2].sentiment
20/35:
class Sentiment:
    NEGATIVE = 'NEGATIVE'
    NEUTRAL = 'NEUTRAL'
    POSITIVE = 'POSITIVE'



class Review:
    
    def __init__(self,text,score):
        self.text = text
        self.score = score
        self.sentiment = self.get_sentiment()
    
    def get_sentiment(self):
        if self.score <= 2:
            return Sentiment.NEGATIVE
        elif self.score ==3:
            return Sentiment.NEUTRAL
        else:
            return Sentiment.POSITIVE
20/36: reviews[10].sentiment
20/37: reviews[11].sentiment
23/1: reviews[14].sentiment
23/2:
class Sentiment:
    NEGATIVE = 'NEGATIVE'
    NEUTRAL = 'NEUTRAL'
    POSITIVE = 'POSITIVE'



class Review:
    
    def __init__(self,text,score):
        self.text = text
        self.score = score
        self.sentiment = self.get_sentiment()
    
    def get_sentiment(self):
        if self.score <= 2:
            return Sentiment.NEGATIVE
        elif self.score ==3:
            return Sentiment.NEUTRAL
        else:
            return Sentiment.POSITIVE
23/3:
import json

file_name = './sklearn-master/data/sentiment/Books_small.json'


with open(file_name) as f:
    
    reviews = []
    for line in f:
        review = json.loads(line)
        reviews.append(Review(review['reviewText'], review['overall']))
23/4: reviews[14].sentiment
23/5:
from sklearn.model_selection import train_test_split

train_test_split
23/6:
from sklearn.model_selection import train_test_split

train_test_split(reviews, test_size = 0.33, random_state = 42)
23/7:
from sklearn.model_selection import train_test_split

training, testing = train_test_split(reviews, test_size = 0.33, random_state = 42)
23/8: len(training)
23/9:
train_x = (for x in training: x.text)
train_y = (for x in training: x.score)
23/10:
train_x = [x.text for x in training]
train_y = [x.sentiment for x in training]
23/11:
train_x = [x.text for x in training]
train_y = [x.sentiment for x in training]

train_x[0]
23/12:
train_x = [x.text for x in training]
train_y = [x.sentiment for x in training]

test_x = [x.text for x in test]
test_y = [x.sentiment for x in test]
23/13:
from sklearn.model_selection import train_test_split

training, test = train_test_split(reviews, test_size = 0.33, random_state = 42)
23/14:
from sklearn.model_selection import train_test_split

training, test = train_test_split(reviews, test_size = 0.33, random_state = 42)
23/15:
train_x = [x.text for x in training]
train_y = [x.sentiment for x in training]

test_x = [x.text for x in test]
test_y = [x.sentiment for x in test]
23/16:
from sklearn.feature_extraction.text import CountVectorizer

vectorizer = CountVectorizer()
train_x_vectors = vectorizer.fit_transform(train_x)
23/17:
print(train_x[0])
print(train_x_vectors[0])
23/18:
from sklearn import svm

clf_svm = svm.SVC()
23/19:
class Sentiment:
    NEGATIVE = 'NEGATIVE'
    NEUTRAL = 'NEUTRAL'
    POSITIVE = 'POSITIVE'



class Review:
    
    def __init__(self,text,score):
        self.text = text
        self.score = score
        self.sentiment = self.get_sentiment()
    
    def get_sentiment(self):
        if self.score <= 2:
            return Sentiment.NEGATIVE
        elif self.score ==3:
            return Sentiment.NEUTRAL
        else:
            return Sentiment.POSITIVE
23/20:
import json

file_name = './sklearn-master/data/sentiment/Books_small.json'


with open(file_name) as f:
    
    reviews = []
    for line in f:
        review = json.loads(line)
        reviews.append(Review(review['reviewText'], review['overall']))
23/21: reviews[14].sentiment
23/22:
from sklearn.model_selection import train_test_split

training, test = train_test_split(reviews, test_size = 0.33, random_state = 42)
23/23:
train_x = [x.text for x in training]
train_y = [x.sentiment for x in training]

test_x = [x.text for x in test]
test_y = [x.sentiment for x in test]
23/24:
from sklearn.feature_extraction.text import CountVectorizer

vectorizer = CountVectorizer()
train_x_vectors = vectorizer.fit_transform(train_x)

text_x_vectors = vectorizer.transform(test_x)
23/25:
print(train_x[0])
print(train_x_vectors[0])
23/26:
from sklearn import svm

clf_svm = svm.SVC(kernel='linear')

clf_svm.fit(train_x_vectors, train_y)

clf_svm.predict(test_vectors[0])
23/27:
from sklearn.feature_extraction.text import CountVectorizer

vectorizer = CountVectorizer()
train_x_vectors = vectorizer.fit_transform(train_x)

test_x_vectors = vectorizer.transform(test_x)
23/28:
from sklearn import svm

clf_svm = svm.SVC(kernel='linear')

clf_svm.fit(train_x_vectors, train_y)

clf_svm.predict(test_x_vectors[0])
23/29:
from sklearn.tree import DecisionTreeClassifier

clf_dec = DecisionTreeClassifier()

clf_dec.fit(train_x_vectors, train_y)

clf_dec.predict(test_x_vectors[0])
23/30:
from sklearn.linear_model import LogisticRegression

clf_lg = LogisticRegression()
23/31:
from sklearn.linear_model import LogisticRegression

clf_lg = LogisticRegression()

clf_lg.fit(train_x_vectors, train_y)

clf_lg.predict(test_x_vectors[0])
23/32:
from sklearn.naive_bayes import GaussianNB

clf_gnb = GaussianNB()

clf_gnb.fit(train_x_vectors, train_y)

clf_gnb.predict(test_x_vectors[0])
23/33:
from sklearn.naive_bayes import GaussianNB

clf_gnb = GaussianNB()

clf_gnb.fit(train_x_vectors.toarray(), train_y)

clf_gnb.predict(test_x_vectors[0])
23/34:
from sklearn.feature_extraction.text import CountVectorizer

vectorizer = CountVectorizer()
train_x_vectors = vectorizer.fit_transform(train_x).toarray()

test_x_vectors = vectorizer.transform(test_x)
23/35:
print(train_x[0])
print(train_x_vectors[0])
23/36:
from sklearn.naive_bayes import GaussianNB

clf_gnb = GaussianNB()

clf_gnb.fit(train_x_vectors, train_y)

clf_gnb.predict(test_x_vectors[0])
23/37:
from sklearn.feature_extraction.text import CountVectorizer

vectorizer = CountVectorizer()
train_x_vectors = vectorizer.fit_transform(train_x).toarray()

test_x_vectors = vectorizer.transform(test_x).toarray()
23/38:
from sklearn.naive_bayes import GaussianNB

clf_gnb = GaussianNB()

clf_gnb.fit(train_x_vectors, train_y)

clf_gnb.predict(test_x_vectors[0])
23/39:
from sklearn.naive_bayes import GaussianNB

clf_gnb = GaussianNB()

clf_gnb.fit(train_x_vectors, train_y)

clf_gnb.predict(test_x_vectors[0])
23/40:
from sklearn.naive_bayes import GaussianNB

clf_gnb = GaussianNB()

clf_gnb.fit(train_x_vectors, train_y)
23/41:
from sklearn.feature_extraction.text import CountVectorizer

vectorizer = CountVectorizer()
train_x_vectors = vectorizer.fit_transform(train_x).toarray()

test_x_vectors = vectorizer.transform(test_x)
23/42:
from sklearn.naive_bayes import GaussianNB

clf_gnb = GaussianNB()

clf_gnb.fit(train_x_vectors, train_y)

clf_gnb.predict(test_x_vectors[0])
23/43:
from sklearn.naive_bayes import GaussianNB

clf_gnb = GaussianNB()

clf_gnb.fit(train_x_vectors, train_y)

clf_gnb.predict(test_x_vectors[0].toarray())
23/44:
print(clf_svm.score(test_x_vectors, test_y))
print(clf_dec.score(test_x_vectors, test_y))
print(clf_gnb.score(test_x_vectors, test_y))
print(clf_lg.score(test_x_vectors, test_y))
23/45:
print(clf_svm.score(test_x_vectors, test_y))
print(clf_dec.score(test_x_vectors, test_y))
print(clf_gnb.score(test_x_vectors.toarray(), test_y))
print(clf_lg.score(test_x_vectors, test_y))
23/46: from sklearn.metrics import f1_score
23/47:
from sklearn.metrics import f1_score

print(f1_score(test_y,clf_svm.predict(test_x_vectors), average=None, labels=[Sentiment.POSITIVE, Sentiment.NEUTRAL, Sentiment.NEGATIVE]))
print(f1_score(test_y,clf_dec.predict(test_x_vectors), average=None, labels=[Sentiment.POSITIVE, Sentiment.NEUTRAL, Sentiment.NEGATIVE]))
print(f1_score(test_y,clf_gnb.predict(test_x_vectors.toarray()), average=None, labels=[Sentiment.POSITIVE, Sentiment.NEUTRAL, Sentiment.NEGATIVE]))
print(f1_score(test_y,clf_lg.predict(test_x_vectors), average=None, labels=[Sentiment.POSITIVE, Sentiment.NEUTRAL, Sentiment.NEGATIVE]))
23/48: train_y[:10]
23/49: train_y[:50]
23/50: train_y.count(train_y.sentiment == POSITIVE)
23/51: train_y.count(Sentiment.POSITIVE)
23/52: train_y.count('POSITIVE')
23/53:
class Sentiment:
    NEGATIVE = 'NEGATIVE'
    NEUTRAL = 'NEUTRAL'
    POSITIVE = 'POSITIVE'



class Review:
    
    def __init__(self,text,score):
        self.text = text
        self.score = score
        self.sentiment = self.get_sentiment()
    
    def get_sentiment(self):
        if self.score <= 2:
            return Sentiment.NEGATIVE
        elif self.score ==3:
            return Sentiment.NEUTRAL
        else:
            return Sentiment.POSITIVE
23/54:
import json

file_name = './sklearn-master/data/sentiment/Books_small_10000.json'


with open(file_name) as f:
    
    reviews = []
    for line in f:
        review = json.loads(line)
        reviews.append(Review(review['reviewText'], review['overall']))
23/55: reviews[14].sentiment
23/56:
from sklearn.model_selection import train_test_split

training, test = train_test_split(reviews, test_size = 0.33, random_state = 42)
23/57:
train_x = [x.text for x in training]
train_y = [x.sentiment for x in training]

test_x = [x.text for x in test]
test_y = [x.sentiment for x in test]
23/58:
from sklearn.feature_extraction.text import CountVectorizer

vectorizer = CountVectorizer()
train_x_vectors = vectorizer.fit_transform(train_x).toarray()

test_x_vectors = vectorizer.transform(test_x)
23/59:
print(train_x[0])
print(train_x_vectors[0])
23/60:
from sklearn import svm

clf_svm = svm.SVC(kernel='linear')

clf_svm.fit(train_x_vectors, train_y)

clf_svm.predict(test_x_vectors[0])
24/1:
class Sentiment:
    NEGATIVE = 'NEGATIVE'
    NEUTRAL = 'NEUTRAL'
    POSITIVE = 'POSITIVE'



class Review:
    
    def __init__(self,text,score):
        self.text = text
        self.score = score
        self.sentiment = self.get_sentiment()
    
    def get_sentiment(self):
        if self.score <= 2:
            return Sentiment.NEGATIVE
        elif self.score ==3:
            return Sentiment.NEUTRAL
        else:
            return Sentiment.POSITIVE
24/2:
import json

file_name = './sklearn-master/data/sentiment/Books_small_10000.json'


with open(file_name) as f:
    
    reviews = []
    for line in f:
        review = json.loads(line)
        reviews.append(Review(review['reviewText'], review['overall']))
24/3: reviews[14].sentiment
24/4:
from sklearn.model_selection import train_test_split

training, test = train_test_split(reviews, test_size = 0.33, random_state = 42)
24/5:
train_x = [x.text for x in training]
train_y = [x.sentiment for x in training]

test_x = [x.text for x in test]
test_y = [x.sentiment for x in test]
24/6:
from sklearn.feature_extraction.text import CountVectorizer

vectorizer = CountVectorizer()
train_x_vectors = vectorizer.fit_transform(train_x).toarray()

test_x_vectors = vectorizer.transform(test_x)
24/7:
print(train_x[0])
print(train_x_vectors[0])
24/8:
from sklearn import svm

clf_svm = svm.SVC(kernel='linear')

clf_svm.fit(train_x_vectors, train_y)

clf_svm.predict(test_x_vectors[0])
25/1:
class Sentiment:
    NEGATIVE = 'NEGATIVE'
    NEUTRAL = 'NEUTRAL'
    POSITIVE = 'POSITIVE'



class Review:
    
    def __init__(self,text,score):
        self.text = text
        self.score = score
        self.sentiment = self.get_sentiment()
    
    def get_sentiment(self):
        if self.score <= 2:
            return Sentiment.NEGATIVE
        elif self.score ==3:
            return Sentiment.NEUTRAL
        else:
            return Sentiment.POSITIVE
25/2:
import json

file_name = './sklearn-master/data/sentiment/Books_small_10000.json'


with open(file_name) as f:
    
    reviews = []
    for line in f:
        review = json.loads(line)
        reviews.append(Review(review['reviewText'], review['overall']))
25/3: reviews[14].sentiment
25/4:
from sklearn.model_selection import train_test_split

training, test = train_test_split(reviews, test_size = 0.33, random_state = 42)
25/5:
train_x = [x.text for x in training]
train_y = [x.sentiment for x in training]

test_x = [x.text for x in test]
test_y = [x.sentiment for x in test]
25/6:
from sklearn.feature_extraction.text import CountVectorizer

vectorizer = CountVectorizer()
train_x_vectors = vectorizer.fit_transform(train_x).toarray()

test_x_vectors = vectorizer.transform(test_x)
25/7:
print(train_x[0])
print(train_x_vectors[0])
25/8:
from sklearn import svm

clf_svm = svm.SVC(kernel='linear')

clf_svm.fit(train_x_vectors, train_y)

clf_svm.predict(test_x_vectors[0])
26/1:
class Sentiment:
    NEGATIVE = 'NEGATIVE'
    NEUTRAL = 'NEUTRAL'
    POSITIVE = 'POSITIVE'



class Review:
    
    def __init__(self,text,score):
        self.text = text
        self.score = score
        self.sentiment = self.get_sentiment()
    
    def get_sentiment(self):
        if self.score <= 2:
            return Sentiment.NEGATIVE
        elif self.score ==3:
            return Sentiment.NEUTRAL
        else:
            return Sentiment.POSITIVE
26/2:
import json

file_name = './sklearn-master/data/sentiment/Books_small_10000.json'


with open(file_name) as f:
    
    reviews = []
    for line in f:
        review = json.loads(line)
        reviews.append(Review(review['reviewText'], review['overall']))
26/3: reviews[14].sentiment
26/4:
from sklearn.model_selection import train_test_split

training, test = train_test_split(reviews, test_size = 0.33, random_state = 42)
26/5:
train_x = [x.text for x in training]
train_y = [x.sentiment for x in training]

test_x = [x.text for x in test]
test_y = [x.sentiment for x in test]
26/6:
from sklearn.feature_extraction.text import CountVectorizer

vectorizer = CountVectorizer()
train_x_vectors = vectorizer.fit_transform(train_x).toarray()

test_x_vectors = vectorizer.transform(test_x)
26/7:
print(train_x[0])
print(train_x_vectors[0])
26/8:
from sklearn import svm

clf_svm = svm.SVC(kernel='linear')

clf_svm.fit(train_x_vectors, train_y)

clf_svm.predict(test_x_vectors[0])
26/9: train_y.count('POSITIVE')
26/10:
from sklearn import svm

clf_svm = svm.SVC(kernel='linear')

clf_svm.fit(train_x_vectors, train_y)

clf_svm.predict(test_x_vectors[0])
26/11:
from sklearn import svm

clf_svm = svm.SVC(kernel='linear')

clf_svm.fit(train_x_vectors, train_y)

clf_svm.predict(test_x_vectors[0])
27/1: train_y.count('NEGATIVE')
27/2:
class Sentiment:
    NEGATIVE = 'NEGATIVE'
    NEUTRAL = 'NEUTRAL'
    POSITIVE = 'POSITIVE'



class Review:
    
    def __init__(self,text,score):
        self.text = text
        self.score = score
        self.sentiment = self.get_sentiment()
    
    def get_sentiment(self):
        if self.score <= 2:
            return Sentiment.NEGATIVE
        elif self.score ==3:
            return Sentiment.NEUTRAL
        else:
            return Sentiment.POSITIVE
27/3:
import json

file_name = './sklearn-master/data/sentiment/Books_small_10000.json'


with open(file_name) as f:
    
    reviews = []
    for line in f:
        review = json.loads(line)
        reviews.append(Review(review['reviewText'], review['overall']))
27/4: reviews[14].sentiment
27/5:
from sklearn.model_selection import train_test_split

training, test = train_test_split(reviews, test_size = 0.33, random_state = 42)
27/6:
train_x = [x.text for x in training]
train_y = [x.sentiment for x in training]

test_x = [x.text for x in test]
test_y = [x.sentiment for x in test]
27/7:
from sklearn.feature_extraction.text import CountVectorizer

vectorizer = CountVectorizer()
train_x_vectors = vectorizer.fit_transform(train_x)

test_x_vectors = vectorizer.transform(test_x)
27/8:
print(train_x[0])
print(train_x_vectors[0])
27/9:
from sklearn import svm

clf_svm = svm.SVC(kernel='linear')

clf_svm.fit(train_x_vectors, train_y)

clf_svm.predict(test_x_vectors[0])
27/10:
from sklearn.tree import DecisionTreeClassifier

clf_dec = DecisionTreeClassifier()

clf_dec.fit(train_x_vectors, train_y)

clf_dec.predict(test_x_vectors[0])
27/11:
from sklearn.naive_bayes import GaussianNB

clf_gnb = GaussianNB()

clf_gnb.fit(train_x_vectors.toarray(), train_y)

clf_gnb.predict(test_x_vectors[0].toarray())
27/12:
from sklearn.linear_model import LogisticRegression

clf_lg = LogisticRegression()

clf_lg.fit(train_x_vectors, train_y)

clf_lg.predict(test_x_vectors[0])
27/13:
print(clf_svm.score(test_x_vectors, test_y))
print(clf_dec.score(test_x_vectors, test_y))
print(clf_gnb.score(test_x_vectors.toarray(), test_y))
print(clf_lg.score(test_x_vectors, test_y))
27/14:
from sklearn.metrics import f1_score

print(f1_score(test_y,clf_svm.predict(test_x_vectors), average=None, labels=[Sentiment.POSITIVE, Sentiment.NEUTRAL, Sentiment.NEGATIVE]))
print(f1_score(test_y,clf_dec.predict(test_x_vectors), average=None, labels=[Sentiment.POSITIVE, Sentiment.NEUTRAL, Sentiment.NEGATIVE]))
print(f1_score(test_y,clf_gnb.predict(test_x_vectors.toarray()), average=None, labels=[Sentiment.POSITIVE, Sentiment.NEUTRAL, Sentiment.NEGATIVE]))
print(f1_score(test_y,clf_lg.predict(test_x_vectors), average=None, labels=[Sentiment.POSITIVE, Sentiment.NEUTRAL, Sentiment.NEGATIVE]))
27/15: train_y.count('NEGATIVE')
27/16: train_y.count('POSITIVE')
27/17:
class Sentiment:
    NEGATIVE = 'NEGATIVE'
    NEUTRAL = 'NEUTRAL'
    POSITIVE = 'POSITIVE'



class Review:
    
    def __init__(self,text,score):
        self.text = text
        self.score = score
        self.sentiment = self.get_sentiment()
    
    def get_sentiment(self):
        if self.score <= 2:
            return Sentiment.NEGATIVE
        elif self.score ==3:
            return Sentiment.NEUTRAL
        else:
            return Sentiment.POSITIVE
        
class ReviewContainer:
    
    def __init__(self,reviews):
        self.reviews = reviews
    
    def evenly_distribute(self):
        negative = list(filter(lambda x: x.sentiment == Sentiment.NEGATIVE, self.reviews))
        positive = list(filter(lambda x: x.sentiment == Sentiment.POSITIVE, self.reviews))
        print(len(negative))
        print(len(positive))
27/18:
from sklearn.model_selection import train_test_split

training, test = train_test_split(reviews, test_size = 0.33, random_state = 42) 

training_cont = ReviewContainer(training)

training_cont(evenly_distribute)
27/19:
from sklearn.model_selection import train_test_split

training, test = train_test_split(reviews, test_size = 0.33, random_state = 42) 

training_cont = ReviewContainer(training)

evenly_distribute(training_cont)
27/20:
class Sentiment:
    NEGATIVE = 'NEGATIVE'
    NEUTRAL = 'NEUTRAL'
    POSITIVE = 'POSITIVE'



class Review:
    
    def __init__(self,text,score):
        self.text = text
        self.score = score
        self.sentiment = self.get_sentiment()
    
    def get_sentiment(self):
        if self.score <= 2:
            return Sentiment.NEGATIVE
        elif self.score ==3:
            return Sentiment.NEUTRAL
        else:
            return Sentiment.POSITIVE
        
class ReviewContainer:
    
    def __init__(self,reviews):
        self.reviews = reviews
    
    def evenly_distribute(self):
        negative = list(filter(lambda x: x.sentiment == Sentiment.NEGATIVE, self.reviews))
        positive = list(filter(lambda x: x.sentiment == Sentiment.POSITIVE, self.reviews))
        print(len(negative))
        print(len(positive))
27/21:
from sklearn.model_selection import train_test_split

training, test = train_test_split(reviews, test_size = 0.33, random_state = 42) 

training_cont = ReviewContainer(training)

evenly_distribute(training_cont)
27/22:
from sklearn.model_selection import train_test_split

training, test = train_test_split(reviews, test_size = 0.33, random_state = 42) 

training_cont = ReviewContainer(training)

evenly_distribute(training_cont)
27/23:
from sklearn.model_selection import train_test_split

training, test = train_test_split(reviews, test_size = 0.33, random_state = 42) 

training_cont = ReviewContainer(training)

training_cont.evenly_distribute()
27/24:
from sklearn.model_selection import train_test_split

training, test = train_test_split(reviews, test_size = 0.33, random_state = 42) 

training_cont = ReviewContainer(training)

testing_cont = ReviewContainer(testing)
27/25:
from sklearn.model_selection import train_test_split

training, test = train_test_split(reviews, test_size = 0.33, random_state = 42) 

training_cont = ReviewContainer(training)

testing_cont = ReviewContainer(test)
27/26:
train_x = training_cont.get_text()
train_y = training_cont.get_sentiment()

test_x = test_cont.get_text()
test_y = test_cont.get_sentiment()
27/27:
import random

class Sentiment:
    NEGATIVE = 'NEGATIVE'
    NEUTRAL = 'NEUTRAL'
    POSITIVE = 'POSITIVE'



class Review:
    
    def __init__(self,text,score):
        self.text = text
        self.score = score
        self.sentiment = self.get_sentiment()
    
    def get_sentiment(self):
        if self.score <= 2:
            return Sentiment.NEGATIVE
        elif self.score ==3:
            return Sentiment.NEUTRAL
        else:
            return Sentiment.POSITIVE
        
class ReviewContainer:
    
    def __init__(self,reviews):
        self.reviews = reviews
    
    def get_text(self):
        return[x.text for x in self.reviews]
    
    def get_sentiment(self):
        return[x.sentiment for x in self.reviews]
    
    def evenly_distribute(self):
        negative = list(filter(lambda x: x.sentiment == Sentiment.NEGATIVE, self.reviews))
        positive = list(filter(lambda x: x.sentiment == Sentiment.POSITIVE, self.reviews))
        positive_shrunk = positive[:len(negative)] 
        self.reviews = negative + positive_shrunk
        random.shuffle(self.reviews)
27/28:
train_x = training_cont.get_text()
train_y = training_cont.get_sentiment()

test_x = test_cont.get_text()
test_y = test_cont.get_sentiment()
27/29:
train_x = training_cont.get_text()
train_y = training_cont.get_sentiment()

test_x = test_cont.get_text()
test_y = test_cont.get_sentiment()
27/30:
import random

class Sentiment:
    NEGATIVE = 'NEGATIVE'
    NEUTRAL = 'NEUTRAL'
    POSITIVE = 'POSITIVE'



class Review:
    
    def __init__(self,text,score):
        self.text = text
        self.score = score
        self.sentiment = self.get_sentiment()
    
    def get_sentiment(self):
        if self.score <= 2:
            return Sentiment.NEGATIVE
        elif self.score ==3:
            return Sentiment.NEUTRAL
        else:
            return Sentiment.POSITIVE
        
class ReviewContainer:
    
    def __init__(self,reviews):
        self.reviews = reviews
    
    def get_text(self):
        return[x.text for x in self.reviews]
    
    def get_sentiment(self):
        return[x.sentiment for x in self.reviews]
    
    def evenly_distribute(self):
        negative = list(filter(lambda x: x.sentiment == Sentiment.NEGATIVE, self.reviews))
        positive = list(filter(lambda x: x.sentiment == Sentiment.POSITIVE, self.reviews))
        positive_shrunk = positive[:len(negative)] 
        self.reviews = negative + positive_shrunk
        random.shuffle(self.reviews)
27/31:
train_x = training_cont.get_text()
train_y = training_cont.get_sentiment()

test_x = test_cont.get_text()
test_y = test_cont.get_sentiment()
27/32:
train_x = training_cont.get_text()
train_y = training_cont.get_sentiment()

test_x = test_cont.get_text()
test_y = test_cont.get_sentiment()
27/33:
import random

class Sentiment:
    NEGATIVE = 'NEGATIVE'
    NEUTRAL = 'NEUTRAL'
    POSITIVE = 'POSITIVE'



class Review:
    
    def __init__(self,text,score):
        self.text = text
        self.score = score
        self.sentiment = self.get_sentiment()
    
    def get_sentiment(self):
        if self.score <= 2:
            return Sentiment.NEGATIVE
        elif self.score ==3:
            return Sentiment.NEUTRAL
        else:
            return Sentiment.POSITIVE
        
class ReviewContainer:
    
    def __init__(self,reviews):
        self.reviews = reviews
    
    def get_text(self):
        return[x.text for x in self.reviews]
    
    def get_sentiment(self):
        return[x.sentiment for x in self.reviews]
    
    def evenly_distribute(self):
        negative = list(filter(lambda x: x.sentiment == Sentiment.NEGATIVE, self.reviews))
        positive = list(filter(lambda x: x.sentiment == Sentiment.POSITIVE, self.reviews))
        positive_shrunk = positive[:len(negative)] 
        self.reviews = negative + positive_shrunk
        random.shuffle(self.reviews)
27/34:
train_x = training_cont.get_text()
train_y = training_cont.get_sentiment()

test_x = test_cont.get_text()
test_y = test_cont.get_sentiment()
27/35:
import random

class Sentiment:
    NEGATIVE = 'NEGATIVE'
    NEUTRAL = 'NEUTRAL'
    POSITIVE = 'POSITIVE'



class Review:
    
    def __init__(self,text,score):
        self.text = text
        self.score = score
        self.sentiment = self.get_sentiment()
    
    def get_sentiment(self):
        if self.score <= 2:
            return Sentiment.NEGATIVE
        elif self.score ==3:
            return Sentiment.NEUTRAL
        else:
            return Sentiment.POSITIVE
        
class ReviewContainer:
    
    def __init__(self,reviews):
        self.reviews = reviews
    
    def get_text(self):
        return[x.text for x in self.reviews]
    
    def get_sentiment(self):
        return[x.sentiment for x in self.reviews]
    
    def evenly_distribute(self):
        negative = list(filter(lambda x: x.sentiment == Sentiment.NEGATIVE, self.reviews))
        positive = list(filter(lambda x: x.sentiment == Sentiment.POSITIVE, self.reviews))
        positive_shrunk = positive[:len(negative)] 
        self.reviews = negative + positive_shrunk
        random.shuffle(self.reviews)
27/36:
import json

file_name = './sklearn-master/data/sentiment/Books_small_10000.json'


with open(file_name) as f:
    
    reviews = []
    for line in f:
        review = json.loads(line)
        reviews.append(Review(review['reviewText'], review['overall']))
27/37:
from sklearn.model_selection import train_test_split

training, test = train_test_split(reviews, test_size = 0.33, random_state = 42) 

training_cont = ReviewContainer(training)

test_cont = ReviewContainer(test)
27/38:
train_x = training_cont.get_text()
train_y = training_cont.get_sentiment()

test_x = test_cont.get_text()
test_y = test_cont.get_sentiment()
27/39:
from sklearn.feature_extraction.text import CountVectorizer

vectorizer = CountVectorizer()
train_x_vectors = vectorizer.fit_transform(train_x)

test_x_vectors = vectorizer.transform(test_x)
27/40: reviews[14].text
27/41: reviews[14]['reviewText']
27/42: reviews[14].score
27/43: reviews[45].score
27/44: reviews[45].text
27/45: reviews[45].sentiment
27/46:
from sklearn import svm

clf_svm = svm.SVC(kernel='linear')

clf_svm.fit(train_x_vectors, train_y)

clf_svm.predict(test_x_vectors[0])
27/47:
from sklearn.tree import DecisionTreeClassifier

clf_dec = DecisionTreeClassifier()

clf_dec.fit(train_x_vectors, train_y)

clf_dec.predict(test_x_vectors[0])
27/48:
from sklearn.naive_bayes import GaussianNB

clf_gnb = GaussianNB()

clf_gnb.fit(train_x_vectors.toarray(), train_y)

clf_gnb.predict(test_x_vectors[0].toarray())
27/49:
from sklearn.linear_model import LogisticRegression

clf_lg = LogisticRegression()

clf_lg.fit(train_x_vectors, train_y)

clf_lg.predict(test_x_vectors[0])
27/50:
print(clf_svm.score(test_x_vectors, test_y))
print(clf_dec.score(test_x_vectors, test_y))
print(clf_gnb.score(test_x_vectors.toarray(), test_y))
print(clf_lg.score(test_x_vectors, test_y))
27/51:
training_cont.evenly_distribute()
train_x = training_cont.get_text()
train_y = training_cont.get_sentiment()

test_x = test_cont.get_text()
test_y = test_cont.get_sentiment()
27/52:
from sklearn.feature_extraction.text import CountVectorizer

vectorizer = CountVectorizer()
train_x_vectors = vectorizer.fit_transform(train_x)

test_x_vectors = vectorizer.transform(test_x)
27/53:
from sklearn import svm

clf_svm = svm.SVC(kernel='linear')

clf_svm.fit(train_x_vectors, train_y)

clf_svm.predict(test_x_vectors[0])
27/54:
from sklearn.tree import DecisionTreeClassifier

clf_dec = DecisionTreeClassifier()

clf_dec.fit(train_x_vectors, train_y)

clf_dec.predict(test_x_vectors[0])
27/55:
from sklearn.naive_bayes import GaussianNB

clf_gnb = GaussianNB()

clf_gnb.fit(train_x_vectors.toarray(), train_y)

clf_gnb.predict(test_x_vectors[0].toarray())
27/56:
from sklearn.linear_model import LogisticRegression

clf_lg = LogisticRegression()

clf_lg.fit(train_x_vectors, train_y)

clf_lg.predict(test_x_vectors[0])
27/57:
print(clf_svm.score(test_x_vectors, test_y))
print(clf_dec.score(test_x_vectors, test_y))
print(clf_gnb.score(test_x_vectors.toarray(), test_y))
print(clf_lg.score(test_x_vectors, test_y))
27/58:
from sklearn.metrics import f1_score

print(f1_score(test_y,clf_svm.predict(test_x_vectors), average=None, labels=[Sentiment.POSITIVE, Sentiment.NEUTRAL, Sentiment.NEGATIVE]))
print(f1_score(test_y,clf_dec.predict(test_x_vectors), average=None, labels=[Sentiment.POSITIVE, Sentiment.NEUTRAL, Sentiment.NEGATIVE]))
print(f1_score(test_y,clf_gnb.predict(test_x_vectors.toarray()), average=None, labels=[Sentiment.POSITIVE, Sentiment.NEUTRAL, Sentiment.NEGATIVE]))
print(f1_score(test_y,clf_lg.predict(test_x_vectors), average=None, labels=[Sentiment.POSITIVE, Sentiment.NEUTRAL, Sentiment.NEGATIVE]))
27/59:
training_cont.evenly_distribute()
train_x = training_cont.get_text()
train_y = training_cont.get_sentiment()

test_cont.evenly_distribute()
test_x = test_cont.get_text()
test_y = test_cont.get_sentiment()
27/60:
from sklearn.feature_extraction.text import CountVectorizer

vectorizer = CountVectorizer()
train_x_vectors = vectorizer.fit_transform(train_x)

test_x_vectors = vectorizer.transform(test_x)
27/61:
from sklearn import svm

clf_svm = svm.SVC(kernel='linear')

clf_svm.fit(train_x_vectors, train_y)

clf_svm.predict(test_x_vectors[0])
27/62:
from sklearn.tree import DecisionTreeClassifier

clf_dec = DecisionTreeClassifier()

clf_dec.fit(train_x_vectors, train_y)

clf_dec.predict(test_x_vectors[0])
27/63:
from sklearn.naive_bayes import GaussianNB

clf_gnb = GaussianNB()

clf_gnb.fit(train_x_vectors.toarray(), train_y)

clf_gnb.predict(test_x_vectors[0].toarray())
27/64:
from sklearn.linear_model import LogisticRegression

clf_lg = LogisticRegression()

clf_lg.fit(train_x_vectors, train_y)

clf_lg.predict(test_x_vectors[0])
27/65:
print(clf_svm.score(test_x_vectors, test_y))
print(clf_dec.score(test_x_vectors, test_y))
print(clf_gnb.score(test_x_vectors.toarray(), test_y))
print(clf_lg.score(test_x_vectors, test_y))
27/66:
from sklearn.metrics import f1_score

print(f1_score(test_y,clf_svm.predict(test_x_vectors), average=None, labels=[Sentiment.POSITIVE, Sentiment.NEUTRAL, Sentiment.NEGATIVE]))
print(f1_score(test_y,clf_dec.predict(test_x_vectors), average=None, labels=[Sentiment.POSITIVE, Sentiment.NEUTRAL, Sentiment.NEGATIVE]))
print(f1_score(test_y,clf_gnb.predict(test_x_vectors.toarray()), average=None, labels=[Sentiment.POSITIVE, Sentiment.NEUTRAL, Sentiment.NEGATIVE]))
print(f1_score(test_y,clf_lg.predict(test_x_vectors), average=None, labels=[Sentiment.POSITIVE, Sentiment.NEUTRAL, Sentiment.NEGATIVE]))
27/67:
from sklearn.metrics import f1_score

print(f1_score(test_y,clf_svm.predict(test_x_vectors), average=None, labels=[Sentiment.POSITIVE, Sentiment.NEUTRAL, Sentiment.NEGATIVE]))
print(f1_score(test_y,clf_dec.predict(test_x_vectors), average=None, labels=[Sentiment.POSITIVE, Sentiment.NEUTRAL, Sentiment.NEGATIVE]))
print(f1_score(test_y,clf_gnb.predict(test_x_vectors.toarray()), average=None, labels=[Sentiment.POSITIVE, Sentiment.NEUTRAL, Sentiment.NEGATIVE]))
print(f1_score(test_y,clf_lg.predict(test_x_vectors), average=None, labels=[Sentiment.POSITIVE, Sentiment.NEUTRAL, Sentiment.NEGATIVE]))
27/68: train_y.count('POSITIVE')
27/69: train_y.count('NEGATIVE')
27/70:
test_set = ['very fun', "bad book do not buy", 'horrible waste of time']
new_test = vectorizer.transform(test_set)

clf_svm.predict(new_test)
27/71:
print(train_x[0])
print(train_x_vectors[0])
print(test_x_vectors[0])
27/72:
print(train_x[0])
# print(train_x_vectors[0])
# print(test_x_vectors[0])
27/73:
# print(train_x[0])
print(train_x_vectors[0])
# print(test_x_vectors[0])
27/74:
# print(train_x[0])
# print(train_x_vectors[0])
print(test_x_vectors[0])
27/75:
# print(train_x[0])
# print(train_x_vectors[0])
print(test_x_vectors[0])
print(test_x[0])
27/76:
print(train_x[0])
print(train_x_vectors[0])
print(test_x[0])
print(test_x_vectors[0])
27/77:
print(train_x[0])
print(train_x_vectors[0])
27/78:
test_set = ['not very fun', "bad book do not buy", 'horrible waste of time']
new_test = vectorizer.transform(test_set)

clf_svm.predict(new_test)
27/79:
test_set = ['excellent', "bad book do not buy", 'horrible waste of time']
new_test = vectorizer.transform(test_set)

clf_svm.predict(new_test)
27/80:
test_set = ['awesome', "bad book do not buy", 'horrible waste of time']
new_test = vectorizer.transform(test_set)

clf_svm.predict(new_test)
27/81:
from sklearn.feature_extraction.text import CountVectorizer, TfidfVectorizer

vectorizer = TfidfVectorizer()
train_x_vectors = vectorizer.fit_transform(train_x)

test_x_vectors = vectorizer.transform(test_x)
27/82:
print(train_x[0])
print(train_x_vectors[0])
27/83:
from sklearn import svm

clf_svm = svm.SVC(kernel='linear')

clf_svm.fit(train_x_vectors, train_y)

clf_svm.predict(test_x_vectors[0])
27/84:
from sklearn.tree import DecisionTreeClassifier

clf_dec = DecisionTreeClassifier()

clf_dec.fit(train_x_vectors, train_y)

clf_dec.predict(test_x_vectors[0])
27/85:
from sklearn.naive_bayes import GaussianNB

clf_gnb = GaussianNB()

clf_gnb.fit(train_x_vectors.toarray(), train_y)

clf_gnb.predict(test_x_vectors[0].toarray())
27/86:
from sklearn.linear_model import LogisticRegression

clf_lg = LogisticRegression()

clf_lg.fit(train_x_vectors, train_y)

clf_lg.predict(test_x_vectors[0])
27/87:
print(clf_svm.score(test_x_vectors, test_y))
print(clf_dec.score(test_x_vectors, test_y))
print(clf_gnb.score(test_x_vectors.toarray(), test_y))
print(clf_lg.score(test_x_vectors, test_y))
27/88:
from sklearn.metrics import f1_score

print(f1_score(test_y,clf_svm.predict(test_x_vectors), average=None, labels=[Sentiment.POSITIVE, Sentiment.NEUTRAL, Sentiment.NEGATIVE]))
# print(f1_score(test_y,clf_dec.predict(test_x_vectors), average=None, labels=[Sentiment.POSITIVE, Sentiment.NEUTRAL, Sentiment.NEGATIVE]))
# print(f1_score(test_y,clf_gnb.predict(test_x_vectors.toarray()), average=None, labels=[Sentiment.POSITIVE, Sentiment.NEUTRAL, Sentiment.NEGATIVE]))
# print(f1_score(test_y,clf_lg.predict(test_x_vectors), average=None, labels=[Sentiment.POSITIVE, Sentiment.NEUTRAL, Sentiment.NEGATIVE]))
27/89:
test_set = ['awesome', "bad book do not buy", 'horrible waste of time']
new_test = vectorizer.transform(test_set)

clf_svm.predict(new_test)
27/90:
from sklearn.model_selection import GridSearchCV

parameters = {'kernel': ('linear', 'rbf'), 'C': (1,4,8,16,32)}

svc = svm.SVC()
clf = GridSearchCV(svc, parameters, cv=5)
clf.fit(train_x_vectors, train_y)
27/91:
from sklearn.model_selection import GridSearchCV

parameters = {'kernel': ('linear', 'rbf'), 'C': (1,4,8,16,32)}

svc = svm.SVC()
clf = GridSearchCV(svc, parameters, cv=5)
clf.fit(train_x_vectors, train_y)
27/92: print(clf.score(test_x_vectors, test_y))
27/93:
from sklearn.model_selection import GridSearchCV

parameters = {'kernel': ('linear', 'rbf'), 'C': (1,4,8,16,32)}

svc = svm.SVC()
clf = GridSearchCV(svc, parameters, cv=5)
clf.fit(train_x_vectors, train_y)
clf.cv_results_
27/94: pd.DataFrame(clf.cv_results_)
27/95:
import pandas as pd
pd.DataFrame(clf.cv_results_)
27/96: pd.DataFrame['param_C','param_kernel','mean_test_score']
27/97: pd.DataFrame[['param_C','param_kernel','mean_test_score']]
27/98:
import pandas as pd
df = pd.DataFrame(clf.cv_results_)
27/99: df[['param_C','param_kernel','mean_test_score']]
27/100: print(clf.score(test_x_vectors, test_y))
27/101:
import pickle

with open ('./sklearn-master/models/sentiment_classifier.pkl', 'wb') as f:
    pickle.dump(clf,f)
27/102:
with open ('./sklearn-master/models/sentiment_classifier.pkl', 'rb') as f:
    loaded_clf = pickle.load(f)
27/103:
print(test_x[10])

loaded_clf.predict(test_x_vectors[10])
28/1:
import os
import numpy as np
import random
from sklearn.model_selection import train_test_split
from sklearn.feature_extraction.text import CountVectorizer, TfidfVectorizer
from sklearn.metrics import f1_score

import json
28/2:
train_reviews = []
all_categories = []
for file in os.listdir('./data/training'):
    category = file.strip('train_').split('.')[0]
    all_categories.append(category)
    with open(f'./data/training/{file}') as f:
        for line in f:
            review_json = json.loads(line)
            review = Review(category, review_json['reviewText'])
            train_reviews.append(review)
28/3:
train_reviews = []
all_categories = []
for file in os.listdir('./data/training'):
    category = file.strip('train_').split('.')[0]
    all_categories.append(category)
    with open(f'./data/training/{file}') as f:
        for line in f:
            review_json = json.loads(line)
            review = (category,review_json['reviewText']
            train_reviews.append(review)
28/4:
train_reviews = []
all_categories = []
for file in os.listdir('./data/training'):
    category = file.strip('train_').split('.')[0]
    all_categories.append(category)
    with open(f'./data/training/{file}') as f:
        for line in f:
            review_json = json.loads(line)
            review = (category,review_json['reviewText'])
            train_reviews.append(review)
28/5: train_reviews
28/6: train_reviews[39]
28/7: train_reviews[39][category]
28/8: train_reviews[39][0]
28/9: train_reviews[39]
28/10: train_reviews[:30]
28/11: len(train_reviews)
28/12: train_reviews[5000:5030]
28/13: train_reviews[20]
28/14:
class Review:
    def __init__(self,category,text):
        self.category = category
        self.text = text
28/15:
train_reviews = []
all_categories = []
for file in os.listdir('./data/training'):
    category = file.strip('train_').split('.')[0]
    all_categories.append(category)
    with open(f'./data/training/{file}') as f:
        for line in f:
            review_json = json.loads(line)
            review = (Review(category,review_json['reviewText'])
            train_reviews.append(review)
28/16:
train_reviews = []
all_categories = []
for file in os.listdir('./data/training'):
    category = file.strip('train_').split('.')[0]
    all_categories.append(category)
    with open(f'./data/training/{file}') as f:
        for line in f:
            review_json = json.loads(line)
            review = Review(category,review_json['reviewText'])
            train_reviews.append(review)
28/17: train_reviews[20].category
28/18: train_reviews[20].text
28/19:
train_reviews = []
all_categories = []
for file in os.listdir('./data/training'):
    category = file.strip('train_').split('.')[0]
    all_categories.append(category)
    with open(f'./data/training/{file}') as f:
        for line in f:
            review_json = json.loads(line)
            review = Review(category,review_json['reviewText'])
            train_reviews.append(review)

train_container = ReviewContainer(train_reviews)
28/20:
class Review:
    def __init__(self,category,text):
        self.category = category
        self.text = text
        
class ReviewContainer:
    def __init__(self,reviews):
        self.reviews = reviews
28/21:
train_reviews = []
all_categories = []
for file in os.listdir('./data/training'):
    category = file.strip('train_').split('.')[0]
    all_categories.append(category)
    with open(f'./data/training/{file}') as f:
        for line in f:
            review_json = json.loads(line)
            review = Review(category,review_json['reviewText'])
            train_reviews.append(review)

train_container = ReviewContainer(train_reviews)
28/22: train_container.reviews
28/23: train_container[1].reviews
30/1:
import cv2 as cv
import numpy as np
30/2:
import cv2 as cv
import numpy as np
30/3:
image = np.zeros((600,900,3),dtype=np.uint8)

cv.imshow('tree', image)

cv.waitKey(0)
cv.destroyAllWindows()
31/1:
import cv2 as cv
import numpy as np
31/2:
image = np.zeros((600,900,3),dtype=np.uint8)

cv.rectangle(image,(0,0),(900,500),(255,225,85),-1)

cv.imshow('tree', image)

cv.waitKey(0)
cv.destroyAllWindows()
31/3:
image = np.zeros((600,900,3),dtype=np.uint8)

cv.rectangle(image,(0,0),(900,500),(255,225,85),-1)
cv.rectangle(image,(0,500),(900,600),(50,225,85),-1
cv.imshow('tree', image)

cv.waitKey(0)
cv.destroyAllWindows()
32/1:
image = np.zeros((600,900,3),dtype=np.uint8)

cv.rectangle(image,(0,0),(900,500),(255,225,85),-1)
cv.rectangle(image,(0,500),(900,600),(50,225,85),-1
cv.imshow('tree', image)

cv.waitKey(0)
cv.destroyAllWindows()
32/2:
import cv2 as cv
import numpy as np
32/3:
image = np.zeros((600,900,3),dtype=np.uint8)

cv.rectangle(image,(0,0),(900,500),(255,225,85),-1)
cv.rectangle(image,(0,500),(900,600),(50,225,85),-1
cv.imshow('tree', image)

cv.waitKey(0)
cv.destroyAllWindows()
33/1:
import cv2 as cv
import numpy as np
33/2:
image = np.zeros((600,900,3),dtype=np.uint8)

cv.rectangle(image,(0,0),(900,500),(255,225,85),-1)
cv.rectangle(image,(0,500),(900,600),(50,225,85),-1
cv.imshow('tree', image)

cv.waitKey(0)
cv.destroyAllWindows()
33/3:
import cv2 as cv
import numpy as np
33/4:
image = np.zeros((600,900,3),dtype=np.uint8)

cv.rectangle(image,(0,0),(900,500),(255,225,85),-1)
cv.rectangle(image,(0,500),(900,600),(50,225,85),-1
cv.imshow('tree', image)

cv.waitKey(0)
cv.destroyAllWindows()
33/5:
image = np.zeros((600,900,3),dtype=np.uint8)

cv.rectangle(image,(0,0),(900,500),(255,225,85),-1)
cv.rectangle(image,(0,500),(900,600),(50,225,85),-1)

cv.imshow('tree', image)

cv.waitKey(0)
cv.destroyAllWindows()
33/6:
image = np.zeros((600,900,3),dtype=np.uint8)

cv.rectangle(image,(0,0),(900,500),(255,225,85),-1)
cv.rectangle(image,(0,500),(900,600),(50,225,85),-1)
cv.circle(image,(200,150),60,(0,255,255),-1)
cv.circle(image,(200,150),75,(0,255,200),10)
cv.imshow('tree', image)

cv.waitKey(0)
cv.destroyAllWindows()
33/7:
image = np.zeros((600,900,3),dtype=np.uint8)

cv.rectangle(image,(0,0),(900,500),(255,225,85),-1)
cv.rectangle(image,(0,500),(900,600),(50,225,85),-1)
cv.circle(image,(200,150),60,(0,255,255),-1)
cv.circle(image,(200,150),75,(0,255,200),10)
cv.line(image,(600,500),(600,420),(30,65,155),25)
cv.imshow('tree', image)

cv.waitKey(0)
cv.destroyAllWindows()
33/8:
image = np.zeros((600,900,3),dtype=np.uint8)

cv.rectangle(image,(0,0),(900,500),(255,225,85),-1)
cv.rectangle(image,(0,500),(900,600),(50,225,85),-1)
cv.circle(image,(200,150),60,(0,255,255),-1)
cv.circle(image,(200,150),75,(0,255,200),10)
cv.line(image,(600,500),(600,420),(30,65,155),25)
cv.imshow('tree', image)

cv.waitKey(0)
cv.destroyAllWindows()
33/9:
#background
image = np.zeros((600,900,3),dtype=np.uint8)

#sky and ground
cv.rectangle(image,(0,0),(900,500),(255,225,85),-1)
cv.rectangle(image,(0,500),(900,600),(50,225,85),-1)

#sun
cv.circle(image,(200,150),60,(0,255,255),-1)
cv.circle(image,(200,150),75,(0,255,200),10)

#tree trunk
cv.line(image,(600,500),(600,420),(30,65,155),25)

#tree leaves
triangle = np.array([[500,440],[700,440],[600,75]],np.int32)
cv.fillPoly(image,[triangle],(75,180,70))


cv.imshow('tree', image)

cv.waitKey(0)
cv.destroyAllWindows()
33/10:
# general parameters
width = 900
height = 600
n_trees = 100
ground_level = height-100

# blank image
bg = np.zeros((height, width, 3), dtype=np.uint8)

# draw background
cv.rectangle(bg,(width,0), (0, ground_level), (255,225,95), -1)










cv.imshow('forest of objects', bg)

cv.waitKey(0)
cv.destroyAllWindows()
33/11:
# general parameters
width = 900
height = 600
n_trees = 100
ground_level = height-100

# blank image
bg = np.zeros((height, width, 3), dtype=np.uint8)

# draw background
cv.rectangle(bg,(width,0), (0, ground_level), (255,225,95), -1)
cv.rectangle(bg,(width, ground_level), (0, height), green, -1)









cv.imshow('forest of objects', bg)

cv.waitKey(0)
cv.destroyAllWindows()
33/12:
# general parameters
width = 900
height = 600
n_trees = 100
ground_level = height-100

# blank image
bg = np.zeros((height, width, 3), dtype=np.uint8)

# draw background
cv.rectangle(bg,(width,0), (0, ground_level), (255,225,95), -1)

















cv.imshow('forest of objects', bg)

cv.waitKey(0)
cv.destroyAllWindows()
33/13:
# general parameters
width = 900
height = 600
n_trees = 100
ground_level = height-100

# blank image
bg = np.zeros((height, width, 3), dtype=np.uint8)

# draw background
cv.rectangle(bg,(0,ground_level), (width, height), (255,225,95), -1)

















cv.imshow('forest of objects', bg)

cv.waitKey(0)
cv.destroyAllWindows()
33/14:
# general parameters
width = 900
height = 600
n_trees = 100
ground_level = height-100

# blank image
bg = np.zeros((height, width, 3), dtype=np.uint8)

# draw background
cv.rectangle(bg,(0,ground_level), (width, height), (255,225,95), -1)

# *************************************

class Tree:
    def __init__(self, image, location):
        self.image = image
        self.loc = location
        self.height= 300
    
    def draw(self):
        cv.line(self.image,(self.loc,ground_level),(self.loc,self.height), brown, 20)
        return self.image


    
# **************************************
img = Tree(bg,400).draw()            
cv.imshow('forest of objects', bg)

cv.waitKey(0)
cv.destroyAllWindows()
33/15:
# general parameters
width = 900
height = 600
n_trees = 100
ground_level = height-100

# blank image
bg = np.zeros((height, width, 3), dtype=np.uint8)

# draw background
cv.rectangle(bg,(0,ground_level), (width, height), (255,225,95), -1)

# *************************************

class Tree:
    def __init__(self, image, location):
        self.image = image
        self.loc = location
        self.height= 300
    
    def draw(self):
        cv.line(self.image,(self.loc,ground_level),(self.loc,self.height),(2,30,85), 20)
        return self.image


    
# **************************************
img = Tree(bg,400).draw()            
cv.imshow('forest of objects', bg)

cv.waitKey(0)
cv.destroyAllWindows()
33/16:
# general parameters
width = 900
height = 600
n_trees = 100
ground_level = height-100

# blank image
bg = np.zeros((height, width, 3), dtype=np.uint8)

# draw background
cv.rectangle(bg,(0,ground_level), (width, height), (255,225,95), -1)

# *************************************

class Tree:
    def __init__(self, image, location):
        self.image = image
        self.loc = location
        self.height= 300
    
    def draw(self):
        cv.line(self.image,(self.loc,ground_level),(self.loc,self.height),(2,30,85), 20)
        return self.image


    
# **************************************
img = Tree(bg,400).draw()            
cv.imshow('forest of objects', img)

cv.waitKey(0)
cv.destroyAllWindows()
33/17:
# general parameters
width = 900
height = 600
n_trees = 100
ground_level = height-100

# blank image
bg = np.zeros((height, width, 3), dtype=np.uint8)

# draw background
# cv.rectangle(bg,(0,ground_level), (width, height), (255,225,95), -1)

# # *************************************

# class Tree:
#     def __init__(self, image, location):
#         self.image = image
#         self.loc = location
#         self.height= 300
    
#     def draw(self):
#         cv.line(self.image,(self.loc,ground_level),(self.loc,self.height),(2,30,85), 20)
#         return self.image


    
# # **************************************
# img = Tree(bg,400).draw()            
cv.imshow('forest of objects', bg)

cv.waitKey(0)
cv.destroyAllWindows()
33/18:
# general parameters
width = 900
height = 600
n_trees = 100
ground_level = height-100

# blank image
bg = np.zeros((height, width, 3), dtype=np.uint8)

# draw background
cv.rectangle(bg,(0,ground_level), (width, height), (255,225,95), -1)

# # *************************************

# class Tree:
#     def __init__(self, image, location):
#         self.image = image
#         self.loc = location
#         self.height= 300
    
#     def draw(self):
#         cv.line(self.image,(self.loc,ground_level),(self.loc,self.height),(2,30,85), 20)
#         return self.image


    
# # **************************************
# img = Tree(bg,400).draw()            
cv.imshow('forest of objects', bg)

cv.waitKey(0)
cv.destroyAllWindows()
33/19:
# general parameters
width = 900
height = 600
n_trees = 100
ground_level = height-100

# blank image
bg = np.zeros((height, width, 3), dtype=np.uint8)

# draw background
cv.rectangle(bg,(0,height), (width, ground_level), (255,225,95), -1)

# # *************************************

# class Tree:
#     def __init__(self, image, location):
#         self.image = image
#         self.loc = location
#         self.height= 300
    
#     def draw(self):
#         cv.line(self.image,(self.loc,ground_level),(self.loc,self.height),(2,30,85), 20)
#         return self.image


    
# # **************************************
# img = Tree(bg,400).draw()            
cv.imshow('forest of objects', bg)

cv.waitKey(0)
cv.destroyAllWindows()
33/20:
# general parameters
width = 900
height = 600
n_trees = 100
ground_level = height-100

# blank image
bg = np.zeros((height, width, 3), dtype=np.uint8)

# draw background
cv.rectangle(bg,(0,0), (width, ground_level), (255,225,95), -1)

# # *************************************

# class Tree:
#     def __init__(self, image, location):
#         self.image = image
#         self.loc = location
#         self.height= 300
    
#     def draw(self):
#         cv.line(self.image,(self.loc,ground_level),(self.loc,self.height),(2,30,85), 20)
#         return self.image


    
# # **************************************
# img = Tree(bg,400).draw()            
cv.imshow('forest of objects', bg)

cv.waitKey(0)
cv.destroyAllWindows()
33/21:
# general parameters
width = 900
height = 600
n_trees = 100
ground_level = height-100

# blank image
bg = np.zeros((height, width, 3), dtype=np.uint8)

# draw background
cv.rectangle(bg,(0,ground_level), (width, 0), (255,225,95), -1)

# # *************************************

# class Tree:
#     def __init__(self, image, location):
#         self.image = image
#         self.loc = location
#         self.height= 300
    
#     def draw(self):
#         cv.line(self.image,(self.loc,ground_level),(self.loc,self.height),(2,30,85), 20)
#         return self.image


    
# # **************************************
# img = Tree(bg,400).draw()            
cv.imshow('forest of objects', bg)

cv.waitKey(0)
cv.destroyAllWindows()
33/22:
# general parameters
width = 900
height = 600
n_trees = 100
ground_level = height-100

# blank image
bg = np.zeros((height, width, 3), dtype=np.uint8)

# draw background
cv.rectangle(bg,(0,ground_level), (width, 0), (255,225,95), -1)

# # *************************************

class Tree:
    def __init__(self, image, location):
        self.image = image
        self.loc = location
        self.height= 300
    
    def draw(self):
        cv.line(self.image,(self.loc,ground_level),(self.loc,self.height),(2,30,85), 20)
        return self.image


    
# # **************************************
img = Tree(bg,400).draw()            
cv.imshow('forest of objects', bg)

cv.waitKey(0)
cv.destroyAllWindows()
33/23:
# general parameters
width = 900
height = 600
n_trees = 100
ground_level = height-100

# blank image
bg = np.zeros((height, width, 3), dtype=np.uint8)

# draw background
cv.rectangle(bg,(0,ground_level), (width, 0), (255,225,95), -1)

# # *************************************

class Tree:
    def __init__(self, image, location):
        self.image = image
        self.loc = location
        self.height= 300
    
    def draw(self):
        cv.line(self.image,(self.loc,ground_level),(self.loc,self.height),(2,30,85), 20)
        return self.image


    
# # **************************************
img = Tree(bg,400).draw()            
cv.imshow('forest of objects', img)

cv.waitKey(0)
cv.destroyAllWindows()
33/24:
# general parameters
width = 900
height = 600
n_trees = 100
ground_level = height-100

# blank image
bg = np.zeros((height, width, 3), dtype=np.uint8)

# draw background
cv.rectangle(bg,(0,ground_level), (width, 0), (255,225,95), -1)

# # *************************************

class Tree:
    def __init__(self, image, location):
        self.image = image
        self.loc = location
        self.height= 300
        self.radius = 100
    
    def draw(self):
        cv.line(self.image,(self.loc,ground_level),(self.loc,self.height),(2,30,85), 20)
        return self.image
        cv.circle(self.image,(self.loc,self.height), self.radius,(35,200,35) -1)


    
# # **************************************
img = Tree(bg,400).draw()            
cv.imshow('forest of objects', img)

cv.waitKey(0)
cv.destroyAllWindows()
33/25:
# general parameters
width = 900
height = 600
n_trees = 100
ground_level = height-100

# blank image
bg = np.zeros((height, width, 3), dtype=np.uint8)

# draw background
cv.rectangle(bg,(0,ground_level), (width, 0), (255,225,95), -1)

# # *************************************

class Tree:
    def __init__(self, image, location):
        self.image = image
        self.loc = location
        self.height= 300
        self.radius = 100
    
    def draw(self):
        cv.line(self.image,(self.loc,ground_level),(self.loc,self.height),(2,30,85), 20)
        cv.circle(self.image,(self.loc,self.height), self.radius,(35,200,35) -1)
        return self.image

    
# # **************************************
img = Tree(bg,400).draw()            
cv.imshow('forest of objects', img)

cv.waitKey(0)
cv.destroyAllWindows()
33/26:
# general parameters
width = 900
height = 600
n_trees = 100
ground_level = height-100

# blank image
bg = np.zeros((height, width, 3), dtype=np.uint8)

# draw background
cv.rectangle(bg,(0,ground_level), (width, 0), (255,225,95), -1)

# # *************************************

class Tree:
    def __init__(self, image, location):
        self.image = image
        self.loc = location
        self.height= 300
        self.radius = 100
    
    def draw(self):
        cv.line(self.image,(self.loc,ground_level),(self.loc,self.height),(2,30,85), 20)
        cv.circle(self.image,(self.loc,self.height), self.radius,(35,200,35), -1)
        return self.image

    
# # **************************************
img = Tree(bg,400).draw()            
cv.imshow('forest of objects', img)

cv.waitKey(0)
cv.destroyAllWindows()
33/27:
# general parameters
width = 900
height = 600
n_trees = 100
ground_level = height-100

# blank image
bg = np.zeros((height, width, 3), dtype=np.uint8)

# draw background
cv.rectangle(bg,(0,ground_level), (width, 0), (255,225,95), -1)

# # *************************************

class Tree:
    def __init__(self, image, location):
        self.image = image
        self.loc = location
        self.height= 300
        self.radius = 100
    
    def draw(self):
        cv.line(self.image,(self.loc,ground_level),(self.loc,ground_level-self.height),(2,30,85), 20)
        cv.circle(self.image,(self.loc,ground_level-self.height), self.radius,(35,200,35), -1)
        return self.image

    
# # **************************************
img = Tree(bg,400).draw()            
cv.imshow('forest of objects', img)

cv.waitKey(0)
cv.destroyAllWindows()
33/28:
# general parameters
width = 900
height = 600
n_trees = 100
ground_level = height-100

# blank image
bg = np.zeros((height, width, 3), dtype=np.uint8)

# draw background
cv.rectangle(bg,(0,ground_level), (width, 0), (255,225,95), -1)

# # *************************************

class Tree:
    def __init__(self, image, location):
        self.image = image
        self.loc = location
        self.height= 300
        self.radius = 100
    
    def draw(self):
        cv.line(self.image,(self.loc,ground_level),(self.loc,ground_level-self.height),(2,30,85), 20)
        cv.circle(self.image,(self.loc,ground_level-self.height), self.radius,(35,200,35), -1)
        cv.circle(self.image,(self.loc-90,ground_level-self.height), self.radius-40,(35,200,35), -1)
        return self.image

    
# # **************************************
img = Tree(bg,400).draw()            
cv.imshow('forest of objects', img)

cv.waitKey(0)
cv.destroyAllWindows()
33/29:
# general parameters
width = 900
height = 600
n_trees = 100
ground_level = height-100

# blank image
bg = np.zeros((height, width, 3), dtype=np.uint8)

# draw background
cv.rectangle(bg,(0,ground_level), (width, 0), (255,225,95), -1)

# # *************************************

class Tree:
    def __init__(self, image, location):
        self.image = image
        self.loc = location
        self.height= 300
        self.radius = 100
    
    def draw(self):
        cv.line(self.image,(self.loc,ground_level),(self.loc,ground_level-self.height),(2,30,85), 20)
        cv.circle(self.image,(self.loc,ground_level-self.height), self.radius,(35,200,35), -1)
        cv.circle(self.image,(self.loc-90,ground_level-self.height+20), self.radius-40,(35,200,35), -1)
        return self.image

    
# # **************************************
img = Tree(bg,400).draw()            
cv.imshow('forest of objects', img)

cv.waitKey(0)
cv.destroyAllWindows()
33/30:
# general parameters
width = 900
height = 600
n_trees = 100
ground_level = height-100

# blank image
bg = np.zeros((height, width, 3), dtype=np.uint8)

# draw background
cv.rectangle(bg,(0,ground_level), (width, 0), (255,225,95), -1)

# # *************************************

class Tree:
    def __init__(self, image, location):
        self.image = image
        self.loc = location
        self.height= 300
        self.radius = 100
    
    def draw(self):
        cv.line(self.image,(self.loc,ground_level),(self.loc,ground_level-self.height),(2,30,85), 20)
        cv.circle(self.image,(self.loc,ground_level-self.height), self.radius,(35,200,35), -1)
        cv.circle(self.image,(self.loc-90,ground_level-self.height+60), self.radius-40,(35,200,35), -1)
        return self.image

    
# # **************************************
img = Tree(bg,400).draw()            
cv.imshow('forest of objects', img)

cv.waitKey(0)
cv.destroyAllWindows()
33/31:
# general parameters
width = 900
height = 600
n_trees = 100
ground_level = height-100

# blank image
bg = np.zeros((height, width, 3), dtype=np.uint8)

# draw background
cv.rectangle(bg,(0,ground_level), (width, 0), (255,225,95), -1)

# # *************************************

class Tree:
    def __init__(self, image, location):
        self.image = image
        self.loc = location
        self.height= 300
        self.radius = 100
    
    def draw(self):
        cv.line(self.image,(self.loc,ground_level),(self.loc,ground_level-self.height),(2,30,85), 20)
        cv.circle(self.image,(self.loc,ground_level-self.height), self.radius,(35,200,35), -1)
        cv.circle(self.image,(self.loc-90,ground_level-self.height+self.radius-40), self.radius-40,(35,200,35), -1)
        return self.image

    
# # **************************************
img = Tree(bg,400).draw()            
cv.imshow('forest of objects', img)

cv.waitKey(0)
cv.destroyAllWindows()
33/32:
# general parameters
width = 900
height = 600
n_trees = 100
ground_level = height-100

# blank image
bg = np.zeros((height, width, 3), dtype=np.uint8)

# draw background
cv.rectangle(bg,(0,ground_level), (width, 0), (255,225,95), -1)

# # *************************************

class Tree:
    def __init__(self, image, location):
        self.image = image
        self.loc = location
        self.height= 300
        self.radius = 100
    
    def draw(self):
        cv.line(self.image,(self.loc,ground_level),(self.loc,ground_level-self.height),(2,30,85), 20)
        cv.circle(self.image,(self.loc,ground_level-self.height), self.radius,(35,200,35), -1)
        cv.circle(self.image,(self.loc-90,ground_level-self.height+self.radius-40), self.radius-40,(35,200,35), -1)
        cv.circle(self.image,(self.loc+90,ground_level-self.height+self.radius-40), self.radius-40,(35,200,35), -1)
        return self.image

    
# # **************************************
img = Tree(bg,400).draw()            
cv.imshow('forest of objects', img)

cv.waitKey(0)
cv.destroyAllWindows()
33/33:
# general parameters
width = 900
height = 600
n_trees = 100
ground_level = height-100

# blank image
bg = np.zeros((height, width, 3), dtype=np.uint8)

# draw background
cv.rectangle(bg,(0,ground_level), (width, 0), (255,225,95), -1)

# # *************************************

class Tree:
    def __init__(self, image, location):
        self.image = image
        self.loc = location
        self.height= 300
        self.radius = 100
    
    def draw(self):
        cv.line(self.image,(self.loc,ground_level),(self.loc,ground_level-self.height),(2,30,85), 20)
        cv.circle(self.image,(self.loc,ground_level-self.height), self.radius,(35,200,35), -1)
        cv.circle(self.image,(self.loc-90,ground_level-self.height+self.radius-40), self.radius-40,(35,200,35), -1)
        cv.circle(self.image,(self.loc+90,ground_level-self.height+self.radius-40), self.radius-40,(35,200,35), -1)
        cv.line(self.image,(self.loc,ground_level-150),(self.loc+90,ground_level-self.height+self.radius-40),(2,30,85),10)
        cv.line(self.image,(self.loc,ground_level-150),(self.loc-90,ground_level-self.height+self.radius-40),(2,30,85),10)
        return self.image

    
# # **************************************
img = Tree(bg,400).draw()            
cv.imshow('forest of objects', img)

cv.waitKey(0)
cv.destroyAllWindows()
33/34:
# general parameters
width = 900
height = 600
n_trees = 100
ground_level = height-100

# blank image
bg = np.zeros((height, width, 3), dtype=np.uint8)

# draw background
cv.rectangle(bg,(0,ground_level), (width, 0), (255,225,95), -1)

# # *************************************

class Tree:
    def __init__(self, image, location):
        self.image = image
        self.loc = location
        self.height= 300
        self.radius = 100
    
    def draw(self):
        cv.line(self.image,(self.loc,ground_level),(self.loc,ground_level-self.height),(2,30,85), 20)
        cv.line(self.image,(self.loc,ground_level-150),(self.loc+90,ground_level-self.height+self.radius-40),(2,30,85),10)
        cv.line(self.image,(self.loc,ground_level-150),(self.loc-90,ground_level-self.height+self.radius-40),(2,30,85),10)
        cv.circle(self.image,(self.loc,ground_level-self.height), self.radius,(35,200,35), -1)
        cv.circle(self.image,(self.loc-90,ground_level-self.height+self.radius-40), self.radius-40,(35,200,35), -1)
        cv.circle(self.image,(self.loc+90,ground_level-self.height+self.radius-40), self.radius-40,(35,200,35), -1)
        
        return self.image

    
# # **************************************
img = Tree(bg,400).draw()            
cv.imshow('forest of objects', img)

cv.waitKey(0)
cv.destroyAllWindows()
33/35:
# general parameters
width = 900
height = 600
n_trees = 100
ground_level = height-100

# blank image
bg = np.zeros((height, width, 3), dtype=np.uint8)

# draw background
cv.rectangle(bg,(0,ground_level), (width, 0), (255,225,95), -1)

# # *************************************

class Tree:
    def __init__(self, image, location):
        self.image = image
        self.loc = location
        self.height= 300
        self.radius = 50
        self.scale = 2
    
    def draw(self):
        small_radius = self.radius*self.scale-20*self.scale
        cv.line(self.image,(self.loc,ground_level),(self.loc,ground_level-self.height),(2,30,85), 20*self.scale)
        cv.line(self.image,(self.loc,ground_level-75*self.scale),(self.loc+45*self.scale,ground_level-self.height+small_radius),(2,30,85),5*self.scale)
        cv.line(self.image,(self.loc,ground_level-75*self.scale),(self.loc-45*self.scale,ground_level-self.height+small_radius),(2,30,85),5*self.scale)
        cv.circle(self.image,(self.loc,ground_level-self.height), self.radius*self.scale,(35,200,35), -1)
        cv.circle(self.image,(self.loc-45*self.scale,ground_level-self.height+small_radius), small_radius,(35,200,35), -1)
        cv.circle(self.image,(self.loc+45*self.scale,ground_level-self.height+small_radius), small_radius,(35,200,35), -1)
        
        return self.image

    
# # **************************************
img = Tree(bg,400).draw()            
cv.imshow('forest of objects', img)

cv.waitKey(0)
cv.destroyAllWindows()
33/36:
# general parameters
width = 900
height = 600
n_trees = 100
ground_level = height-100

# blank image
bg = np.zeros((height, width, 3), dtype=np.uint8)

# draw background
cv.rectangle(bg,(0,ground_level), (width, 0), (255,225,95), -1)

# # *************************************

class Tree:
    def __init__(self, image, location):
        self.image = image
        self.loc = location
        self.height= 300
        self.radius = 50
        self.scale = 1
    
    def draw(self):
        small_radius = self.radius*self.scale-20*self.scale
        cv.line(self.image,(self.loc,ground_level),(self.loc,ground_level-self.height),(2,30,85), 20*self.scale)
        cv.line(self.image,(self.loc,ground_level-75*self.scale),(self.loc+45*self.scale,ground_level-self.height+small_radius),(2,30,85),5*self.scale)
        cv.line(self.image,(self.loc,ground_level-75*self.scale),(self.loc-45*self.scale,ground_level-self.height+small_radius),(2,30,85),5*self.scale)
        cv.circle(self.image,(self.loc,ground_level-self.height), self.radius*self.scale,(35,200,35), -1)
        cv.circle(self.image,(self.loc-45*self.scale,ground_level-self.height+small_radius), small_radius,(35,200,35), -1)
        cv.circle(self.image,(self.loc+45*self.scale,ground_level-self.height+small_radius), small_radius,(35,200,35), -1)
        
        return self.image

    
# # **************************************
img = Tree(bg,400).draw()            
cv.imshow('forest of objects', img)

cv.waitKey(0)
cv.destroyAllWindows()
33/37:
# general parameters
width = 900
height = 600
n_trees = 100
ground_level = height-100

# blank image
bg = np.zeros((height, width, 3), dtype=np.uint8)

# draw background
cv.rectangle(bg,(0,ground_level), (width, 0), (255,225,95), -1)

# # *************************************

class Tree:
    def __init__(self, image, location):
        self.image = image
        self.loc = location
        self.height= 300
        self.radius = 50
        self.scale = 2
    
    def draw(self):
        small_radius = self.radius*self.scale-20*self.scale
        cv.line(self.image,(self.loc,ground_level),(self.loc,ground_level-self.height),(2,30,85), 20*self.scale)
        cv.line(self.image,(self.loc,ground_level-75*self.scale),(self.loc+45*self.scale,ground_level-self.height+small_radius),(2,30,85),5*self.scale)
        cv.line(self.image,(self.loc,ground_level-75*self.scale),(self.loc-45*self.scale,ground_level-self.height+small_radius),(2,30,85),5*self.scale)
        cv.circle(self.image,(self.loc,ground_level-self.height), self.radius*self.scale,(35,200,35), -1)
        cv.circle(self.image,(self.loc-45*self.scale,ground_level-self.height+small_radius), small_radius,(35,200,35), -1)
        cv.circle(self.image,(self.loc+45*self.scale,ground_level-self.height+small_radius), small_radius,(35,200,35), -1)
        
        return self.image

    
# # **************************************
img = Tree(bg,400).draw()            
cv.imshow('forest of objects', img)

cv.waitKey(0)
cv.destroyAllWindows()
33/38:
# general parameters
width = 900
height = 600
n_trees = 100
ground_level = height-100

# blank image
bg = np.zeros((height, width, 3), dtype=np.uint8)

# draw background
cv.rectangle(bg,(0,ground_level), (width, 0), (255,225,95), -1)

# # *************************************

class Tree:
    def __init__(self, image, location):
        self.image = image
        self.loc = location
        self.height= 300
        self.radius = 50
        self.scale = 2
    
    def draw(self):
        small_radius = self.radius*self.scale-20*self.scale
        cv.line(self.image,(self.loc,ground_level),(self.loc,ground_level-self.height),(2,30,85), 20*self.scale)
        cv.line(self.image,(self.loc,ground_level-self.height +75*self.scale),(self.loc+45*self.scale,ground_level-self.height+small_radius),(2,30,85),5*self.scale)
        cv.line(self.image,(self.loc,ground_level-self.height +75*self.scale),(self.loc-45*self.scale,ground_level-self.height+small_radius),(2,30,85),5*self.scale)
        cv.circle(self.image,(self.loc,ground_level-self.height), self.radius*self.scale,(35,200,35), -1)
        cv.circle(self.image,(self.loc-45*self.scale,ground_level-self.height+small_radius), small_radius,(35,200,35), -1)
        cv.circle(self.image,(self.loc+45*self.scale,ground_level-self.height+small_radius), small_radius,(35,200,35), -1)
        
        return self.image

    
# # **************************************
img = Tree(bg,400).draw()            
cv.imshow('forest of objects', img)

cv.waitKey(0)
cv.destroyAllWindows()
33/39:
# general parameters
width = 900
height = 600
n_trees = 100
ground_level = height-100

# blank image
bg = np.zeros((height, width, 3), dtype=np.uint8)

# draw background
cv.rectangle(bg,(0,ground_level), (width, 0), (255,225,95), -1)

# # *************************************

class Tree:
    def __init__(self, image, location):
        self.image = image
        self.loc = location
        self.height= 300
        self.radius = 50
        self.scale = 1
    
    def draw(self):
        small_radius = self.radius*self.scale-20*self.scale
        cv.line(self.image,(self.loc,ground_level),(self.loc,ground_level-self.height),(2,30,85), 20*self.scale)
        cv.line(self.image,(self.loc,ground_level-self.height +75*self.scale),(self.loc+45*self.scale,ground_level-self.height+small_radius),(2,30,85),5*self.scale)
        cv.line(self.image,(self.loc,ground_level-self.height +75*self.scale),(self.loc-45*self.scale,ground_level-self.height+small_radius),(2,30,85),5*self.scale)
        cv.circle(self.image,(self.loc,ground_level-self.height), self.radius*self.scale,(35,200,35), -1)
        cv.circle(self.image,(self.loc-45*self.scale,ground_level-self.height+small_radius), small_radius,(35,200,35), -1)
        cv.circle(self.image,(self.loc+45*self.scale,ground_level-self.height+small_radius), small_radius,(35,200,35), -1)
        
        return self.image

    
# # **************************************
img = Tree(bg,400).draw()            
cv.imshow('forest of objects', img)

cv.waitKey(0)
cv.destroyAllWindows()
33/40:
# general parameters
width = 900
height = 600
n_trees = 100
ground_level = height-100

# blank image
bg = np.zeros((height, width, 3), dtype=np.uint8)

# draw background
cv.rectangle(bg,(0,ground_level), (width, 0), (255,225,95), -1)

# # *************************************

class Tree:
    def __init__(self, image, location):
        self.image = image
        self.loc = location
        self.height= 300
        self.radius = 50
        self.scale = 1
    
    def draw(self):
        small_radius = self.radius*self.scale-20*self.scale
        
        #leafs
        cv.circle(self.image,(self.loc,ground_level-self.height), self.radius*self.scale,(0,200,0), -1)
        cv.circle(self.image,(self.loc-45*self.scale,ground_level-self.height+small_radius), small_radius,(0,200,0), -1)
        cv.circle(self.image,(self.loc+45*self.scale,ground_level-self.height+small_radius), small_radius,(0,200,0), -1)
        
        #trunk
        cv.line(self.image,(self.loc,ground_level),(self.loc,ground_level-self.height),(2,30,85), 20*self.scale)
        cv.line(self.image,(self.loc,ground_level-self.height +75*self.scale),(self.loc+45*self.scale,ground_level-self.height+small_radius),(2,30,85),5*self.scale)
        cv.line(self.image,(self.loc,ground_level-self.height +75*self.scale),(self.loc-45*self.scale,ground_level-self.height+small_radius),(2,30,85),5*self.scale)
        
        # leafs highlights
        cv.circle(self.image,(self.loc,ground_level-self.height), self.radius*self.scale-10*self.scale,(35,200,35), -1)
        cv.circle(self.image,(self.loc-45*self.scale,ground_level-self.height+small_radius), small_radius-10*self.scale,(35,200,35), -1)
        cv.circle(self.image,(self.loc+45*self.scale,ground_level-self.height+small_radius), small_radius-10*self.scale,(35,200,35), -1)
        return self.image

    
# # **************************************
img = Tree(bg,400).draw()            
cv.imshow('forest of objects', img)

cv.waitKey(0)
cv.destroyAllWindows()
33/41:
# general parameters
width = 900
height = 600
n_trees = 100
ground_level = height-100

# blank image
bg = np.zeros((height, width, 3), dtype=np.uint8)

# draw background
cv.rectangle(bg,(0,ground_level), (width, 0), (255,225,95), -1)

# # *************************************

class Tree:
    def __init__(self, image, location):
        self.image = image
        self.loc = location
        self.height= 300
        self.radius = 50
        self.scale = 1
    
    def draw(self):
        small_radius = self.radius*self.scale-20*self.scale
        
        #leafs
        cv.circle(self.image,(self.loc,ground_level-self.height), self.radius*self.scale,(0,200,0), -1)
        cv.circle(self.image,(self.loc-45*self.scale,ground_level-self.height+small_radius), small_radius,(0,200,0), -1)
        cv.circle(self.image,(self.loc+45*self.scale,ground_level-self.height+small_radius), small_radius,(0,200,0), -1)
        
        #trunk
        cv.line(self.image,(self.loc,ground_level),(self.loc,ground_level-self.height),(2,30,85), 20*self.scale)
        cv.line(self.image,(self.loc,ground_level-self.height +75*self.scale),(self.loc+45*self.scale,ground_level-self.height+small_radius),(2,30,85),5*self.scale)
        cv.line(self.image,(self.loc,ground_level-self.height +75*self.scale),(self.loc-45*self.scale,ground_level-self.height+small_radius),(2,30,85),5*self.scale)
        
        # leafs highlights
        cv.circle(self.image,(self.loc,ground_level-self.height), self.radius*self.scale-10*self.scale,(50,200,50), -1)
        cv.circle(self.image,(self.loc-45*self.scale,ground_level-self.height+small_radius), small_radius-10*self.scale,(50,200,50), -1)
        cv.circle(self.image,(self.loc+45*self.scale,ground_level-self.height+small_radius), small_radius-10*self.scale,(50,200,50), -1)
        return self.image

    
# # **************************************
img = Tree(bg,400).draw()            
cv.imshow('forest of objects', img)

cv.waitKey(0)
cv.destroyAllWindows()
33/42:
# general parameters
width = 900
height = 600
n_trees = 100
ground_level = height-100

# blank image
bg = np.zeros((height, width, 3), dtype=np.uint8)

# draw background
cv.rectangle(bg,(0,ground_level), (width, 0), (255,225,95), -1)

# # *************************************

class Tree:
    def __init__(self, image, location):
        self.image = image
        self.loc = location
        self.height= 300
        self.radius = 50
        self.scale = 2
    
    def generate_colours(self):
        green = (0, random.randint(130,200),0)
        light_green = (35, random.randint(200,250),35)
        brown = random.choice([(2,30,85), (5,55,120), (0,70,140)])
        return green, light_green, brown
    
    
    def draw(self):
        small_radius = self.radius*self.scale-20*self.scale
        green, light_green, brown = self.generate_colours()
        #leafs
        cv.circle(self.image,(self.loc,ground_level-self.height), self.radius*self.scale,green, -1)
        cv.circle(self.image,(self.loc-45*self.scale,ground_level-self.height+small_radius), small_radius,green, -1)
        cv.circle(self.image,(self.loc+45*self.scale,ground_level-self.height+small_radius), small_radius,green, -1)
        
        #trunk
        cv.line(self.image,(self.loc,ground_level),(self.loc,ground_level-self.height),brown, 20*self.scale)
        cv.line(self.image,(self.loc,ground_level-self.height +75*self.scale),(self.loc+45*self.scale,ground_level-self.height+small_radius),brown,5*self.scale)
        cv.line(self.image,(self.loc,ground_level-self.height +75*self.scale),(self.loc-45*self.scale,ground_level-self.height+small_radius),brown,5*self.scale)
        
        # leafs highlights
        cv.circle(self.image,(self.loc,ground_level-self.height), self.radius*self.scale-10*self.scale,light_green, -1)
        cv.circle(self.image,(self.loc-45*self.scale,ground_level-self.height+small_radius), small_radius-10*self.scale,light_green, -1)
        cv.circle(self.image,(self.loc+45*self.scale,ground_level-self.height+small_radius), small_radius-10*self.scale,light_green, -1)
        return self.image

    
# # **************************************
img = Tree(bg,400).draw()            
cv.imshow('forest of objects', img)

cv.waitKey(0)
cv.destroyAllWindows()
33/43:
import cv2 as cv
import numpy as np
import random
33/44:
# general parameters
width = 900
height = 600
n_trees = 100
ground_level = height-100

# blank image
bg = np.zeros((height, width, 3), dtype=np.uint8)

# draw background
cv.rectangle(bg,(0,ground_level), (width, 0), (255,225,95), -1)

# # *************************************

class Tree:
    def __init__(self, image, location):
        self.image = image
        self.loc = location
        self.height= 300
        self.radius = 50
        self.scale = 2
    
    def generate_colours(self):
        green = (0, random.randint(130,200),0)
        light_green = (35, random.randint(200,250),35)
        brown = random.choice([(2,30,85), (5,55,120), (0,70,140)])
        return green, light_green, brown
    
    
    def draw(self):
        small_radius = self.radius*self.scale-20*self.scale
        green, light_green, brown = self.generate_colours()
        #leafs
        cv.circle(self.image,(self.loc,ground_level-self.height), self.radius*self.scale,green, -1)
        cv.circle(self.image,(self.loc-45*self.scale,ground_level-self.height+small_radius), small_radius,green, -1)
        cv.circle(self.image,(self.loc+45*self.scale,ground_level-self.height+small_radius), small_radius,green, -1)
        
        #trunk
        cv.line(self.image,(self.loc,ground_level),(self.loc,ground_level-self.height),brown, 20*self.scale)
        cv.line(self.image,(self.loc,ground_level-self.height +75*self.scale),(self.loc+45*self.scale,ground_level-self.height+small_radius),brown,5*self.scale)
        cv.line(self.image,(self.loc,ground_level-self.height +75*self.scale),(self.loc-45*self.scale,ground_level-self.height+small_radius),brown,5*self.scale)
        
        # leafs highlights
        cv.circle(self.image,(self.loc,ground_level-self.height), self.radius*self.scale-10*self.scale,light_green, -1)
        cv.circle(self.image,(self.loc-45*self.scale,ground_level-self.height+small_radius), small_radius-10*self.scale,light_green, -1)
        cv.circle(self.image,(self.loc+45*self.scale,ground_level-self.height+small_radius), small_radius-10*self.scale,light_green, -1)
        return self.image

    
# # **************************************
img = Tree(bg,400).draw()            
cv.imshow('forest of objects', img)

cv.waitKey(0)
cv.destroyAllWindows()
33/45:
# general parameters
width = 900
height = 600
n_trees = 100
ground_level = height-100

# blank image
bg = np.zeros((height, width, 3), dtype=np.uint8)

# draw background
cv.rectangle(bg,(0,ground_level), (width, 0), (255,225,95), -1)

# # *************************************

class Tree:
    def __init__(self, image, location):
        self.image = image
        self.loc = location
        self.height= 300
        self.radius = 50
        self.scale = 2
    
    def generate_colours(self):
        green = (0, random.randint(130,200),0)
        light_green = (35, random.randint(200,250),35)
        brown = random.choice([(2,30,85), (5,55,120), (0,70,140)])
        return green, light_green, brown
    
    
    def draw(self):
        small_radius = self.radius*self.scale-20*self.scale
        green, light_green, brown = self.generate_colours()
        #leafs
        cv.circle(self.image,(self.loc,ground_level-self.height), self.radius*self.scale,green, -1)
        cv.circle(self.image,(self.loc-45*self.scale,ground_level-self.height+small_radius), small_radius,green, -1)
        cv.circle(self.image,(self.loc+45*self.scale,ground_level-self.height+small_radius), small_radius,green, -1)
        
        #trunk
        cv.line(self.image,(self.loc,ground_level),(self.loc,ground_level-self.height),brown, 20*self.scale)
        cv.line(self.image,(self.loc,ground_level-self.height +75*self.scale),(self.loc+45*self.scale,ground_level-self.height+small_radius),brown,5*self.scale)
        cv.line(self.image,(self.loc,ground_level-self.height +75*self.scale),(self.loc-45*self.scale,ground_level-self.height+small_radius),brown,5*self.scale)
        
        # leafs highlights
        cv.circle(self.image,(self.loc,ground_level-self.height), self.radius*self.scale-10*self.scale,light_green, -1)
        cv.circle(self.image,(self.loc-45*self.scale,ground_level-self.height+small_radius), small_radius-10*self.scale,light_green, -1)
        cv.circle(self.image,(self.loc+45*self.scale,ground_level-self.height+small_radius), small_radius-10*self.scale,light_green, -1)
        return self.image

    
# # **************************************
img = Tree(bg,400).generate_colours()            
cv.imshow('forest of objects', img)

cv.waitKey(0)
cv.destroyAllWindows()
33/46:
# general parameters
width = 900
height = 600
n_trees = 100
ground_level = height-100

# blank image
bg = np.zeros((height, width, 3), dtype=np.uint8)

# draw background
cv.rectangle(bg,(0,ground_level), (width, 0), (255,225,95), -1)

# # *************************************

class Tree:
    def __init__(self, image, location):
        self.image = image
        self.loc = location
        self.height= 300
        self.radius = 50
        self.scale = 2
    
    def generate_colours(self):
        green = (0, random.randint(130,200),0)
        light_green = (35, random.randint(200,250),35)
        brown = random.choice([(2,30,85), (5,55,120), (0,70,140)])
        return green, light_green, brown
    
    
    def draw(self):
        small_radius = self.radius*self.scale-20*self.scale
        green, light_green, brown = self.generate_colours()
        #leafs
        cv.circle(self.image,(self.loc,ground_level-self.height), self.radius*self.scale,green, -1)
        cv.circle(self.image,(self.loc-45*self.scale,ground_level-self.height+small_radius), small_radius,green, -1)
        cv.circle(self.image,(self.loc+45*self.scale,ground_level-self.height+small_radius), small_radius,green, -1)
        
        #trunk
        cv.line(self.image,(self.loc,ground_level),(self.loc,ground_level-self.height),brown, 20*self.scale)
        cv.line(self.image,(self.loc,ground_level-self.height +75*self.scale),(self.loc+45*self.scale,ground_level-self.height+small_radius),brown,5*self.scale)
        cv.line(self.image,(self.loc,ground_level-self.height +75*self.scale),(self.loc-45*self.scale,ground_level-self.height+small_radius),brown,5*self.scale)
        
        # leafs highlights
        cv.circle(self.image,(self.loc,ground_level-self.height), self.radius*self.scale-10*self.scale,light_green, -1)
        cv.circle(self.image,(self.loc-45*self.scale,ground_level-self.height+small_radius), small_radius-10*self.scale,light_green, -1)
        cv.circle(self.image,(self.loc+45*self.scale,ground_level-self.height+small_radius), small_radius-10*self.scale,light_green, -1)
        return self.image

    
# # **************************************
img = Tree(bg,400).draw()            
cv.imshow('forest of objects', img)

cv.waitKey(0)
cv.destroyAllWindows()
33/47:
# general parameters
width = 900
height = 600
n_trees = 100
ground_level = height-100

# blank image
bg = np.zeros((height, width, 3), dtype=np.uint8)

# draw background
cv.rectangle(bg,(0,ground_level), (width, 0), (255,225,95), -1)

# # *************************************

class Tree:
    def __init__(self, image):
        self.image = image
        self.loc = int(np.random.choice(range(900),1))
        self.height= int(np.random.choice(range(200,350),1))
        self.radius = 50
        self.scale = np.random.choice(np.linspace(0.5,2.5, num=8)
    
    def generate_colours(self):
        green = (0, random.randint(130,200),0)
        light_green = (35, random.randint(200,250),35)
        brown = random.choice([(2,30,85), (5,55,120), (0,70,140)])
        return green, light_green, brown
    
    
    def draw(self):
        small_radius = int(self.radius*self.scale-20*self.scale)
        green, light_green, brown = self.generate_colours()
        #leafs
        cv.circle(self.image,(self.loc,ground_level-self.height), int(self.radius*self.scale),green, -1)
        cv.circle(self.image,(self.loc-int(45*self.scale),ground_level-self.height+small_radius), small_radius,green, -1)
        cv.circle(self.image,(self.loc+int(45*self.scale),ground_level-self.height+small_radius), small_radius,green, -1)
        
        #trunk
        cv.line(self.image,(self.loc,ground_level),(self.loc,ground_level-self.height),brown, int(20*self.scale))
        cv.line(self.image,(self.loc,ground_level-self.height +int(75*self.scale)),(self.loc+int(45*self.scale),ground_level-self.height+small_radius),brown,int(5*self.scale))
        cv.line(self.image,(self.loc,ground_level-self.height +int(75*self.scale)),(self.loc-int(45*self.scale),ground_level-self.height+small_radius),brown,int(5*self.scale))
        
        # leafs highlights
        cv.circle(self.image,(self.loc,ground_level-self.height), int(self.radius*self.scale-10*self.scale),light_green, -1)
        cv.circle(self.image,(self.loc-int(45*self.scale),ground_level-self.height+small_radius), small_radius-int(10*self.scale),light_green, -1)
        cv.circle(self.image,(self.loc+int(45*self.scale),ground_level-self.height+small_radius), small_radius-int(10*self.scale),light_green, -1)
        return self.image

    
# # **************************************

for i in range(n_trees):
    img = Tree(bg).draw()

           
cv.imshow('forest of objects', img)

cv.waitKey(0)
cv.destroyAllWindows()
33/48:
# general parameters
width = 900
height = 600
n_trees = 100
ground_level = height-100

# blank image
bg = np.zeros((height, width, 3), dtype=np.uint8)

# draw background
cv.rectangle(bg,(0,ground_level), (width, 0), (255,225,95), -1)

# # *************************************

class Tree:
    def __init__(self, image):
        self.image = image
        self.loc = int(np.random.choice(range(900),1))
        self.height= int(np.random.choice(range(200,350),1))
        self.radius = 50
        self.scale = np.random.choice(np.linspace(0.5,2.5, num=8)
    
    def generate_colours(self):
        green = (0, random.randint(130,200),0)
        light_green = (35, random.randint(200,250),35)
        brown = random.choice([(2,30,85), (5,55,120), (0,70,140)])
        return green, light_green, brown
    
    
    def draw(self):
        small_radius = int(self.radius*self.scale-20*self.scale)
        green, light_green, brown = self.generate_colours()
        #leafs
        cv.circle(self.image,(self.loc,ground_level-self.height), int(self.radius*self.scale),green, -1)
        cv.circle(self.image,(self.loc-int(45*self.scale),ground_level-self.height+small_radius), small_radius,green, -1)
        cv.circle(self.image,(self.loc+int(45*self.scale),ground_level-self.height+small_radius), small_radius,green, -1)
        
        #trunk
        cv.line(self.image,(self.loc,ground_level),(self.loc,ground_level-self.height),brown, int(20*self.scale))
        cv.line(self.image,(self.loc,ground_level-self.height +int(75*self.scale)),(self.loc+int(45*self.scale),ground_level-self.height+small_radius),brown,int(5*self.scale))
        cv.line(self.image,(self.loc,ground_level-self.height +int(75*self.scale)),(self.loc-int(45*self.scale),ground_level-self.height+small_radius),brown,int(5*self.scale))
        
        # leafs highlights
        cv.circle(self.image,(self.loc,ground_level-self.height), int(self.radius*self.scale-10*self.scale),light_green, -1)
        cv.circle(self.image,(self.loc-int(45*self.scale),ground_level-self.height+small_radius), small_radius-int(10*self.scale),light_green, -1)
        cv.circle(self.image,(self.loc+int(45*self.scale),ground_level-self.height+small_radius), small_radius-int(10*self.scale),light_green, -1)
        return self.image

    
# # **************************************

for i in range(n_trees):
    img = Tree(bg).draw()

           
cv.imshow('forest of objects', img)

cv.waitKey(0)
cv.destroyAllWindows()
33/49:
# general parameters
width = 900
height = 600
n_trees = 100
ground_level = height-100

# blank image
bg = np.zeros((height, width, 3), dtype=np.uint8)

# draw background
cv.rectangle(bg,(0,ground_level), (width, 0), (255,225,95), -1)

# # *************************************

class Tree:
    def __init__(self, image):
        self.image = image
        self.loc = int(np.random.choice(range(900),1))
        self.height= int(np.random.choice(range(200,350),1))
        self.radius = 50
        self.scale = np.random.choice(np.linspace(0.5,2.5, num=8)
    
    def generate_colours(self):
        green = (0, random.randint(130,200),0)
        light_green = (35, random.randint(200,250),35)
        brown = random.choice([(2,30,85), (5,55,120), (0,70,140)])
        return green, light_green, brown
    
    
    def draw(self):
        small_radius = int(self.radius*self.scale-20*self.scale)
        green, light_green, brown = self.generate_colours()
        #leafs
        cv.circle(self.image,(self.loc,ground_level-self.height), int(self.radius*self.scale),green, -1)
        cv.circle(self.image,(self.loc-int(45*self.scale),ground_level-self.height+small_radius), small_radius,green, -1)
        cv.circle(self.image,(self.loc+int(45*self.scale),ground_level-self.height+small_radius), small_radius,green, -1)
        
        #trunk
        cv.line(self.image,(self.loc,ground_level),(self.loc,ground_level-self.height),brown, int(20*self.scale))
        cv.line(self.image,(self.loc,ground_level-self.height +int(75*self.scale)),(self.loc+int(45*self.scale),ground_level-self.height+small_radius),brown,int(5*self.scale))
        cv.line(self.image,(self.loc,ground_level-self.height +int(75*self.scale)),(self.loc-int(45*self.scale),ground_level-self.height+small_radius),brown,int(5*self.scale))
        
        # leafs highlights
        cv.circle(self.image,(self.loc,ground_level-self.height), int(self.radius*self.scale-10*self.scale),light_green, -1)
        cv.circle(self.image,(self.loc-int(45*self.scale),ground_level-self.height+small_radius), small_radius-int(10*self.scale),light_green, -1)
        cv.circle(self.image,(self.loc+int(45*self.scale),ground_level-self.height+small_radius), small_radius-int(10*self.scale),light_green, -1)
        return self.image

    
# # **************************************

for i in range(n_trees):
    img = Tree(bg).draw()

           
cv.imshow('forest of objects', img)

cv.waitKey(0)
cv.destroyAllWindows()
33/50:
# general parameters
width = 900
height = 600
n_trees = 100
ground_level = height-100

# blank image
bg = np.zeros((height, width, 3), dtype=np.uint8)

# draw background
cv.rectangle(bg,(0,ground_level), (width, 0), (255,225,95), -1)

# # *************************************

class Tree:
    def __init__(self, image):
        self.image = image
        self.loc = int(np.random.choice(range(900),1))
        self.height= int(np.random.choice(range(200,350),1))
        self.radius = 50
        self.scale = np.random.choice(np.linspace(0.5,2.5), num=8)
    
    def generate_colours(self):
        green = (0, random.randint(130,200),0)
        light_green = (35, random.randint(200,250),35)
        brown = random.choice([(2,30,85), (5,55,120), (0,70,140)])
        return green, light_green, brown
    
    
    def draw(self):
        small_radius = int(self.radius*self.scale-20*self.scale)
        green, light_green, brown = self.generate_colours()
        #leafs
        cv.circle(self.image,(self.loc,ground_level-self.height), int(self.radius*self.scale),green, -1)
        cv.circle(self.image,(self.loc-int(45*self.scale),ground_level-self.height+small_radius), small_radius,green, -1)
        cv.circle(self.image,(self.loc+int(45*self.scale),ground_level-self.height+small_radius), small_radius,green, -1)
        
        #trunk
        cv.line(self.image,(self.loc,ground_level),(self.loc,ground_level-self.height),brown, int(20*self.scale))
        cv.line(self.image,(self.loc,ground_level-self.height +int(75*self.scale)),(self.loc+int(45*self.scale),ground_level-self.height+small_radius),brown,int(5*self.scale))
        cv.line(self.image,(self.loc,ground_level-self.height +int(75*self.scale)),(self.loc-int(45*self.scale),ground_level-self.height+small_radius),brown,int(5*self.scale))
        
        # leafs highlights
        cv.circle(self.image,(self.loc,ground_level-self.height), int(self.radius*self.scale-10*self.scale),light_green, -1)
        cv.circle(self.image,(self.loc-int(45*self.scale),ground_level-self.height+small_radius), small_radius-int(10*self.scale),light_green, -1)
        cv.circle(self.image,(self.loc+int(45*self.scale),ground_level-self.height+small_radius), small_radius-int(10*self.scale),light_green, -1)
        return self.image

    
# # **************************************

for i in range(n_trees):
    img = Tree(bg).draw()

           
cv.imshow('forest of objects', img)

cv.waitKey(0)
cv.destroyAllWindows()
33/51:
# general parameters
width = 900
height = 600
n_trees = 100
ground_level = height-100

# blank image
bg = np.zeros((height, width, 3), dtype=np.uint8)

# draw background
cv.rectangle(bg,(0,ground_level), (width, 0), (255,225,95), -1)

# # *************************************

class Tree:
    def __init__(self, image):
        self.image = image
        self.loc = int(np.random.choice(range(900),1))
        self.height= int(np.random.choice(range(200,350),1))
        self.radius = 50
        self.scale = np.random.choice(np.linspace(0.5,2.5), num=8,1)
    
    def generate_colours(self):
        green = (0, random.randint(130,200),0)
        light_green = (35, random.randint(200,250),35)
        brown = random.choice([(2,30,85), (5,55,120), (0,70,140)])
        return green, light_green, brown
    
    
    def draw(self):
        small_radius = int(self.radius*self.scale-20*self.scale)
        green, light_green, brown = self.generate_colours()
        #leafs
        cv.circle(self.image,(self.loc,ground_level-self.height), int(self.radius*self.scale),green, -1)
        cv.circle(self.image,(self.loc-int(45*self.scale),ground_level-self.height+small_radius), small_radius,green, -1)
        cv.circle(self.image,(self.loc+int(45*self.scale),ground_level-self.height+small_radius), small_radius,green, -1)
        
        #trunk
        cv.line(self.image,(self.loc,ground_level),(self.loc,ground_level-self.height),brown, int(20*self.scale))
        cv.line(self.image,(self.loc,ground_level-self.height +int(75*self.scale)),(self.loc+int(45*self.scale),ground_level-self.height+small_radius),brown,int(5*self.scale))
        cv.line(self.image,(self.loc,ground_level-self.height +int(75*self.scale)),(self.loc-int(45*self.scale),ground_level-self.height+small_radius),brown,int(5*self.scale))
        
        # leafs highlights
        cv.circle(self.image,(self.loc,ground_level-self.height), int(self.radius*self.scale-10*self.scale),light_green, -1)
        cv.circle(self.image,(self.loc-int(45*self.scale),ground_level-self.height+small_radius), small_radius-int(10*self.scale),light_green, -1)
        cv.circle(self.image,(self.loc+int(45*self.scale),ground_level-self.height+small_radius), small_radius-int(10*self.scale),light_green, -1)
        
        cv.rectangle(bg,(width, ground_level), (0, height), green, -1)
        
        return self.image

    
# # **************************************

for i in range(n_trees):
    img = Tree(bg).draw()

           
cv.imshow('forest of objects', img)

cv.waitKey(0)
cv.destroyAllWindows()
33/52:
# general parameters
width = 900
height = 600
n_trees = 100
ground_level = height-100

# blank image
bg = np.zeros((height, width, 3), dtype=np.uint8)

# draw background
cv.rectangle(bg,(0,ground_level), (width, 0), (255,225,95), -1)

# # *************************************

class Tree:
    def __init__(self, image):
        self.image = image
        self.loc = int(np.random.choice(range(900),1))
        self.height= int(np.random.choice(range(200,350),1))
        self.radius = 50
        self.scale = np.random.choice(np.linspace(0.5,2.5, num=8),1)
    
    def generate_colours(self):
        green = (0, random.randint(130,200),0)
        light_green = (35, random.randint(200,250),35)
        brown = random.choice([(2,30,85), (5,55,120), (0,70,140)])
        return green, light_green, brown
    
    
    def draw(self):
        small_radius = int(self.radius*self.scale-20*self.scale)
        green, light_green, brown = self.generate_colours()
        #leafs
        cv.circle(self.image,(self.loc,ground_level-self.height), int(self.radius*self.scale),green, -1)
        cv.circle(self.image,(self.loc-int(45*self.scale),ground_level-self.height+small_radius), small_radius,green, -1)
        cv.circle(self.image,(self.loc+int(45*self.scale),ground_level-self.height+small_radius), small_radius,green, -1)
        
        #trunk
        cv.line(self.image,(self.loc,ground_level),(self.loc,ground_level-self.height),brown, int(20*self.scale))
        cv.line(self.image,(self.loc,ground_level-self.height +int(75*self.scale)),(self.loc+int(45*self.scale),ground_level-self.height+small_radius),brown,int(5*self.scale))
        cv.line(self.image,(self.loc,ground_level-self.height +int(75*self.scale)),(self.loc-int(45*self.scale),ground_level-self.height+small_radius),brown,int(5*self.scale))
        
        # leafs highlights
        cv.circle(self.image,(self.loc,ground_level-self.height), int(self.radius*self.scale-10*self.scale),light_green, -1)
        cv.circle(self.image,(self.loc-int(45*self.scale),ground_level-self.height+small_radius), small_radius-int(10*self.scale),light_green, -1)
        cv.circle(self.image,(self.loc+int(45*self.scale),ground_level-self.height+small_radius), small_radius-int(10*self.scale),light_green, -1)
        
        cv.rectangle(bg,(width, ground_level), (0, height), green, -1)
        
        return self.image

    
# # **************************************

for i in range(n_trees):
    img = Tree(bg).draw()

           
cv.imshow('forest of objects', img)

cv.waitKey(0)
cv.destroyAllWindows()
34/1: import pandas as pd
34/2: df = pd.read_excel('Data_Analyst_test_task_2022.xlsx')
34/3: df
34/4: df = pd.read_excel('Data_Analyst_test_task_2022.xlsx', sheet_name='Data')
34/5: df
34/6: df.isnull().sum()
34/7: df.shape()
34/8: df.shape
34/9: df.describe()
34/10: df
34/11:
# Extract the revenue

revenue = df[df['TOTAL']> 0]
34/12: revenue
34/13:
# Extract the revenue

revenue = df[df['TOTAL']> 0]['TOTAL']
34/14: revenue
34/15:
# Extract the revenue

revenue = df[df['TOTAL']> 0]['TOTAL'].sum()
34/16: revenue
34/17:
# Extract the revenue, total expenses, and profit

totalRevenue = df[df['TOTAL']> 0]['TOTAL'].sum()
totalExpenses = df[df['TOTAL']< 0]['TOTAL'].sum()
totalProfit = totalRevenue - totalExpenses
34/18: print(totalRevenue,totalExpenses,totalProfit)
34/19:
# Extract the revenue, total expenses, and profit

totalRevenue = df[df['TOTAL']> 0]['TOTAL'].sum()
totalExpenses = df[df['TOTAL']< 0]['TOTAL'].sum()
totalProfit = totalRevenue + totalExpenses
34/20: print(totalRevenue,totalExpenses,totalProfit)
34/21:
len(df)


# df1 = datasX.iloc[:, :72]
# df2 = datasX.iloc[:, 72:]
34/22:
len(df)


df1 = datasX.iloc[:, :94]
df2 = datasX.iloc[:, 94:]
34/23:
len(df)


df1 = df.iloc[:, :94]
df2 = df.iloc[:, 94:]
34/24:
len(df)


df = df.iloc[:, :len(df)-5]
df_cost_of_sales = df.iloc[:, len(df)-5:]
34/25:
len(df)


df = df.iloc[:, :len(df)-5]
df_cost_of_sales = df.iloc[:, len(df)-5:]

df_cost_of_sales
34/26: df
34/27:
df = df.iloc[:, :len(df)-5]
df_cost_of_sales = df.iloc[:, len(df)-5:]
34/28: df
34/29:
df = df.iloc[:, len(df)-5]
df_cost_of_sales = df.iloc[:, len(df)-5:]
34/30:
df = df.iloc[:, :len(df)-5]
df_cost_of_sales = df.iloc[:, len(df)-5:]
34/31: df_cost_of_sales
34/32:
df = df.iloc[0 :len(df)-5]
df_cost_of_sales = df.iloc[len(df)-5:len(df)]
34/33: df_cost_of_sales
34/34: df
34/35: df = pd.read_excel('Data_Analyst_test_task_2022.xlsx', sheet_name='Data')
34/36:

df_cost_of_sales = df.iloc[len(df)-5:len(df)]
df = df.iloc[0 :len(df)-5]
34/37: df_cost_of_sales
34/38:
# Extract the revenue, total expenses, and profit

totalRevenue = df[df['TOTAL']> 0]['TOTAL'].sum()
totalExpenses = df[df['TOTAL']< 0]['TOTAL'].sum()
totalProfit = totalRevenue + totalExpenses
34/39: print(totalRevenue,totalExpenses,totalProfit)
34/40:
# Extract the revenue, total expenses, and profit

totalRevenue = df[df['TOTAL']> 0]['TOTAL'].sum()
totalCostOfSales = df[df['TOTAL']< 0]['TOTAL'].sum()
OtherExpenses = df_other_expenses[df_other_expenses['TOTAL']< 0]['TOTAL'].sum()
TotalExpenses = totalCostOfSales + OtherExpenses
totalProfit = totalRevenue + totalExpenses
34/41:

df_other_expenses = df.iloc[len(df)-5:len(df)]
df = df.iloc[0 :len(df)-5]
34/42: df_cost_of_sales
34/43:
# Extract the revenue, total expenses, and profit

totalRevenue = df[df['TOTAL']> 0]['TOTAL'].sum()
totalCostOfSales = df[df['TOTAL']< 0]['TOTAL'].sum()
OtherExpenses = df_other_expenses[df_other_expenses['TOTAL']< 0]['TOTAL'].sum()
TotalExpenses = totalCostOfSales + OtherExpenses
totalProfit = totalRevenue + totalExpenses
34/44: print(totalRevenue,totalExpenses,totalProfit)
34/45: df = pd.read_excel('Data_Analyst_test_task_2022.xlsx', sheet_name='Data')
34/46:

df_other_expenses = df.iloc[len(df)-3:len(df)]
df = df.iloc[0 :len(df)-5]
34/47: df_other_expenses
34/48:
# Extract the revenue, total expenses, and profit

totalRevenue = df[df['TOTAL']> 0]['TOTAL'].sum()
totalCostOfSales = df[df['TOTAL']< 0]['TOTAL'].sum()
OtherExpenses = df_other_expenses[df_other_expenses['TOTAL']< 0]['TOTAL'].sum()
TotalExpenses = totalCostOfSales + OtherExpenses
totalProfit = totalRevenue + totalExpenses
34/49: print(totalRevenue,totalExpenses,totalProfit)
34/50: df
34/51: df = pd.read_excel('Data_Analyst_test_task_2022.xlsx', sheet_name='Data')
34/52:
df_other_expenses = df.iloc[len(df)-3:len(df)]
df = df.iloc[0 :len(df)-5]
34/53: df
34/54: df_other_expenses
34/55:
df_other_expenses = df.iloc[len(df)-3:len(df)]
df = df.iloc[0 :len(df)-5]
df_total = df.iloc[len(df)-5: len(df)-4 ]
34/56: df_total
34/57: df = pd.read_excel('Data_Analyst_test_task_2022.xlsx', sheet_name='Data')
34/58:
df_other_expenses = df.iloc[len(df)-3:len(df)]
df_total = df.iloc[len(df)-5: len(df)-4 ]
df = df.iloc[0 :len(df)-5]
34/59: df
34/60: df_other_expenses
34/61: df_total
34/62:
# Create a dictionary with country as key and total profit as value

df_total[:,5:-1]
34/63:
# Create a dictionary with country as key and total profit as value

df_total.iloc[:,5:-1]
34/64:
# Create a dictionary with country as key and total profit as value

country_totals = df_total.iloc[:,5:-1]

country_totals_dict = country_totals.to_dict('records')
34/65:
# Create a dictionary with country as key and total profit as value

country_totals = df_total.iloc[:,5:-1]

country_totals_dict = country_totals.to_dict('records')

country_totals_dict
34/66:
df_countries = df.iloc[:,5:-1]
df_countries
34/67:
for column in df_countries:
    totalRevenue = df_countries[df_countries[column]> 0][column].sum()
34/68:
for column in df_countries:
    
    return df_countries[df_countries[column]> 0][column].sum()
34/69:
for column in df_countries:
    return df_countries[df_countries[column]> 0][column].sum()
34/70:
for column in df_countries:
    print(df_countries[df_countries[column]> 0][column].sum())
34/71:
for column in df_countries:
    df_countries.iloc[-1] = df_countries[df_countries[column]> 0][column].sum())
34/72:
for column in df_countries:
    df_countries.iloc[-1] = df_countries[df_countries[column]> 0][column].sum()
34/73: df_countries
34/74:
df_countries = df.iloc[:,5:-1]
df_countries
34/75:
for column in df_countries:
    return df_countries[df_countries[column]> 0][column].sum()
34/76:
for column in df_countries:
    print (df_countries[df_countries[column]> 0][column].sum())
34/77:
def revenue_loss_calculator(df):
    
    revenue = []
    cost_sales = []
    
    for column in df:
        revenue.append(df[df[column]> 0][column].sum())
        cost_sales.append(df[df[column]< 0][column].sum())
        
    return revenue,cost_sales
34/78:
def revenue_loss_calculator(df):
    
    revenue = []
    loss = []
    
    for column in df:
        revenue.append(df[df[column]> 0][column].sum())
        cost_sales.append(df[df[column]< 0][column].sum())
        
    return revenue,cost_sales
34/79: revenue_loss_calculator(df_countries)
34/80:
def revenue_loss_calculator(df):
    
    revenue = []
    loss = []
    
    for column in df:
        revenue.append(df[df[column]> 0][column].sum())
        cost_sales.append(df[df[column]< 0][column].sum())
        
    return revenue,loss
34/81: revenue_loss_calculator(df_countries)
34/82: revenue_loss_calculator(df_countries)
34/83:
def revenue_loss_calculator(df):
    
    revenue = []
    loss = []
    
    for column in df:
        revenue.append(df[df[column]> 0][column].sum())
        loss.append(df[df[column]< 0][column].sum())
        
    return revenue,loss
34/84: revenue_loss_calculator(df_countries)
34/85: revenue_per_country = revenue_loss_calculator(df_countries)[0]
34/86: revenue_per_country = revenue_loss_calculator(df_countries)[0]
34/87:
revenue_per_country = revenue_loss_calculator(df_countries)[0]
revenue_per_country
34/88:
revenue_per_country = revenue_loss_calculator(df_countries)[0]
cost_of_sales_per_country = revenue_loss_calculator(df_countries)[1]
34/89: df_other_expenses_countries = df_other_expenses.iloc[:,5:-1]
34/90: other_expenses_per_country = revenue_loss_calculator(df_other_expenses_country)[1]
34/91: other_expenses_per_country = revenue_loss_calculator(df_other_expenses_countries)[1]
34/92:
def revenue_loss_calculator(df):
    
    revenue = []
    loss = []
    
    for column in df:
        revenue.append(df[df[column]> 0][column].sum())
        loss.append(df[df[column]< 0][column].sum())
        
    return revenue,loss
34/93:
# I will first create a new dataframe that contains only the country colummns

df_countries = df.iloc[:,5:-1]
df_countries
34/94:
revenue_per_country = revenue_loss_calculator(df_countries)[0]
cost_of_sales_per_country = revenue_loss_calculator(df_countries)[1]
34/95:
df_other_expenses_countries = df_other_expenses.iloc[:,5:-1]
df_other_expenses_countries
34/96: other_expenses_per_country = revenue_loss_calculator(df_other_expenses_countries)[1]
34/97: country_totals
34/98:
import numpy as np

np_cost_of_sales = np.asarray(cost_of_sales_per_country)
np_other_expenses = np.asarray(other_expenses_per_country)
34/99:
import numpy as np

np_cost_of_sales = np.asarray(cost_of_sales_per_country)
np_other_expenses = np.asarray(other_expenses_per_country)
np_total_expenses = np_cost_of_sales + np_other_expenses
np_total_expenses
34/100:
import numpy as np

np_cost_of_sales = np.asarray(cost_of_sales_per_country)
np_other_expenses = np.asarray(other_expenses_per_country)
np_total_expenses = np_cost_of_sales + np_other_expenses
total_expenses_per_country = np_total_expenses.tolist()
34/101:
import numpy as np

np_cost_of_sales = np.asarray(cost_of_sales_per_country)
np_other_expenses = np.asarray(other_expenses_per_country)
np_total_expenses = np_cost_of_sales + np_other_expenses
total_expenses_per_country = np_total_expenses.tolist()

total_expenses_per_country
34/102:
#As I did with the other dataframes, I will first create a new dataframe that only contains the country columns

df_totals_countries = df_total.iloc[:,5:-1]

df_totals_countries.loc[len(df_totals_countries)] = revenue_per_country
34/103: df_totals_countries
34/104: import pandas as pd
34/105: df = pd.read_excel('Data_Analyst_test_task_2022.xlsx', sheet_name='Data')
34/106:
df_other_expenses = df.iloc[len(df)-3:len(df)]
df_total = df.iloc[len(df)-5: len(df)-4 ]
df = df.iloc[0 :len(df)-5]
34/107: df
34/108: df_other_expenses
34/109: df_total
34/110:
total_revenue = df[df['TOTAL']> 0]['TOTAL'].sum()
total_cost_of_sales = df[df['TOTAL']< 0]['TOTAL'].sum()
other_expenses = df_other_expenses[df_other_expenses['TOTAL']< 0]['TOTAL'].sum()
total_expenses = totalCostOfSales + OtherExpenses
total_profit = totalRevenue + totalExpenses
34/111: print(total_revenue,total_expenses,total_profit)
34/112:
def revenue_loss_calculator(df):
    
    revenue = []
    loss = []
    
    for column in df:
        revenue.append(df[df[column]> 0][column].sum())
        loss.append(df[df[column]< 0][column].sum())
        
    return revenue,loss
34/113:
# I will first create a new dataframe that contains only the country colummns

df_countries = df.iloc[:,5:-1]
df_countries
34/114:
revenue_per_country = revenue_loss_calculator(df_countries)[0]
cost_of_sales_per_country = revenue_loss_calculator(df_countries)[1]
34/115:
df_other_expenses_countries = df_other_expenses.iloc[:,5:-1]
df_other_expenses_countries
34/116: other_expenses_per_country = revenue_loss_calculator(df_other_expenses_countries)[1]
34/117: country_totals
34/118:
import numpy as np

np_cost_of_sales = np.asarray(cost_of_sales_per_country)
np_other_expenses = np.asarray(other_expenses_per_country)
np_total_expenses = np_cost_of_sales + np_other_expenses
total_expenses_per_country = np_total_expenses.tolist()

total_expenses_per_country
34/119:
df.index = ['Row_1', 'Row_2', 'Row_3', 'Row_4']
df_totals_countries = df_total.iloc[:,5:-1]

df_totals_countries.loc[len(df_totals_countries)] = revenue_per_country
34/120: import pandas as pd
34/121: df = pd.read_excel('Data_Analyst_test_task_2022.xlsx', sheet_name='Data')
34/122:
df_other_expenses = df.iloc[len(df)-3:len(df)]
df_total = df.iloc[len(df)-5: len(df)-4 ]
df = df.iloc[0 :len(df)-5]
34/123: df
34/124: df_other_expenses
34/125: df_total
34/126:
total_revenue = df[df['TOTAL']> 0]['TOTAL'].sum()
total_cost_of_sales = df[df['TOTAL']< 0]['TOTAL'].sum()
other_expenses = df_other_expenses[df_other_expenses['TOTAL']< 0]['TOTAL'].sum()
total_expenses = totalCostOfSales + OtherExpenses
total_profit = totalRevenue + totalExpenses
34/127: print(total_revenue,total_expenses,total_profit)
34/128:
def revenue_loss_calculator(df):
    
    revenue = []
    loss = []
    
    for column in df:
        revenue.append(df[df[column]> 0][column].sum())
        loss.append(df[df[column]< 0][column].sum())
        
    return revenue,loss
34/129:
# I will first create a new dataframe that contains only the country colummns

df_countries = df.iloc[:,5:-1]
df_countries
34/130:
revenue_per_country = revenue_loss_calculator(df_countries)[0]
cost_of_sales_per_country = revenue_loss_calculator(df_countries)[1]
34/131:
df_other_expenses_countries = df_other_expenses.iloc[:,5:-1]
df_other_expenses_countries
34/132: other_expenses_per_country = revenue_loss_calculator(df_other_expenses_countries)[1]
34/133: country_totals
34/134:
import numpy as np

np_cost_of_sales = np.asarray(cost_of_sales_per_country)
np_other_expenses = np.asarray(other_expenses_per_country)
np_total_expenses = np_cost_of_sales + np_other_expenses
total_expenses_per_country = np_total_expenses.tolist()

total_expenses_per_country
34/135:
# df.index = ['Row_1', 'Row_2', 'Row_3', 'Row_4']
# df_totals_countries = df_total.iloc[:,5:-1]

# df_totals_countries.loc[len(df_totals_countries)] = revenue_per_country
34/136:
#As I did with the other dataframes, I will first create a new dataframe that contains only the country columns
df_totals_countries = df_total.iloc[:,5:-1]

df_totals_countries.loc[len(df_totals_countries)] = revenue_per_country
df_totals_countries.loc[len(df_totals_countries)] = cost_of_sales_per_country
df_totals_countries.loc[len(df_totals_countries)] = other_expenses_per_country
df_totals_countries.loc[len(df_totals_countries)] = total_expenses_per_country
34/137: df_totals_countries
34/138:
df_totals_countries.index = ['Total Profits', 'Revenue', 'Cost of Sales', 'Other Expenses','Total Expenses']
df_totals_countries
34/139:
import matplotlib.pyplot as plt
import seaborn as sns






plt.hist(df_totals_countries)
34/140:
import matplotlib.pyplot as plt
import seaborn as sns






plt.hist(df_totals_countries)

plt.show()
34/141:
import matplotlib.pyplot as plt
import seaborn as sns

fig = plt.subplots(figsize = (15,10))

sns.plot(x=columns, y="Total Profits", 
            data=df_totals_countries,
            kind="hist")
34/142:
import matplotlib.pyplot as plt
import seaborn as sns

fig = plt.subplots(figsize = (15,10))

sns.histplot(x=columns, y="Total Profits", 
            data=df_totals_countries)
34/143:
import matplotlib.pyplot as plt
import seaborn as sns

fig = plt.subplots(figsize = (15,10))

sns.histplot("Total Profits", 
            data=df_totals_countries)
34/144:
import matplotlib.pyplot as plt
import seaborn as sns

fig = plt.subplots(figsize = (15,10))

sns.histplot( 
            data=df_totals_countries)
34/145:
import matplotlib.pyplot as plt
import seaborn as sns

fig = plt.subplots(figsize = (15,10))

sns.histplot( 
            data=df_totals_countries['Total Profits'])
34/146:
import matplotlib.pyplot as plt
import seaborn as sns

fig = plt.subplots(figsize = (15,10))

sns.histplot( 
            data=df_totals_countries.loc['Total Profits'])
34/147:
import matplotlib.pyplot as plt
import seaborn as sns

fig = plt.subplots(figsize = (15,10))

sns.histplot( 
            =df_totals_countries.iloc[0,:])
34/148:
import matplotlib.pyplot as plt
import seaborn as sns

fig = plt.subplots(figsize = (15,10))

sns.histplot(data=df_totals_countries.iloc[0,:])
34/149:
import matplotlib.pyplot as plt
import seaborn as sns

fig = plt.subplots(figsize = (15,10))

df_transposed = df_total_countries.T
34/150:
import matplotlib.pyplot as plt
import seaborn as sns

fig = plt.subplots(figsize = (15,10))

df_transposed = df_totals_countries.T
34/151:
import matplotlib.pyplot as plt
import seaborn as sns

fig = plt.subplots(figsize = (15,10))

df_transposed = df_totals_countries.T
df_transposed
34/152:
df_totals_countries_t = df_totals_countries.T
df_totals_countries_t= 

dfdf_transposeddf.reset_index(level=0)
34/153:
df_totals_countries_t = df_totals_countries.T
df_totals_countries_t= df_totals_countries_t.reset_index(level=0)
34/154:
df_totals_countries_t = df_totals_countries.T
df_totals_countries_t= df_totals_countries_t.reset_index(level=0)
df_totals_countries_t
34/155:
df_totals_countries_t = df_totals_countries.T
df_totals_countries_t= df_totals_countries_t.reset_index(level=0)
df_totals_countries_t= df_totals_countries.rename(columns = {'index': 'Country'}, inplace = False)
df_totals_countries_t
34/156:
df_totals_countries_t = df_totals_countries.T
df_totals_countries_t= df_totals_countries_t.reset_index(level=0)
df_totals_countries_t= df_totals_countries.rename(columns = {'index': 'Country'}, inplace = False)
df_totals_countries_t
34/157: import pandas as pd
34/158: df = pd.read_excel('Data_Analyst_test_task_2022.xlsx', sheet_name='Data')
34/159:
df_other_expenses = df.iloc[len(df)-3:len(df)]
df_total = df.iloc[len(df)-5: len(df)-4 ]
df = df.iloc[0 :len(df)-5]
34/160: df
34/161: df_other_expenses
34/162: df_total
34/163:
total_revenue = df[df['TOTAL']> 0]['TOTAL'].sum()
total_cost_of_sales = df[df['TOTAL']< 0]['TOTAL'].sum()
other_expenses = df_other_expenses[df_other_expenses['TOTAL']< 0]['TOTAL'].sum()
total_expenses = totalCostOfSales + OtherExpenses
total_profit = totalRevenue + totalExpenses
34/164: print(total_revenue,total_expenses,total_profit)
34/165:
def revenue_loss_calculator(df):
    
    revenue = []
    loss = []
    
    for column in df:
        revenue.append(df[df[column]> 0][column].sum())
        loss.append(df[df[column]< 0][column].sum())
        
    return revenue,loss
34/166:
# I will first create a new dataframe that contains only the country colummns

df_countries = df.iloc[:,5:-1]
df_countries
34/167:
revenue_per_country = revenue_loss_calculator(df_countries)[0]
cost_of_sales_per_country = revenue_loss_calculator(df_countries)[1]
34/168:
df_other_expenses_countries = df_other_expenses.iloc[:,5:-1]
df_other_expenses_countries
34/169: other_expenses_per_country = revenue_loss_calculator(df_other_expenses_countries)[1]
34/170:
import numpy as np

np_cost_of_sales = np.asarray(cost_of_sales_per_country)
np_other_expenses = np.asarray(other_expenses_per_country)
np_total_expenses = np_cost_of_sales + np_other_expenses
total_expenses_per_country = np_total_expenses.tolist()

total_expenses_per_country
34/171:
#As I did with the other dataframes, I will first create a new dataframe that contains only the country columns
df_totals_countries = df_total.iloc[:,5:-1]

df_totals_countries.loc[len(df_totals_countries)] = revenue_per_country
df_totals_countries.loc[len(df_totals_countries)] = cost_of_sales_per_country
df_totals_countries.loc[len(df_totals_countries)] = other_expenses_per_country
df_totals_countries.loc[len(df_totals_countries)] = total_expenses_per_country
34/172: df_totals_countries
34/173:
df_totals_countries.index = ['Total Profits', 'Revenue', 'Cost of Sales', 'Other Expenses','Total Expenses']
df_totals_countries
34/174:
df_totals_countries_t = df_totals_countries.T
df_totals_countries_t= df_totals_countries_t.reset_index(level=0)
df_totals_countries_t= df_totals_countries.rename(columns = {'index': 'Country'}, inplace = False)
df_totals_countries_t
34/175:
df_totals_countries_t = df_totals_countries.T
df_totals_countries_t= df_totals_countries_t.reset_index(level=0)
df_totals_countries_t= df_totals_countries.rename(columns = {'index': 'Country'}, inplace = False)
df_totals_countries_t
34/176:
df_totals_countries_t = df_totals_countries.T
df_totals_countries_t= df_totals_countries_t.reset_index(level=0)
# df_totals_countries_t= df_totals_countries.rename(columns = {'index': 'Country'}, inplace = False)
df_totals_countries_t
34/177:
df_totals_countries_t = df_totals_countries.T
df_totals_countries_t= df_totals_countries_t.reset_index(level=0)
df_totals_countries_t= df_totals_countries_t.rename(columns = {'index': 'Country'}, inplace = False)
df_totals_countries_t
34/178:
# Now I will create another dataframe that compares actuals, budgets and variance.

data = {'Actuals': [2103132.0, , -5935438.0, -5843636.0], 'Budget': [3000000.0, -2000000.0, 1000000.0],'Variance': [896868.0, 3843636.0, 6843636.0]}

company_totals = pd.DataFrame(data)
company_totals
34/179:
# Now I will create another dataframe that compares actuals, budgets and variance.

data = {'Actuals': [2103132.0, , -5935438.0, -5843636.0], 'Budget': [3000000.0, -2000000.0, 1000000.0],'Variance': [896868, 3843636.0, 6843636.0]}

company_totals = pd.DataFrame(data)
company_totals
34/180:
# Now I will create another dataframe that compares actuals, budgets and variance.

data = {'Actuals': [2103132.0, , -5935438.0, -5843636.0], 'Budget': [3000000.0, -2000000.0, 1000000.0], 'Variance': [896.868, 3843636.0, 6843636.0]}

company_totals = pd.DataFrame(data)
company_totals
34/181:
# Now I will create another dataframe that compares actuals, budgets and variance.

data = {'Actuals': [2103132.0,  -5935438.0, -5843636.0], 'Budget': [3000000.0, -2000000.0, 1000000.0], 'Variance': [896.868, 3843636.0, 6843636.0]}

company_totals = pd.DataFrame(data)
company_totals
34/182:
# Now I will create another dataframe that compares actuals, budgets and variance.

data = {'Actuals': [2103132.0,  -5935438.0, -5843636.0], 'Budget': [3000000.0, -2000000.0, 1000000.0], 'Variance': [896868.0, 3843636.0, 6843636.0]}

company_totals = pd.DataFrame(data)
company_totals
34/183:
# Now I will create another dataframe that compares actuals, budgets and variance.

data = {'Actuals': [2103132.0,  -5935438.0, -5843636.0], 'Budget': [3000000.0, -2000000.0, 1000000.0], 'Variance': [896868.0, 3843636.0, 6843636.0]}

company_totals = pd.DataFrame(data)
df.index = ['Revenue', 'Expenses', 'Profit']
company_totals
34/184:
# Now I will create another dataframe that compares actuals, budgets and variance.

data = {'Actuals': [2103132.0,  -5935438.0, -5843636.0], 'Budget': [3000000.0, -2000000.0, 1000000.0], 'Variance': [896868.0, 3843636.0, 6843636.0]}

company_totals = pd.DataFrame(data)
company_totals.index = ['Revenue', 'Expenses', 'Profit']
company_totals
34/185:
import matplotlib.pyplot as plt

plt.hist(company_totals)

plt.show()
34/186:
import matplotlib.pyplot as plt
import seaborn as sns

sns.histplot(data=company_totals, hue=company_totals.index)

plt.show()
34/187:
import matplotlib.pyplot as plt
import seaborn as sns

sns.histplot(data=company_totals, hue=company_totals.Actuals)

plt.show()
34/188:
import matplotlib.pyplot as plt
import seaborn as sns

sns.histplot(data=company_totals)

plt.show()
34/189:
import matplotlib.pyplot as plt
import seaborn as sns

sns.histplot(data=company_totals['Actuals'])

plt.show()
34/190:
import matplotlib.pyplot as plt
import seaborn as sns

company_totals.plot(kind=bar)
plt.show()
34/191:
import matplotlib.pyplot as plt
import seaborn as sns

plt.bar(data=company_totals)

plt.show()
34/192:
import matplotlib.pyplot as plt
import seaborn as sns

sns.stripplot(data=company_totals,
         x='Actuals',
         y='Budget',
         jitter=True)
34/193:

data = {'Actuals': [2103132.0,  -5935438.0, -5843636.0], 'Budget': [3000000.0, -2000000.0, 1000000.0], 'Variance': [896868.0, 3843636.0, 6843636.0]}

company_totals = pd.DataFrame(data)
company_totals.index = ['Revenue', 'Expenses', 'Profit']
company_totals.reset_index(level=0)
34/194:

data = {'Actuals': [2103132.0,  -5935438.0, -5843636.0], 'Budget': [3000000.0, -2000000.0, 1000000.0], 'Variance': [896868.0, 3843636.0, 6843636.0]}

company_totals = pd.DataFrame(data)
company_totals.index = ['Revenue', 'Expenses', 'Profit']
company_totals.reset_index(level=0)
company_totals.rename(columns = {'index': 'Category'}, inplace = False)
34/195:

data = {'Actuals': [2103132.0,  -5935438.0, -5843636.0], 'Budget': [3000000.0, -2000000.0, 1000000.0], 'Variance': [896868.0, 3843636.0, 6843636.0]}

company_totals = pd.DataFrame(data)
company_totals.index = ['Revenue', 'Expenses', 'Profit']
company_totals.reset_index(level=0)
# company_totals.rename(columns = {'index': 'Category'}, inplace = False)
34/196:

data = {'Actuals': [2103132.0,  -5935438.0, -5843636.0], 'Budget': [3000000.0, -2000000.0, 1000000.0], 'Variance': [896868.0, 3843636.0, 6843636.0]}

company_totals = pd.DataFrame(data)
company_totals.index = ['Revenue', 'Expenses', 'Profit']
company_totals.reset_index(level=0)
company_totals.rename(columns = {'index': 'Category'}, inplace = False)
34/197:

data = {'Actuals': [2103132.0,  -5935438.0, -5843636.0], 'Budget': [3000000.0, -2000000.0, 1000000.0], 'Variance': [896868.0, 3843636.0, 6843636.0]}

company_totals = pd.DataFrame(data)
company_totals.index = ['Revenue', 'Expenses', 'Profit']
company_totals.reset_index(level=0)
34/198: company_totals
34/199:

data = {'Actuals': [2103132.0,  -5935438.0, -5843636.0], 'Budget': [3000000.0, -2000000.0, 1000000.0], 'Variance': [896868.0, 3843636.0, 6843636.0]}

company_totals = pd.DataFrame(data)
company_totals.index = ['Revenue', 'Expenses', 'Profit']
company_totals = company_totals.reset_index(level=0)
company_totals = company_totals.rename(columns={'index': 'Category'},inplace=False)
company_totals
34/200:
import matplotlib.pyplot as plt
import seaborn as sns


ax = sns.barplot(x="Category", y="Actuals", data=company_totals)
sns.barplot(x="Category", y="Budget", data=company_totals, ax=ax)

plt.xlabel('Category', fontsize= 15)
plt.ylabel('AMount', fontsize = 15)
plt.title('Actuals compared to budgeted figures', fontsize=20)

plt.show()
34/201:
import matplotlib.pyplot as plt
import seaborn as sns


ax = sns.barplot(x="Category", y="Actuals", data=company_totals)
# sns.barplot(x="Category", y="Budget", data=company_totals, ax=ax)

plt.xlabel('Category', fontsize= 15)
plt.ylabel('Amount', fontsize = 15)
plt.title('Actuals compared to budgeted figures', fontsize=20)

plt.show()
34/202:
import matplotlib.pyplot as plt
import seaborn as sns


# ax = sns.barplot(x="Category", y="Actuals", data=company_totals)
# sns.barplot(x="Category", y="Budget", data=company_totals, ax=ax)



sns.barplot(x='Category', y=company_totals[['Weight', 'Variance']])
plt.show()
34/203:
import matplotlib.pyplot as plt
import seaborn as sns


# ax = sns.barplot(x="Category", y="Actuals", data=company_totals)
# sns.barplot(x="Category", y="Budget", data=company_totals, ax=ax)



sns.barplot(x='Category', y=company_totals[['Actuals', 'Budget']])
plt.show()
34/204:
import matplotlib.pyplot as plt
import seaborn as sns


# ax = sns.barplot(x="Category", y="Actuals", data=company_totals)
# sns.barplot(x="Category", y="Budget", data=company_totals, ax=ax)



sns.barplot(x=company_totals['Category'], y=company_totals[['Actuals', 'Budget']])
plt.show()
34/205:
import matplotlib.pyplot as plt
import seaborn as sns


# ax = sns.barplot(x="Category", y="Actuals", data=company_totals)
# sns.barplot(x="Category", y="Budget", data=company_totals, ax=ax)



sns.barplot(x='Category', y=company_totals[['Actuals', 'Budget']], data= company_totals)
plt.show()
34/206:
import matplotlib.pyplot as plt
import seaborn as sns


# ax = sns.barplot(x="Category", y="Actuals", data=company_totals)
# sns.barplot(x="Category", y="Budget", data=company_totals, ax=ax)

fig, ax1 = pyplot.subplots(figsize=(10, 10))

sns.barplot(x='Category', y=company_totals[['Actuals', 'Budget']], data= company_totals, ax=ax1)
plt.show()
34/207:
import matplotlib.pyplot as plt
import seaborn as sns


seaborn.barplot(x='Category', y=company_totals[['Actuals'],['Budget']], data=company_totals)
plt.show()
34/208:
import matplotlib.pyplot as plt
import seaborn as sns


sns.barplot(x='Category', y=company_totals[['Actuals'],['Budget']], data=company_totals)
plt.show()
34/209:
import matplotlib.pyplot as plt
import seaborn as sns


sns.barplot(x='Actuals',hue='Category', data=company_totals) 

plt.show()
34/210:
import matplotlib.pyplot as plt
import seaborn as sns


sns.barplot(x='Category',y='Actuals', data=company_totals) 

plt.show()
34/211:
import matplotlib.pyplot as plt
import seaborn as sns


sns.barplot(x='Category',y=('Actuals','Budget'), data=company_totals) 

plt.show()
34/212:
import matplotlib.pyplot as plt
import seaborn as sns


sns.barplot(x='Category',y=['Actuals','Budget'], data=company_totals) 

plt.show()
34/213:
import matplotlib.pyplot as plt
import seaborn as sns


sns.barplot(x='Category',y=company_totals['Actuals','Budget'], data=company_totals) 

plt.show()
34/214:
import matplotlib.pyplot as plt
import seaborn as sns


sns.barplot(x='Category',y=company_totals[['Actuals','Budget']], data=company_totals) 

plt.show()
34/215:
import matplotlib.pyplot as plt
import seaborn as sns


sns.barplot(x='Category',y='Actuals', data=company_totals) 

plt.show()
34/216:
company_totals = pd.melt(company_totals, id_vars="Category", var_name="Parameters", value_name="values")
company_totals
34/217: sns.factorplot(x='Category', y='values', hue='Parameters', data=company_totals, kind='bar')
34/218: sns.catplot(x='Category', y='values', hue='Parameters', data=company_totals, kind='bar')
34/219: sns.catplot('Category','values', col='Parameters', data=company_totals, kind='bar')
34/220: sns.catplot(x='Category',y='values', col='Parameters', data=company_totals, kind='bar')
34/221:
import seaborn as sns

sns.catplot(x='Category',y='values', col='Parameters', data=company_totals, kind='bar')
plt.xlabel('Categories', fontsize= 15)
plt.ylabel('Values', fontsize = 15)
plt.title('Actuals vs Budgeted figures vs Variance', fontsize=20)
34/222:
import seaborn as sns

sns.catplot(x='Category',y='values', col='Parameters', data=company_totals, kind='bar')
plt.xlabel('Categories', fontsize= 15)
plt.ylabel('Values', fontsize = 15)
plt.title('Actuals vs Budgeted figures vs Variance', fontsize=20)

plt.show()
34/223:
import seaborn as sns

sns.catplot(x='Category',y='values', col='Parameters', data=company_totals, kind='bar')
34/224: df_totals_countries_t['Budgeted Profit']= 32000
34/225: df_totals_countries_t
34/226: sns.barplot(x='Country',y='Total Profits', data= df_totals_countries_t)
34/227:
fig = plt.subplots(figsize = (15,10))

sns.barplot(x='Country',y='Total Profits', data= df_totals_countries_t)
plt.show()
34/228:
fig = plt.subplots(figsize = (15,10))

sns.barplot(x='Country',y='Total Profits', data= df_totals_countries_t)
plt.xticks(rotation=90)
plt.title('Total Profits per country', fontsize= 20)
plt.show()
34/229: df_totals_countries_t[['Country','Total Profits','Budgeted Profit']]
34/230:
df_totals_countries_cut = df_totals_countries_t[['Country','Total Profits','Budgeted Profit']]
df_totals_countries_cut
34/231:
df_totals_countries_cut = pd.melt(df_totals_countries_cut, id_vars="Country", var_name="Profit", value_name="values")
df_totals_countries_cut
34/232: sns.catplot(x='Country',y='values', hue='Profit', data=df_totals_countries_cut, kind='bar')
34/233:
fig = plt.subplots(figsize = (15,10))

sns.barplot(x='Country',y='Total Profits', data= df_totals_countries_t)
plt.xticks(rotation=90)
plt.title('Total Profits per country', fontsize= 20)
plt.axhline(1.25)
plt.show()
34/234:
fig = plt.subplots(figsize = (15,10))

sns.barplot(x='Country',y='Total Profits', data= df_totals_countries_t)
plt.xticks(rotation=90)
plt.title('Total Profits per country', fontsize= 20)
plt.axhline(0.5)
plt.show()
34/235:
fig = plt.subplots(figsize = (15,10))

sns.barplot(x='Country',y='Total Profits', data= df_totals_countries_t)
plt.xticks(rotation=90)
plt.title('Total Profits per country', fontsize= 20)

plt.show()
34/236:
fig = plt.subplots(figsize = (15,10))

sns.barplot(x='Country',y='Total Profits', data= df_totals_countries_t)
plt.xticks(rotation=90)
plt.title('Total Profits per country', fontsize= 20)
plt.axhline(0.003)
plt.show()
34/237:
fig = plt.subplots(figsize = (15,10))

sns.barplot(x='Country',y='Total Profits', data= df_totals_countries_t)
plt.xticks(rotation=90)
plt.title('Total Profits per country', fontsize= 20)
plt.axhline(-1.0)
plt.show()
34/238:
fig = plt.subplots(figsize = (15,10))

sns.barplot(x='Country',y='Total Profits', data= df_totals_countries_t)
plt.xticks(rotation=90)
plt.title('Total Profits per country', fontsize= 20)
plt.g.refline(x = 0,
          y = df_totals_countries_t['Budgeted Profit'],
          color = "red",
         lw = 1)
plt.show()
34/239:
fig = plt.subplots(figsize = (15,10))

sns.barplot(x='Country',y='Total Profits', data= df_totals_countries_t)
plt.xticks(rotation=90)
plt.title('Total Profits per country', fontsize= 20)
plt.refline(x = 0,
          y = df_totals_countries_t['Budgeted Profit'],
          color = "red",
         lw = 1)
plt.show()
34/240:
fig = plt.subplots(figsize = (15,10))

x = sns.barplot(x='Country',y='Total Profits', data= df_totals_countries_t)
plt.xticks(rotation=90)
plt.title('Total Profits per country', fontsize= 20)
x.refline(x = 0,
          y = df_totals_countries_t['Budgeted Profit'],
          color = "red",
         lw = 1)
plt.show()
34/241:
fig = plt.subplots(figsize = (15,10))

g = sns.barplot(x='Country',y='Total Profits', data= df_totals_countries_t)
plt.xticks(rotation=90)
plt.title('Total Profits per country', fontsize= 20)
g.refline(x = 0,
          y = df_totals_countries_t['Budgeted Profit'],
          color = "red",
         lw = 1)
plt.show()
34/242:
fig = plt.subplots(figsize = (15,10))

g = sns.barplot(x='Country',y='Total Profits', data= df_totals_countries_t)
plt.xticks(rotation=90)
plt.title('Total Profits per country', fontsize= 20)
g.axhline(0.003)
plt.show()
34/243:
fig = plt.subplots(figsize = (15,10))

g = sns.barplot(x='Country',y='Total Profits', data= df_totals_countries_t)
plt.xticks(rotation=90)
plt.title('Total Profits per country', fontsize= 20)
plt.axhline(0.003)
plt.show()
34/244:
fig = plt.subplots(figsize = (15,10))

g = sns.barplot(x='Country',y='Total Profits', data= df_totals_countries_t)
plt.xticks(rotation=90)
plt.title('Total Profits per country', fontsize= 20)
plt.axhline(df_totals_countries_t['Budgeted Profit'])
plt.show()
34/245:
fig = plt.subplots(figsize = (15,10))

g = sns.barplot(x='Country',y='Total Profits', data= df_totals_countries_t)
plt.xticks(rotation=90)
plt.title('Total Profits per country', fontsize= 20)

plt.show()
34/246:
fig = plt.subplots(figsize = ((20,10))

g = sns.barplot(x='Country',y='Total Profits', data= df_totals_countries_t)
plt.xticks(rotation=90)
plt.title('Total Profits per country', fontsize= 20)

plt.show()
34/247:
fig = plt.subplots(figsize = (20,10))

g = sns.barplot(x='Country',y='Total Profits', data= df_totals_countries_t)
plt.xticks(rotation=90)
plt.title('Total Profits per country', fontsize= 20)

plt.show()
34/248:
fig = plt.subplots(figsize = (20,15))

g = sns.barplot(x='Country',y='Total Profits', data= df_totals_countries_t)
plt.xticks(rotation=90)
plt.title('Total Profits per country', fontsize= 20)

plt.show()
34/249:
import seaborn as sns
import matplotlib.pyplot as plt

sns.catplot(x='Category',y='values', col='Parameters', data=company_totals, kind='bar')
34/250:
fig = plt.subplots(figsize = (20,15))

g = sns.barplot(x='Country',y='Total Profits', data= df_totals_countries_t)
plt.xticks(rotation=90)
plt.title('Total Profits per country', fontsize= 20)
plt.axhline(y=0.3, color='r', linestyle='-')
plt.show()
34/251:
fig = plt.subplots(figsize = (20,15))

g = sns.barplot(x='Country',y='Total Profits', data= df_totals_countries_t)
plt.xticks(rotation=90)
plt.title('Total Profits per country', fontsize= 20)
plt.axhline(y=0.03, color='r', linestyle='-')
plt.show()
34/252:
fig = plt.subplots(figsize = (20,15))

g = sns.barplot(x='Country',y='Total Profits', data= df_totals_countries_t)
plt.xticks(rotation=90)
plt.title('Total Profits per country', fontsize= 20)
plt.axhline(y=1, color='r', linestyle='-')
plt.show()
34/253:
fig = plt.subplots(figsize = (30,20))

sns.catplot(x='Country',y='values', hue='Profit', data=df_totals_countries_cut, kind='bar')
plt.xticks(rotation=90)
plt.title('Total Profits vs Budgeted Profits', fontsize= 20)

plt.show()
34/254:
fig = plt.subplots(figsize = (30,20))

sns.catplot(x='Country',y='values', hue='Profit', data=df_totals_countries_cut, kind='bar')
plt.xticks(rotation=90)
plt.title('Total Profits vs Budgeted Profits', fontsize= 20)
34/255:
fig = plt.subplots(figsize = (20,15))

g = sns.barplot(x='Country',y='Total Profits', data= df_totals_countries_t)
plt.xticks(rotation=90)
plt.title('Total Profits per country', fontsize= 20)
fig.axhline(y=1, color='r', linestyle='-')
plt.show()
34/256:
fig = plt.subplots(figsize = (20,15))

g = sns.barplot(x='Country',y='Total Profits', data= df_totals_countries_t)
plt.xticks(rotation=90)
plt.title('Total Profits per country', fontsize= 20)

plt.show()
34/257:
fig = plt.subplots(figsize = (25,15))

g = sns.barplot(x='Country',y='Total Profits', data= df_totals_countries_t)
plt.xticks(rotation=90)
plt.title('Total Profits per country', fontsize= 20)

plt.show()
34/258:
fig = plt.subplots(figsize = (25,20))

g = sns.barplot(x='Country',y='Total Profits', data= df_totals_countries_t)
plt.xticks(rotation=90)
plt.title('Total Profits per country', fontsize= 20)

plt.show()
34/259:
fig = plt.subplots(figsize = (25,15))

g = sns.barplot(x='Country',y='Total Profits', data= df_totals_countries_t)
plt.xticks(rotation=90)
plt.title('Total Profits per country', fontsize= 20)

plt.show()
34/260:
fig = plt.subplots(figsize = (30,20))

b= sns.catplot(x='Country',y='values', hue='Profit', data=df_totals_countries_cut, kind='bar')
plt.xticks(rotation=90)
plt.title('Total Profits vs Budgeted Profits', fontsize= 20)
34/261:
fig = plt.subplots(figsize = (30,20))

b= sns.catplot(x='Country',y='values', hue='Profit', data=df_totals_countries_cut, kind='bar')
plt.xticks(rotation=90)
plt.title('Total Profits vs Budgeted Profits', fontsize= 20)

plt.show()
34/262:
fig,ax = plt.subplots(figsize = (30,20))

b= sns.catplot(x='Country',y='values', hue='Profit', data=df_totals_countries_cut, kind='bar', ax=ax)
plt.xticks(rotation=90)
plt.title('Total Profits vs Budgeted Profits', fontsize= 20)

plt.show()
34/263:


b= sns.catplot(x='Country',y='values', hue='Profit', data=df_totals_countries_cut, kind='bar',height=5, aspect=2)
plt.xticks(rotation=90)
plt.title('Total Profits vs Budgeted Profits', fontsize= 20)
34/264:


b= sns.catplot(x='Country',y='values', hue='Profit', data=df_totals_countries_cut, kind='bar',height=5, aspect=3)
plt.xticks(rotation=90)
plt.title('Total Profits vs Budgeted Profits', fontsize= 20)
34/265:


b= sns.catplot(x='Country',y='values', hue='Profit', data=df_totals_countries_cut, kind='bar',height=5, aspect=1)
plt.xticks(rotation=90)
plt.title('Total Profits vs Budgeted Profits', fontsize= 20)
34/266:


b= sns.catplot(x='Country',y='values', hue='Profit', data=df_totals_countries_cut, kind='bar',height=4, aspect=2)
plt.xticks(rotation=90)
plt.title('Total Profits vs Budgeted Profits', fontsize= 20)
34/267:


b= sns.catplot(x='Country',y='values', hue='Profit', data=df_totals_countries_cut, kind='bar',height=6, aspect=2)
plt.xticks(rotation=90)
plt.title('Total Profits vs Budgeted Profits', fontsize= 20)
34/268:


b= sns.catplot(x='Country',y='values', hue='Profit', data=df_totals_countries_cut, kind='bar',height=8, aspect=2)
plt.xticks(rotation=90)
plt.title('Total Profits vs Budgeted Profits', fontsize= 20)
34/269:


b= sns.catplot(x='Country',y='values', hue='Profit', data=df_totals_countries_cut, kind='bar',height=8, aspect=5)
plt.xticks(rotation=90)
plt.title('Total Profits vs Budgeted Profits', fontsize= 20)
34/270:


b= sns.catplot(x='Country',y='values', hue='Profit', data=df_totals_countries_cut, kind='bar',height=8, aspect=1)
plt.xticks(rotation=90)
plt.title('Total Profits vs Budgeted Profits', fontsize= 20)
34/271:


b= sns.catplot(x='Country',y='values', hue='Profit', data=df_totals_countries_cut, kind='bar',height=8, aspect=2)
plt.xticks(rotation=90)
plt.title('Total Profits vs Budgeted Profits', fontsize= 20)
34/272:


b= sns.catplot(x='Country',y='values', hue='Profit', data=df_totals_countries_cut, kind='bar',height=5, aspect=2)
plt.xticks(rotation=90)
plt.title('Total Profits vs Budgeted Profits', fontsize= 20)
34/273:


b= sns.catplot(x='Country',y='values', hue='Profit', data=df_totals_countries_cut, kind='bar',height=6, aspect=2)
plt.xticks(rotation=90)
plt.title('Total Profits vs Budgeted Profits', fontsize= 20)
34/274:


b= sns.catplot(x='Country',y='values', hue='Profit', data=df_totals_countries_cut, kind='bar',height=4, aspect=2)
plt.xticks(rotation=90)
plt.title('Total Profits vs Budgeted Profits', fontsize= 20)
34/275:


b= sns.catplot(x='Country',y='values', hue='Profit', data=df_totals_countries_cut, kind='bar',height=6.5, aspect=2)
plt.xticks(rotation=90)
plt.title('Total Profits vs Budgeted Profits', fontsize= 20)
34/276:
fig = plt.subplots(figsize = (45,30))

g = sns.barplot(x='Country',y='Total Profits', data= df_totals_countries_t)
plt.xticks(rotation=90)
plt.title('Total Profits per country', fontsize= 20)

plt.show()
34/277:
fig = plt.subplots(figsize = (25,15))

g = sns.barplot(x='Country',y='Total Profits', data= df_totals_countries_t)
plt.xticks(rotation=90)
plt.title('Total Profits per country', fontsize= 20)

plt.show()
34/278:
fig = plt.subplots(figsize = (25,20))

g = sns.barplot(x='Country',y='Total Profits', data= df_totals_countries_t)
plt.xticks(rotation=90)
plt.title('Total Profits per country', fontsize= 20)

plt.show()
34/279:
fig = plt.subplots(figsize = (20,15))

g = sns.barplot(x='Country',y='Total Profits', data= df_totals_countries_t)
plt.xticks(rotation=90)
plt.title('Total Profits per country', fontsize= 20)

plt.show()
34/280:
fig = plt.subplots(figsize = (20,10))

g = sns.barplot(x='Country',y='Total Profits', data= df_totals_countries_t)
plt.xticks(rotation=90)
plt.title('Total Profits per country', fontsize= 20)

plt.show()
34/281:


b= sns.catplot(x='Country',y='values', hue='Profit', data=df_totals_countries_cut, kind='bar',height=6.5, aspect=2)
plt.xticks(rotation=90)
plt.title('Total Profits vs Budgeted Profits', fontsize= 20)
plt.show()
34/282:
import seaborn as sns
import matplotlib.pyplot as plt

sns.catplot(x='Category',y='values', col='Parameters', data=company_totals, kind='bar', height=5, aspect=2)
plt.title('Comparison of actual figures, budgeted figures and variance', fontsize=20)
plt.show()
34/283:
import seaborn as sns
import matplotlib.pyplot as plt

sns.catplot(x='Category',y='values', col='Parameters', data=company_totals, kind='bar', height=6, aspect=3)
plt.title('Comparison of actual figures, budgeted figures and variance', fontsize=20)
plt.show()
34/284:
import seaborn as sns
import matplotlib.pyplot as plt

sns.catplot(x='Category',y='values', col='Parameters', data=company_totals, kind='bar', height=8, aspect=2)
plt.title('Comparison of actual figures, budgeted figures and variance', fontsize=20)
plt.show()
34/285:
import seaborn as sns
import matplotlib.pyplot as plt

sns.catplot(x='Category',y='values', col='Parameters', data=company_totals, kind='bar', height=4, aspect=2)
plt.title('Comparison of actual figures, budgeted figures and variance', fontsize=20)
plt.show()
34/286:
import seaborn as sns
import matplotlib.pyplot as plt

sns.catplot(x='Category',y='values', col='Parameters', data=company_totals, kind='bar', height=4, aspect=4)
plt.title('Comparison of actual figures, budgeted figures and variance', fontsize=20)
plt.show()
34/287:
import seaborn as sns
import matplotlib.pyplot as plt

sns.catplot(x='Category',y='values', col='Parameters', data=company_totals, kind='bar')
plt.title('Comparison of actual figures, budgeted figures and variance', fontsize=20)
plt.show()
34/288:
import seaborn as sns
import matplotlib.pyplot as plt

sns.catplot(x='Category',y='values', col='Parameters', data=company_totals, kind='bar')
34/289:
import seaborn as sns
import matplotlib.pyplot as plt

sns.catplot(x='Category',y='values', col='Parameters', data=company_totals, kind='bar')
sns.set_title('Comparison of actual figures, budgeted figures and variance')
34/290:
import seaborn as sns
import matplotlib.pyplot as plt

sns.catplot(x='Category',y='values', col='Parameters', data=company_totals, kind='bar')
sns.set_titles('Comparison of actual figures, budgeted figures and variance')
34/291:
import seaborn as sns
import matplotlib.pyplot as plt

g = sns.catplot(x='Category',y='values', col='Parameters', data=company_totals, kind='bar')
plt.title('Comparison of actual figures, budgeted figures and variance')
34/292:
import seaborn as sns
import matplotlib.pyplot as plt

g = sns.catplot(x='Category',y='values', col='Parameters', data=company_totals, kind='bar')
plt.title('Comparison of actual figures, budgeted figures and variance', loc='center')
34/293:
import seaborn as sns
import matplotlib.pyplot as plt

g = sns.catplot(x='Category',y='values', col='Parameters', data=company_totals, kind='bar')
plt.title('Comparison of actual figures, budgeted figures and variance', loc='center')
plt.show()
34/294:
import seaborn as sns
import matplotlib.pyplot as plt

g = sns.catplot(x='Category',y='values', col='Parameters', data=company_totals, kind='bar')
plt.title('Comparison of actual figures, budgeted figures and variance', loc='centre')
plt.show()
34/295:
import seaborn as sns
import matplotlib.pyplot as plt

g = sns.catplot(x='Category',y='values', col='Parameters', data=company_totals, kind='bar')
plt.title('Comparison of actual figures, budgeted figures and variance', loc='center')
plt.show()
34/296:
import seaborn as sns
import matplotlib.pyplot as plt

g = sns.catplot(x='Category',y='values', col='Parameters', data=company_totals, kind='bar')
g.set_title('Comparison of actual figures, budgeted figures and variance', loc='center')
plt.show()
34/297:
import seaborn as sns
import matplotlib.pyplot as plt

g = sns.catplot(x='Category',y='values', col='Parameters', data=company_totals, kind='bar')
g.set_titles('Comparison of actual figures, budgeted figures and variance', loc='center')
plt.show()
34/298:
import seaborn as sns
import matplotlib.pyplot as plt

g = sns.catplot(x='Category',y='values', col='Parameters', data=company_totals, kind='bar')
   1: df.index = ['Row_1', 'Row_2', 'Row_3', 'Row_4']
   2: %history -g -f notebook_file.ipynb
